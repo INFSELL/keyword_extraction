{
 "cells": [
  {
   "cell_type": "code",
   "execution_count": 1,
   "id": "fa5eaf5f",
   "metadata": {
    "scrolled": false
   },
   "outputs": [],
   "source": [
    "import requests\n",
    "import json\n",
    "from config import *\n",
    "from infsell import *\n",
    "\n",
    "with open(\"data_keywords.json\", \"r\", encoding='utf-8') as j:\n",
    "    data_keywords = json.load(j)\n",
    "list_data_keywords = list(data_keywords.keys())\n",
    "database_string = ' '.join(s for s in list_data_keywords)"
   ]
  },
  {
   "cell_type": "code",
   "execution_count": 94,
   "id": "e2a7336e",
   "metadata": {
    "scrolled": true
   },
   "outputs": [
    {
     "name": "stdout",
     "output_type": "stream",
     "text": [
      "권취기 자동 호스 호스릴 호수 줄감개 고압 정리기 360도 호스카트 동력 배터리 농사 점적\n",
      "수도관,살포기,보관,과수원,에어,감기,감는,권치기,농업용,전기릴 \n",
      " ['자동', '호스', '호스릴', '농약', '릴', '파이프', '농업용', '농약줄', '고압', '분무기', '감기', '기계', '리모컨', '감는', '농사', '살포기', '감는기계', '권치기', '동력', '농약호스릴', '권선기', '호스감기', '코일', '워터릴', '전동', '줄감기', '360도', '과수원', '무선', '랙', '카트', '정리', '물호스', '정리기', '물', '튜브', '가솔린', '자동권취기', '호스카트', '배터리', '수도관', '에어', '보관', '자동호스릴', '수동', '농사용', '전기릴', '줄감개', '릴선', '점적', '세차', '원격', '호수', '관개', '정원']\n"
     ]
    }
   ],
   "source": [
    "#cnt_recommand:서브키워드 추천 개수, 태그:10개로 고정\n",
    "keyword = '권취기'\n",
    "cnt_recommand = 10\n",
    "recommand_title, recommand_tags, words = recommand_keywords_tags(keyword, database_string,cnt_recommand)\n",
    "\n",
    "print(recommand_title)\n",
    "print(recommand_tags,'\\n',words)"
   ]
  },
  {
   "cell_type": "code",
   "execution_count": null,
   "id": "315243c7",
   "metadata": {},
   "outputs": [],
   "source": []
  }
 ],
 "metadata": {
  "celltoolbar": "Raw Cell Format",
  "kernelspec": {
   "display_name": "Python 3 (ipykernel)",
   "language": "python",
   "name": "python3"
  },
  "language_info": {
   "codemirror_mode": {
    "name": "ipython",
    "version": 3
   },
   "file_extension": ".py",
   "mimetype": "text/x-python",
   "name": "python",
   "nbconvert_exporter": "python",
   "pygments_lexer": "ipython3",
   "version": "3.8.5"
  }
 },
 "nbformat": 4,
 "nbformat_minor": 5
}
