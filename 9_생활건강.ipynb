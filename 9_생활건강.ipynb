{
 "cells": [
  {
   "cell_type": "code",
   "execution_count": 12,
   "id": "73132983",
   "metadata": {},
   "outputs": [
    {
     "name": "stdout",
     "output_type": "stream",
     "text": [
      "1707\n"
     ]
    }
   ],
   "source": [
    "import requests\n",
    "from copy import copy\n",
    "\n",
    "\n",
    "def dfs(category_id):\n",
    "    url = \"https://api.itemscout.io/api/category/{0}/subcategories\".format(category_id)\n",
    "    response = requests.get(url = url)\n",
    "    \n",
    "    for d in response.json()['data']:\n",
    "\n",
    "        d_id = d['id']\n",
    "        d_name = d['name']\n",
    "        d_is_leaf = d['is_leaf']\n",
    "        \n",
    "        if(d_is_leaf):\n",
    "            leaf_id = copy(d_id)\n",
    "            leaf_name = copy(d_name)\n",
    "            leaf_category.append([leaf_id,leaf_name])\n",
    "            \n",
    "        else:\n",
    "            dfs(d_id)\n",
    "    \n",
    "paths = []\n",
    "leaf_category = []\n",
    "starting_category = [1,2,3,4,5,8,9] #출산/육아(6) , 식품 제외(7)\n",
    "\n",
    "first_category = [8,9]\n",
    "\n",
    "for category in first_category:\n",
    "    dfs(category)\n",
    "\n",
    "print(len(leaf_category))\n",
    "#1 : 패션의류 --> 68개 \n",
    "#2 : 패션잡화 --> 264개\n",
    "#3 : 화장품/미용 --> 157개\n",
    "#4 : 디지털/가전 --> 681개\n",
    "#5 : 가구/인테리어 --> 354개\n",
    "#6 : 출산/육아 (X)\n",
    "#7 : 식품 (X)\n",
    "#8 : 스포츠/레저 --> 카테고리 : 480개, 키워드 : 154207개 --> 필터 적용 : 20000개\n",
    "#9 : 생활/건강 --> 카테고리 : 1227개, 키워드 : 465817개 --> 필터 적용 : 61751개\n",
    "\n",
    "#app 1개당 기본 api 12500개 \n",
    "#계정 1개당 app 10개, api 125000개\n",
    "\n",
    "#계정 2개면 충분!"
   ]
  },
  {
   "cell_type": "code",
   "execution_count": 13,
   "id": "fe8aea98",
   "metadata": {
    "scrolled": true
   },
   "outputs": [
    {
     "data": {
      "application/vnd.jupyter.widget-view+json": {
       "model_id": "59ec6780183f42f799b71979d3c83d3d",
       "version_major": 2,
       "version_minor": 0
      },
      "text/plain": [
       "  0%|          | 0/1707 [00:00<?, ?it/s]"
      ]
     },
     "metadata": {},
     "output_type": "display_data"
    },
    {
     "data": {
      "application/vnd.jupyter.widget-view+json": {
       "model_id": "3757240d31384fbf87542f1f2ef03761",
       "version_major": 2,
       "version_minor": 0
      },
      "text/plain": [
       "키워드 진행도:   0%|          | 0/75 [00:00<?, ?it/s]"
      ]
     },
     "metadata": {},
     "output_type": "display_data"
    },
    {
     "data": {
      "application/vnd.jupyter.widget-view+json": {
       "model_id": "f34e9236a8304eb2a0a7a4bfc229a967",
       "version_major": 2,
       "version_minor": 0
      },
      "text/plain": [
       "키워드 진행도:   0%|          | 0/139 [00:00<?, ?it/s]"
      ]
     },
     "metadata": {},
     "output_type": "display_data"
    },
    {
     "data": {
      "application/vnd.jupyter.widget-view+json": {
       "model_id": "1acc364650fe48e78b5cb1315dff4593",
       "version_major": 2,
       "version_minor": 0
      },
      "text/plain": [
       "키워드 진행도:   0%|          | 0/47 [00:00<?, ?it/s]"
      ]
     },
     "metadata": {},
     "output_type": "display_data"
    },
    {
     "data": {
      "application/vnd.jupyter.widget-view+json": {
       "model_id": "162ba82e9e0648648bc8d69c30ff4755",
       "version_major": 2,
       "version_minor": 0
      },
      "text/plain": [
       "키워드 진행도:   0%|          | 0/80 [00:00<?, ?it/s]"
      ]
     },
     "metadata": {},
     "output_type": "display_data"
    },
    {
     "data": {
      "application/vnd.jupyter.widget-view+json": {
       "model_id": "56a70da54ee34ac2a6ef0c9b529d73d4",
       "version_major": 2,
       "version_minor": 0
      },
      "text/plain": [
       "키워드 진행도:   0%|          | 0/40 [00:00<?, ?it/s]"
      ]
     },
     "metadata": {},
     "output_type": "display_data"
    },
    {
     "data": {
      "application/vnd.jupyter.widget-view+json": {
       "model_id": "c7506f666969455f9336fc9e3fe450d1",
       "version_major": 2,
       "version_minor": 0
      },
      "text/plain": [
       "키워드 진행도:   0%|          | 0/61 [00:00<?, ?it/s]"
      ]
     },
     "metadata": {},
     "output_type": "display_data"
    },
    {
     "data": {
      "application/vnd.jupyter.widget-view+json": {
       "model_id": "5bdc468a7b8e484aac879c4342ed9475",
       "version_major": 2,
       "version_minor": 0
      },
      "text/plain": [
       "키워드 진행도:   0%|          | 0/103 [00:00<?, ?it/s]"
      ]
     },
     "metadata": {},
     "output_type": "display_data"
    },
    {
     "data": {
      "application/vnd.jupyter.widget-view+json": {
       "model_id": "969cd683842346cebedad7b95eba12b2",
       "version_major": 2,
       "version_minor": 0
      },
      "text/plain": [
       "키워드 진행도:   0%|          | 0/127 [00:00<?, ?it/s]"
      ]
     },
     "metadata": {},
     "output_type": "display_data"
    },
    {
     "data": {
      "application/vnd.jupyter.widget-view+json": {
       "model_id": "7c990763fde8498dac3ba134ed8e770b",
       "version_major": 2,
       "version_minor": 0
      },
      "text/plain": [
       "키워드 진행도:   0%|          | 0/72 [00:00<?, ?it/s]"
      ]
     },
     "metadata": {},
     "output_type": "display_data"
    },
    {
     "data": {
      "application/vnd.jupyter.widget-view+json": {
       "model_id": "101873bc4b6a4535b65322a625dd0751",
       "version_major": 2,
       "version_minor": 0
      },
      "text/plain": [
       "키워드 진행도:   0%|          | 0/71 [00:00<?, ?it/s]"
      ]
     },
     "metadata": {},
     "output_type": "display_data"
    },
    {
     "data": {
      "application/vnd.jupyter.widget-view+json": {
       "model_id": "d5c25516072d42fea28ed90506124053",
       "version_major": 2,
       "version_minor": 0
      },
      "text/plain": [
       "키워드 진행도:   0%|          | 0/62 [00:00<?, ?it/s]"
      ]
     },
     "metadata": {},
     "output_type": "display_data"
    },
    {
     "data": {
      "application/vnd.jupyter.widget-view+json": {
       "model_id": "37b4e7c689224c52929794a0e1cf9cc0",
       "version_major": 2,
       "version_minor": 0
      },
      "text/plain": [
       "키워드 진행도:   0%|          | 0/64 [00:00<?, ?it/s]"
      ]
     },
     "metadata": {},
     "output_type": "display_data"
    },
    {
     "data": {
      "application/vnd.jupyter.widget-view+json": {
       "model_id": "7f25af2b9a70473bbf4398de46c956ed",
       "version_major": 2,
       "version_minor": 0
      },
      "text/plain": [
       "키워드 진행도:   0%|          | 0/27 [00:00<?, ?it/s]"
      ]
     },
     "metadata": {},
     "output_type": "display_data"
    },
    {
     "data": {
      "application/vnd.jupyter.widget-view+json": {
       "model_id": "e56ea771d6db43d38f87ac02f290743c",
       "version_major": 2,
       "version_minor": 0
      },
      "text/plain": [
       "키워드 진행도:   0%|          | 0/29 [00:00<?, ?it/s]"
      ]
     },
     "metadata": {},
     "output_type": "display_data"
    },
    {
     "data": {
      "application/vnd.jupyter.widget-view+json": {
       "model_id": "e9d6470b9c3f4776a3af6aa04c185a55",
       "version_major": 2,
       "version_minor": 0
      },
      "text/plain": [
       "키워드 진행도:   0%|          | 0/10 [00:00<?, ?it/s]"
      ]
     },
     "metadata": {},
     "output_type": "display_data"
    },
    {
     "data": {
      "application/vnd.jupyter.widget-view+json": {
       "model_id": "5b0ff02b5b5142b89b1ff9dc172f45b5",
       "version_major": 2,
       "version_minor": 0
      },
      "text/plain": [
       "키워드 진행도:   0%|          | 0/20 [00:00<?, ?it/s]"
      ]
     },
     "metadata": {},
     "output_type": "display_data"
    },
    {
     "data": {
      "application/vnd.jupyter.widget-view+json": {
       "model_id": "c0913fdd297b469bb7d4ddb450d107a7",
       "version_major": 2,
       "version_minor": 0
      },
      "text/plain": [
       "키워드 진행도:   0%|          | 0/15 [00:00<?, ?it/s]"
      ]
     },
     "metadata": {},
     "output_type": "display_data"
    },
    {
     "data": {
      "application/vnd.jupyter.widget-view+json": {
       "model_id": "90c520e5e8d1461ebe1d4d8de9aab203",
       "version_major": 2,
       "version_minor": 0
      },
      "text/plain": [
       "키워드 진행도:   0%|          | 0/21 [00:00<?, ?it/s]"
      ]
     },
     "metadata": {},
     "output_type": "display_data"
    },
    {
     "data": {
      "application/vnd.jupyter.widget-view+json": {
       "model_id": "0f26948e75fe41258a24f2a53b26e557",
       "version_major": 2,
       "version_minor": 0
      },
      "text/plain": [
       "키워드 진행도:   0%|          | 0/1 [00:00<?, ?it/s]"
      ]
     },
     "metadata": {},
     "output_type": "display_data"
    },
    {
     "data": {
      "application/vnd.jupyter.widget-view+json": {
       "model_id": "6b2b7124ec9e4281ac30e239d8cc8aef",
       "version_major": 2,
       "version_minor": 0
      },
      "text/plain": [
       "키워드 진행도:   0%|          | 0/23 [00:00<?, ?it/s]"
      ]
     },
     "metadata": {},
     "output_type": "display_data"
    },
    {
     "data": {
      "application/vnd.jupyter.widget-view+json": {
       "model_id": "e548227090dd4dc296f1f58978f6b0d8",
       "version_major": 2,
       "version_minor": 0
      },
      "text/plain": [
       "키워드 진행도:   0%|          | 0/34 [00:00<?, ?it/s]"
      ]
     },
     "metadata": {},
     "output_type": "display_data"
    },
    {
     "data": {
      "application/vnd.jupyter.widget-view+json": {
       "model_id": "d040cc1277c84d8eb92198f8b7e8cd59",
       "version_major": 2,
       "version_minor": 0
      },
      "text/plain": [
       "키워드 진행도:   0%|          | 0/13 [00:00<?, ?it/s]"
      ]
     },
     "metadata": {},
     "output_type": "display_data"
    },
    {
     "data": {
      "application/vnd.jupyter.widget-view+json": {
       "model_id": "b0d67167cbbf46e6b7919d77e0bd6753",
       "version_major": 2,
       "version_minor": 0
      },
      "text/plain": [
       "키워드 진행도:   0%|          | 0/14 [00:00<?, ?it/s]"
      ]
     },
     "metadata": {},
     "output_type": "display_data"
    },
    {
     "data": {
      "application/vnd.jupyter.widget-view+json": {
       "model_id": "18aa6283a4f54bc097490b9e37f64e7f",
       "version_major": 2,
       "version_minor": 0
      },
      "text/plain": [
       "키워드 진행도:   0%|          | 0/144 [00:00<?, ?it/s]"
      ]
     },
     "metadata": {},
     "output_type": "display_data"
    },
    {
     "data": {
      "application/vnd.jupyter.widget-view+json": {
       "model_id": "551dbce6fbec485786a9130c283d275c",
       "version_major": 2,
       "version_minor": 0
      },
      "text/plain": [
       "키워드 진행도:   0%|          | 0/150 [00:00<?, ?it/s]"
      ]
     },
     "metadata": {},
     "output_type": "display_data"
    },
    {
     "data": {
      "application/vnd.jupyter.widget-view+json": {
       "model_id": "18b4eaac171d4d529daa1915a9f4a0b5",
       "version_major": 2,
       "version_minor": 0
      },
      "text/plain": [
       "키워드 진행도:   0%|          | 0/61 [00:00<?, ?it/s]"
      ]
     },
     "metadata": {},
     "output_type": "display_data"
    },
    {
     "data": {
      "application/vnd.jupyter.widget-view+json": {
       "model_id": "84e56740202a4f55a6ae096f9e1eff79",
       "version_major": 2,
       "version_minor": 0
      },
      "text/plain": [
       "키워드 진행도:   0%|          | 0/135 [00:00<?, ?it/s]"
      ]
     },
     "metadata": {},
     "output_type": "display_data"
    },
    {
     "data": {
      "application/vnd.jupyter.widget-view+json": {
       "model_id": "512692f285824b0f946d60788de101f3",
       "version_major": 2,
       "version_minor": 0
      },
      "text/plain": [
       "키워드 진행도:   0%|          | 0/101 [00:00<?, ?it/s]"
      ]
     },
     "metadata": {},
     "output_type": "display_data"
    },
    {
     "data": {
      "application/vnd.jupyter.widget-view+json": {
       "model_id": "30046d8ffc21478e85241d1a827c7d70",
       "version_major": 2,
       "version_minor": 0
      },
      "text/plain": [
       "키워드 진행도:   0%|          | 0/228 [00:00<?, ?it/s]"
      ]
     },
     "metadata": {},
     "output_type": "display_data"
    },
    {
     "data": {
      "application/vnd.jupyter.widget-view+json": {
       "model_id": "c23dab07d2ce417e8cffa1dcc348daed",
       "version_major": 2,
       "version_minor": 0
      },
      "text/plain": [
       "키워드 진행도:   0%|          | 0/156 [00:00<?, ?it/s]"
      ]
     },
     "metadata": {},
     "output_type": "display_data"
    },
    {
     "data": {
      "application/vnd.jupyter.widget-view+json": {
       "model_id": "814b68c5f6ab42688ed8e582d310a4e2",
       "version_major": 2,
       "version_minor": 0
      },
      "text/plain": [
       "키워드 진행도:   0%|          | 0/106 [00:00<?, ?it/s]"
      ]
     },
     "metadata": {},
     "output_type": "display_data"
    },
    {
     "data": {
      "application/vnd.jupyter.widget-view+json": {
       "model_id": "417968cf990345cbbe77a86c7becc8e6",
       "version_major": 2,
       "version_minor": 0
      },
      "text/plain": [
       "키워드 진행도:   0%|          | 0/110 [00:00<?, ?it/s]"
      ]
     },
     "metadata": {},
     "output_type": "display_data"
    },
    {
     "data": {
      "application/vnd.jupyter.widget-view+json": {
       "model_id": "d5ba0dfd124c478483577d2477759eb9",
       "version_major": 2,
       "version_minor": 0
      },
      "text/plain": [
       "키워드 진행도:   0%|          | 0/150 [00:00<?, ?it/s]"
      ]
     },
     "metadata": {},
     "output_type": "display_data"
    },
    {
     "data": {
      "application/vnd.jupyter.widget-view+json": {
       "model_id": "d76e4376326545a38524a004040972e5",
       "version_major": 2,
       "version_minor": 0
      },
      "text/plain": [
       "키워드 진행도:   0%|          | 0/144 [00:00<?, ?it/s]"
      ]
     },
     "metadata": {},
     "output_type": "display_data"
    },
    {
     "data": {
      "application/vnd.jupyter.widget-view+json": {
       "model_id": "9d5c58fbcdc4493ebec2f2929132dd71",
       "version_major": 2,
       "version_minor": 0
      },
      "text/plain": [
       "키워드 진행도:   0%|          | 0/80 [00:00<?, ?it/s]"
      ]
     },
     "metadata": {},
     "output_type": "display_data"
    },
    {
     "data": {
      "application/vnd.jupyter.widget-view+json": {
       "model_id": "e12f95fc6bbb4c3080b62e701ae0d914",
       "version_major": 2,
       "version_minor": 0
      },
      "text/plain": [
       "키워드 진행도:   0%|          | 0/101 [00:00<?, ?it/s]"
      ]
     },
     "metadata": {},
     "output_type": "display_data"
    },
    {
     "data": {
      "application/vnd.jupyter.widget-view+json": {
       "model_id": "e193fc1e48304fffa6fd1b3a2c8dc081",
       "version_major": 2,
       "version_minor": 0
      },
      "text/plain": [
       "키워드 진행도:   0%|          | 0/37 [00:00<?, ?it/s]"
      ]
     },
     "metadata": {},
     "output_type": "display_data"
    },
    {
     "data": {
      "application/vnd.jupyter.widget-view+json": {
       "model_id": "75aa7e93d89a4feca93f6038370384a1",
       "version_major": 2,
       "version_minor": 0
      },
      "text/plain": [
       "키워드 진행도:   0%|          | 0/37 [00:00<?, ?it/s]"
      ]
     },
     "metadata": {},
     "output_type": "display_data"
    },
    {
     "data": {
      "application/vnd.jupyter.widget-view+json": {
       "model_id": "be34d4b6f1a24be4866cd2046b7204d8",
       "version_major": 2,
       "version_minor": 0
      },
      "text/plain": [
       "키워드 진행도:   0%|          | 0/59 [00:00<?, ?it/s]"
      ]
     },
     "metadata": {},
     "output_type": "display_data"
    },
    {
     "data": {
      "application/vnd.jupyter.widget-view+json": {
       "model_id": "cf8649e8ae684a898a8580034e9ab3ea",
       "version_major": 2,
       "version_minor": 0
      },
      "text/plain": [
       "키워드 진행도:   0%|          | 0/72 [00:00<?, ?it/s]"
      ]
     },
     "metadata": {},
     "output_type": "display_data"
    },
    {
     "data": {
      "application/vnd.jupyter.widget-view+json": {
       "model_id": "36ff5bd8108c45d1826dcb400a1fdd49",
       "version_major": 2,
       "version_minor": 0
      },
      "text/plain": [
       "키워드 진행도:   0%|          | 0/68 [00:00<?, ?it/s]"
      ]
     },
     "metadata": {},
     "output_type": "display_data"
    },
    {
     "data": {
      "application/vnd.jupyter.widget-view+json": {
       "model_id": "e0546a653291486599a7062d9e5515cd",
       "version_major": 2,
       "version_minor": 0
      },
      "text/plain": [
       "키워드 진행도:   0%|          | 0/264 [00:00<?, ?it/s]"
      ]
     },
     "metadata": {},
     "output_type": "display_data"
    },
    {
     "data": {
      "application/vnd.jupyter.widget-view+json": {
       "model_id": "ab569dd036de4e7198aa658bb7346f5a",
       "version_major": 2,
       "version_minor": 0
      },
      "text/plain": [
       "키워드 진행도:   0%|          | 0/25 [00:00<?, ?it/s]"
      ]
     },
     "metadata": {},
     "output_type": "display_data"
    },
    {
     "data": {
      "application/vnd.jupyter.widget-view+json": {
       "model_id": "cd32222a330d40b9863f476207af9fd9",
       "version_major": 2,
       "version_minor": 0
      },
      "text/plain": [
       "키워드 진행도:   0%|          | 0/89 [00:00<?, ?it/s]"
      ]
     },
     "metadata": {},
     "output_type": "display_data"
    },
    {
     "data": {
      "application/vnd.jupyter.widget-view+json": {
       "model_id": "b94c6393fb2f48cea086ec1a4f49f9e1",
       "version_major": 2,
       "version_minor": 0
      },
      "text/plain": [
       "키워드 진행도:   0%|          | 0/35 [00:00<?, ?it/s]"
      ]
     },
     "metadata": {},
     "output_type": "display_data"
    },
    {
     "data": {
      "application/vnd.jupyter.widget-view+json": {
       "model_id": "6df637a360cc46a9877f82f635c58fe9",
       "version_major": 2,
       "version_minor": 0
      },
      "text/plain": [
       "키워드 진행도:   0%|          | 0/101 [00:00<?, ?it/s]"
      ]
     },
     "metadata": {},
     "output_type": "display_data"
    },
    {
     "data": {
      "application/vnd.jupyter.widget-view+json": {
       "model_id": "ddc1fbfb94bc4e69b40ced60ed9dd6ce",
       "version_major": 2,
       "version_minor": 0
      },
      "text/plain": [
       "키워드 진행도:   0%|          | 0/18 [00:00<?, ?it/s]"
      ]
     },
     "metadata": {},
     "output_type": "display_data"
    },
    {
     "data": {
      "application/vnd.jupyter.widget-view+json": {
       "model_id": "39578db20d6a49cdb6d0010c7fbbb6f1",
       "version_major": 2,
       "version_minor": 0
      },
      "text/plain": [
       "키워드 진행도:   0%|          | 0/12 [00:00<?, ?it/s]"
      ]
     },
     "metadata": {},
     "output_type": "display_data"
    },
    {
     "data": {
      "application/vnd.jupyter.widget-view+json": {
       "model_id": "44aa604fb7e94d1a99beb99f6f392f54",
       "version_major": 2,
       "version_minor": 0
      },
      "text/plain": [
       "키워드 진행도:   0%|          | 0/61 [00:00<?, ?it/s]"
      ]
     },
     "metadata": {},
     "output_type": "display_data"
    },
    {
     "data": {
      "application/vnd.jupyter.widget-view+json": {
       "model_id": "ac14c6826b1a4b7bb73465feeea15963",
       "version_major": 2,
       "version_minor": 0
      },
      "text/plain": [
       "키워드 진행도:   0%|          | 0/37 [00:00<?, ?it/s]"
      ]
     },
     "metadata": {},
     "output_type": "display_data"
    },
    {
     "data": {
      "application/vnd.jupyter.widget-view+json": {
       "model_id": "0d32bd6f99ea402fb59fa749701110cf",
       "version_major": 2,
       "version_minor": 0
      },
      "text/plain": [
       "키워드 진행도:   0%|          | 0/26 [00:00<?, ?it/s]"
      ]
     },
     "metadata": {},
     "output_type": "display_data"
    },
    {
     "data": {
      "application/vnd.jupyter.widget-view+json": {
       "model_id": "f0e0d3304ca9497f9ff49dbf13b3cf1d",
       "version_major": 2,
       "version_minor": 0
      },
      "text/plain": [
       "키워드 진행도:   0%|          | 0/330 [00:00<?, ?it/s]"
      ]
     },
     "metadata": {},
     "output_type": "display_data"
    },
    {
     "data": {
      "application/vnd.jupyter.widget-view+json": {
       "model_id": "8f591ab0bcdd4136b0587111b9ca9937",
       "version_major": 2,
       "version_minor": 0
      },
      "text/plain": [
       "키워드 진행도:   0%|          | 0/206 [00:00<?, ?it/s]"
      ]
     },
     "metadata": {},
     "output_type": "display_data"
    },
    {
     "data": {
      "application/vnd.jupyter.widget-view+json": {
       "model_id": "684a8044a820495281acf3d899c0f00a",
       "version_major": 2,
       "version_minor": 0
      },
      "text/plain": [
       "키워드 진행도:   0%|          | 0/131 [00:00<?, ?it/s]"
      ]
     },
     "metadata": {},
     "output_type": "display_data"
    },
    {
     "data": {
      "application/vnd.jupyter.widget-view+json": {
       "model_id": "49b89fa95b4d4762b0ae2d2ebcc830bd",
       "version_major": 2,
       "version_minor": 0
      },
      "text/plain": [
       "키워드 진행도:   0%|          | 0/65 [00:00<?, ?it/s]"
      ]
     },
     "metadata": {},
     "output_type": "display_data"
    },
    {
     "data": {
      "application/vnd.jupyter.widget-view+json": {
       "model_id": "daf8f68c79e94962abb062f3c116027b",
       "version_major": 2,
       "version_minor": 0
      },
      "text/plain": [
       "키워드 진행도:   0%|          | 0/148 [00:00<?, ?it/s]"
      ]
     },
     "metadata": {},
     "output_type": "display_data"
    },
    {
     "data": {
      "application/vnd.jupyter.widget-view+json": {
       "model_id": "de83918b1d7447408036c6dc99a39dd7",
       "version_major": 2,
       "version_minor": 0
      },
      "text/plain": [
       "키워드 진행도:   0%|          | 0/68 [00:00<?, ?it/s]"
      ]
     },
     "metadata": {},
     "output_type": "display_data"
    },
    {
     "data": {
      "application/vnd.jupyter.widget-view+json": {
       "model_id": "ba98b8fc41214e59aa8ebc2e3096dba8",
       "version_major": 2,
       "version_minor": 0
      },
      "text/plain": [
       "키워드 진행도:   0%|          | 0/61 [00:00<?, ?it/s]"
      ]
     },
     "metadata": {},
     "output_type": "display_data"
    },
    {
     "data": {
      "application/vnd.jupyter.widget-view+json": {
       "model_id": "45eaec05438447a888dc6bb011adbde8",
       "version_major": 2,
       "version_minor": 0
      },
      "text/plain": [
       "키워드 진행도:   0%|          | 0/43 [00:00<?, ?it/s]"
      ]
     },
     "metadata": {},
     "output_type": "display_data"
    },
    {
     "data": {
      "application/vnd.jupyter.widget-view+json": {
       "model_id": "8804e51dbc6a4e1ca7a1bd7082c80afb",
       "version_major": 2,
       "version_minor": 0
      },
      "text/plain": [
       "키워드 진행도:   0%|          | 0/103 [00:00<?, ?it/s]"
      ]
     },
     "metadata": {},
     "output_type": "display_data"
    },
    {
     "data": {
      "application/vnd.jupyter.widget-view+json": {
       "model_id": "5559199b714b49b3ab1a54766992166e",
       "version_major": 2,
       "version_minor": 0
      },
      "text/plain": [
       "키워드 진행도:   0%|          | 0/202 [00:00<?, ?it/s]"
      ]
     },
     "metadata": {},
     "output_type": "display_data"
    },
    {
     "data": {
      "application/vnd.jupyter.widget-view+json": {
       "model_id": "b0f579171ac54549bbd1ca4545bf1b15",
       "version_major": 2,
       "version_minor": 0
      },
      "text/plain": [
       "키워드 진행도:   0%|          | 0/151 [00:00<?, ?it/s]"
      ]
     },
     "metadata": {},
     "output_type": "display_data"
    },
    {
     "data": {
      "application/vnd.jupyter.widget-view+json": {
       "model_id": "6a2d0d0c2a5a4f9bb1fbeb38fee4f30a",
       "version_major": 2,
       "version_minor": 0
      },
      "text/plain": [
       "키워드 진행도:   0%|          | 0/39 [00:00<?, ?it/s]"
      ]
     },
     "metadata": {},
     "output_type": "display_data"
    },
    {
     "data": {
      "application/vnd.jupyter.widget-view+json": {
       "model_id": "b7645468b746405ea6393d1243b0fefb",
       "version_major": 2,
       "version_minor": 0
      },
      "text/plain": [
       "키워드 진행도:   0%|          | 0/61 [00:00<?, ?it/s]"
      ]
     },
     "metadata": {},
     "output_type": "display_data"
    },
    {
     "data": {
      "application/vnd.jupyter.widget-view+json": {
       "model_id": "82f44d3ddb924058bab318e90b442305",
       "version_major": 2,
       "version_minor": 0
      },
      "text/plain": [
       "키워드 진행도:   0%|          | 0/97 [00:00<?, ?it/s]"
      ]
     },
     "metadata": {},
     "output_type": "display_data"
    },
    {
     "data": {
      "application/vnd.jupyter.widget-view+json": {
       "model_id": "14f78c4397a7468ab2f9a88c970b8c6c",
       "version_major": 2,
       "version_minor": 0
      },
      "text/plain": [
       "키워드 진행도:   0%|          | 0/52 [00:00<?, ?it/s]"
      ]
     },
     "metadata": {},
     "output_type": "display_data"
    },
    {
     "data": {
      "application/vnd.jupyter.widget-view+json": {
       "model_id": "83aa2383117e48efb567696ca13c3715",
       "version_major": 2,
       "version_minor": 0
      },
      "text/plain": [
       "키워드 진행도:   0%|          | 0/26 [00:00<?, ?it/s]"
      ]
     },
     "metadata": {},
     "output_type": "display_data"
    },
    {
     "data": {
      "application/vnd.jupyter.widget-view+json": {
       "model_id": "d4737b79c3c140efb33ee2650201255b",
       "version_major": 2,
       "version_minor": 0
      },
      "text/plain": [
       "키워드 진행도:   0%|          | 0/11 [00:00<?, ?it/s]"
      ]
     },
     "metadata": {},
     "output_type": "display_data"
    },
    {
     "data": {
      "application/vnd.jupyter.widget-view+json": {
       "model_id": "db9cf13e7eb6471f9d2c53e8602c46f4",
       "version_major": 2,
       "version_minor": 0
      },
      "text/plain": [
       "키워드 진행도:   0%|          | 0/200 [00:00<?, ?it/s]"
      ]
     },
     "metadata": {},
     "output_type": "display_data"
    },
    {
     "data": {
      "application/vnd.jupyter.widget-view+json": {
       "model_id": "9a18f070c66b4e7cbd67a61c84a176d4",
       "version_major": 2,
       "version_minor": 0
      },
      "text/plain": [
       "키워드 진행도:   0%|          | 0/143 [00:00<?, ?it/s]"
      ]
     },
     "metadata": {},
     "output_type": "display_data"
    },
    {
     "data": {
      "application/vnd.jupyter.widget-view+json": {
       "model_id": "667bca9c577148cabaab9b7fda97c15c",
       "version_major": 2,
       "version_minor": 0
      },
      "text/plain": [
       "키워드 진행도:   0%|          | 0/50 [00:00<?, ?it/s]"
      ]
     },
     "metadata": {},
     "output_type": "display_data"
    },
    {
     "data": {
      "application/vnd.jupyter.widget-view+json": {
       "model_id": "3324d9ef507943a6bfad42376e9dd4ef",
       "version_major": 2,
       "version_minor": 0
      },
      "text/plain": [
       "키워드 진행도:   0%|          | 0/185 [00:00<?, ?it/s]"
      ]
     },
     "metadata": {},
     "output_type": "display_data"
    },
    {
     "data": {
      "application/vnd.jupyter.widget-view+json": {
       "model_id": "73d8f1c123804a36bba2ca2154a10cfa",
       "version_major": 2,
       "version_minor": 0
      },
      "text/plain": [
       "키워드 진행도:   0%|          | 0/80 [00:00<?, ?it/s]"
      ]
     },
     "metadata": {},
     "output_type": "display_data"
    },
    {
     "data": {
      "application/vnd.jupyter.widget-view+json": {
       "model_id": "845b24b964a44124b1d18429c546ef3c",
       "version_major": 2,
       "version_minor": 0
      },
      "text/plain": [
       "키워드 진행도:   0%|          | 0/56 [00:00<?, ?it/s]"
      ]
     },
     "metadata": {},
     "output_type": "display_data"
    },
    {
     "data": {
      "application/vnd.jupyter.widget-view+json": {
       "model_id": "b07f73a3d83b4d4993791ede4426e7ae",
       "version_major": 2,
       "version_minor": 0
      },
      "text/plain": [
       "키워드 진행도:   0%|          | 0/7 [00:00<?, ?it/s]"
      ]
     },
     "metadata": {},
     "output_type": "display_data"
    },
    {
     "data": {
      "application/vnd.jupyter.widget-view+json": {
       "model_id": "c453997c4bf8470494e8be268b336da2",
       "version_major": 2,
       "version_minor": 0
      },
      "text/plain": [
       "키워드 진행도:   0%|          | 0/103 [00:00<?, ?it/s]"
      ]
     },
     "metadata": {},
     "output_type": "display_data"
    },
    {
     "data": {
      "application/vnd.jupyter.widget-view+json": {
       "model_id": "c85c0472eb3d481d8b577d1e12ca2c86",
       "version_major": 2,
       "version_minor": 0
      },
      "text/plain": [
       "키워드 진행도:   0%|          | 0/41 [00:00<?, ?it/s]"
      ]
     },
     "metadata": {},
     "output_type": "display_data"
    },
    {
     "data": {
      "application/vnd.jupyter.widget-view+json": {
       "model_id": "827667b70385482e9df7b27194ea90b8",
       "version_major": 2,
       "version_minor": 0
      },
      "text/plain": [
       "키워드 진행도:   0%|          | 0/9 [00:00<?, ?it/s]"
      ]
     },
     "metadata": {},
     "output_type": "display_data"
    },
    {
     "data": {
      "application/vnd.jupyter.widget-view+json": {
       "model_id": "c746a26dd7eb420899a301432d45e947",
       "version_major": 2,
       "version_minor": 0
      },
      "text/plain": [
       "키워드 진행도:   0%|          | 0/77 [00:00<?, ?it/s]"
      ]
     },
     "metadata": {},
     "output_type": "display_data"
    },
    {
     "data": {
      "application/vnd.jupyter.widget-view+json": {
       "model_id": "5de6606dd9dc4955a608af3deb982a30",
       "version_major": 2,
       "version_minor": 0
      },
      "text/plain": [
       "키워드 진행도:   0%|          | 0/159 [00:00<?, ?it/s]"
      ]
     },
     "metadata": {},
     "output_type": "display_data"
    },
    {
     "data": {
      "application/vnd.jupyter.widget-view+json": {
       "model_id": "6d45abb531264e24ab958b5300db2787",
       "version_major": 2,
       "version_minor": 0
      },
      "text/plain": [
       "키워드 진행도:   0%|          | 0/63 [00:00<?, ?it/s]"
      ]
     },
     "metadata": {},
     "output_type": "display_data"
    },
    {
     "data": {
      "application/vnd.jupyter.widget-view+json": {
       "model_id": "9a689538c6ae49a2a4f1709ce533d4f0",
       "version_major": 2,
       "version_minor": 0
      },
      "text/plain": [
       "키워드 진행도:   0%|          | 0/102 [00:00<?, ?it/s]"
      ]
     },
     "metadata": {},
     "output_type": "display_data"
    },
    {
     "data": {
      "application/vnd.jupyter.widget-view+json": {
       "model_id": "d63dac546201419f839e00ff8dd5db2e",
       "version_major": 2,
       "version_minor": 0
      },
      "text/plain": [
       "키워드 진행도:   0%|          | 0/43 [00:00<?, ?it/s]"
      ]
     },
     "metadata": {},
     "output_type": "display_data"
    },
    {
     "data": {
      "application/vnd.jupyter.widget-view+json": {
       "model_id": "39103ddd75dc4554af013c82958ec353",
       "version_major": 2,
       "version_minor": 0
      },
      "text/plain": [
       "키워드 진행도:   0%|          | 0/31 [00:00<?, ?it/s]"
      ]
     },
     "metadata": {},
     "output_type": "display_data"
    },
    {
     "data": {
      "application/vnd.jupyter.widget-view+json": {
       "model_id": "0fc38fb64ecc4da0b3f648b38e6088bc",
       "version_major": 2,
       "version_minor": 0
      },
      "text/plain": [
       "키워드 진행도:   0%|          | 0/86 [00:00<?, ?it/s]"
      ]
     },
     "metadata": {},
     "output_type": "display_data"
    },
    {
     "data": {
      "application/vnd.jupyter.widget-view+json": {
       "model_id": "a60e18ab371f48f0871fe8cf87a85cd2",
       "version_major": 2,
       "version_minor": 0
      },
      "text/plain": [
       "키워드 진행도:   0%|          | 0/55 [00:00<?, ?it/s]"
      ]
     },
     "metadata": {},
     "output_type": "display_data"
    },
    {
     "data": {
      "application/vnd.jupyter.widget-view+json": {
       "model_id": "4576eca60b9b446283c14b81c763d58a",
       "version_major": 2,
       "version_minor": 0
      },
      "text/plain": [
       "키워드 진행도:   0%|          | 0/154 [00:00<?, ?it/s]"
      ]
     },
     "metadata": {},
     "output_type": "display_data"
    },
    {
     "data": {
      "application/vnd.jupyter.widget-view+json": {
       "model_id": "37afab723afb4c4292a92685cc0073ec",
       "version_major": 2,
       "version_minor": 0
      },
      "text/plain": [
       "키워드 진행도:   0%|          | 0/52 [00:00<?, ?it/s]"
      ]
     },
     "metadata": {},
     "output_type": "display_data"
    },
    {
     "data": {
      "application/vnd.jupyter.widget-view+json": {
       "model_id": "3975700998c44843aa0c64a7839588ff",
       "version_major": 2,
       "version_minor": 0
      },
      "text/plain": [
       "키워드 진행도:   0%|          | 0/51 [00:00<?, ?it/s]"
      ]
     },
     "metadata": {},
     "output_type": "display_data"
    },
    {
     "data": {
      "application/vnd.jupyter.widget-view+json": {
       "model_id": "1c2c746de94349c98b0f3f7301a8514a",
       "version_major": 2,
       "version_minor": 0
      },
      "text/plain": [
       "키워드 진행도:   0%|          | 0/61 [00:00<?, ?it/s]"
      ]
     },
     "metadata": {},
     "output_type": "display_data"
    },
    {
     "data": {
      "application/vnd.jupyter.widget-view+json": {
       "model_id": "bfe8478f544c436cbfb0356ca093c715",
       "version_major": 2,
       "version_minor": 0
      },
      "text/plain": [
       "키워드 진행도:   0%|          | 0/55 [00:00<?, ?it/s]"
      ]
     },
     "metadata": {},
     "output_type": "display_data"
    },
    {
     "data": {
      "application/vnd.jupyter.widget-view+json": {
       "model_id": "0d20941407804a6eb4dd86c731536e87",
       "version_major": 2,
       "version_minor": 0
      },
      "text/plain": [
       "키워드 진행도:   0%|          | 0/94 [00:00<?, ?it/s]"
      ]
     },
     "metadata": {},
     "output_type": "display_data"
    },
    {
     "data": {
      "application/vnd.jupyter.widget-view+json": {
       "model_id": "22490c1c344c48ffbfe779a859aacf32",
       "version_major": 2,
       "version_minor": 0
      },
      "text/plain": [
       "키워드 진행도:   0%|          | 0/73 [00:00<?, ?it/s]"
      ]
     },
     "metadata": {},
     "output_type": "display_data"
    },
    {
     "data": {
      "application/vnd.jupyter.widget-view+json": {
       "model_id": "7bff980554cf423baf9a40dbb17d3e0a",
       "version_major": 2,
       "version_minor": 0
      },
      "text/plain": [
       "키워드 진행도:   0%|          | 0/31 [00:00<?, ?it/s]"
      ]
     },
     "metadata": {},
     "output_type": "display_data"
    },
    {
     "data": {
      "application/vnd.jupyter.widget-view+json": {
       "model_id": "b26e2dbe70ca4430a650d578066b3a90",
       "version_major": 2,
       "version_minor": 0
      },
      "text/plain": [
       "키워드 진행도:   0%|          | 0/68 [00:00<?, ?it/s]"
      ]
     },
     "metadata": {},
     "output_type": "display_data"
    },
    {
     "data": {
      "application/vnd.jupyter.widget-view+json": {
       "model_id": "df71aac7d5e4450e82c866e4f023da5e",
       "version_major": 2,
       "version_minor": 0
      },
      "text/plain": [
       "키워드 진행도:   0%|          | 0/95 [00:00<?, ?it/s]"
      ]
     },
     "metadata": {},
     "output_type": "display_data"
    },
    {
     "data": {
      "application/vnd.jupyter.widget-view+json": {
       "model_id": "1d5678544e524fa399df6bb50407a7b3",
       "version_major": 2,
       "version_minor": 0
      },
      "text/plain": [
       "키워드 진행도:   0%|          | 0/26 [00:00<?, ?it/s]"
      ]
     },
     "metadata": {},
     "output_type": "display_data"
    },
    {
     "data": {
      "application/vnd.jupyter.widget-view+json": {
       "model_id": "33e396fb04294fd78c3667ead1808fbe",
       "version_major": 2,
       "version_minor": 0
      },
      "text/plain": [
       "키워드 진행도:   0%|          | 0/24 [00:00<?, ?it/s]"
      ]
     },
     "metadata": {},
     "output_type": "display_data"
    },
    {
     "data": {
      "application/vnd.jupyter.widget-view+json": {
       "model_id": "7475ca00dbbb4627b2dd86f104842d5d",
       "version_major": 2,
       "version_minor": 0
      },
      "text/plain": [
       "키워드 진행도:   0%|          | 0/12 [00:00<?, ?it/s]"
      ]
     },
     "metadata": {},
     "output_type": "display_data"
    },
    {
     "data": {
      "application/vnd.jupyter.widget-view+json": {
       "model_id": "642aa84cbd204a37ac85d801f8193d4b",
       "version_major": 2,
       "version_minor": 0
      },
      "text/plain": [
       "키워드 진행도:   0%|          | 0/9 [00:00<?, ?it/s]"
      ]
     },
     "metadata": {},
     "output_type": "display_data"
    },
    {
     "data": {
      "application/vnd.jupyter.widget-view+json": {
       "model_id": "365e9942c6d740fea8a35b4d39726f1e",
       "version_major": 2,
       "version_minor": 0
      },
      "text/plain": [
       "키워드 진행도:   0%|          | 0/32 [00:00<?, ?it/s]"
      ]
     },
     "metadata": {},
     "output_type": "display_data"
    },
    {
     "data": {
      "application/vnd.jupyter.widget-view+json": {
       "model_id": "1fa716228dd64e5bb642ed2147593a78",
       "version_major": 2,
       "version_minor": 0
      },
      "text/plain": [
       "키워드 진행도:   0%|          | 0/62 [00:00<?, ?it/s]"
      ]
     },
     "metadata": {},
     "output_type": "display_data"
    },
    {
     "data": {
      "application/vnd.jupyter.widget-view+json": {
       "model_id": "fbae4dd0069f47589d635af21984478a",
       "version_major": 2,
       "version_minor": 0
      },
      "text/plain": [
       "키워드 진행도:   0%|          | 0/125 [00:00<?, ?it/s]"
      ]
     },
     "metadata": {},
     "output_type": "display_data"
    },
    {
     "data": {
      "application/vnd.jupyter.widget-view+json": {
       "model_id": "1a57b570eb674c50a69fe201ff528d46",
       "version_major": 2,
       "version_minor": 0
      },
      "text/plain": [
       "키워드 진행도:   0%|          | 0/73 [00:00<?, ?it/s]"
      ]
     },
     "metadata": {},
     "output_type": "display_data"
    },
    {
     "data": {
      "application/vnd.jupyter.widget-view+json": {
       "model_id": "24d83c3728004723ad8d518727180e84",
       "version_major": 2,
       "version_minor": 0
      },
      "text/plain": [
       "키워드 진행도:   0%|          | 0/50 [00:00<?, ?it/s]"
      ]
     },
     "metadata": {},
     "output_type": "display_data"
    },
    {
     "data": {
      "application/vnd.jupyter.widget-view+json": {
       "model_id": "3a7404fd63324ecaba4e7abe40c613a4",
       "version_major": 2,
       "version_minor": 0
      },
      "text/plain": [
       "키워드 진행도:   0%|          | 0/22 [00:00<?, ?it/s]"
      ]
     },
     "metadata": {},
     "output_type": "display_data"
    },
    {
     "data": {
      "application/vnd.jupyter.widget-view+json": {
       "model_id": "d03a870e7059476dab7a9a13ec994d0f",
       "version_major": 2,
       "version_minor": 0
      },
      "text/plain": [
       "키워드 진행도:   0%|          | 0/22 [00:00<?, ?it/s]"
      ]
     },
     "metadata": {},
     "output_type": "display_data"
    },
    {
     "data": {
      "application/vnd.jupyter.widget-view+json": {
       "model_id": "d075a5d808a84513a9539fe690bc50a0",
       "version_major": 2,
       "version_minor": 0
      },
      "text/plain": [
       "키워드 진행도:   0%|          | 0/55 [00:00<?, ?it/s]"
      ]
     },
     "metadata": {},
     "output_type": "display_data"
    },
    {
     "data": {
      "application/vnd.jupyter.widget-view+json": {
       "model_id": "978d4b85b32e41f3b65f1d0228c1aa45",
       "version_major": 2,
       "version_minor": 0
      },
      "text/plain": [
       "키워드 진행도:   0%|          | 0/53 [00:00<?, ?it/s]"
      ]
     },
     "metadata": {},
     "output_type": "display_data"
    },
    {
     "data": {
      "application/vnd.jupyter.widget-view+json": {
       "model_id": "69dfd8114dcc4a6aad265c066e1d07ba",
       "version_major": 2,
       "version_minor": 0
      },
      "text/plain": [
       "키워드 진행도:   0%|          | 0/49 [00:00<?, ?it/s]"
      ]
     },
     "metadata": {},
     "output_type": "display_data"
    },
    {
     "data": {
      "application/vnd.jupyter.widget-view+json": {
       "model_id": "1aa1db50dfd444dc8a68399a2e261dea",
       "version_major": 2,
       "version_minor": 0
      },
      "text/plain": [
       "키워드 진행도:   0%|          | 0/184 [00:00<?, ?it/s]"
      ]
     },
     "metadata": {},
     "output_type": "display_data"
    },
    {
     "data": {
      "application/vnd.jupyter.widget-view+json": {
       "model_id": "0a85a2ff44da4a44a17245860d076855",
       "version_major": 2,
       "version_minor": 0
      },
      "text/plain": [
       "키워드 진행도:   0%|          | 0/81 [00:00<?, ?it/s]"
      ]
     },
     "metadata": {},
     "output_type": "display_data"
    },
    {
     "data": {
      "application/vnd.jupyter.widget-view+json": {
       "model_id": "33e3257f2e774e849637e3ba52dca41d",
       "version_major": 2,
       "version_minor": 0
      },
      "text/plain": [
       "키워드 진행도:   0%|          | 0/94 [00:00<?, ?it/s]"
      ]
     },
     "metadata": {},
     "output_type": "display_data"
    },
    {
     "data": {
      "application/vnd.jupyter.widget-view+json": {
       "model_id": "e876af19fd4c4f898be3624a7415f376",
       "version_major": 2,
       "version_minor": 0
      },
      "text/plain": [
       "키워드 진행도:   0%|          | 0/21 [00:00<?, ?it/s]"
      ]
     },
     "metadata": {},
     "output_type": "display_data"
    },
    {
     "data": {
      "application/vnd.jupyter.widget-view+json": {
       "model_id": "731d99b7410b455db526fe133a015ef5",
       "version_major": 2,
       "version_minor": 0
      },
      "text/plain": [
       "키워드 진행도:   0%|          | 0/10 [00:00<?, ?it/s]"
      ]
     },
     "metadata": {},
     "output_type": "display_data"
    },
    {
     "data": {
      "application/vnd.jupyter.widget-view+json": {
       "model_id": "0ac2ff9165464c71adb9e78fde502349",
       "version_major": 2,
       "version_minor": 0
      },
      "text/plain": [
       "키워드 진행도:   0%|          | 0/14 [00:00<?, ?it/s]"
      ]
     },
     "metadata": {},
     "output_type": "display_data"
    },
    {
     "data": {
      "application/vnd.jupyter.widget-view+json": {
       "model_id": "7832c2ef7339429bb2148fa78a101bc6",
       "version_major": 2,
       "version_minor": 0
      },
      "text/plain": [
       "키워드 진행도:   0%|          | 0/4 [00:00<?, ?it/s]"
      ]
     },
     "metadata": {},
     "output_type": "display_data"
    },
    {
     "data": {
      "application/vnd.jupyter.widget-view+json": {
       "model_id": "4db7d310b8694a3eab9d17a9904fe02a",
       "version_major": 2,
       "version_minor": 0
      },
      "text/plain": [
       "키워드 진행도:   0%|          | 0/36 [00:00<?, ?it/s]"
      ]
     },
     "metadata": {},
     "output_type": "display_data"
    },
    {
     "data": {
      "application/vnd.jupyter.widget-view+json": {
       "model_id": "c4ef29a6b31b490795562cc293c56c59",
       "version_major": 2,
       "version_minor": 0
      },
      "text/plain": [
       "키워드 진행도:   0%|          | 0/24 [00:00<?, ?it/s]"
      ]
     },
     "metadata": {},
     "output_type": "display_data"
    },
    {
     "data": {
      "application/vnd.jupyter.widget-view+json": {
       "model_id": "461031ee0d884e0a91f0bd39884c9a91",
       "version_major": 2,
       "version_minor": 0
      },
      "text/plain": [
       "키워드 진행도:   0%|          | 0/46 [00:00<?, ?it/s]"
      ]
     },
     "metadata": {},
     "output_type": "display_data"
    },
    {
     "data": {
      "application/vnd.jupyter.widget-view+json": {
       "model_id": "b3914cf371c74641be74c053c96e1bef",
       "version_major": 2,
       "version_minor": 0
      },
      "text/plain": [
       "키워드 진행도:   0%|          | 0/29 [00:00<?, ?it/s]"
      ]
     },
     "metadata": {},
     "output_type": "display_data"
    },
    {
     "data": {
      "application/vnd.jupyter.widget-view+json": {
       "model_id": "307bae617c644e96b96a9b6e0fc6652a",
       "version_major": 2,
       "version_minor": 0
      },
      "text/plain": [
       "키워드 진행도:   0%|          | 0/96 [00:00<?, ?it/s]"
      ]
     },
     "metadata": {},
     "output_type": "display_data"
    },
    {
     "data": {
      "application/vnd.jupyter.widget-view+json": {
       "model_id": "e9add10178254a45a0fb7d6ac6a7f1aa",
       "version_major": 2,
       "version_minor": 0
      },
      "text/plain": [
       "키워드 진행도:   0%|          | 0/40 [00:00<?, ?it/s]"
      ]
     },
     "metadata": {},
     "output_type": "display_data"
    },
    {
     "data": {
      "application/vnd.jupyter.widget-view+json": {
       "model_id": "0d6966ad876140d4832a0396a763845d",
       "version_major": 2,
       "version_minor": 0
      },
      "text/plain": [
       "키워드 진행도:   0%|          | 0/80 [00:00<?, ?it/s]"
      ]
     },
     "metadata": {},
     "output_type": "display_data"
    },
    {
     "data": {
      "application/vnd.jupyter.widget-view+json": {
       "model_id": "1e44d9b766fe4f5090cba4123271439c",
       "version_major": 2,
       "version_minor": 0
      },
      "text/plain": [
       "키워드 진행도:   0%|          | 0/123 [00:00<?, ?it/s]"
      ]
     },
     "metadata": {},
     "output_type": "display_data"
    },
    {
     "data": {
      "application/vnd.jupyter.widget-view+json": {
       "model_id": "646ece39402e4f36a2b6485286c4a6b9",
       "version_major": 2,
       "version_minor": 0
      },
      "text/plain": [
       "키워드 진행도:   0%|          | 0/67 [00:00<?, ?it/s]"
      ]
     },
     "metadata": {},
     "output_type": "display_data"
    },
    {
     "data": {
      "application/vnd.jupyter.widget-view+json": {
       "model_id": "497a3718887c486dbec16fd64f2ada70",
       "version_major": 2,
       "version_minor": 0
      },
      "text/plain": [
       "키워드 진행도:   0%|          | 0/18 [00:00<?, ?it/s]"
      ]
     },
     "metadata": {},
     "output_type": "display_data"
    },
    {
     "data": {
      "application/vnd.jupyter.widget-view+json": {
       "model_id": "44e418874bd5419cb509b09d145ae6ad",
       "version_major": 2,
       "version_minor": 0
      },
      "text/plain": [
       "키워드 진행도:   0%|          | 0/28 [00:00<?, ?it/s]"
      ]
     },
     "metadata": {},
     "output_type": "display_data"
    },
    {
     "data": {
      "application/vnd.jupyter.widget-view+json": {
       "model_id": "c4b9ac6814544a6781f7e1f4b2511a87",
       "version_major": 2,
       "version_minor": 0
      },
      "text/plain": [
       "키워드 진행도:   0%|          | 0/29 [00:00<?, ?it/s]"
      ]
     },
     "metadata": {},
     "output_type": "display_data"
    },
    {
     "data": {
      "application/vnd.jupyter.widget-view+json": {
       "model_id": "7cd8f8cd0c5046ca83f6bb8fbc021c3d",
       "version_major": 2,
       "version_minor": 0
      },
      "text/plain": [
       "키워드 진행도:   0%|          | 0/10 [00:00<?, ?it/s]"
      ]
     },
     "metadata": {},
     "output_type": "display_data"
    },
    {
     "data": {
      "application/vnd.jupyter.widget-view+json": {
       "model_id": "75e50533b2694024b907061e9851ef00",
       "version_major": 2,
       "version_minor": 0
      },
      "text/plain": [
       "키워드 진행도:   0%|          | 0/35 [00:00<?, ?it/s]"
      ]
     },
     "metadata": {},
     "output_type": "display_data"
    },
    {
     "data": {
      "application/vnd.jupyter.widget-view+json": {
       "model_id": "a2732b2a9729401cb9f55b2ecdac18f6",
       "version_major": 2,
       "version_minor": 0
      },
      "text/plain": [
       "키워드 진행도:   0%|          | 0/48 [00:00<?, ?it/s]"
      ]
     },
     "metadata": {},
     "output_type": "display_data"
    },
    {
     "data": {
      "application/vnd.jupyter.widget-view+json": {
       "model_id": "21af1d92ab7242d1aa069f4b53a0edd7",
       "version_major": 2,
       "version_minor": 0
      },
      "text/plain": [
       "키워드 진행도:   0%|          | 0/39 [00:00<?, ?it/s]"
      ]
     },
     "metadata": {},
     "output_type": "display_data"
    },
    {
     "data": {
      "application/vnd.jupyter.widget-view+json": {
       "model_id": "94a2824434e041e4a7d57b2685bb4c08",
       "version_major": 2,
       "version_minor": 0
      },
      "text/plain": [
       "키워드 진행도:   0%|          | 0/179 [00:00<?, ?it/s]"
      ]
     },
     "metadata": {},
     "output_type": "display_data"
    },
    {
     "data": {
      "application/vnd.jupyter.widget-view+json": {
       "model_id": "b89e97fc07d94b489283f9c2609e1c8a",
       "version_major": 2,
       "version_minor": 0
      },
      "text/plain": [
       "키워드 진행도:   0%|          | 0/59 [00:00<?, ?it/s]"
      ]
     },
     "metadata": {},
     "output_type": "display_data"
    },
    {
     "data": {
      "application/vnd.jupyter.widget-view+json": {
       "model_id": "9f044d1db5044a77ab50d4b0de145f79",
       "version_major": 2,
       "version_minor": 0
      },
      "text/plain": [
       "키워드 진행도:   0%|          | 0/34 [00:00<?, ?it/s]"
      ]
     },
     "metadata": {},
     "output_type": "display_data"
    },
    {
     "data": {
      "application/vnd.jupyter.widget-view+json": {
       "model_id": "4d4f8c7d78fc4712bee68590dc05a2de",
       "version_major": 2,
       "version_minor": 0
      },
      "text/plain": [
       "키워드 진행도:   0%|          | 0/74 [00:00<?, ?it/s]"
      ]
     },
     "metadata": {},
     "output_type": "display_data"
    },
    {
     "data": {
      "application/vnd.jupyter.widget-view+json": {
       "model_id": "c07e05659d044ac7aa5c9c4f7227fef5",
       "version_major": 2,
       "version_minor": 0
      },
      "text/plain": [
       "키워드 진행도:   0%|          | 0/19 [00:00<?, ?it/s]"
      ]
     },
     "metadata": {},
     "output_type": "display_data"
    },
    {
     "data": {
      "application/vnd.jupyter.widget-view+json": {
       "model_id": "ac9d6902ea544e3e840c8775b98636be",
       "version_major": 2,
       "version_minor": 0
      },
      "text/plain": [
       "키워드 진행도:   0%|          | 0/23 [00:00<?, ?it/s]"
      ]
     },
     "metadata": {},
     "output_type": "display_data"
    },
    {
     "data": {
      "application/vnd.jupyter.widget-view+json": {
       "model_id": "a7d874b108654adca845a207ef1bfd82",
       "version_major": 2,
       "version_minor": 0
      },
      "text/plain": [
       "키워드 진행도:   0%|          | 0/13 [00:00<?, ?it/s]"
      ]
     },
     "metadata": {},
     "output_type": "display_data"
    },
    {
     "data": {
      "application/vnd.jupyter.widget-view+json": {
       "model_id": "f14deeb03af34f44872d3b118bb6a172",
       "version_major": 2,
       "version_minor": 0
      },
      "text/plain": [
       "키워드 진행도:   0%|          | 0/84 [00:00<?, ?it/s]"
      ]
     },
     "metadata": {},
     "output_type": "display_data"
    },
    {
     "data": {
      "application/vnd.jupyter.widget-view+json": {
       "model_id": "04ce95f0c0284da284bf4a8971e7b3b6",
       "version_major": 2,
       "version_minor": 0
      },
      "text/plain": [
       "키워드 진행도:   0%|          | 0/39 [00:00<?, ?it/s]"
      ]
     },
     "metadata": {},
     "output_type": "display_data"
    },
    {
     "data": {
      "application/vnd.jupyter.widget-view+json": {
       "model_id": "d4a4e9b347604bf3a2d50e0f43f0459a",
       "version_major": 2,
       "version_minor": 0
      },
      "text/plain": [
       "키워드 진행도:   0%|          | 0/43 [00:00<?, ?it/s]"
      ]
     },
     "metadata": {},
     "output_type": "display_data"
    },
    {
     "data": {
      "application/vnd.jupyter.widget-view+json": {
       "model_id": "d5088ef3dd3f426bb09ffca28b1cb66d",
       "version_major": 2,
       "version_minor": 0
      },
      "text/plain": [
       "키워드 진행도:   0%|          | 0/16 [00:00<?, ?it/s]"
      ]
     },
     "metadata": {},
     "output_type": "display_data"
    },
    {
     "data": {
      "application/vnd.jupyter.widget-view+json": {
       "model_id": "880bea57c470434ea9706d6a1a374ed3",
       "version_major": 2,
       "version_minor": 0
      },
      "text/plain": [
       "키워드 진행도:   0%|          | 0/24 [00:00<?, ?it/s]"
      ]
     },
     "metadata": {},
     "output_type": "display_data"
    },
    {
     "data": {
      "application/vnd.jupyter.widget-view+json": {
       "model_id": "b499b8e62afd4720983c30b2afe2d446",
       "version_major": 2,
       "version_minor": 0
      },
      "text/plain": [
       "키워드 진행도:   0%|          | 0/79 [00:00<?, ?it/s]"
      ]
     },
     "metadata": {},
     "output_type": "display_data"
    },
    {
     "data": {
      "application/vnd.jupyter.widget-view+json": {
       "model_id": "038580f717b54ffa89505cac1970bd54",
       "version_major": 2,
       "version_minor": 0
      },
      "text/plain": [
       "키워드 진행도:   0%|          | 0/23 [00:00<?, ?it/s]"
      ]
     },
     "metadata": {},
     "output_type": "display_data"
    },
    {
     "data": {
      "application/vnd.jupyter.widget-view+json": {
       "model_id": "5fe6f8629c6845fc9fb7c321a5e7c742",
       "version_major": 2,
       "version_minor": 0
      },
      "text/plain": [
       "키워드 진행도:   0%|          | 0/41 [00:00<?, ?it/s]"
      ]
     },
     "metadata": {},
     "output_type": "display_data"
    },
    {
     "data": {
      "application/vnd.jupyter.widget-view+json": {
       "model_id": "e5340b912bdb490e86b502eda9bf2c54",
       "version_major": 2,
       "version_minor": 0
      },
      "text/plain": [
       "키워드 진행도:   0%|          | 0/8 [00:00<?, ?it/s]"
      ]
     },
     "metadata": {},
     "output_type": "display_data"
    },
    {
     "data": {
      "application/vnd.jupyter.widget-view+json": {
       "model_id": "b1466eab3094414cb6502e21a8925ec1",
       "version_major": 2,
       "version_minor": 0
      },
      "text/plain": [
       "키워드 진행도:   0%|          | 0/36 [00:00<?, ?it/s]"
      ]
     },
     "metadata": {},
     "output_type": "display_data"
    },
    {
     "data": {
      "application/vnd.jupyter.widget-view+json": {
       "model_id": "99620a635f67421f8e5899b6dd1807a4",
       "version_major": 2,
       "version_minor": 0
      },
      "text/plain": [
       "키워드 진행도:   0%|          | 0/83 [00:00<?, ?it/s]"
      ]
     },
     "metadata": {},
     "output_type": "display_data"
    },
    {
     "data": {
      "application/vnd.jupyter.widget-view+json": {
       "model_id": "ca8ffabe6455427bafb3828b3821686d",
       "version_major": 2,
       "version_minor": 0
      },
      "text/plain": [
       "키워드 진행도:   0%|          | 0/57 [00:00<?, ?it/s]"
      ]
     },
     "metadata": {},
     "output_type": "display_data"
    },
    {
     "data": {
      "application/vnd.jupyter.widget-view+json": {
       "model_id": "e33166a6d61344458f8b4d8c3e895fb1",
       "version_major": 2,
       "version_minor": 0
      },
      "text/plain": [
       "키워드 진행도:   0%|          | 0/45 [00:00<?, ?it/s]"
      ]
     },
     "metadata": {},
     "output_type": "display_data"
    },
    {
     "data": {
      "application/vnd.jupyter.widget-view+json": {
       "model_id": "3da549178ea64e9895388affee1f377e",
       "version_major": 2,
       "version_minor": 0
      },
      "text/plain": [
       "키워드 진행도:   0%|          | 0/44 [00:00<?, ?it/s]"
      ]
     },
     "metadata": {},
     "output_type": "display_data"
    },
    {
     "data": {
      "application/vnd.jupyter.widget-view+json": {
       "model_id": "f4661a5d25a94495a901efd51708f5e4",
       "version_major": 2,
       "version_minor": 0
      },
      "text/plain": [
       "키워드 진행도:   0%|          | 0/29 [00:00<?, ?it/s]"
      ]
     },
     "metadata": {},
     "output_type": "display_data"
    },
    {
     "data": {
      "application/vnd.jupyter.widget-view+json": {
       "model_id": "2b3911f16e7a423ea836f6faf60f8d4d",
       "version_major": 2,
       "version_minor": 0
      },
      "text/plain": [
       "키워드 진행도:   0%|          | 0/32 [00:00<?, ?it/s]"
      ]
     },
     "metadata": {},
     "output_type": "display_data"
    },
    {
     "data": {
      "application/vnd.jupyter.widget-view+json": {
       "model_id": "de93646f429c462f89fb76add1678a88",
       "version_major": 2,
       "version_minor": 0
      },
      "text/plain": [
       "키워드 진행도:   0%|          | 0/63 [00:00<?, ?it/s]"
      ]
     },
     "metadata": {},
     "output_type": "display_data"
    },
    {
     "data": {
      "application/vnd.jupyter.widget-view+json": {
       "model_id": "0fad391e862d46debaf40e17770cdf78",
       "version_major": 2,
       "version_minor": 0
      },
      "text/plain": [
       "키워드 진행도:   0%|          | 0/21 [00:00<?, ?it/s]"
      ]
     },
     "metadata": {},
     "output_type": "display_data"
    },
    {
     "data": {
      "application/vnd.jupyter.widget-view+json": {
       "model_id": "478f39c42bb9408182a4dc0bda294847",
       "version_major": 2,
       "version_minor": 0
      },
      "text/plain": [
       "키워드 진행도:   0%|          | 0/24 [00:00<?, ?it/s]"
      ]
     },
     "metadata": {},
     "output_type": "display_data"
    },
    {
     "data": {
      "application/vnd.jupyter.widget-view+json": {
       "model_id": "6feb8ead491b4a4cb1a87da14de0c861",
       "version_major": 2,
       "version_minor": 0
      },
      "text/plain": [
       "키워드 진행도:   0%|          | 0/11 [00:00<?, ?it/s]"
      ]
     },
     "metadata": {},
     "output_type": "display_data"
    },
    {
     "data": {
      "application/vnd.jupyter.widget-view+json": {
       "model_id": "c8e93a13409b4a5cafcbc7ca3e5187d9",
       "version_major": 2,
       "version_minor": 0
      },
      "text/plain": [
       "키워드 진행도:   0%|          | 0/34 [00:00<?, ?it/s]"
      ]
     },
     "metadata": {},
     "output_type": "display_data"
    },
    {
     "data": {
      "application/vnd.jupyter.widget-view+json": {
       "model_id": "2505b8d9688c4708abeef27244e04d86",
       "version_major": 2,
       "version_minor": 0
      },
      "text/plain": [
       "키워드 진행도:   0%|          | 0/24 [00:00<?, ?it/s]"
      ]
     },
     "metadata": {},
     "output_type": "display_data"
    },
    {
     "data": {
      "application/vnd.jupyter.widget-view+json": {
       "model_id": "1ef35fe96e8a4fbd81fda81111b284d7",
       "version_major": 2,
       "version_minor": 0
      },
      "text/plain": [
       "키워드 진행도:   0%|          | 0/5 [00:00<?, ?it/s]"
      ]
     },
     "metadata": {},
     "output_type": "display_data"
    },
    {
     "data": {
      "application/vnd.jupyter.widget-view+json": {
       "model_id": "f0be5af0ad5a4228b7cfcdc860352a76",
       "version_major": 2,
       "version_minor": 0
      },
      "text/plain": [
       "키워드 진행도:   0%|          | 0/19 [00:00<?, ?it/s]"
      ]
     },
     "metadata": {},
     "output_type": "display_data"
    },
    {
     "data": {
      "application/vnd.jupyter.widget-view+json": {
       "model_id": "29afc5c4c5c54682a8ea539bee076b5d",
       "version_major": 2,
       "version_minor": 0
      },
      "text/plain": [
       "키워드 진행도:   0%|          | 0/2 [00:00<?, ?it/s]"
      ]
     },
     "metadata": {},
     "output_type": "display_data"
    },
    {
     "data": {
      "application/vnd.jupyter.widget-view+json": {
       "model_id": "ec4c43d0364a42e1bc60d74e0e83df12",
       "version_major": 2,
       "version_minor": 0
      },
      "text/plain": [
       "키워드 진행도:   0%|          | 0/17 [00:00<?, ?it/s]"
      ]
     },
     "metadata": {},
     "output_type": "display_data"
    },
    {
     "data": {
      "application/vnd.jupyter.widget-view+json": {
       "model_id": "64563bc433604dd0a86f1e92743ec37e",
       "version_major": 2,
       "version_minor": 0
      },
      "text/plain": [
       "키워드 진행도:   0%|          | 0/82 [00:00<?, ?it/s]"
      ]
     },
     "metadata": {},
     "output_type": "display_data"
    },
    {
     "data": {
      "application/vnd.jupyter.widget-view+json": {
       "model_id": "0d16fc091f5b4093a6693df4fabc7959",
       "version_major": 2,
       "version_minor": 0
      },
      "text/plain": [
       "키워드 진행도:   0%|          | 0/2 [00:00<?, ?it/s]"
      ]
     },
     "metadata": {},
     "output_type": "display_data"
    },
    {
     "data": {
      "application/vnd.jupyter.widget-view+json": {
       "model_id": "807b29fbcf044a19b920389fecea0aed",
       "version_major": 2,
       "version_minor": 0
      },
      "text/plain": [
       "키워드 진행도:   0%|          | 0/13 [00:00<?, ?it/s]"
      ]
     },
     "metadata": {},
     "output_type": "display_data"
    },
    {
     "data": {
      "application/vnd.jupyter.widget-view+json": {
       "model_id": "7a3da35bb6ec4aee821ff9dd8cbf3e66",
       "version_major": 2,
       "version_minor": 0
      },
      "text/plain": [
       "키워드 진행도:   0%|          | 0/20 [00:00<?, ?it/s]"
      ]
     },
     "metadata": {},
     "output_type": "display_data"
    },
    {
     "data": {
      "application/vnd.jupyter.widget-view+json": {
       "model_id": "6223a2b0db5e48598545f72b3c841605",
       "version_major": 2,
       "version_minor": 0
      },
      "text/plain": [
       "키워드 진행도:   0%|          | 0/96 [00:00<?, ?it/s]"
      ]
     },
     "metadata": {},
     "output_type": "display_data"
    },
    {
     "data": {
      "application/vnd.jupyter.widget-view+json": {
       "model_id": "8e377e6c0eaa4a3fbafe570922ece00f",
       "version_major": 2,
       "version_minor": 0
      },
      "text/plain": [
       "키워드 진행도:   0%|          | 0/141 [00:00<?, ?it/s]"
      ]
     },
     "metadata": {},
     "output_type": "display_data"
    },
    {
     "data": {
      "application/vnd.jupyter.widget-view+json": {
       "model_id": "dfa4c8455e9b441ca74ea6df6df7c99d",
       "version_major": 2,
       "version_minor": 0
      },
      "text/plain": [
       "키워드 진행도:   0%|          | 0/121 [00:00<?, ?it/s]"
      ]
     },
     "metadata": {},
     "output_type": "display_data"
    },
    {
     "data": {
      "application/vnd.jupyter.widget-view+json": {
       "model_id": "dc381b8b765d4ee6a3a243e5be3ee82e",
       "version_major": 2,
       "version_minor": 0
      },
      "text/plain": [
       "키워드 진행도:   0%|          | 0/37 [00:00<?, ?it/s]"
      ]
     },
     "metadata": {},
     "output_type": "display_data"
    },
    {
     "data": {
      "application/vnd.jupyter.widget-view+json": {
       "model_id": "0e412cecfa3a4a868d2b7ad7a3ba1455",
       "version_major": 2,
       "version_minor": 0
      },
      "text/plain": [
       "키워드 진행도:   0%|          | 0/150 [00:00<?, ?it/s]"
      ]
     },
     "metadata": {},
     "output_type": "display_data"
    },
    {
     "data": {
      "application/vnd.jupyter.widget-view+json": {
       "model_id": "4ec14c98955d439f9b63befe5f3d82a6",
       "version_major": 2,
       "version_minor": 0
      },
      "text/plain": [
       "키워드 진행도:   0%|          | 0/38 [00:00<?, ?it/s]"
      ]
     },
     "metadata": {},
     "output_type": "display_data"
    },
    {
     "data": {
      "application/vnd.jupyter.widget-view+json": {
       "model_id": "67a250673fe942378629d090f623f4a7",
       "version_major": 2,
       "version_minor": 0
      },
      "text/plain": [
       "키워드 진행도:   0%|          | 0/16 [00:00<?, ?it/s]"
      ]
     },
     "metadata": {},
     "output_type": "display_data"
    },
    {
     "data": {
      "application/vnd.jupyter.widget-view+json": {
       "model_id": "e974605dd7b844689dee2e3f7b85bb89",
       "version_major": 2,
       "version_minor": 0
      },
      "text/plain": [
       "키워드 진행도:   0%|          | 0/32 [00:00<?, ?it/s]"
      ]
     },
     "metadata": {},
     "output_type": "display_data"
    },
    {
     "data": {
      "application/vnd.jupyter.widget-view+json": {
       "model_id": "67e43446abdd4ba9abb42973851083b1",
       "version_major": 2,
       "version_minor": 0
      },
      "text/plain": [
       "키워드 진행도:   0%|          | 0/21 [00:00<?, ?it/s]"
      ]
     },
     "metadata": {},
     "output_type": "display_data"
    },
    {
     "data": {
      "application/vnd.jupyter.widget-view+json": {
       "model_id": "ce399037c22c4ac38d18f4c755a63aed",
       "version_major": 2,
       "version_minor": 0
      },
      "text/plain": [
       "키워드 진행도:   0%|          | 0/186 [00:00<?, ?it/s]"
      ]
     },
     "metadata": {},
     "output_type": "display_data"
    },
    {
     "data": {
      "application/vnd.jupyter.widget-view+json": {
       "model_id": "8f82eaae1b0b495db74d92ca8495f1fb",
       "version_major": 2,
       "version_minor": 0
      },
      "text/plain": [
       "키워드 진행도:   0%|          | 0/27 [00:00<?, ?it/s]"
      ]
     },
     "metadata": {},
     "output_type": "display_data"
    },
    {
     "data": {
      "application/vnd.jupyter.widget-view+json": {
       "model_id": "f11e9499318146c594cff6576859f8d3",
       "version_major": 2,
       "version_minor": 0
      },
      "text/plain": [
       "키워드 진행도:   0%|          | 0/144 [00:00<?, ?it/s]"
      ]
     },
     "metadata": {},
     "output_type": "display_data"
    },
    {
     "data": {
      "application/vnd.jupyter.widget-view+json": {
       "model_id": "24ff20255b2a44778a90d1c5e6794784",
       "version_major": 2,
       "version_minor": 0
      },
      "text/plain": [
       "키워드 진행도:   0%|          | 0/147 [00:00<?, ?it/s]"
      ]
     },
     "metadata": {},
     "output_type": "display_data"
    },
    {
     "data": {
      "application/vnd.jupyter.widget-view+json": {
       "model_id": "8f59255eaeb041fa902d895738a5b32c",
       "version_major": 2,
       "version_minor": 0
      },
      "text/plain": [
       "키워드 진행도:   0%|          | 0/29 [00:00<?, ?it/s]"
      ]
     },
     "metadata": {},
     "output_type": "display_data"
    },
    {
     "data": {
      "application/vnd.jupyter.widget-view+json": {
       "model_id": "af3d59c0f0c648dc8c40e437df9695b1",
       "version_major": 2,
       "version_minor": 0
      },
      "text/plain": [
       "키워드 진행도:   0%|          | 0/43 [00:00<?, ?it/s]"
      ]
     },
     "metadata": {},
     "output_type": "display_data"
    },
    {
     "data": {
      "application/vnd.jupyter.widget-view+json": {
       "model_id": "d4a3cf880f3c4540bba376f27486ec43",
       "version_major": 2,
       "version_minor": 0
      },
      "text/plain": [
       "키워드 진행도:   0%|          | 0/87 [00:00<?, ?it/s]"
      ]
     },
     "metadata": {},
     "output_type": "display_data"
    },
    {
     "data": {
      "application/vnd.jupyter.widget-view+json": {
       "model_id": "10f711bede31484288266a951d1df1b0",
       "version_major": 2,
       "version_minor": 0
      },
      "text/plain": [
       "키워드 진행도:   0%|          | 0/88 [00:00<?, ?it/s]"
      ]
     },
     "metadata": {},
     "output_type": "display_data"
    },
    {
     "data": {
      "application/vnd.jupyter.widget-view+json": {
       "model_id": "9bc6e4bdd88d4b13a41e53420db5538a",
       "version_major": 2,
       "version_minor": 0
      },
      "text/plain": [
       "키워드 진행도:   0%|          | 0/24 [00:00<?, ?it/s]"
      ]
     },
     "metadata": {},
     "output_type": "display_data"
    },
    {
     "data": {
      "application/vnd.jupyter.widget-view+json": {
       "model_id": "0d39d3a915dd4c788dfe0f411de6642f",
       "version_major": 2,
       "version_minor": 0
      },
      "text/plain": [
       "키워드 진행도:   0%|          | 0/60 [00:00<?, ?it/s]"
      ]
     },
     "metadata": {},
     "output_type": "display_data"
    },
    {
     "data": {
      "application/vnd.jupyter.widget-view+json": {
       "model_id": "511223a34ee747d2ad05d30115da276a",
       "version_major": 2,
       "version_minor": 0
      },
      "text/plain": [
       "키워드 진행도:   0%|          | 0/14 [00:00<?, ?it/s]"
      ]
     },
     "metadata": {},
     "output_type": "display_data"
    },
    {
     "data": {
      "application/vnd.jupyter.widget-view+json": {
       "model_id": "0ecf607cffb145159e7298226e2f5bbc",
       "version_major": 2,
       "version_minor": 0
      },
      "text/plain": [
       "키워드 진행도:   0%|          | 0/20 [00:00<?, ?it/s]"
      ]
     },
     "metadata": {},
     "output_type": "display_data"
    },
    {
     "data": {
      "application/vnd.jupyter.widget-view+json": {
       "model_id": "3bc75df114344c1783cfa16a3b07ea95",
       "version_major": 2,
       "version_minor": 0
      },
      "text/plain": [
       "키워드 진행도:   0%|          | 0/36 [00:00<?, ?it/s]"
      ]
     },
     "metadata": {},
     "output_type": "display_data"
    },
    {
     "data": {
      "application/vnd.jupyter.widget-view+json": {
       "model_id": "6561e5b3cd3c4545bfbc99190d9eb7f6",
       "version_major": 2,
       "version_minor": 0
      },
      "text/plain": [
       "키워드 진행도:   0%|          | 0/62 [00:00<?, ?it/s]"
      ]
     },
     "metadata": {},
     "output_type": "display_data"
    },
    {
     "data": {
      "application/vnd.jupyter.widget-view+json": {
       "model_id": "02f729b988f4411fb121c6aea50ef50e",
       "version_major": 2,
       "version_minor": 0
      },
      "text/plain": [
       "키워드 진행도:   0%|          | 0/198 [00:00<?, ?it/s]"
      ]
     },
     "metadata": {},
     "output_type": "display_data"
    },
    {
     "data": {
      "application/vnd.jupyter.widget-view+json": {
       "model_id": "11cbf3c11d9549f89b41395800e7691d",
       "version_major": 2,
       "version_minor": 0
      },
      "text/plain": [
       "키워드 진행도:   0%|          | 0/9 [00:00<?, ?it/s]"
      ]
     },
     "metadata": {},
     "output_type": "display_data"
    },
    {
     "data": {
      "application/vnd.jupyter.widget-view+json": {
       "model_id": "b3b28b0d66e14c79abf744d9d72bf09d",
       "version_major": 2,
       "version_minor": 0
      },
      "text/plain": [
       "키워드 진행도:   0%|          | 0/12 [00:00<?, ?it/s]"
      ]
     },
     "metadata": {},
     "output_type": "display_data"
    },
    {
     "data": {
      "application/vnd.jupyter.widget-view+json": {
       "model_id": "0e7e870450f74bb883172ec5de038326",
       "version_major": 2,
       "version_minor": 0
      },
      "text/plain": [
       "키워드 진행도:   0%|          | 0/26 [00:00<?, ?it/s]"
      ]
     },
     "metadata": {},
     "output_type": "display_data"
    },
    {
     "data": {
      "application/vnd.jupyter.widget-view+json": {
       "model_id": "2c4e9d99e2344522831943166713e00a",
       "version_major": 2,
       "version_minor": 0
      },
      "text/plain": [
       "키워드 진행도:   0%|          | 0/6 [00:00<?, ?it/s]"
      ]
     },
     "metadata": {},
     "output_type": "display_data"
    },
    {
     "data": {
      "application/vnd.jupyter.widget-view+json": {
       "model_id": "c438725244264e2f841b31a05cc39bb2",
       "version_major": 2,
       "version_minor": 0
      },
      "text/plain": [
       "키워드 진행도:   0%|          | 0/9 [00:00<?, ?it/s]"
      ]
     },
     "metadata": {},
     "output_type": "display_data"
    },
    {
     "data": {
      "application/vnd.jupyter.widget-view+json": {
       "model_id": "2735cdd530624b3ba1cf9c8de3966559",
       "version_major": 2,
       "version_minor": 0
      },
      "text/plain": [
       "키워드 진행도:   0%|          | 0/54 [00:00<?, ?it/s]"
      ]
     },
     "metadata": {},
     "output_type": "display_data"
    },
    {
     "data": {
      "application/vnd.jupyter.widget-view+json": {
       "model_id": "2a1e4f42afe54ec0a027103ffc411bcb",
       "version_major": 2,
       "version_minor": 0
      },
      "text/plain": [
       "키워드 진행도:   0%|          | 0/50 [00:00<?, ?it/s]"
      ]
     },
     "metadata": {},
     "output_type": "display_data"
    },
    {
     "data": {
      "application/vnd.jupyter.widget-view+json": {
       "model_id": "9921abb1436b484ebd9fa2268aae916e",
       "version_major": 2,
       "version_minor": 0
      },
      "text/plain": [
       "키워드 진행도:   0%|          | 0/9 [00:00<?, ?it/s]"
      ]
     },
     "metadata": {},
     "output_type": "display_data"
    },
    {
     "data": {
      "application/vnd.jupyter.widget-view+json": {
       "model_id": "132e41758a8d48299af94e3399620b1d",
       "version_major": 2,
       "version_minor": 0
      },
      "text/plain": [
       "키워드 진행도:   0%|          | 0/18 [00:00<?, ?it/s]"
      ]
     },
     "metadata": {},
     "output_type": "display_data"
    },
    {
     "data": {
      "application/vnd.jupyter.widget-view+json": {
       "model_id": "5ca09af34a7c483c93920d95313d7fd3",
       "version_major": 2,
       "version_minor": 0
      },
      "text/plain": [
       "키워드 진행도:   0%|          | 0/30 [00:00<?, ?it/s]"
      ]
     },
     "metadata": {},
     "output_type": "display_data"
    },
    {
     "data": {
      "application/vnd.jupyter.widget-view+json": {
       "model_id": "b4125670de5045d895666461e90e88bd",
       "version_major": 2,
       "version_minor": 0
      },
      "text/plain": [
       "키워드 진행도:   0%|          | 0/8 [00:00<?, ?it/s]"
      ]
     },
     "metadata": {},
     "output_type": "display_data"
    },
    {
     "data": {
      "application/vnd.jupyter.widget-view+json": {
       "model_id": "63f179455a7c4610a991ae02d06754a9",
       "version_major": 2,
       "version_minor": 0
      },
      "text/plain": [
       "키워드 진행도:   0%|          | 0/59 [00:00<?, ?it/s]"
      ]
     },
     "metadata": {},
     "output_type": "display_data"
    },
    {
     "data": {
      "application/vnd.jupyter.widget-view+json": {
       "model_id": "781fd06ab49e46138d0c9044f16d7422",
       "version_major": 2,
       "version_minor": 0
      },
      "text/plain": [
       "키워드 진행도:   0%|          | 0/158 [00:00<?, ?it/s]"
      ]
     },
     "metadata": {},
     "output_type": "display_data"
    },
    {
     "data": {
      "application/vnd.jupyter.widget-view+json": {
       "model_id": "cce4d14cd6f84335a990822f2a1b546d",
       "version_major": 2,
       "version_minor": 0
      },
      "text/plain": [
       "키워드 진행도:   0%|          | 0/19 [00:00<?, ?it/s]"
      ]
     },
     "metadata": {},
     "output_type": "display_data"
    },
    {
     "data": {
      "application/vnd.jupyter.widget-view+json": {
       "model_id": "2dbb47fb9338461385d34eeada6fd35c",
       "version_major": 2,
       "version_minor": 0
      },
      "text/plain": [
       "키워드 진행도:   0%|          | 0/24 [00:00<?, ?it/s]"
      ]
     },
     "metadata": {},
     "output_type": "display_data"
    },
    {
     "data": {
      "application/vnd.jupyter.widget-view+json": {
       "model_id": "3a3ef23076a342f3bf1749f13731d28b",
       "version_major": 2,
       "version_minor": 0
      },
      "text/plain": [
       "키워드 진행도:   0%|          | 0/22 [00:00<?, ?it/s]"
      ]
     },
     "metadata": {},
     "output_type": "display_data"
    },
    {
     "data": {
      "application/vnd.jupyter.widget-view+json": {
       "model_id": "476762acf198469e8292b63d36f3a514",
       "version_major": 2,
       "version_minor": 0
      },
      "text/plain": [
       "키워드 진행도:   0%|          | 0/62 [00:00<?, ?it/s]"
      ]
     },
     "metadata": {},
     "output_type": "display_data"
    },
    {
     "data": {
      "application/vnd.jupyter.widget-view+json": {
       "model_id": "fcd7d04ed65d463983ba409f7982b10f",
       "version_major": 2,
       "version_minor": 0
      },
      "text/plain": [
       "키워드 진행도:   0%|          | 0/55 [00:00<?, ?it/s]"
      ]
     },
     "metadata": {},
     "output_type": "display_data"
    },
    {
     "data": {
      "application/vnd.jupyter.widget-view+json": {
       "model_id": "45650ed2f62f4b6aa20548334f41d656",
       "version_major": 2,
       "version_minor": 0
      },
      "text/plain": [
       "키워드 진행도:   0%|          | 0/11 [00:00<?, ?it/s]"
      ]
     },
     "metadata": {},
     "output_type": "display_data"
    },
    {
     "data": {
      "application/vnd.jupyter.widget-view+json": {
       "model_id": "20529cf37a574084a221f91708f632ca",
       "version_major": 2,
       "version_minor": 0
      },
      "text/plain": [
       "키워드 진행도:   0%|          | 0/5 [00:00<?, ?it/s]"
      ]
     },
     "metadata": {},
     "output_type": "display_data"
    },
    {
     "data": {
      "application/vnd.jupyter.widget-view+json": {
       "model_id": "13bb332a2b364372b5af69f58bcd2b74",
       "version_major": 2,
       "version_minor": 0
      },
      "text/plain": [
       "키워드 진행도:   0%|          | 0/17 [00:00<?, ?it/s]"
      ]
     },
     "metadata": {},
     "output_type": "display_data"
    },
    {
     "data": {
      "application/vnd.jupyter.widget-view+json": {
       "model_id": "e6d18fae5e8e4aaabfc5721431cb05bd",
       "version_major": 2,
       "version_minor": 0
      },
      "text/plain": [
       "키워드 진행도:   0%|          | 0/7 [00:00<?, ?it/s]"
      ]
     },
     "metadata": {},
     "output_type": "display_data"
    },
    {
     "data": {
      "application/vnd.jupyter.widget-view+json": {
       "model_id": "b22102d01b8f48c7b14c0176b6357509",
       "version_major": 2,
       "version_minor": 0
      },
      "text/plain": [
       "키워드 진행도:   0%|          | 0/15 [00:00<?, ?it/s]"
      ]
     },
     "metadata": {},
     "output_type": "display_data"
    },
    {
     "data": {
      "application/vnd.jupyter.widget-view+json": {
       "model_id": "4b477fd86b624f54ac064254247dfed1",
       "version_major": 2,
       "version_minor": 0
      },
      "text/plain": [
       "키워드 진행도:   0%|          | 0/39 [00:00<?, ?it/s]"
      ]
     },
     "metadata": {},
     "output_type": "display_data"
    },
    {
     "data": {
      "application/vnd.jupyter.widget-view+json": {
       "model_id": "4bee2cabe39d4097b9692f953b251152",
       "version_major": 2,
       "version_minor": 0
      },
      "text/plain": [
       "키워드 진행도:   0%|          | 0/38 [00:00<?, ?it/s]"
      ]
     },
     "metadata": {},
     "output_type": "display_data"
    },
    {
     "data": {
      "application/vnd.jupyter.widget-view+json": {
       "model_id": "b57c0edb686c4583a915a5e42c07d2ad",
       "version_major": 2,
       "version_minor": 0
      },
      "text/plain": [
       "키워드 진행도:   0%|          | 0/5 [00:00<?, ?it/s]"
      ]
     },
     "metadata": {},
     "output_type": "display_data"
    },
    {
     "data": {
      "application/vnd.jupyter.widget-view+json": {
       "model_id": "1b40e73fba234817b547fb90d742d6e6",
       "version_major": 2,
       "version_minor": 0
      },
      "text/plain": [
       "키워드 진행도:   0%|          | 0/9 [00:00<?, ?it/s]"
      ]
     },
     "metadata": {},
     "output_type": "display_data"
    },
    {
     "data": {
      "application/vnd.jupyter.widget-view+json": {
       "model_id": "d5f5af7d546f4d7bb02bb1d2d41311b6",
       "version_major": 2,
       "version_minor": 0
      },
      "text/plain": [
       "키워드 진행도:   0%|          | 0/8 [00:00<?, ?it/s]"
      ]
     },
     "metadata": {},
     "output_type": "display_data"
    },
    {
     "data": {
      "application/vnd.jupyter.widget-view+json": {
       "model_id": "896fd7ad44f14ea38bd30b064f7b69f0",
       "version_major": 2,
       "version_minor": 0
      },
      "text/plain": [
       "키워드 진행도:   0%|          | 0/11 [00:00<?, ?it/s]"
      ]
     },
     "metadata": {},
     "output_type": "display_data"
    },
    {
     "data": {
      "application/vnd.jupyter.widget-view+json": {
       "model_id": "95179e1217b843e78fad83435f3a3989",
       "version_major": 2,
       "version_minor": 0
      },
      "text/plain": [
       "키워드 진행도:   0%|          | 0/70 [00:00<?, ?it/s]"
      ]
     },
     "metadata": {},
     "output_type": "display_data"
    },
    {
     "data": {
      "application/vnd.jupyter.widget-view+json": {
       "model_id": "71db26e1464f439fa69db0959cb3d3d3",
       "version_major": 2,
       "version_minor": 0
      },
      "text/plain": [
       "키워드 진행도:   0%|          | 0/14 [00:00<?, ?it/s]"
      ]
     },
     "metadata": {},
     "output_type": "display_data"
    },
    {
     "data": {
      "application/vnd.jupyter.widget-view+json": {
       "model_id": "dc5272085d42415086863a280866a787",
       "version_major": 2,
       "version_minor": 0
      },
      "text/plain": [
       "키워드 진행도:   0%|          | 0/15 [00:00<?, ?it/s]"
      ]
     },
     "metadata": {},
     "output_type": "display_data"
    },
    {
     "data": {
      "application/vnd.jupyter.widget-view+json": {
       "model_id": "40a1e1aef0344da181440fc54622749b",
       "version_major": 2,
       "version_minor": 0
      },
      "text/plain": [
       "키워드 진행도:   0%|          | 0/25 [00:00<?, ?it/s]"
      ]
     },
     "metadata": {},
     "output_type": "display_data"
    },
    {
     "data": {
      "application/vnd.jupyter.widget-view+json": {
       "model_id": "35f8536b271045c7984a9a17b2907bd3",
       "version_major": 2,
       "version_minor": 0
      },
      "text/plain": [
       "키워드 진행도:   0%|          | 0/17 [00:00<?, ?it/s]"
      ]
     },
     "metadata": {},
     "output_type": "display_data"
    },
    {
     "data": {
      "application/vnd.jupyter.widget-view+json": {
       "model_id": "961358439e4d47d288bab58c48fdc397",
       "version_major": 2,
       "version_minor": 0
      },
      "text/plain": [
       "키워드 진행도:   0%|          | 0/24 [00:00<?, ?it/s]"
      ]
     },
     "metadata": {},
     "output_type": "display_data"
    },
    {
     "data": {
      "application/vnd.jupyter.widget-view+json": {
       "model_id": "4fd8dee5ae3c4db094e65569a04073ad",
       "version_major": 2,
       "version_minor": 0
      },
      "text/plain": [
       "키워드 진행도:   0%|          | 0/10 [00:00<?, ?it/s]"
      ]
     },
     "metadata": {},
     "output_type": "display_data"
    },
    {
     "data": {
      "application/vnd.jupyter.widget-view+json": {
       "model_id": "686901d52eec45e0bd671aecf5dd3c1d",
       "version_major": 2,
       "version_minor": 0
      },
      "text/plain": [
       "키워드 진행도:   0%|          | 0/17 [00:00<?, ?it/s]"
      ]
     },
     "metadata": {},
     "output_type": "display_data"
    },
    {
     "data": {
      "application/vnd.jupyter.widget-view+json": {
       "model_id": "fd4f00b408ff4cf19db2da1044ce788a",
       "version_major": 2,
       "version_minor": 0
      },
      "text/plain": [
       "키워드 진행도:   0%|          | 0/51 [00:00<?, ?it/s]"
      ]
     },
     "metadata": {},
     "output_type": "display_data"
    },
    {
     "data": {
      "application/vnd.jupyter.widget-view+json": {
       "model_id": "4aca17e467e54a85961a9c5a581171b1",
       "version_major": 2,
       "version_minor": 0
      },
      "text/plain": [
       "키워드 진행도:   0%|          | 0/37 [00:00<?, ?it/s]"
      ]
     },
     "metadata": {},
     "output_type": "display_data"
    },
    {
     "data": {
      "application/vnd.jupyter.widget-view+json": {
       "model_id": "0e8bb59dd33d417aaadafd8d966292ba",
       "version_major": 2,
       "version_minor": 0
      },
      "text/plain": [
       "키워드 진행도:   0%|          | 0/41 [00:00<?, ?it/s]"
      ]
     },
     "metadata": {},
     "output_type": "display_data"
    },
    {
     "data": {
      "application/vnd.jupyter.widget-view+json": {
       "model_id": "71b301cdc32948f2a4e92521b4d55a15",
       "version_major": 2,
       "version_minor": 0
      },
      "text/plain": [
       "키워드 진행도:   0%|          | 0/23 [00:00<?, ?it/s]"
      ]
     },
     "metadata": {},
     "output_type": "display_data"
    },
    {
     "data": {
      "application/vnd.jupyter.widget-view+json": {
       "model_id": "ae1884bcecbb4f03a064d6e4e159790d",
       "version_major": 2,
       "version_minor": 0
      },
      "text/plain": [
       "키워드 진행도:   0%|          | 0/11 [00:00<?, ?it/s]"
      ]
     },
     "metadata": {},
     "output_type": "display_data"
    },
    {
     "data": {
      "application/vnd.jupyter.widget-view+json": {
       "model_id": "13d365110f204bdda285602f530e68e9",
       "version_major": 2,
       "version_minor": 0
      },
      "text/plain": [
       "키워드 진행도:   0%|          | 0/26 [00:00<?, ?it/s]"
      ]
     },
     "metadata": {},
     "output_type": "display_data"
    },
    {
     "data": {
      "application/vnd.jupyter.widget-view+json": {
       "model_id": "8c7751b5e7414da794110df9437062b3",
       "version_major": 2,
       "version_minor": 0
      },
      "text/plain": [
       "키워드 진행도:   0%|          | 0/19 [00:00<?, ?it/s]"
      ]
     },
     "metadata": {},
     "output_type": "display_data"
    },
    {
     "data": {
      "application/vnd.jupyter.widget-view+json": {
       "model_id": "50964c8c9d0840b186d98d9c838be837",
       "version_major": 2,
       "version_minor": 0
      },
      "text/plain": [
       "키워드 진행도:   0%|          | 0/21 [00:00<?, ?it/s]"
      ]
     },
     "metadata": {},
     "output_type": "display_data"
    },
    {
     "data": {
      "application/vnd.jupyter.widget-view+json": {
       "model_id": "fc81470ab56844d395c73fae3cce8f2a",
       "version_major": 2,
       "version_minor": 0
      },
      "text/plain": [
       "키워드 진행도:   0%|          | 0/50 [00:00<?, ?it/s]"
      ]
     },
     "metadata": {},
     "output_type": "display_data"
    },
    {
     "data": {
      "application/vnd.jupyter.widget-view+json": {
       "model_id": "b32bf40c9b59479a8880d7184acc3cbd",
       "version_major": 2,
       "version_minor": 0
      },
      "text/plain": [
       "키워드 진행도:   0%|          | 0/32 [00:00<?, ?it/s]"
      ]
     },
     "metadata": {},
     "output_type": "display_data"
    },
    {
     "data": {
      "application/vnd.jupyter.widget-view+json": {
       "model_id": "610ac536ebad4809bd65b237c9a03c85",
       "version_major": 2,
       "version_minor": 0
      },
      "text/plain": [
       "키워드 진행도:   0%|          | 0/6 [00:00<?, ?it/s]"
      ]
     },
     "metadata": {},
     "output_type": "display_data"
    },
    {
     "data": {
      "application/vnd.jupyter.widget-view+json": {
       "model_id": "781ae3df9ecb424ea3b27b465707236e",
       "version_major": 2,
       "version_minor": 0
      },
      "text/plain": [
       "키워드 진행도:   0%|          | 0/1 [00:00<?, ?it/s]"
      ]
     },
     "metadata": {},
     "output_type": "display_data"
    },
    {
     "data": {
      "application/vnd.jupyter.widget-view+json": {
       "model_id": "6496d110100b405d870745cc8dd79db1",
       "version_major": 2,
       "version_minor": 0
      },
      "text/plain": [
       "키워드 진행도:   0%|          | 0/11 [00:00<?, ?it/s]"
      ]
     },
     "metadata": {},
     "output_type": "display_data"
    },
    {
     "data": {
      "application/vnd.jupyter.widget-view+json": {
       "model_id": "6ca1256b03f049b18d2ed112b0115546",
       "version_major": 2,
       "version_minor": 0
      },
      "text/plain": [
       "키워드 진행도:   0%|          | 0/8 [00:00<?, ?it/s]"
      ]
     },
     "metadata": {},
     "output_type": "display_data"
    },
    {
     "data": {
      "application/vnd.jupyter.widget-view+json": {
       "model_id": "b80ae2424d7044c1ab5691500571da50",
       "version_major": 2,
       "version_minor": 0
      },
      "text/plain": [
       "키워드 진행도:   0%|          | 0/11 [00:00<?, ?it/s]"
      ]
     },
     "metadata": {},
     "output_type": "display_data"
    },
    {
     "data": {
      "application/vnd.jupyter.widget-view+json": {
       "model_id": "507b75abab564e32aedc65cca2a06aba",
       "version_major": 2,
       "version_minor": 0
      },
      "text/plain": [
       "키워드 진행도:   0%|          | 0/9 [00:00<?, ?it/s]"
      ]
     },
     "metadata": {},
     "output_type": "display_data"
    },
    {
     "data": {
      "application/vnd.jupyter.widget-view+json": {
       "model_id": "2d526c941b60473eaa2494d301d88f1d",
       "version_major": 2,
       "version_minor": 0
      },
      "text/plain": [
       "키워드 진행도:   0%|          | 0/4 [00:00<?, ?it/s]"
      ]
     },
     "metadata": {},
     "output_type": "display_data"
    },
    {
     "data": {
      "application/vnd.jupyter.widget-view+json": {
       "model_id": "1f980e90fe2d43b796480e19ebd33330",
       "version_major": 2,
       "version_minor": 0
      },
      "text/plain": [
       "키워드 진행도:   0%|          | 0/18 [00:00<?, ?it/s]"
      ]
     },
     "metadata": {},
     "output_type": "display_data"
    },
    {
     "data": {
      "application/vnd.jupyter.widget-view+json": {
       "model_id": "fa59b66924034cf681bc6cab16b33433",
       "version_major": 2,
       "version_minor": 0
      },
      "text/plain": [
       "키워드 진행도:   0%|          | 0/51 [00:00<?, ?it/s]"
      ]
     },
     "metadata": {},
     "output_type": "display_data"
    },
    {
     "data": {
      "application/vnd.jupyter.widget-view+json": {
       "model_id": "5902a3cd907c4a96bec110f106eddef7",
       "version_major": 2,
       "version_minor": 0
      },
      "text/plain": [
       "키워드 진행도:   0%|          | 0/28 [00:00<?, ?it/s]"
      ]
     },
     "metadata": {},
     "output_type": "display_data"
    },
    {
     "data": {
      "application/vnd.jupyter.widget-view+json": {
       "model_id": "5aa2682d15334aa9ac9a536c509cbc63",
       "version_major": 2,
       "version_minor": 0
      },
      "text/plain": [
       "키워드 진행도:   0%|          | 0/6 [00:00<?, ?it/s]"
      ]
     },
     "metadata": {},
     "output_type": "display_data"
    },
    {
     "data": {
      "application/vnd.jupyter.widget-view+json": {
       "model_id": "3140517031794233813e765b16f2f34a",
       "version_major": 2,
       "version_minor": 0
      },
      "text/plain": [
       "키워드 진행도:   0%|          | 0/9 [00:00<?, ?it/s]"
      ]
     },
     "metadata": {},
     "output_type": "display_data"
    },
    {
     "data": {
      "application/vnd.jupyter.widget-view+json": {
       "model_id": "059c329c3e00418cbe3f9c0479e554f2",
       "version_major": 2,
       "version_minor": 0
      },
      "text/plain": [
       "키워드 진행도:   0%|          | 0/13 [00:00<?, ?it/s]"
      ]
     },
     "metadata": {},
     "output_type": "display_data"
    },
    {
     "data": {
      "application/vnd.jupyter.widget-view+json": {
       "model_id": "ccf0233ba65d470b9cb9ac7f1ad2e47d",
       "version_major": 2,
       "version_minor": 0
      },
      "text/plain": [
       "키워드 진행도:   0%|          | 0/12 [00:00<?, ?it/s]"
      ]
     },
     "metadata": {},
     "output_type": "display_data"
    },
    {
     "data": {
      "application/vnd.jupyter.widget-view+json": {
       "model_id": "539bb09c97d545e688a830a4a15ad21c",
       "version_major": 2,
       "version_minor": 0
      },
      "text/plain": [
       "키워드 진행도:   0%|          | 0/49 [00:00<?, ?it/s]"
      ]
     },
     "metadata": {},
     "output_type": "display_data"
    },
    {
     "data": {
      "application/vnd.jupyter.widget-view+json": {
       "model_id": "290f9bb0c14d4f15860a0968c7765473",
       "version_major": 2,
       "version_minor": 0
      },
      "text/plain": [
       "키워드 진행도:   0%|          | 0/9 [00:00<?, ?it/s]"
      ]
     },
     "metadata": {},
     "output_type": "display_data"
    },
    {
     "data": {
      "application/vnd.jupyter.widget-view+json": {
       "model_id": "53e75289f5424450b49696ec8fbeb30e",
       "version_major": 2,
       "version_minor": 0
      },
      "text/plain": [
       "키워드 진행도:   0%|          | 0/7 [00:00<?, ?it/s]"
      ]
     },
     "metadata": {},
     "output_type": "display_data"
    },
    {
     "data": {
      "application/vnd.jupyter.widget-view+json": {
       "model_id": "0afb738fad37471ab52fa1c249912332",
       "version_major": 2,
       "version_minor": 0
      },
      "text/plain": [
       "키워드 진행도:   0%|          | 0/23 [00:00<?, ?it/s]"
      ]
     },
     "metadata": {},
     "output_type": "display_data"
    },
    {
     "data": {
      "application/vnd.jupyter.widget-view+json": {
       "model_id": "c530c43c5f2f4521bff792cde71d3fd4",
       "version_major": 2,
       "version_minor": 0
      },
      "text/plain": [
       "키워드 진행도:   0%|          | 0/2 [00:00<?, ?it/s]"
      ]
     },
     "metadata": {},
     "output_type": "display_data"
    },
    {
     "data": {
      "application/vnd.jupyter.widget-view+json": {
       "model_id": "0abe83d674b846bfb37f70ca5fb0b387",
       "version_major": 2,
       "version_minor": 0
      },
      "text/plain": [
       "키워드 진행도:   0%|          | 0/7 [00:00<?, ?it/s]"
      ]
     },
     "metadata": {},
     "output_type": "display_data"
    },
    {
     "data": {
      "application/vnd.jupyter.widget-view+json": {
       "model_id": "c3fde1f3b10949ed8ee93ed2900612e4",
       "version_major": 2,
       "version_minor": 0
      },
      "text/plain": [
       "키워드 진행도:   0%|          | 0/11 [00:00<?, ?it/s]"
      ]
     },
     "metadata": {},
     "output_type": "display_data"
    },
    {
     "data": {
      "application/vnd.jupyter.widget-view+json": {
       "model_id": "ca6fbd793e3949a88e4cb24fcb2916b9",
       "version_major": 2,
       "version_minor": 0
      },
      "text/plain": [
       "키워드 진행도:   0%|          | 0/6 [00:00<?, ?it/s]"
      ]
     },
     "metadata": {},
     "output_type": "display_data"
    },
    {
     "data": {
      "application/vnd.jupyter.widget-view+json": {
       "model_id": "e787c1fba4524716ab77ea237f4a60ff",
       "version_major": 2,
       "version_minor": 0
      },
      "text/plain": [
       "키워드 진행도:   0%|          | 0/5 [00:00<?, ?it/s]"
      ]
     },
     "metadata": {},
     "output_type": "display_data"
    },
    {
     "data": {
      "application/vnd.jupyter.widget-view+json": {
       "model_id": "bd8813578e864cbfbb9bc7e920ec9ca8",
       "version_major": 2,
       "version_minor": 0
      },
      "text/plain": [
       "키워드 진행도:   0%|          | 0/14 [00:00<?, ?it/s]"
      ]
     },
     "metadata": {},
     "output_type": "display_data"
    },
    {
     "data": {
      "application/vnd.jupyter.widget-view+json": {
       "model_id": "198b4f43277d4b14a46a3fab7833d973",
       "version_major": 2,
       "version_minor": 0
      },
      "text/plain": [
       "키워드 진행도:   0%|          | 0/14 [00:00<?, ?it/s]"
      ]
     },
     "metadata": {},
     "output_type": "display_data"
    },
    {
     "data": {
      "application/vnd.jupyter.widget-view+json": {
       "model_id": "a8749dd7f1de4293bef60b7c818e9aa9",
       "version_major": 2,
       "version_minor": 0
      },
      "text/plain": [
       "키워드 진행도:   0%|          | 0/1 [00:00<?, ?it/s]"
      ]
     },
     "metadata": {},
     "output_type": "display_data"
    },
    {
     "data": {
      "application/vnd.jupyter.widget-view+json": {
       "model_id": "bc1a79d09d5d487da8e39869f1179dbf",
       "version_major": 2,
       "version_minor": 0
      },
      "text/plain": [
       "키워드 진행도:   0%|          | 0/4 [00:00<?, ?it/s]"
      ]
     },
     "metadata": {},
     "output_type": "display_data"
    },
    {
     "data": {
      "application/vnd.jupyter.widget-view+json": {
       "model_id": "5ccc6b42ab214484b6b6497bb3f11cc5",
       "version_major": 2,
       "version_minor": 0
      },
      "text/plain": [
       "키워드 진행도:   0%|          | 0/4 [00:00<?, ?it/s]"
      ]
     },
     "metadata": {},
     "output_type": "display_data"
    },
    {
     "data": {
      "application/vnd.jupyter.widget-view+json": {
       "model_id": "6de0b980c81a4eda9d20821ab9bc3739",
       "version_major": 2,
       "version_minor": 0
      },
      "text/plain": [
       "키워드 진행도:   0%|          | 0/44 [00:00<?, ?it/s]"
      ]
     },
     "metadata": {},
     "output_type": "display_data"
    },
    {
     "data": {
      "application/vnd.jupyter.widget-view+json": {
       "model_id": "e53a98d1046c4a58b7b8d9861d41da25",
       "version_major": 2,
       "version_minor": 0
      },
      "text/plain": [
       "키워드 진행도:   0%|          | 0/18 [00:00<?, ?it/s]"
      ]
     },
     "metadata": {},
     "output_type": "display_data"
    },
    {
     "data": {
      "application/vnd.jupyter.widget-view+json": {
       "model_id": "89082023dddd48b8badbd945842c5f89",
       "version_major": 2,
       "version_minor": 0
      },
      "text/plain": [
       "키워드 진행도:   0%|          | 0/9 [00:00<?, ?it/s]"
      ]
     },
     "metadata": {},
     "output_type": "display_data"
    },
    {
     "data": {
      "application/vnd.jupyter.widget-view+json": {
       "model_id": "60c0d965a9c342569c55a2127b73fe8e",
       "version_major": 2,
       "version_minor": 0
      },
      "text/plain": [
       "키워드 진행도:   0%|          | 0/1 [00:00<?, ?it/s]"
      ]
     },
     "metadata": {},
     "output_type": "display_data"
    },
    {
     "data": {
      "application/vnd.jupyter.widget-view+json": {
       "model_id": "8315a5b2f54d4135ab13157e8d128ebe",
       "version_major": 2,
       "version_minor": 0
      },
      "text/plain": [
       "키워드 진행도:   0%|          | 0/13 [00:00<?, ?it/s]"
      ]
     },
     "metadata": {},
     "output_type": "display_data"
    },
    {
     "data": {
      "application/vnd.jupyter.widget-view+json": {
       "model_id": "9f26c1eb04634594adeb3cc331d6594b",
       "version_major": 2,
       "version_minor": 0
      },
      "text/plain": [
       "키워드 진행도:   0%|          | 0/26 [00:00<?, ?it/s]"
      ]
     },
     "metadata": {},
     "output_type": "display_data"
    },
    {
     "data": {
      "application/vnd.jupyter.widget-view+json": {
       "model_id": "9089134e99ea48249e573829cef40cdd",
       "version_major": 2,
       "version_minor": 0
      },
      "text/plain": [
       "키워드 진행도:   0%|          | 0/11 [00:00<?, ?it/s]"
      ]
     },
     "metadata": {},
     "output_type": "display_data"
    },
    {
     "data": {
      "application/vnd.jupyter.widget-view+json": {
       "model_id": "4c98c5c04bcb41b6bdb5b6796ff48d75",
       "version_major": 2,
       "version_minor": 0
      },
      "text/plain": [
       "키워드 진행도:   0%|          | 0/29 [00:00<?, ?it/s]"
      ]
     },
     "metadata": {},
     "output_type": "display_data"
    },
    {
     "data": {
      "application/vnd.jupyter.widget-view+json": {
       "model_id": "06e3f456491148318a6632ed931a9721",
       "version_major": 2,
       "version_minor": 0
      },
      "text/plain": [
       "키워드 진행도:   0%|          | 0/95 [00:00<?, ?it/s]"
      ]
     },
     "metadata": {},
     "output_type": "display_data"
    },
    {
     "data": {
      "application/vnd.jupyter.widget-view+json": {
       "model_id": "549e1a8383bc43c48a9fc4e518d40ee4",
       "version_major": 2,
       "version_minor": 0
      },
      "text/plain": [
       "키워드 진행도:   0%|          | 0/29 [00:00<?, ?it/s]"
      ]
     },
     "metadata": {},
     "output_type": "display_data"
    },
    {
     "data": {
      "application/vnd.jupyter.widget-view+json": {
       "model_id": "045b65ddbdcd4afa9688fdcbc141d269",
       "version_major": 2,
       "version_minor": 0
      },
      "text/plain": [
       "키워드 진행도:   0%|          | 0/19 [00:00<?, ?it/s]"
      ]
     },
     "metadata": {},
     "output_type": "display_data"
    },
    {
     "data": {
      "application/vnd.jupyter.widget-view+json": {
       "model_id": "e2f98cf6d668447eaca33a31d6d61d78",
       "version_major": 2,
       "version_minor": 0
      },
      "text/plain": [
       "키워드 진행도:   0%|          | 0/8 [00:00<?, ?it/s]"
      ]
     },
     "metadata": {},
     "output_type": "display_data"
    },
    {
     "data": {
      "application/vnd.jupyter.widget-view+json": {
       "model_id": "b73b6db1a9564e2893145f89fb8fa910",
       "version_major": 2,
       "version_minor": 0
      },
      "text/plain": [
       "키워드 진행도:   0%|          | 0/15 [00:00<?, ?it/s]"
      ]
     },
     "metadata": {},
     "output_type": "display_data"
    },
    {
     "data": {
      "application/vnd.jupyter.widget-view+json": {
       "model_id": "ed4682ddf6734c3a99fe0a1c2fd5820e",
       "version_major": 2,
       "version_minor": 0
      },
      "text/plain": [
       "키워드 진행도:   0%|          | 0/7 [00:00<?, ?it/s]"
      ]
     },
     "metadata": {},
     "output_type": "display_data"
    },
    {
     "data": {
      "application/vnd.jupyter.widget-view+json": {
       "model_id": "b9ffc0bda45447b6bb2aa457185b65d4",
       "version_major": 2,
       "version_minor": 0
      },
      "text/plain": [
       "키워드 진행도:   0%|          | 0/19 [00:00<?, ?it/s]"
      ]
     },
     "metadata": {},
     "output_type": "display_data"
    },
    {
     "data": {
      "application/vnd.jupyter.widget-view+json": {
       "model_id": "709dbee904874d0aab43dab85be282e7",
       "version_major": 2,
       "version_minor": 0
      },
      "text/plain": [
       "키워드 진행도:   0%|          | 0/8 [00:00<?, ?it/s]"
      ]
     },
     "metadata": {},
     "output_type": "display_data"
    },
    {
     "data": {
      "application/vnd.jupyter.widget-view+json": {
       "model_id": "b917b6f8de6c419881308f8058683a0d",
       "version_major": 2,
       "version_minor": 0
      },
      "text/plain": [
       "키워드 진행도:   0%|          | 0/3 [00:00<?, ?it/s]"
      ]
     },
     "metadata": {},
     "output_type": "display_data"
    },
    {
     "data": {
      "application/vnd.jupyter.widget-view+json": {
       "model_id": "85ad0da00a8646cbb0d63a01ff89d051",
       "version_major": 2,
       "version_minor": 0
      },
      "text/plain": [
       "키워드 진행도:   0%|          | 0/23 [00:00<?, ?it/s]"
      ]
     },
     "metadata": {},
     "output_type": "display_data"
    },
    {
     "data": {
      "application/vnd.jupyter.widget-view+json": {
       "model_id": "a3f02428b5ea44eaa7030036d54c6900",
       "version_major": 2,
       "version_minor": 0
      },
      "text/plain": [
       "키워드 진행도:   0%|          | 0/53 [00:00<?, ?it/s]"
      ]
     },
     "metadata": {},
     "output_type": "display_data"
    },
    {
     "data": {
      "application/vnd.jupyter.widget-view+json": {
       "model_id": "86ac426d93314b3bbad9ca8b2b545d4a",
       "version_major": 2,
       "version_minor": 0
      },
      "text/plain": [
       "키워드 진행도:   0%|          | 0/49 [00:00<?, ?it/s]"
      ]
     },
     "metadata": {},
     "output_type": "display_data"
    },
    {
     "data": {
      "application/vnd.jupyter.widget-view+json": {
       "model_id": "4cd5c0d39577405481a3860ad8d21503",
       "version_major": 2,
       "version_minor": 0
      },
      "text/plain": [
       "키워드 진행도:   0%|          | 0/24 [00:00<?, ?it/s]"
      ]
     },
     "metadata": {},
     "output_type": "display_data"
    },
    {
     "data": {
      "application/vnd.jupyter.widget-view+json": {
       "model_id": "113ec072c56542379fad904df7057b9b",
       "version_major": 2,
       "version_minor": 0
      },
      "text/plain": [
       "키워드 진행도:   0%|          | 0/138 [00:00<?, ?it/s]"
      ]
     },
     "metadata": {},
     "output_type": "display_data"
    },
    {
     "data": {
      "application/vnd.jupyter.widget-view+json": {
       "model_id": "8c9def56e3f44d65a4fe68d9deebb3b3",
       "version_major": 2,
       "version_minor": 0
      },
      "text/plain": [
       "키워드 진행도:   0%|          | 0/98 [00:00<?, ?it/s]"
      ]
     },
     "metadata": {},
     "output_type": "display_data"
    },
    {
     "data": {
      "application/vnd.jupyter.widget-view+json": {
       "model_id": "d1b8eb68403c4c7690ee5675d7f72c8b",
       "version_major": 2,
       "version_minor": 0
      },
      "text/plain": [
       "키워드 진행도:   0%|          | 0/47 [00:00<?, ?it/s]"
      ]
     },
     "metadata": {},
     "output_type": "display_data"
    },
    {
     "data": {
      "application/vnd.jupyter.widget-view+json": {
       "model_id": "f7dcb60ba54c4d71b622abb9dd78ff8d",
       "version_major": 2,
       "version_minor": 0
      },
      "text/plain": [
       "키워드 진행도:   0%|          | 0/84 [00:00<?, ?it/s]"
      ]
     },
     "metadata": {},
     "output_type": "display_data"
    },
    {
     "data": {
      "application/vnd.jupyter.widget-view+json": {
       "model_id": "ba2ec36ef2e842fbb853f6e3462e9c89",
       "version_major": 2,
       "version_minor": 0
      },
      "text/plain": [
       "키워드 진행도:   0%|          | 0/10 [00:00<?, ?it/s]"
      ]
     },
     "metadata": {},
     "output_type": "display_data"
    },
    {
     "data": {
      "application/vnd.jupyter.widget-view+json": {
       "model_id": "2d6a8c1dd396400d8f8308126800ae0d",
       "version_major": 2,
       "version_minor": 0
      },
      "text/plain": [
       "키워드 진행도:   0%|          | 0/39 [00:00<?, ?it/s]"
      ]
     },
     "metadata": {},
     "output_type": "display_data"
    },
    {
     "data": {
      "application/vnd.jupyter.widget-view+json": {
       "model_id": "fef25b1b5826493c8076420c0fc2c620",
       "version_major": 2,
       "version_minor": 0
      },
      "text/plain": [
       "키워드 진행도:   0%|          | 0/11 [00:00<?, ?it/s]"
      ]
     },
     "metadata": {},
     "output_type": "display_data"
    },
    {
     "data": {
      "application/vnd.jupyter.widget-view+json": {
       "model_id": "f2d6ce8dbd464cf8acbd418a4daad730",
       "version_major": 2,
       "version_minor": 0
      },
      "text/plain": [
       "키워드 진행도:   0%|          | 0/30 [00:00<?, ?it/s]"
      ]
     },
     "metadata": {},
     "output_type": "display_data"
    },
    {
     "data": {
      "application/vnd.jupyter.widget-view+json": {
       "model_id": "ec093a3372504f7d84f4129add9c8f00",
       "version_major": 2,
       "version_minor": 0
      },
      "text/plain": [
       "키워드 진행도:   0%|          | 0/40 [00:00<?, ?it/s]"
      ]
     },
     "metadata": {},
     "output_type": "display_data"
    },
    {
     "data": {
      "application/vnd.jupyter.widget-view+json": {
       "model_id": "3dae8b4eb21e421faecd7196282feb4b",
       "version_major": 2,
       "version_minor": 0
      },
      "text/plain": [
       "키워드 진행도:   0%|          | 0/19 [00:00<?, ?it/s]"
      ]
     },
     "metadata": {},
     "output_type": "display_data"
    },
    {
     "data": {
      "application/vnd.jupyter.widget-view+json": {
       "model_id": "f33ea4b606c641deb95b9feab889743b",
       "version_major": 2,
       "version_minor": 0
      },
      "text/plain": [
       "키워드 진행도:   0%|          | 0/23 [00:00<?, ?it/s]"
      ]
     },
     "metadata": {},
     "output_type": "display_data"
    },
    {
     "data": {
      "application/vnd.jupyter.widget-view+json": {
       "model_id": "63fb5f5431e4435482b5ab58b654d217",
       "version_major": 2,
       "version_minor": 0
      },
      "text/plain": [
       "키워드 진행도:   0%|          | 0/7 [00:00<?, ?it/s]"
      ]
     },
     "metadata": {},
     "output_type": "display_data"
    },
    {
     "data": {
      "application/vnd.jupyter.widget-view+json": {
       "model_id": "095479b03e3d45baab9f6981ffa0290b",
       "version_major": 2,
       "version_minor": 0
      },
      "text/plain": [
       "키워드 진행도:   0%|          | 0/33 [00:00<?, ?it/s]"
      ]
     },
     "metadata": {},
     "output_type": "display_data"
    },
    {
     "data": {
      "application/vnd.jupyter.widget-view+json": {
       "model_id": "0f7715ed088940f4a796e74fef506ef2",
       "version_major": 2,
       "version_minor": 0
      },
      "text/plain": [
       "키워드 진행도:   0%|          | 0/18 [00:00<?, ?it/s]"
      ]
     },
     "metadata": {},
     "output_type": "display_data"
    },
    {
     "data": {
      "application/vnd.jupyter.widget-view+json": {
       "model_id": "c2e70827ad844877af343afa0cd35927",
       "version_major": 2,
       "version_minor": 0
      },
      "text/plain": [
       "키워드 진행도:   0%|          | 0/5 [00:00<?, ?it/s]"
      ]
     },
     "metadata": {},
     "output_type": "display_data"
    },
    {
     "data": {
      "application/vnd.jupyter.widget-view+json": {
       "model_id": "caf37def9974473384047b1139a995d9",
       "version_major": 2,
       "version_minor": 0
      },
      "text/plain": [
       "키워드 진행도:   0%|          | 0/107 [00:00<?, ?it/s]"
      ]
     },
     "metadata": {},
     "output_type": "display_data"
    },
    {
     "data": {
      "application/vnd.jupyter.widget-view+json": {
       "model_id": "b6a6883cb1db46d0baafe63ac4af4dfc",
       "version_major": 2,
       "version_minor": 0
      },
      "text/plain": [
       "키워드 진행도:   0%|          | 0/35 [00:00<?, ?it/s]"
      ]
     },
     "metadata": {},
     "output_type": "display_data"
    },
    {
     "data": {
      "application/vnd.jupyter.widget-view+json": {
       "model_id": "95c448f90f7f4bc8a28a886cf3577987",
       "version_major": 2,
       "version_minor": 0
      },
      "text/plain": [
       "키워드 진행도:   0%|          | 0/90 [00:00<?, ?it/s]"
      ]
     },
     "metadata": {},
     "output_type": "display_data"
    },
    {
     "data": {
      "application/vnd.jupyter.widget-view+json": {
       "model_id": "450e1ceeb68549e0b7178b1c0f0b81a8",
       "version_major": 2,
       "version_minor": 0
      },
      "text/plain": [
       "키워드 진행도:   0%|          | 0/27 [00:00<?, ?it/s]"
      ]
     },
     "metadata": {},
     "output_type": "display_data"
    },
    {
     "data": {
      "application/vnd.jupyter.widget-view+json": {
       "model_id": "cf2e06b1306d494aa05989a8f66de9d2",
       "version_major": 2,
       "version_minor": 0
      },
      "text/plain": [
       "키워드 진행도:   0%|          | 0/97 [00:00<?, ?it/s]"
      ]
     },
     "metadata": {},
     "output_type": "display_data"
    },
    {
     "data": {
      "application/vnd.jupyter.widget-view+json": {
       "model_id": "b104dac0b08149eea3bfd8a93cb7b330",
       "version_major": 2,
       "version_minor": 0
      },
      "text/plain": [
       "키워드 진행도:   0%|          | 0/57 [00:00<?, ?it/s]"
      ]
     },
     "metadata": {},
     "output_type": "display_data"
    },
    {
     "data": {
      "application/vnd.jupyter.widget-view+json": {
       "model_id": "670fd36c5ae143ff954cec05f2a32b48",
       "version_major": 2,
       "version_minor": 0
      },
      "text/plain": [
       "키워드 진행도:   0%|          | 0/53 [00:00<?, ?it/s]"
      ]
     },
     "metadata": {},
     "output_type": "display_data"
    },
    {
     "data": {
      "application/vnd.jupyter.widget-view+json": {
       "model_id": "793452d74c8a4b8098081fa1aec8c51b",
       "version_major": 2,
       "version_minor": 0
      },
      "text/plain": [
       "키워드 진행도:   0%|          | 0/89 [00:00<?, ?it/s]"
      ]
     },
     "metadata": {},
     "output_type": "display_data"
    },
    {
     "data": {
      "application/vnd.jupyter.widget-view+json": {
       "model_id": "1d7f6505490d4f918c87bf05b0ef699f",
       "version_major": 2,
       "version_minor": 0
      },
      "text/plain": [
       "키워드 진행도:   0%|          | 0/106 [00:00<?, ?it/s]"
      ]
     },
     "metadata": {},
     "output_type": "display_data"
    },
    {
     "data": {
      "application/vnd.jupyter.widget-view+json": {
       "model_id": "fd37141f448740299fc794d43409c13e",
       "version_major": 2,
       "version_minor": 0
      },
      "text/plain": [
       "키워드 진행도:   0%|          | 0/41 [00:00<?, ?it/s]"
      ]
     },
     "metadata": {},
     "output_type": "display_data"
    },
    {
     "data": {
      "application/vnd.jupyter.widget-view+json": {
       "model_id": "0b57cf3cc4fa4e3a928d78a300e1edb0",
       "version_major": 2,
       "version_minor": 0
      },
      "text/plain": [
       "키워드 진행도:   0%|          | 0/83 [00:00<?, ?it/s]"
      ]
     },
     "metadata": {},
     "output_type": "display_data"
    },
    {
     "data": {
      "application/vnd.jupyter.widget-view+json": {
       "model_id": "53773b9ef4f24e83bf12a7ab85f18104",
       "version_major": 2,
       "version_minor": 0
      },
      "text/plain": [
       "키워드 진행도:   0%|          | 0/146 [00:00<?, ?it/s]"
      ]
     },
     "metadata": {},
     "output_type": "display_data"
    },
    {
     "data": {
      "application/vnd.jupyter.widget-view+json": {
       "model_id": "a7cd1766195a4ce38617d4ddb750d851",
       "version_major": 2,
       "version_minor": 0
      },
      "text/plain": [
       "키워드 진행도:   0%|          | 0/156 [00:00<?, ?it/s]"
      ]
     },
     "metadata": {},
     "output_type": "display_data"
    },
    {
     "data": {
      "application/vnd.jupyter.widget-view+json": {
       "model_id": "59024a2846dc468084b1b87802a9ca54",
       "version_major": 2,
       "version_minor": 0
      },
      "text/plain": [
       "키워드 진행도:   0%|          | 0/41 [00:00<?, ?it/s]"
      ]
     },
     "metadata": {},
     "output_type": "display_data"
    },
    {
     "data": {
      "application/vnd.jupyter.widget-view+json": {
       "model_id": "6120d4b75a08489ca5a8b89a53f1278b",
       "version_major": 2,
       "version_minor": 0
      },
      "text/plain": [
       "키워드 진행도:   0%|          | 0/79 [00:00<?, ?it/s]"
      ]
     },
     "metadata": {},
     "output_type": "display_data"
    },
    {
     "data": {
      "application/vnd.jupyter.widget-view+json": {
       "model_id": "a3338decd8bc46e4b6a2e56f703187f4",
       "version_major": 2,
       "version_minor": 0
      },
      "text/plain": [
       "키워드 진행도:   0%|          | 0/56 [00:00<?, ?it/s]"
      ]
     },
     "metadata": {},
     "output_type": "display_data"
    },
    {
     "data": {
      "application/vnd.jupyter.widget-view+json": {
       "model_id": "4e17555b837447279a5e0fd8ec4a91ac",
       "version_major": 2,
       "version_minor": 0
      },
      "text/plain": [
       "키워드 진행도:   0%|          | 0/26 [00:00<?, ?it/s]"
      ]
     },
     "metadata": {},
     "output_type": "display_data"
    },
    {
     "data": {
      "application/vnd.jupyter.widget-view+json": {
       "model_id": "363f38c13aa440b180a309ed01e308cc",
       "version_major": 2,
       "version_minor": 0
      },
      "text/plain": [
       "키워드 진행도:   0%|          | 0/7 [00:00<?, ?it/s]"
      ]
     },
     "metadata": {},
     "output_type": "display_data"
    },
    {
     "data": {
      "application/vnd.jupyter.widget-view+json": {
       "model_id": "e11a71c7e63f4d7b8a799bc0328f4628",
       "version_major": 2,
       "version_minor": 0
      },
      "text/plain": [
       "키워드 진행도:   0%|          | 0/15 [00:00<?, ?it/s]"
      ]
     },
     "metadata": {},
     "output_type": "display_data"
    },
    {
     "data": {
      "application/vnd.jupyter.widget-view+json": {
       "model_id": "e78e9e5150b7474fb30518675f217af7",
       "version_major": 2,
       "version_minor": 0
      },
      "text/plain": [
       "키워드 진행도:   0%|          | 0/15 [00:00<?, ?it/s]"
      ]
     },
     "metadata": {},
     "output_type": "display_data"
    },
    {
     "data": {
      "application/vnd.jupyter.widget-view+json": {
       "model_id": "3a49c512054c4642b86b799fe10fc347",
       "version_major": 2,
       "version_minor": 0
      },
      "text/plain": [
       "키워드 진행도:   0%|          | 0/11 [00:00<?, ?it/s]"
      ]
     },
     "metadata": {},
     "output_type": "display_data"
    },
    {
     "data": {
      "application/vnd.jupyter.widget-view+json": {
       "model_id": "b81c58151dcb429f84f0280dab476e7d",
       "version_major": 2,
       "version_minor": 0
      },
      "text/plain": [
       "키워드 진행도:   0%|          | 0/5 [00:00<?, ?it/s]"
      ]
     },
     "metadata": {},
     "output_type": "display_data"
    },
    {
     "data": {
      "application/vnd.jupyter.widget-view+json": {
       "model_id": "b68704e9f1e542f981cd7c5a44b52981",
       "version_major": 2,
       "version_minor": 0
      },
      "text/plain": [
       "키워드 진행도:   0%|          | 0/18 [00:00<?, ?it/s]"
      ]
     },
     "metadata": {},
     "output_type": "display_data"
    },
    {
     "data": {
      "application/vnd.jupyter.widget-view+json": {
       "model_id": "518d0c6171d640df8edb93701bdfd328",
       "version_major": 2,
       "version_minor": 0
      },
      "text/plain": [
       "키워드 진행도:   0%|          | 0/44 [00:00<?, ?it/s]"
      ]
     },
     "metadata": {},
     "output_type": "display_data"
    },
    {
     "data": {
      "application/vnd.jupyter.widget-view+json": {
       "model_id": "9a1267d0b5ab4972abdc8bfa76dc0fbb",
       "version_major": 2,
       "version_minor": 0
      },
      "text/plain": [
       "키워드 진행도:   0%|          | 0/59 [00:00<?, ?it/s]"
      ]
     },
     "metadata": {},
     "output_type": "display_data"
    },
    {
     "data": {
      "application/vnd.jupyter.widget-view+json": {
       "model_id": "99ab0535ce0c425187e1d91e27181a22",
       "version_major": 2,
       "version_minor": 0
      },
      "text/plain": [
       "키워드 진행도:   0%|          | 0/27 [00:00<?, ?it/s]"
      ]
     },
     "metadata": {},
     "output_type": "display_data"
    },
    {
     "data": {
      "application/vnd.jupyter.widget-view+json": {
       "model_id": "656fca11ef15402493079e391c1c6251",
       "version_major": 2,
       "version_minor": 0
      },
      "text/plain": [
       "키워드 진행도:   0%|          | 0/14 [00:00<?, ?it/s]"
      ]
     },
     "metadata": {},
     "output_type": "display_data"
    },
    {
     "data": {
      "application/vnd.jupyter.widget-view+json": {
       "model_id": "1dd455a769dd4a28998572317cbfdb2a",
       "version_major": 2,
       "version_minor": 0
      },
      "text/plain": [
       "키워드 진행도:   0%|          | 0/24 [00:00<?, ?it/s]"
      ]
     },
     "metadata": {},
     "output_type": "display_data"
    },
    {
     "data": {
      "application/vnd.jupyter.widget-view+json": {
       "model_id": "48ec9c0c57bd420db6f2e32ad2fc78cb",
       "version_major": 2,
       "version_minor": 0
      },
      "text/plain": [
       "키워드 진행도:   0%|          | 0/34 [00:00<?, ?it/s]"
      ]
     },
     "metadata": {},
     "output_type": "display_data"
    },
    {
     "data": {
      "application/vnd.jupyter.widget-view+json": {
       "model_id": "c338813de163480c93d3d5e3942e1d59",
       "version_major": 2,
       "version_minor": 0
      },
      "text/plain": [
       "키워드 진행도:   0%|          | 0/25 [00:00<?, ?it/s]"
      ]
     },
     "metadata": {},
     "output_type": "display_data"
    },
    {
     "data": {
      "application/vnd.jupyter.widget-view+json": {
       "model_id": "2f3cc45d19ed4463814ff821e7001a72",
       "version_major": 2,
       "version_minor": 0
      },
      "text/plain": [
       "키워드 진행도:   0%|          | 0/75 [00:00<?, ?it/s]"
      ]
     },
     "metadata": {},
     "output_type": "display_data"
    },
    {
     "data": {
      "application/vnd.jupyter.widget-view+json": {
       "model_id": "bbff75b115e94ab983b75aed7ca8a9c6",
       "version_major": 2,
       "version_minor": 0
      },
      "text/plain": [
       "키워드 진행도:   0%|          | 0/77 [00:00<?, ?it/s]"
      ]
     },
     "metadata": {},
     "output_type": "display_data"
    },
    {
     "data": {
      "application/vnd.jupyter.widget-view+json": {
       "model_id": "9786a743499749e1a87570fd8aa76afc",
       "version_major": 2,
       "version_minor": 0
      },
      "text/plain": [
       "키워드 진행도:   0%|          | 0/4 [00:00<?, ?it/s]"
      ]
     },
     "metadata": {},
     "output_type": "display_data"
    },
    {
     "data": {
      "application/vnd.jupyter.widget-view+json": {
       "model_id": "64ef3ee9c3574fdeb8d0dd45f26bb258",
       "version_major": 2,
       "version_minor": 0
      },
      "text/plain": [
       "키워드 진행도:   0%|          | 0/72 [00:00<?, ?it/s]"
      ]
     },
     "metadata": {},
     "output_type": "display_data"
    },
    {
     "data": {
      "application/vnd.jupyter.widget-view+json": {
       "model_id": "03ada2a27fd242da8cb0f5a48ac55f24",
       "version_major": 2,
       "version_minor": 0
      },
      "text/plain": [
       "키워드 진행도:   0%|          | 0/12 [00:00<?, ?it/s]"
      ]
     },
     "metadata": {},
     "output_type": "display_data"
    },
    {
     "data": {
      "application/vnd.jupyter.widget-view+json": {
       "model_id": "1b2f6fcdcc874e62a9083e8676cbea4b",
       "version_major": 2,
       "version_minor": 0
      },
      "text/plain": [
       "키워드 진행도:   0%|          | 0/19 [00:00<?, ?it/s]"
      ]
     },
     "metadata": {},
     "output_type": "display_data"
    },
    {
     "data": {
      "application/vnd.jupyter.widget-view+json": {
       "model_id": "def4ca576ef74d18ba7cac85ca78d460",
       "version_major": 2,
       "version_minor": 0
      },
      "text/plain": [
       "키워드 진행도:   0%|          | 0/28 [00:00<?, ?it/s]"
      ]
     },
     "metadata": {},
     "output_type": "display_data"
    },
    {
     "data": {
      "application/vnd.jupyter.widget-view+json": {
       "model_id": "8853c9af33444a92b8e35a5cc05c9228",
       "version_major": 2,
       "version_minor": 0
      },
      "text/plain": [
       "키워드 진행도:   0%|          | 0/21 [00:00<?, ?it/s]"
      ]
     },
     "metadata": {},
     "output_type": "display_data"
    },
    {
     "data": {
      "application/vnd.jupyter.widget-view+json": {
       "model_id": "e5d56a577c4a4b42b0eb6f632b0a8f76",
       "version_major": 2,
       "version_minor": 0
      },
      "text/plain": [
       "키워드 진행도:   0%|          | 0/29 [00:00<?, ?it/s]"
      ]
     },
     "metadata": {},
     "output_type": "display_data"
    },
    {
     "data": {
      "application/vnd.jupyter.widget-view+json": {
       "model_id": "eb304cae76c34f7e84ea24e5cc92b3dc",
       "version_major": 2,
       "version_minor": 0
      },
      "text/plain": [
       "키워드 진행도:   0%|          | 0/13 [00:00<?, ?it/s]"
      ]
     },
     "metadata": {},
     "output_type": "display_data"
    },
    {
     "data": {
      "application/vnd.jupyter.widget-view+json": {
       "model_id": "9d672fdaeff24224bdd1ac12dd9bec3b",
       "version_major": 2,
       "version_minor": 0
      },
      "text/plain": [
       "키워드 진행도:   0%|          | 0/61 [00:00<?, ?it/s]"
      ]
     },
     "metadata": {},
     "output_type": "display_data"
    },
    {
     "data": {
      "application/vnd.jupyter.widget-view+json": {
       "model_id": "c69b25949e71418f9e8f3e578df64dc6",
       "version_major": 2,
       "version_minor": 0
      },
      "text/plain": [
       "키워드 진행도:   0%|          | 0/8 [00:00<?, ?it/s]"
      ]
     },
     "metadata": {},
     "output_type": "display_data"
    },
    {
     "data": {
      "application/vnd.jupyter.widget-view+json": {
       "model_id": "fb73083ef1334af397c4864cc24b6299",
       "version_major": 2,
       "version_minor": 0
      },
      "text/plain": [
       "키워드 진행도:   0%|          | 0/38 [00:00<?, ?it/s]"
      ]
     },
     "metadata": {},
     "output_type": "display_data"
    },
    {
     "data": {
      "application/vnd.jupyter.widget-view+json": {
       "model_id": "3fb36eda9eaf439ba8ec6198928b9c50",
       "version_major": 2,
       "version_minor": 0
      },
      "text/plain": [
       "키워드 진행도:   0%|          | 0/43 [00:00<?, ?it/s]"
      ]
     },
     "metadata": {},
     "output_type": "display_data"
    },
    {
     "data": {
      "application/vnd.jupyter.widget-view+json": {
       "model_id": "5467bca2270a44eaa420b446bd6b4c28",
       "version_major": 2,
       "version_minor": 0
      },
      "text/plain": [
       "키워드 진행도:   0%|          | 0/37 [00:00<?, ?it/s]"
      ]
     },
     "metadata": {},
     "output_type": "display_data"
    },
    {
     "data": {
      "application/vnd.jupyter.widget-view+json": {
       "model_id": "4c7c77e30fad4d5f82874fcc2d317a39",
       "version_major": 2,
       "version_minor": 0
      },
      "text/plain": [
       "키워드 진행도:   0%|          | 0/29 [00:00<?, ?it/s]"
      ]
     },
     "metadata": {},
     "output_type": "display_data"
    },
    {
     "data": {
      "application/vnd.jupyter.widget-view+json": {
       "model_id": "2496f9e083534816834cca597f6949e1",
       "version_major": 2,
       "version_minor": 0
      },
      "text/plain": [
       "키워드 진행도:   0%|          | 0/64 [00:00<?, ?it/s]"
      ]
     },
     "metadata": {},
     "output_type": "display_data"
    },
    {
     "data": {
      "application/vnd.jupyter.widget-view+json": {
       "model_id": "1cc572ab162c47139733b92e40f0233c",
       "version_major": 2,
       "version_minor": 0
      },
      "text/plain": [
       "키워드 진행도:   0%|          | 0/61 [00:00<?, ?it/s]"
      ]
     },
     "metadata": {},
     "output_type": "display_data"
    },
    {
     "data": {
      "application/vnd.jupyter.widget-view+json": {
       "model_id": "de12c65209764a7685b03d3d92da10cb",
       "version_major": 2,
       "version_minor": 0
      },
      "text/plain": [
       "키워드 진행도:   0%|          | 0/70 [00:00<?, ?it/s]"
      ]
     },
     "metadata": {},
     "output_type": "display_data"
    },
    {
     "data": {
      "application/vnd.jupyter.widget-view+json": {
       "model_id": "01d7f96338e44564b77e79fb69f95872",
       "version_major": 2,
       "version_minor": 0
      },
      "text/plain": [
       "키워드 진행도:   0%|          | 0/49 [00:00<?, ?it/s]"
      ]
     },
     "metadata": {},
     "output_type": "display_data"
    },
    {
     "data": {
      "application/vnd.jupyter.widget-view+json": {
       "model_id": "49188226a9ed4b4b8080420b351a017e",
       "version_major": 2,
       "version_minor": 0
      },
      "text/plain": [
       "키워드 진행도:   0%|          | 0/53 [00:00<?, ?it/s]"
      ]
     },
     "metadata": {},
     "output_type": "display_data"
    },
    {
     "data": {
      "application/vnd.jupyter.widget-view+json": {
       "model_id": "72d0b13821834d11ae6bf72022a4fe87",
       "version_major": 2,
       "version_minor": 0
      },
      "text/plain": [
       "키워드 진행도:   0%|          | 0/25 [00:00<?, ?it/s]"
      ]
     },
     "metadata": {},
     "output_type": "display_data"
    },
    {
     "data": {
      "application/vnd.jupyter.widget-view+json": {
       "model_id": "3ebd29c6e288465bafa57323cdffc4e0",
       "version_major": 2,
       "version_minor": 0
      },
      "text/plain": [
       "키워드 진행도:   0%|          | 0/23 [00:00<?, ?it/s]"
      ]
     },
     "metadata": {},
     "output_type": "display_data"
    },
    {
     "data": {
      "application/vnd.jupyter.widget-view+json": {
       "model_id": "b592c723eaa54bb9a2a182a041860607",
       "version_major": 2,
       "version_minor": 0
      },
      "text/plain": [
       "키워드 진행도:   0%|          | 0/23 [00:00<?, ?it/s]"
      ]
     },
     "metadata": {},
     "output_type": "display_data"
    },
    {
     "data": {
      "application/vnd.jupyter.widget-view+json": {
       "model_id": "aab7ffa4b260489cb3a51e9920f4801d",
       "version_major": 2,
       "version_minor": 0
      },
      "text/plain": [
       "키워드 진행도:   0%|          | 0/20 [00:00<?, ?it/s]"
      ]
     },
     "metadata": {},
     "output_type": "display_data"
    },
    {
     "data": {
      "application/vnd.jupyter.widget-view+json": {
       "model_id": "19716d7075d54ab4bca22695f8d196df",
       "version_major": 2,
       "version_minor": 0
      },
      "text/plain": [
       "키워드 진행도:   0%|          | 0/6 [00:00<?, ?it/s]"
      ]
     },
     "metadata": {},
     "output_type": "display_data"
    },
    {
     "data": {
      "application/vnd.jupyter.widget-view+json": {
       "model_id": "51362802dd8b44c08eea03c999a5848b",
       "version_major": 2,
       "version_minor": 0
      },
      "text/plain": [
       "키워드 진행도:   0%|          | 0/5 [00:00<?, ?it/s]"
      ]
     },
     "metadata": {},
     "output_type": "display_data"
    },
    {
     "data": {
      "application/vnd.jupyter.widget-view+json": {
       "model_id": "42fcfc791fa24ae78fc0b3fb6f247239",
       "version_major": 2,
       "version_minor": 0
      },
      "text/plain": [
       "키워드 진행도:   0%|          | 0/8 [00:00<?, ?it/s]"
      ]
     },
     "metadata": {},
     "output_type": "display_data"
    },
    {
     "data": {
      "application/vnd.jupyter.widget-view+json": {
       "model_id": "64d76e1c8b3440c7bdc499f6748015b9",
       "version_major": 2,
       "version_minor": 0
      },
      "text/plain": [
       "키워드 진행도:   0%|          | 0/5 [00:00<?, ?it/s]"
      ]
     },
     "metadata": {},
     "output_type": "display_data"
    },
    {
     "data": {
      "application/vnd.jupyter.widget-view+json": {
       "model_id": "1ac518e173f84b3ab6819159c157c5b5",
       "version_major": 2,
       "version_minor": 0
      },
      "text/plain": [
       "키워드 진행도:   0%|          | 0/13 [00:00<?, ?it/s]"
      ]
     },
     "metadata": {},
     "output_type": "display_data"
    },
    {
     "data": {
      "application/vnd.jupyter.widget-view+json": {
       "model_id": "02cf34ddefa6471e8afafe7c15a577f4",
       "version_major": 2,
       "version_minor": 0
      },
      "text/plain": [
       "키워드 진행도:   0%|          | 0/1 [00:00<?, ?it/s]"
      ]
     },
     "metadata": {},
     "output_type": "display_data"
    },
    {
     "data": {
      "application/vnd.jupyter.widget-view+json": {
       "model_id": "c07478b9c5b64b118864d1d48e4363ea",
       "version_major": 2,
       "version_minor": 0
      },
      "text/plain": [
       "키워드 진행도:   0%|          | 0/2 [00:00<?, ?it/s]"
      ]
     },
     "metadata": {},
     "output_type": "display_data"
    },
    {
     "data": {
      "application/vnd.jupyter.widget-view+json": {
       "model_id": "3540080ce8d549ddbd3a322ab09cef29",
       "version_major": 2,
       "version_minor": 0
      },
      "text/plain": [
       "키워드 진행도:   0%|          | 0/27 [00:00<?, ?it/s]"
      ]
     },
     "metadata": {},
     "output_type": "display_data"
    },
    {
     "data": {
      "application/vnd.jupyter.widget-view+json": {
       "model_id": "6ed0a10b559f41d7ad18c8b19afe575f",
       "version_major": 2,
       "version_minor": 0
      },
      "text/plain": [
       "키워드 진행도:   0%|          | 0/10 [00:00<?, ?it/s]"
      ]
     },
     "metadata": {},
     "output_type": "display_data"
    },
    {
     "data": {
      "application/vnd.jupyter.widget-view+json": {
       "model_id": "635ba69ddade41bf820ccda39fce006a",
       "version_major": 2,
       "version_minor": 0
      },
      "text/plain": [
       "키워드 진행도:   0%|          | 0/10 [00:00<?, ?it/s]"
      ]
     },
     "metadata": {},
     "output_type": "display_data"
    },
    {
     "data": {
      "application/vnd.jupyter.widget-view+json": {
       "model_id": "010b3c97b047464cb3f6acbe05f1b7a6",
       "version_major": 2,
       "version_minor": 0
      },
      "text/plain": [
       "키워드 진행도:   0%|          | 0/6 [00:00<?, ?it/s]"
      ]
     },
     "metadata": {},
     "output_type": "display_data"
    },
    {
     "data": {
      "application/vnd.jupyter.widget-view+json": {
       "model_id": "5c28e6c8f3a242a0a1ed9eccfe189295",
       "version_major": 2,
       "version_minor": 0
      },
      "text/plain": [
       "키워드 진행도:   0%|          | 0/4 [00:00<?, ?it/s]"
      ]
     },
     "metadata": {},
     "output_type": "display_data"
    },
    {
     "data": {
      "application/vnd.jupyter.widget-view+json": {
       "model_id": "bb13d59867bb4c7c862096c859ec3bde",
       "version_major": 2,
       "version_minor": 0
      },
      "text/plain": [
       "키워드 진행도:   0%|          | 0/3 [00:00<?, ?it/s]"
      ]
     },
     "metadata": {},
     "output_type": "display_data"
    },
    {
     "data": {
      "application/vnd.jupyter.widget-view+json": {
       "model_id": "ed6172eaf114454da3bb959a798a362f",
       "version_major": 2,
       "version_minor": 0
      },
      "text/plain": [
       "키워드 진행도:   0%|          | 0/6 [00:00<?, ?it/s]"
      ]
     },
     "metadata": {},
     "output_type": "display_data"
    },
    {
     "data": {
      "application/vnd.jupyter.widget-view+json": {
       "model_id": "7e2a49ac73014d93871a55db5748910c",
       "version_major": 2,
       "version_minor": 0
      },
      "text/plain": [
       "키워드 진행도:   0%|          | 0/15 [00:00<?, ?it/s]"
      ]
     },
     "metadata": {},
     "output_type": "display_data"
    },
    {
     "data": {
      "application/vnd.jupyter.widget-view+json": {
       "model_id": "4f3438823c3c497d9c54c434d777ad29",
       "version_major": 2,
       "version_minor": 0
      },
      "text/plain": [
       "키워드 진행도:   0%|          | 0/7 [00:00<?, ?it/s]"
      ]
     },
     "metadata": {},
     "output_type": "display_data"
    },
    {
     "data": {
      "application/vnd.jupyter.widget-view+json": {
       "model_id": "3a1cd0b6fc114cf9a6ef2a3807b257eb",
       "version_major": 2,
       "version_minor": 0
      },
      "text/plain": [
       "키워드 진행도:   0%|          | 0/15 [00:00<?, ?it/s]"
      ]
     },
     "metadata": {},
     "output_type": "display_data"
    },
    {
     "data": {
      "application/vnd.jupyter.widget-view+json": {
       "model_id": "0173e279c6fb493784b641851cddb027",
       "version_major": 2,
       "version_minor": 0
      },
      "text/plain": [
       "키워드 진행도:   0%|          | 0/15 [00:00<?, ?it/s]"
      ]
     },
     "metadata": {},
     "output_type": "display_data"
    },
    {
     "data": {
      "application/vnd.jupyter.widget-view+json": {
       "model_id": "9eb9a6178f0c44ebb5c7bfe10d1532e6",
       "version_major": 2,
       "version_minor": 0
      },
      "text/plain": [
       "키워드 진행도:   0%|          | 0/21 [00:00<?, ?it/s]"
      ]
     },
     "metadata": {},
     "output_type": "display_data"
    },
    {
     "data": {
      "application/vnd.jupyter.widget-view+json": {
       "model_id": "ec08b2a58438462ab0d9e05c2233004d",
       "version_major": 2,
       "version_minor": 0
      },
      "text/plain": [
       "키워드 진행도:   0%|          | 0/19 [00:00<?, ?it/s]"
      ]
     },
     "metadata": {},
     "output_type": "display_data"
    },
    {
     "data": {
      "application/vnd.jupyter.widget-view+json": {
       "model_id": "0caa4b87e960403a939cd7078894ce26",
       "version_major": 2,
       "version_minor": 0
      },
      "text/plain": [
       "키워드 진행도:   0%|          | 0/8 [00:00<?, ?it/s]"
      ]
     },
     "metadata": {},
     "output_type": "display_data"
    },
    {
     "data": {
      "application/vnd.jupyter.widget-view+json": {
       "model_id": "22e443a4d5d84136b644b084bafaba81",
       "version_major": 2,
       "version_minor": 0
      },
      "text/plain": [
       "키워드 진행도:   0%|          | 0/23 [00:00<?, ?it/s]"
      ]
     },
     "metadata": {},
     "output_type": "display_data"
    },
    {
     "data": {
      "application/vnd.jupyter.widget-view+json": {
       "model_id": "b362928969604105bc13d4ba5398e282",
       "version_major": 2,
       "version_minor": 0
      },
      "text/plain": [
       "키워드 진행도:   0%|          | 0/12 [00:00<?, ?it/s]"
      ]
     },
     "metadata": {},
     "output_type": "display_data"
    },
    {
     "data": {
      "application/vnd.jupyter.widget-view+json": {
       "model_id": "927f9b35955b4fc99b6248f800d854f9",
       "version_major": 2,
       "version_minor": 0
      },
      "text/plain": [
       "키워드 진행도:   0%|          | 0/8 [00:00<?, ?it/s]"
      ]
     },
     "metadata": {},
     "output_type": "display_data"
    },
    {
     "data": {
      "application/vnd.jupyter.widget-view+json": {
       "model_id": "14fefb02b6a44f57abdbdf49ce200e03",
       "version_major": 2,
       "version_minor": 0
      },
      "text/plain": [
       "키워드 진행도:   0%|          | 0/18 [00:00<?, ?it/s]"
      ]
     },
     "metadata": {},
     "output_type": "display_data"
    },
    {
     "data": {
      "application/vnd.jupyter.widget-view+json": {
       "model_id": "d443d36c91804b2a8a115ba9345edfaf",
       "version_major": 2,
       "version_minor": 0
      },
      "text/plain": [
       "키워드 진행도:   0%|          | 0/3 [00:00<?, ?it/s]"
      ]
     },
     "metadata": {},
     "output_type": "display_data"
    },
    {
     "data": {
      "application/vnd.jupyter.widget-view+json": {
       "model_id": "823b66e88ebe4aab84ecc3da3f5bffd4",
       "version_major": 2,
       "version_minor": 0
      },
      "text/plain": [
       "키워드 진행도:   0%|          | 0/23 [00:00<?, ?it/s]"
      ]
     },
     "metadata": {},
     "output_type": "display_data"
    },
    {
     "data": {
      "application/vnd.jupyter.widget-view+json": {
       "model_id": "eb70ca6c41ef432c91b40377076e1d27",
       "version_major": 2,
       "version_minor": 0
      },
      "text/plain": [
       "키워드 진행도:   0%|          | 0/9 [00:00<?, ?it/s]"
      ]
     },
     "metadata": {},
     "output_type": "display_data"
    },
    {
     "data": {
      "application/vnd.jupyter.widget-view+json": {
       "model_id": "c14b033bccdc474898a9d63b02f30c50",
       "version_major": 2,
       "version_minor": 0
      },
      "text/plain": [
       "키워드 진행도:   0%|          | 0/11 [00:00<?, ?it/s]"
      ]
     },
     "metadata": {},
     "output_type": "display_data"
    },
    {
     "data": {
      "application/vnd.jupyter.widget-view+json": {
       "model_id": "963d0d2d978147c5bf3bcf24142621b5",
       "version_major": 2,
       "version_minor": 0
      },
      "text/plain": [
       "키워드 진행도:   0%|          | 0/70 [00:00<?, ?it/s]"
      ]
     },
     "metadata": {},
     "output_type": "display_data"
    },
    {
     "data": {
      "application/vnd.jupyter.widget-view+json": {
       "model_id": "3c16ea0754e9495b9aadd0a1d8819b6c",
       "version_major": 2,
       "version_minor": 0
      },
      "text/plain": [
       "키워드 진행도:   0%|          | 0/93 [00:00<?, ?it/s]"
      ]
     },
     "metadata": {},
     "output_type": "display_data"
    },
    {
     "data": {
      "application/vnd.jupyter.widget-view+json": {
       "model_id": "2439d0fad8414b11b4cb127282b7e52e",
       "version_major": 2,
       "version_minor": 0
      },
      "text/plain": [
       "키워드 진행도:   0%|          | 0/5 [00:00<?, ?it/s]"
      ]
     },
     "metadata": {},
     "output_type": "display_data"
    },
    {
     "data": {
      "application/vnd.jupyter.widget-view+json": {
       "model_id": "007c53ab402f46ce9a04b99fbaafc921",
       "version_major": 2,
       "version_minor": 0
      },
      "text/plain": [
       "키워드 진행도:   0%|          | 0/12 [00:00<?, ?it/s]"
      ]
     },
     "metadata": {},
     "output_type": "display_data"
    },
    {
     "data": {
      "application/vnd.jupyter.widget-view+json": {
       "model_id": "c2de92bc169c4ec389010096540a7c99",
       "version_major": 2,
       "version_minor": 0
      },
      "text/plain": [
       "키워드 진행도:   0%|          | 0/48 [00:00<?, ?it/s]"
      ]
     },
     "metadata": {},
     "output_type": "display_data"
    },
    {
     "data": {
      "application/vnd.jupyter.widget-view+json": {
       "model_id": "2ad9b2b0f16c405fb306a27ad173da4d",
       "version_major": 2,
       "version_minor": 0
      },
      "text/plain": [
       "키워드 진행도:   0%|          | 0/121 [00:00<?, ?it/s]"
      ]
     },
     "metadata": {},
     "output_type": "display_data"
    },
    {
     "data": {
      "application/vnd.jupyter.widget-view+json": {
       "model_id": "2e9f190b39bf4d02a1454ea1bb226708",
       "version_major": 2,
       "version_minor": 0
      },
      "text/plain": [
       "키워드 진행도:   0%|          | 0/44 [00:00<?, ?it/s]"
      ]
     },
     "metadata": {},
     "output_type": "display_data"
    },
    {
     "data": {
      "application/vnd.jupyter.widget-view+json": {
       "model_id": "4db4c9192d3349449cbd27d574f51560",
       "version_major": 2,
       "version_minor": 0
      },
      "text/plain": [
       "키워드 진행도:   0%|          | 0/64 [00:00<?, ?it/s]"
      ]
     },
     "metadata": {},
     "output_type": "display_data"
    },
    {
     "data": {
      "application/vnd.jupyter.widget-view+json": {
       "model_id": "1dda3f7cc8294fb6a789e50524cf89d4",
       "version_major": 2,
       "version_minor": 0
      },
      "text/plain": [
       "키워드 진행도:   0%|          | 0/106 [00:00<?, ?it/s]"
      ]
     },
     "metadata": {},
     "output_type": "display_data"
    },
    {
     "data": {
      "application/vnd.jupyter.widget-view+json": {
       "model_id": "f24b2cd167d94ca383c708b46454ae5c",
       "version_major": 2,
       "version_minor": 0
      },
      "text/plain": [
       "키워드 진행도:   0%|          | 0/86 [00:00<?, ?it/s]"
      ]
     },
     "metadata": {},
     "output_type": "display_data"
    },
    {
     "data": {
      "application/vnd.jupyter.widget-view+json": {
       "model_id": "bb1457b624ab4f75bef320a705b313f0",
       "version_major": 2,
       "version_minor": 0
      },
      "text/plain": [
       "키워드 진행도:   0%|          | 0/23 [00:00<?, ?it/s]"
      ]
     },
     "metadata": {},
     "output_type": "display_data"
    },
    {
     "data": {
      "application/vnd.jupyter.widget-view+json": {
       "model_id": "8ac957a72f3240e7a145b24586dac77e",
       "version_major": 2,
       "version_minor": 0
      },
      "text/plain": [
       "키워드 진행도:   0%|          | 0/8 [00:00<?, ?it/s]"
      ]
     },
     "metadata": {},
     "output_type": "display_data"
    },
    {
     "data": {
      "application/vnd.jupyter.widget-view+json": {
       "model_id": "c48fed3c75784978b2f7a4e5dbe1ac5e",
       "version_major": 2,
       "version_minor": 0
      },
      "text/plain": [
       "키워드 진행도:   0%|          | 0/34 [00:00<?, ?it/s]"
      ]
     },
     "metadata": {},
     "output_type": "display_data"
    },
    {
     "data": {
      "application/vnd.jupyter.widget-view+json": {
       "model_id": "9f311932739444eb8045e1cecce31164",
       "version_major": 2,
       "version_minor": 0
      },
      "text/plain": [
       "키워드 진행도:   0%|          | 0/16 [00:00<?, ?it/s]"
      ]
     },
     "metadata": {},
     "output_type": "display_data"
    },
    {
     "data": {
      "application/vnd.jupyter.widget-view+json": {
       "model_id": "0d00fa99b2fd4e45b31cfbc110ae5eeb",
       "version_major": 2,
       "version_minor": 0
      },
      "text/plain": [
       "키워드 진행도:   0%|          | 0/24 [00:00<?, ?it/s]"
      ]
     },
     "metadata": {},
     "output_type": "display_data"
    },
    {
     "data": {
      "application/vnd.jupyter.widget-view+json": {
       "model_id": "6bd8006e627f4d2b842481d13429dc58",
       "version_major": 2,
       "version_minor": 0
      },
      "text/plain": [
       "키워드 진행도:   0%|          | 0/6 [00:00<?, ?it/s]"
      ]
     },
     "metadata": {},
     "output_type": "display_data"
    },
    {
     "data": {
      "application/vnd.jupyter.widget-view+json": {
       "model_id": "d36d8a7030564f7c9304e0a65a916e4f",
       "version_major": 2,
       "version_minor": 0
      },
      "text/plain": [
       "키워드 진행도:   0%|          | 0/112 [00:00<?, ?it/s]"
      ]
     },
     "metadata": {},
     "output_type": "display_data"
    },
    {
     "data": {
      "application/vnd.jupyter.widget-view+json": {
       "model_id": "f9cb28032d4f49f0aad8a86d12831e0f",
       "version_major": 2,
       "version_minor": 0
      },
      "text/plain": [
       "키워드 진행도:   0%|          | 0/57 [00:00<?, ?it/s]"
      ]
     },
     "metadata": {},
     "output_type": "display_data"
    },
    {
     "data": {
      "application/vnd.jupyter.widget-view+json": {
       "model_id": "afaf432e9c704664b98bb9c7f59c4692",
       "version_major": 2,
       "version_minor": 0
      },
      "text/plain": [
       "키워드 진행도:   0%|          | 0/24 [00:00<?, ?it/s]"
      ]
     },
     "metadata": {},
     "output_type": "display_data"
    },
    {
     "data": {
      "application/vnd.jupyter.widget-view+json": {
       "model_id": "eaac8278dae84d6781e730a0a5860fe1",
       "version_major": 2,
       "version_minor": 0
      },
      "text/plain": [
       "키워드 진행도:   0%|          | 0/38 [00:00<?, ?it/s]"
      ]
     },
     "metadata": {},
     "output_type": "display_data"
    },
    {
     "data": {
      "application/vnd.jupyter.widget-view+json": {
       "model_id": "67e139c897194513b49aff6991651afc",
       "version_major": 2,
       "version_minor": 0
      },
      "text/plain": [
       "키워드 진행도:   0%|          | 0/20 [00:00<?, ?it/s]"
      ]
     },
     "metadata": {},
     "output_type": "display_data"
    },
    {
     "data": {
      "application/vnd.jupyter.widget-view+json": {
       "model_id": "778c472ab1b94e9ea6e7390157ff4788",
       "version_major": 2,
       "version_minor": 0
      },
      "text/plain": [
       "키워드 진행도:   0%|          | 0/34 [00:00<?, ?it/s]"
      ]
     },
     "metadata": {},
     "output_type": "display_data"
    },
    {
     "data": {
      "application/vnd.jupyter.widget-view+json": {
       "model_id": "9d40906373344c76bb88b4531e1bd645",
       "version_major": 2,
       "version_minor": 0
      },
      "text/plain": [
       "키워드 진행도:   0%|          | 0/29 [00:00<?, ?it/s]"
      ]
     },
     "metadata": {},
     "output_type": "display_data"
    },
    {
     "data": {
      "application/vnd.jupyter.widget-view+json": {
       "model_id": "1623f26614094bdba495c67d4851619b",
       "version_major": 2,
       "version_minor": 0
      },
      "text/plain": [
       "키워드 진행도:   0%|          | 0/33 [00:00<?, ?it/s]"
      ]
     },
     "metadata": {},
     "output_type": "display_data"
    },
    {
     "data": {
      "application/vnd.jupyter.widget-view+json": {
       "model_id": "6acef70b831f4f5db3d0d05095e2a5c0",
       "version_major": 2,
       "version_minor": 0
      },
      "text/plain": [
       "키워드 진행도:   0%|          | 0/26 [00:00<?, ?it/s]"
      ]
     },
     "metadata": {},
     "output_type": "display_data"
    },
    {
     "data": {
      "application/vnd.jupyter.widget-view+json": {
       "model_id": "9da2454b975d4fc2969c637044d9dcc8",
       "version_major": 2,
       "version_minor": 0
      },
      "text/plain": [
       "키워드 진행도:   0%|          | 0/54 [00:00<?, ?it/s]"
      ]
     },
     "metadata": {},
     "output_type": "display_data"
    },
    {
     "data": {
      "application/vnd.jupyter.widget-view+json": {
       "model_id": "765f54273dd547559d3724c23fece5b4",
       "version_major": 2,
       "version_minor": 0
      },
      "text/plain": [
       "키워드 진행도:   0%|          | 0/104 [00:00<?, ?it/s]"
      ]
     },
     "metadata": {},
     "output_type": "display_data"
    },
    {
     "data": {
      "application/vnd.jupyter.widget-view+json": {
       "model_id": "33cc1ec75d654b68b11ceefe9d6b3b81",
       "version_major": 2,
       "version_minor": 0
      },
      "text/plain": [
       "키워드 진행도:   0%|          | 0/27 [00:00<?, ?it/s]"
      ]
     },
     "metadata": {},
     "output_type": "display_data"
    },
    {
     "data": {
      "application/vnd.jupyter.widget-view+json": {
       "model_id": "a92dbd9d0fed42928f76459aac487f5a",
       "version_major": 2,
       "version_minor": 0
      },
      "text/plain": [
       "키워드 진행도:   0%|          | 0/59 [00:00<?, ?it/s]"
      ]
     },
     "metadata": {},
     "output_type": "display_data"
    },
    {
     "data": {
      "application/vnd.jupyter.widget-view+json": {
       "model_id": "a96940b0795d4afa8e85f6212de5670b",
       "version_major": 2,
       "version_minor": 0
      },
      "text/plain": [
       "키워드 진행도:   0%|          | 0/6 [00:00<?, ?it/s]"
      ]
     },
     "metadata": {},
     "output_type": "display_data"
    },
    {
     "data": {
      "application/vnd.jupyter.widget-view+json": {
       "model_id": "a4af7b6cdd0c43509c068dc91ec022c3",
       "version_major": 2,
       "version_minor": 0
      },
      "text/plain": [
       "키워드 진행도:   0%|          | 0/43 [00:00<?, ?it/s]"
      ]
     },
     "metadata": {},
     "output_type": "display_data"
    },
    {
     "data": {
      "application/vnd.jupyter.widget-view+json": {
       "model_id": "d65728123bfb4f85b4bc118bc3325957",
       "version_major": 2,
       "version_minor": 0
      },
      "text/plain": [
       "키워드 진행도:   0%|          | 0/25 [00:00<?, ?it/s]"
      ]
     },
     "metadata": {},
     "output_type": "display_data"
    },
    {
     "data": {
      "application/vnd.jupyter.widget-view+json": {
       "model_id": "28428c826b6645aaab3d0432f1bdc07d",
       "version_major": 2,
       "version_minor": 0
      },
      "text/plain": [
       "키워드 진행도:   0%|          | 0/92 [00:00<?, ?it/s]"
      ]
     },
     "metadata": {},
     "output_type": "display_data"
    },
    {
     "data": {
      "application/vnd.jupyter.widget-view+json": {
       "model_id": "f0ebfd11b6404477995ad8883d6eb303",
       "version_major": 2,
       "version_minor": 0
      },
      "text/plain": [
       "키워드 진행도:   0%|          | 0/48 [00:00<?, ?it/s]"
      ]
     },
     "metadata": {},
     "output_type": "display_data"
    },
    {
     "data": {
      "application/vnd.jupyter.widget-view+json": {
       "model_id": "917fa544244149d0b91e85df3ccbd1fb",
       "version_major": 2,
       "version_minor": 0
      },
      "text/plain": [
       "키워드 진행도:   0%|          | 0/54 [00:00<?, ?it/s]"
      ]
     },
     "metadata": {},
     "output_type": "display_data"
    },
    {
     "data": {
      "application/vnd.jupyter.widget-view+json": {
       "model_id": "e33dde41430c4552aac2c6acbbaeeede",
       "version_major": 2,
       "version_minor": 0
      },
      "text/plain": [
       "키워드 진행도:   0%|          | 0/15 [00:00<?, ?it/s]"
      ]
     },
     "metadata": {},
     "output_type": "display_data"
    },
    {
     "data": {
      "application/vnd.jupyter.widget-view+json": {
       "model_id": "4b4e5a0e04624dea8314c0b9613b0633",
       "version_major": 2,
       "version_minor": 0
      },
      "text/plain": [
       "키워드 진행도:   0%|          | 0/24 [00:00<?, ?it/s]"
      ]
     },
     "metadata": {},
     "output_type": "display_data"
    },
    {
     "data": {
      "application/vnd.jupyter.widget-view+json": {
       "model_id": "966dffbea9bf481aa50509c2dbacccb2",
       "version_major": 2,
       "version_minor": 0
      },
      "text/plain": [
       "키워드 진행도:   0%|          | 0/27 [00:00<?, ?it/s]"
      ]
     },
     "metadata": {},
     "output_type": "display_data"
    },
    {
     "data": {
      "application/vnd.jupyter.widget-view+json": {
       "model_id": "bf03b0689862449197bb4d6f96e47646",
       "version_major": 2,
       "version_minor": 0
      },
      "text/plain": [
       "키워드 진행도:   0%|          | 0/8 [00:00<?, ?it/s]"
      ]
     },
     "metadata": {},
     "output_type": "display_data"
    },
    {
     "data": {
      "application/vnd.jupyter.widget-view+json": {
       "model_id": "77a1fe9dacc94da7a1af83b59ee36b14",
       "version_major": 2,
       "version_minor": 0
      },
      "text/plain": [
       "키워드 진행도:   0%|          | 0/27 [00:00<?, ?it/s]"
      ]
     },
     "metadata": {},
     "output_type": "display_data"
    },
    {
     "data": {
      "application/vnd.jupyter.widget-view+json": {
       "model_id": "61f9bf54253442189a75c36f58a8458d",
       "version_major": 2,
       "version_minor": 0
      },
      "text/plain": [
       "키워드 진행도:   0%|          | 0/17 [00:00<?, ?it/s]"
      ]
     },
     "metadata": {},
     "output_type": "display_data"
    },
    {
     "data": {
      "application/vnd.jupyter.widget-view+json": {
       "model_id": "df945600a5394d3f9fa4a4279ae40d0a",
       "version_major": 2,
       "version_minor": 0
      },
      "text/plain": [
       "키워드 진행도:   0%|          | 0/38 [00:00<?, ?it/s]"
      ]
     },
     "metadata": {},
     "output_type": "display_data"
    },
    {
     "data": {
      "application/vnd.jupyter.widget-view+json": {
       "model_id": "23443acc6c0c4d8aaddb55241b00ba2e",
       "version_major": 2,
       "version_minor": 0
      },
      "text/plain": [
       "키워드 진행도:   0%|          | 0/44 [00:00<?, ?it/s]"
      ]
     },
     "metadata": {},
     "output_type": "display_data"
    },
    {
     "data": {
      "application/vnd.jupyter.widget-view+json": {
       "model_id": "25bf9cbb2cd64ec089e79c6af4fe8743",
       "version_major": 2,
       "version_minor": 0
      },
      "text/plain": [
       "키워드 진행도:   0%|          | 0/31 [00:00<?, ?it/s]"
      ]
     },
     "metadata": {},
     "output_type": "display_data"
    },
    {
     "data": {
      "application/vnd.jupyter.widget-view+json": {
       "model_id": "91a748fd1cb44d1faa2af93523c6243f",
       "version_major": 2,
       "version_minor": 0
      },
      "text/plain": [
       "키워드 진행도:   0%|          | 0/31 [00:00<?, ?it/s]"
      ]
     },
     "metadata": {},
     "output_type": "display_data"
    },
    {
     "data": {
      "application/vnd.jupyter.widget-view+json": {
       "model_id": "532bfeb96a0a4696a4453a075162e2d3",
       "version_major": 2,
       "version_minor": 0
      },
      "text/plain": [
       "키워드 진행도:   0%|          | 0/64 [00:00<?, ?it/s]"
      ]
     },
     "metadata": {},
     "output_type": "display_data"
    },
    {
     "data": {
      "application/vnd.jupyter.widget-view+json": {
       "model_id": "b8dbf13b57d944c19db21c94c6d9a50e",
       "version_major": 2,
       "version_minor": 0
      },
      "text/plain": [
       "키워드 진행도:   0%|          | 0/19 [00:00<?, ?it/s]"
      ]
     },
     "metadata": {},
     "output_type": "display_data"
    },
    {
     "data": {
      "application/vnd.jupyter.widget-view+json": {
       "model_id": "1b8dadcf7068474b9537faecf6b6015c",
       "version_major": 2,
       "version_minor": 0
      },
      "text/plain": [
       "키워드 진행도:   0%|          | 0/12 [00:00<?, ?it/s]"
      ]
     },
     "metadata": {},
     "output_type": "display_data"
    },
    {
     "data": {
      "application/vnd.jupyter.widget-view+json": {
       "model_id": "a0de133a06044617b38dddf0c0983c40",
       "version_major": 2,
       "version_minor": 0
      },
      "text/plain": [
       "키워드 진행도:   0%|          | 0/24 [00:00<?, ?it/s]"
      ]
     },
     "metadata": {},
     "output_type": "display_data"
    },
    {
     "data": {
      "application/vnd.jupyter.widget-view+json": {
       "model_id": "8902d227c01f4c6abf92906259f21d01",
       "version_major": 2,
       "version_minor": 0
      },
      "text/plain": [
       "키워드 진행도:   0%|          | 0/30 [00:00<?, ?it/s]"
      ]
     },
     "metadata": {},
     "output_type": "display_data"
    },
    {
     "data": {
      "application/vnd.jupyter.widget-view+json": {
       "model_id": "cab6da0880824a509553ddcf5cc1aafd",
       "version_major": 2,
       "version_minor": 0
      },
      "text/plain": [
       "키워드 진행도:   0%|          | 0/25 [00:00<?, ?it/s]"
      ]
     },
     "metadata": {},
     "output_type": "display_data"
    },
    {
     "data": {
      "application/vnd.jupyter.widget-view+json": {
       "model_id": "d8340cc1ecd0433aaef0708082b242ed",
       "version_major": 2,
       "version_minor": 0
      },
      "text/plain": [
       "키워드 진행도:   0%|          | 0/26 [00:00<?, ?it/s]"
      ]
     },
     "metadata": {},
     "output_type": "display_data"
    },
    {
     "data": {
      "application/vnd.jupyter.widget-view+json": {
       "model_id": "c9520ca9eb5b4cbf93ea2cc67c5bdbe8",
       "version_major": 2,
       "version_minor": 0
      },
      "text/plain": [
       "키워드 진행도:   0%|          | 0/8 [00:00<?, ?it/s]"
      ]
     },
     "metadata": {},
     "output_type": "display_data"
    },
    {
     "data": {
      "application/vnd.jupyter.widget-view+json": {
       "model_id": "2ba0e488eced4958a61552edb20257ea",
       "version_major": 2,
       "version_minor": 0
      },
      "text/plain": [
       "키워드 진행도:   0%|          | 0/50 [00:00<?, ?it/s]"
      ]
     },
     "metadata": {},
     "output_type": "display_data"
    },
    {
     "data": {
      "application/vnd.jupyter.widget-view+json": {
       "model_id": "4b52b5824bb24c3e9b7c0a30634f5a83",
       "version_major": 2,
       "version_minor": 0
      },
      "text/plain": [
       "키워드 진행도:   0%|          | 0/18 [00:00<?, ?it/s]"
      ]
     },
     "metadata": {},
     "output_type": "display_data"
    },
    {
     "data": {
      "application/vnd.jupyter.widget-view+json": {
       "model_id": "fa9dcf7acd664c2e81a472a686b46045",
       "version_major": 2,
       "version_minor": 0
      },
      "text/plain": [
       "키워드 진행도:   0%|          | 0/20 [00:00<?, ?it/s]"
      ]
     },
     "metadata": {},
     "output_type": "display_data"
    },
    {
     "data": {
      "application/vnd.jupyter.widget-view+json": {
       "model_id": "5d904f0128a64a67af86db5a771ecfdc",
       "version_major": 2,
       "version_minor": 0
      },
      "text/plain": [
       "키워드 진행도:   0%|          | 0/15 [00:00<?, ?it/s]"
      ]
     },
     "metadata": {},
     "output_type": "display_data"
    },
    {
     "data": {
      "application/vnd.jupyter.widget-view+json": {
       "model_id": "2baafea4a70847bd99e31fdd2c9b0a0e",
       "version_major": 2,
       "version_minor": 0
      },
      "text/plain": [
       "키워드 진행도:   0%|          | 0/17 [00:00<?, ?it/s]"
      ]
     },
     "metadata": {},
     "output_type": "display_data"
    },
    {
     "data": {
      "application/vnd.jupyter.widget-view+json": {
       "model_id": "76a53f8c0cfb47028243f1ba810ee243",
       "version_major": 2,
       "version_minor": 0
      },
      "text/plain": [
       "키워드 진행도:   0%|          | 0/14 [00:00<?, ?it/s]"
      ]
     },
     "metadata": {},
     "output_type": "display_data"
    },
    {
     "data": {
      "application/vnd.jupyter.widget-view+json": {
       "model_id": "0eb24edf686b43dc96e87df0e93de754",
       "version_major": 2,
       "version_minor": 0
      },
      "text/plain": [
       "키워드 진행도:   0%|          | 0/24 [00:00<?, ?it/s]"
      ]
     },
     "metadata": {},
     "output_type": "display_data"
    },
    {
     "data": {
      "application/vnd.jupyter.widget-view+json": {
       "model_id": "d005d6d6c29340699e5edc8a806a578e",
       "version_major": 2,
       "version_minor": 0
      },
      "text/plain": [
       "키워드 진행도:   0%|          | 0/20 [00:00<?, ?it/s]"
      ]
     },
     "metadata": {},
     "output_type": "display_data"
    },
    {
     "data": {
      "application/vnd.jupyter.widget-view+json": {
       "model_id": "ab9f2f373d0841a2b7adf845d8d95435",
       "version_major": 2,
       "version_minor": 0
      },
      "text/plain": [
       "키워드 진행도:   0%|          | 0/14 [00:00<?, ?it/s]"
      ]
     },
     "metadata": {},
     "output_type": "display_data"
    },
    {
     "data": {
      "application/vnd.jupyter.widget-view+json": {
       "model_id": "663168fd083a4f6e95b5b16b37f945c8",
       "version_major": 2,
       "version_minor": 0
      },
      "text/plain": [
       "키워드 진행도:   0%|          | 0/134 [00:00<?, ?it/s]"
      ]
     },
     "metadata": {},
     "output_type": "display_data"
    },
    {
     "data": {
      "application/vnd.jupyter.widget-view+json": {
       "model_id": "30198608a7d8480db2746b032e41900d",
       "version_major": 2,
       "version_minor": 0
      },
      "text/plain": [
       "키워드 진행도:   0%|          | 0/25 [00:00<?, ?it/s]"
      ]
     },
     "metadata": {},
     "output_type": "display_data"
    },
    {
     "data": {
      "application/vnd.jupyter.widget-view+json": {
       "model_id": "2465888d6ecb4302916a3ebfaf8b0ee7",
       "version_major": 2,
       "version_minor": 0
      },
      "text/plain": [
       "키워드 진행도:   0%|          | 0/34 [00:00<?, ?it/s]"
      ]
     },
     "metadata": {},
     "output_type": "display_data"
    },
    {
     "data": {
      "application/vnd.jupyter.widget-view+json": {
       "model_id": "8831d7e22dfc42e4992942b571674cbb",
       "version_major": 2,
       "version_minor": 0
      },
      "text/plain": [
       "키워드 진행도:   0%|          | 0/31 [00:00<?, ?it/s]"
      ]
     },
     "metadata": {},
     "output_type": "display_data"
    },
    {
     "data": {
      "application/vnd.jupyter.widget-view+json": {
       "model_id": "2d3c97618e1448b1895a5416ce4cfb16",
       "version_major": 2,
       "version_minor": 0
      },
      "text/plain": [
       "키워드 진행도:   0%|          | 0/59 [00:00<?, ?it/s]"
      ]
     },
     "metadata": {},
     "output_type": "display_data"
    },
    {
     "data": {
      "application/vnd.jupyter.widget-view+json": {
       "model_id": "c7aa0aa99a3d4cba8a80a46de384ae5b",
       "version_major": 2,
       "version_minor": 0
      },
      "text/plain": [
       "키워드 진행도:   0%|          | 0/48 [00:00<?, ?it/s]"
      ]
     },
     "metadata": {},
     "output_type": "display_data"
    },
    {
     "data": {
      "application/vnd.jupyter.widget-view+json": {
       "model_id": "3afe8cf63a2f491483b0f7446691a477",
       "version_major": 2,
       "version_minor": 0
      },
      "text/plain": [
       "키워드 진행도:   0%|          | 0/154 [00:00<?, ?it/s]"
      ]
     },
     "metadata": {},
     "output_type": "display_data"
    },
    {
     "data": {
      "application/vnd.jupyter.widget-view+json": {
       "model_id": "1c35a7b9e6ca495592b34581ab70a34a",
       "version_major": 2,
       "version_minor": 0
      },
      "text/plain": [
       "키워드 진행도:   0%|          | 0/67 [00:00<?, ?it/s]"
      ]
     },
     "metadata": {},
     "output_type": "display_data"
    },
    {
     "data": {
      "application/vnd.jupyter.widget-view+json": {
       "model_id": "40dd72db15ea4d76aa32c7c8679ef777",
       "version_major": 2,
       "version_minor": 0
      },
      "text/plain": [
       "키워드 진행도:   0%|          | 0/85 [00:00<?, ?it/s]"
      ]
     },
     "metadata": {},
     "output_type": "display_data"
    },
    {
     "data": {
      "application/vnd.jupyter.widget-view+json": {
       "model_id": "0c0c10f881954d4c919b0d4a99e66e1f",
       "version_major": 2,
       "version_minor": 0
      },
      "text/plain": [
       "키워드 진행도:   0%|          | 0/90 [00:00<?, ?it/s]"
      ]
     },
     "metadata": {},
     "output_type": "display_data"
    },
    {
     "data": {
      "application/vnd.jupyter.widget-view+json": {
       "model_id": "cc77f5c8bdf8486aa5a049ac1114334d",
       "version_major": 2,
       "version_minor": 0
      },
      "text/plain": [
       "키워드 진행도:   0%|          | 0/35 [00:00<?, ?it/s]"
      ]
     },
     "metadata": {},
     "output_type": "display_data"
    },
    {
     "data": {
      "application/vnd.jupyter.widget-view+json": {
       "model_id": "5238ac76321b4edba9d8beab4e919553",
       "version_major": 2,
       "version_minor": 0
      },
      "text/plain": [
       "키워드 진행도:   0%|          | 0/117 [00:00<?, ?it/s]"
      ]
     },
     "metadata": {},
     "output_type": "display_data"
    },
    {
     "data": {
      "application/vnd.jupyter.widget-view+json": {
       "model_id": "563efd799e684552b4fca227d8e18754",
       "version_major": 2,
       "version_minor": 0
      },
      "text/plain": [
       "키워드 진행도:   0%|          | 0/47 [00:00<?, ?it/s]"
      ]
     },
     "metadata": {},
     "output_type": "display_data"
    },
    {
     "data": {
      "application/vnd.jupyter.widget-view+json": {
       "model_id": "efe2d8fd4742480aa5a10e994cf1ecb3",
       "version_major": 2,
       "version_minor": 0
      },
      "text/plain": [
       "키워드 진행도:   0%|          | 0/116 [00:00<?, ?it/s]"
      ]
     },
     "metadata": {},
     "output_type": "display_data"
    },
    {
     "data": {
      "application/vnd.jupyter.widget-view+json": {
       "model_id": "1f2838602c574b7f9c4351627d11a133",
       "version_major": 2,
       "version_minor": 0
      },
      "text/plain": [
       "키워드 진행도:   0%|          | 0/113 [00:00<?, ?it/s]"
      ]
     },
     "metadata": {},
     "output_type": "display_data"
    },
    {
     "data": {
      "application/vnd.jupyter.widget-view+json": {
       "model_id": "8acecb3f7bb045c1a6a5c6f2e2799514",
       "version_major": 2,
       "version_minor": 0
      },
      "text/plain": [
       "키워드 진행도:   0%|          | 0/82 [00:00<?, ?it/s]"
      ]
     },
     "metadata": {},
     "output_type": "display_data"
    },
    {
     "data": {
      "application/vnd.jupyter.widget-view+json": {
       "model_id": "e2c454d9e9354d3480a63e8d81196896",
       "version_major": 2,
       "version_minor": 0
      },
      "text/plain": [
       "키워드 진행도:   0%|          | 0/70 [00:00<?, ?it/s]"
      ]
     },
     "metadata": {},
     "output_type": "display_data"
    },
    {
     "data": {
      "application/vnd.jupyter.widget-view+json": {
       "model_id": "67ca46e37a41485aaf0a293b590d0c19",
       "version_major": 2,
       "version_minor": 0
      },
      "text/plain": [
       "키워드 진행도:   0%|          | 0/43 [00:00<?, ?it/s]"
      ]
     },
     "metadata": {},
     "output_type": "display_data"
    },
    {
     "data": {
      "application/vnd.jupyter.widget-view+json": {
       "model_id": "bb0d862547424482ae2fda528f581ca4",
       "version_major": 2,
       "version_minor": 0
      },
      "text/plain": [
       "키워드 진행도:   0%|          | 0/61 [00:00<?, ?it/s]"
      ]
     },
     "metadata": {},
     "output_type": "display_data"
    },
    {
     "data": {
      "application/vnd.jupyter.widget-view+json": {
       "model_id": "0a0d7afeb0464e3293b8174c47ac751c",
       "version_major": 2,
       "version_minor": 0
      },
      "text/plain": [
       "키워드 진행도:   0%|          | 0/7 [00:00<?, ?it/s]"
      ]
     },
     "metadata": {},
     "output_type": "display_data"
    },
    {
     "data": {
      "application/vnd.jupyter.widget-view+json": {
       "model_id": "5430ae05b04547379d36400d12455ea5",
       "version_major": 2,
       "version_minor": 0
      },
      "text/plain": [
       "키워드 진행도:   0%|          | 0/18 [00:00<?, ?it/s]"
      ]
     },
     "metadata": {},
     "output_type": "display_data"
    },
    {
     "data": {
      "application/vnd.jupyter.widget-view+json": {
       "model_id": "9549bdb852fa42ccaba61396e16cbc13",
       "version_major": 2,
       "version_minor": 0
      },
      "text/plain": [
       "키워드 진행도:   0%|          | 0/26 [00:00<?, ?it/s]"
      ]
     },
     "metadata": {},
     "output_type": "display_data"
    },
    {
     "data": {
      "application/vnd.jupyter.widget-view+json": {
       "model_id": "44abe9b773d645bcb083cbef9005bc9c",
       "version_major": 2,
       "version_minor": 0
      },
      "text/plain": [
       "키워드 진행도:   0%|          | 0/30 [00:00<?, ?it/s]"
      ]
     },
     "metadata": {},
     "output_type": "display_data"
    },
    {
     "data": {
      "application/vnd.jupyter.widget-view+json": {
       "model_id": "b3ea0d714164436a82bc5ef00fd12cb9",
       "version_major": 2,
       "version_minor": 0
      },
      "text/plain": [
       "키워드 진행도:   0%|          | 0/46 [00:00<?, ?it/s]"
      ]
     },
     "metadata": {},
     "output_type": "display_data"
    },
    {
     "data": {
      "application/vnd.jupyter.widget-view+json": {
       "model_id": "70250292d89149efa07b73e62d38b45c",
       "version_major": 2,
       "version_minor": 0
      },
      "text/plain": [
       "키워드 진행도:   0%|          | 0/88 [00:00<?, ?it/s]"
      ]
     },
     "metadata": {},
     "output_type": "display_data"
    },
    {
     "data": {
      "application/vnd.jupyter.widget-view+json": {
       "model_id": "682b48bd99964101936bf91dec074cf3",
       "version_major": 2,
       "version_minor": 0
      },
      "text/plain": [
       "키워드 진행도:   0%|          | 0/55 [00:00<?, ?it/s]"
      ]
     },
     "metadata": {},
     "output_type": "display_data"
    },
    {
     "data": {
      "application/vnd.jupyter.widget-view+json": {
       "model_id": "a6ffd0c2c64a460bb8de9acfbd65ed11",
       "version_major": 2,
       "version_minor": 0
      },
      "text/plain": [
       "키워드 진행도:   0%|          | 0/47 [00:00<?, ?it/s]"
      ]
     },
     "metadata": {},
     "output_type": "display_data"
    },
    {
     "data": {
      "application/vnd.jupyter.widget-view+json": {
       "model_id": "b5e240c84e624526a89b3f5788ec1c8b",
       "version_major": 2,
       "version_minor": 0
      },
      "text/plain": [
       "키워드 진행도:   0%|          | 0/40 [00:00<?, ?it/s]"
      ]
     },
     "metadata": {},
     "output_type": "display_data"
    },
    {
     "data": {
      "application/vnd.jupyter.widget-view+json": {
       "model_id": "a877feadf92b4f6b86b13107f089f1a6",
       "version_major": 2,
       "version_minor": 0
      },
      "text/plain": [
       "키워드 진행도:   0%|          | 0/83 [00:00<?, ?it/s]"
      ]
     },
     "metadata": {},
     "output_type": "display_data"
    },
    {
     "data": {
      "application/vnd.jupyter.widget-view+json": {
       "model_id": "5b068f56b1c8458ca553f36818212b4b",
       "version_major": 2,
       "version_minor": 0
      },
      "text/plain": [
       "키워드 진행도:   0%|          | 0/42 [00:00<?, ?it/s]"
      ]
     },
     "metadata": {},
     "output_type": "display_data"
    },
    {
     "data": {
      "application/vnd.jupyter.widget-view+json": {
       "model_id": "df8b67dd526745f3ab1c51a358445af7",
       "version_major": 2,
       "version_minor": 0
      },
      "text/plain": [
       "키워드 진행도:   0%|          | 0/7 [00:00<?, ?it/s]"
      ]
     },
     "metadata": {},
     "output_type": "display_data"
    },
    {
     "data": {
      "application/vnd.jupyter.widget-view+json": {
       "model_id": "70b782da991744f3a814a0ec1709022b",
       "version_major": 2,
       "version_minor": 0
      },
      "text/plain": [
       "키워드 진행도:   0%|          | 0/11 [00:00<?, ?it/s]"
      ]
     },
     "metadata": {},
     "output_type": "display_data"
    },
    {
     "data": {
      "application/vnd.jupyter.widget-view+json": {
       "model_id": "9431e70935694faab625c1243a5fa2e3",
       "version_major": 2,
       "version_minor": 0
      },
      "text/plain": [
       "키워드 진행도:   0%|          | 0/6 [00:00<?, ?it/s]"
      ]
     },
     "metadata": {},
     "output_type": "display_data"
    },
    {
     "data": {
      "application/vnd.jupyter.widget-view+json": {
       "model_id": "c2e648bdef284930ad36c8221f03631d",
       "version_major": 2,
       "version_minor": 0
      },
      "text/plain": [
       "키워드 진행도:   0%|          | 0/14 [00:00<?, ?it/s]"
      ]
     },
     "metadata": {},
     "output_type": "display_data"
    },
    {
     "data": {
      "application/vnd.jupyter.widget-view+json": {
       "model_id": "6e65fe54dea74ff0b5282ff1b34503e6",
       "version_major": 2,
       "version_minor": 0
      },
      "text/plain": [
       "키워드 진행도:   0%|          | 0/14 [00:00<?, ?it/s]"
      ]
     },
     "metadata": {},
     "output_type": "display_data"
    },
    {
     "data": {
      "application/vnd.jupyter.widget-view+json": {
       "model_id": "43f3a6bbb31347a3a191789c250ca2a0",
       "version_major": 2,
       "version_minor": 0
      },
      "text/plain": [
       "키워드 진행도:   0%|          | 0/12 [00:00<?, ?it/s]"
      ]
     },
     "metadata": {},
     "output_type": "display_data"
    },
    {
     "data": {
      "application/vnd.jupyter.widget-view+json": {
       "model_id": "a25db88fa0ab4a45899b7f716497ba51",
       "version_major": 2,
       "version_minor": 0
      },
      "text/plain": [
       "키워드 진행도:   0%|          | 0/7 [00:00<?, ?it/s]"
      ]
     },
     "metadata": {},
     "output_type": "display_data"
    },
    {
     "data": {
      "application/vnd.jupyter.widget-view+json": {
       "model_id": "c31df4843c6641afb8e989294d982821",
       "version_major": 2,
       "version_minor": 0
      },
      "text/plain": [
       "키워드 진행도:   0%|          | 0/8 [00:00<?, ?it/s]"
      ]
     },
     "metadata": {},
     "output_type": "display_data"
    },
    {
     "data": {
      "application/vnd.jupyter.widget-view+json": {
       "model_id": "0a66cf4cb4054835aba83a41e5a380b1",
       "version_major": 2,
       "version_minor": 0
      },
      "text/plain": [
       "키워드 진행도:   0%|          | 0/12 [00:00<?, ?it/s]"
      ]
     },
     "metadata": {},
     "output_type": "display_data"
    },
    {
     "data": {
      "application/vnd.jupyter.widget-view+json": {
       "model_id": "7b1595de7be649f4aba68fcdf2352400",
       "version_major": 2,
       "version_minor": 0
      },
      "text/plain": [
       "키워드 진행도:   0%|          | 0/17 [00:00<?, ?it/s]"
      ]
     },
     "metadata": {},
     "output_type": "display_data"
    },
    {
     "data": {
      "application/vnd.jupyter.widget-view+json": {
       "model_id": "33f678ad199841e5912ac89f73d69cb8",
       "version_major": 2,
       "version_minor": 0
      },
      "text/plain": [
       "키워드 진행도:   0%|          | 0/20 [00:00<?, ?it/s]"
      ]
     },
     "metadata": {},
     "output_type": "display_data"
    },
    {
     "data": {
      "application/vnd.jupyter.widget-view+json": {
       "model_id": "18f0408c074e4947b6d39a29943ae08f",
       "version_major": 2,
       "version_minor": 0
      },
      "text/plain": [
       "키워드 진행도:   0%|          | 0/19 [00:00<?, ?it/s]"
      ]
     },
     "metadata": {},
     "output_type": "display_data"
    },
    {
     "data": {
      "application/vnd.jupyter.widget-view+json": {
       "model_id": "1fce94690c31473b97121d0aea1cf8bd",
       "version_major": 2,
       "version_minor": 0
      },
      "text/plain": [
       "키워드 진행도:   0%|          | 0/21 [00:00<?, ?it/s]"
      ]
     },
     "metadata": {},
     "output_type": "display_data"
    },
    {
     "data": {
      "application/vnd.jupyter.widget-view+json": {
       "model_id": "ee61a2eea72247188045a34471031368",
       "version_major": 2,
       "version_minor": 0
      },
      "text/plain": [
       "키워드 진행도:   0%|          | 0/29 [00:00<?, ?it/s]"
      ]
     },
     "metadata": {},
     "output_type": "display_data"
    },
    {
     "data": {
      "application/vnd.jupyter.widget-view+json": {
       "model_id": "84aecd495f9f406cb75e2352abf53da8",
       "version_major": 2,
       "version_minor": 0
      },
      "text/plain": [
       "키워드 진행도:   0%|          | 0/42 [00:00<?, ?it/s]"
      ]
     },
     "metadata": {},
     "output_type": "display_data"
    },
    {
     "data": {
      "application/vnd.jupyter.widget-view+json": {
       "model_id": "6ff9641ab2364ffc9fb51f268c6e8e7b",
       "version_major": 2,
       "version_minor": 0
      },
      "text/plain": [
       "키워드 진행도:   0%|          | 0/12 [00:00<?, ?it/s]"
      ]
     },
     "metadata": {},
     "output_type": "display_data"
    },
    {
     "data": {
      "application/vnd.jupyter.widget-view+json": {
       "model_id": "d2c982c9f7c44383a694c022f22869e2",
       "version_major": 2,
       "version_minor": 0
      },
      "text/plain": [
       "키워드 진행도:   0%|          | 0/39 [00:00<?, ?it/s]"
      ]
     },
     "metadata": {},
     "output_type": "display_data"
    },
    {
     "data": {
      "application/vnd.jupyter.widget-view+json": {
       "model_id": "34e1040846584698bcb0d788a4b5a9f8",
       "version_major": 2,
       "version_minor": 0
      },
      "text/plain": [
       "키워드 진행도:   0%|          | 0/14 [00:00<?, ?it/s]"
      ]
     },
     "metadata": {},
     "output_type": "display_data"
    },
    {
     "data": {
      "application/vnd.jupyter.widget-view+json": {
       "model_id": "502f313da33b45f284d2bd88edd2e365",
       "version_major": 2,
       "version_minor": 0
      },
      "text/plain": [
       "키워드 진행도:   0%|          | 0/33 [00:00<?, ?it/s]"
      ]
     },
     "metadata": {},
     "output_type": "display_data"
    },
    {
     "data": {
      "application/vnd.jupyter.widget-view+json": {
       "model_id": "8e0f882943cf47b0b64734c8740d3ffb",
       "version_major": 2,
       "version_minor": 0
      },
      "text/plain": [
       "키워드 진행도:   0%|          | 0/37 [00:00<?, ?it/s]"
      ]
     },
     "metadata": {},
     "output_type": "display_data"
    },
    {
     "data": {
      "application/vnd.jupyter.widget-view+json": {
       "model_id": "92c0b9f8260c472d87b63db270f94162",
       "version_major": 2,
       "version_minor": 0
      },
      "text/plain": [
       "키워드 진행도:   0%|          | 0/38 [00:00<?, ?it/s]"
      ]
     },
     "metadata": {},
     "output_type": "display_data"
    },
    {
     "data": {
      "application/vnd.jupyter.widget-view+json": {
       "model_id": "ad0f17a3e0f64cce8a9275a23de2ccda",
       "version_major": 2,
       "version_minor": 0
      },
      "text/plain": [
       "키워드 진행도:   0%|          | 0/21 [00:00<?, ?it/s]"
      ]
     },
     "metadata": {},
     "output_type": "display_data"
    },
    {
     "data": {
      "application/vnd.jupyter.widget-view+json": {
       "model_id": "b42dd125656a4c7a803ca24701a7627c",
       "version_major": 2,
       "version_minor": 0
      },
      "text/plain": [
       "키워드 진행도:   0%|          | 0/15 [00:00<?, ?it/s]"
      ]
     },
     "metadata": {},
     "output_type": "display_data"
    },
    {
     "data": {
      "application/vnd.jupyter.widget-view+json": {
       "model_id": "bfb46edd22814e86b4aeb3b594b1b331",
       "version_major": 2,
       "version_minor": 0
      },
      "text/plain": [
       "키워드 진행도:   0%|          | 0/13 [00:00<?, ?it/s]"
      ]
     },
     "metadata": {},
     "output_type": "display_data"
    },
    {
     "data": {
      "application/vnd.jupyter.widget-view+json": {
       "model_id": "3ccacce00a604a4bb257f82eb791fedc",
       "version_major": 2,
       "version_minor": 0
      },
      "text/plain": [
       "키워드 진행도:   0%|          | 0/1 [00:00<?, ?it/s]"
      ]
     },
     "metadata": {},
     "output_type": "display_data"
    },
    {
     "data": {
      "application/vnd.jupyter.widget-view+json": {
       "model_id": "9d2a31bd71fe433e8de56708477c050f",
       "version_major": 2,
       "version_minor": 0
      },
      "text/plain": [
       "키워드 진행도:   0%|          | 0/23 [00:00<?, ?it/s]"
      ]
     },
     "metadata": {},
     "output_type": "display_data"
    },
    {
     "data": {
      "application/vnd.jupyter.widget-view+json": {
       "model_id": "3baa81f1c25a4283a5ce0245b1562509",
       "version_major": 2,
       "version_minor": 0
      },
      "text/plain": [
       "키워드 진행도:   0%|          | 0/16 [00:00<?, ?it/s]"
      ]
     },
     "metadata": {},
     "output_type": "display_data"
    },
    {
     "data": {
      "application/vnd.jupyter.widget-view+json": {
       "model_id": "a191a14c1a2d47919ebb3f9e22237b84",
       "version_major": 2,
       "version_minor": 0
      },
      "text/plain": [
       "키워드 진행도:   0%|          | 0/12 [00:00<?, ?it/s]"
      ]
     },
     "metadata": {},
     "output_type": "display_data"
    },
    {
     "data": {
      "application/vnd.jupyter.widget-view+json": {
       "model_id": "bb1dddb733ab4bafae1e40b776b58919",
       "version_major": 2,
       "version_minor": 0
      },
      "text/plain": [
       "키워드 진행도:   0%|          | 0/41 [00:00<?, ?it/s]"
      ]
     },
     "metadata": {},
     "output_type": "display_data"
    },
    {
     "data": {
      "application/vnd.jupyter.widget-view+json": {
       "model_id": "16e5564f994349b49830d925b093cb0e",
       "version_major": 2,
       "version_minor": 0
      },
      "text/plain": [
       "키워드 진행도:   0%|          | 0/9 [00:00<?, ?it/s]"
      ]
     },
     "metadata": {},
     "output_type": "display_data"
    },
    {
     "data": {
      "application/vnd.jupyter.widget-view+json": {
       "model_id": "3e7924d179534f6bbd1c2c5c4e8b0922",
       "version_major": 2,
       "version_minor": 0
      },
      "text/plain": [
       "키워드 진행도:   0%|          | 0/15 [00:00<?, ?it/s]"
      ]
     },
     "metadata": {},
     "output_type": "display_data"
    },
    {
     "data": {
      "application/vnd.jupyter.widget-view+json": {
       "model_id": "84f9220480ee4395baaa31c94054f2f2",
       "version_major": 2,
       "version_minor": 0
      },
      "text/plain": [
       "키워드 진행도:   0%|          | 0/11 [00:00<?, ?it/s]"
      ]
     },
     "metadata": {},
     "output_type": "display_data"
    },
    {
     "data": {
      "application/vnd.jupyter.widget-view+json": {
       "model_id": "fc08bdb8522a46eda9c4190cb32e02e4",
       "version_major": 2,
       "version_minor": 0
      },
      "text/plain": [
       "키워드 진행도:   0%|          | 0/14 [00:00<?, ?it/s]"
      ]
     },
     "metadata": {},
     "output_type": "display_data"
    },
    {
     "data": {
      "application/vnd.jupyter.widget-view+json": {
       "model_id": "fcc12e865fad400289e07368ad9863fb",
       "version_major": 2,
       "version_minor": 0
      },
      "text/plain": [
       "키워드 진행도:   0%|          | 0/20 [00:00<?, ?it/s]"
      ]
     },
     "metadata": {},
     "output_type": "display_data"
    },
    {
     "data": {
      "application/vnd.jupyter.widget-view+json": {
       "model_id": "0f95dd3a60d847efa03420fc73f09444",
       "version_major": 2,
       "version_minor": 0
      },
      "text/plain": [
       "키워드 진행도:   0%|          | 0/28 [00:00<?, ?it/s]"
      ]
     },
     "metadata": {},
     "output_type": "display_data"
    },
    {
     "data": {
      "application/vnd.jupyter.widget-view+json": {
       "model_id": "96bd54eb22bd477299cf002b9d063109",
       "version_major": 2,
       "version_minor": 0
      },
      "text/plain": [
       "키워드 진행도:   0%|          | 0/5 [00:00<?, ?it/s]"
      ]
     },
     "metadata": {},
     "output_type": "display_data"
    },
    {
     "data": {
      "application/vnd.jupyter.widget-view+json": {
       "model_id": "e2cf22ea719741618ab4b6e431d2a888",
       "version_major": 2,
       "version_minor": 0
      },
      "text/plain": [
       "키워드 진행도:   0%|          | 0/15 [00:00<?, ?it/s]"
      ]
     },
     "metadata": {},
     "output_type": "display_data"
    },
    {
     "data": {
      "application/vnd.jupyter.widget-view+json": {
       "model_id": "014a94abb02e4784b2b46bf011c715b2",
       "version_major": 2,
       "version_minor": 0
      },
      "text/plain": [
       "키워드 진행도:   0%|          | 0/19 [00:00<?, ?it/s]"
      ]
     },
     "metadata": {},
     "output_type": "display_data"
    },
    {
     "data": {
      "application/vnd.jupyter.widget-view+json": {
       "model_id": "8707dde6ce2b4e6faa0990c7086fd147",
       "version_major": 2,
       "version_minor": 0
      },
      "text/plain": [
       "키워드 진행도:   0%|          | 0/10 [00:00<?, ?it/s]"
      ]
     },
     "metadata": {},
     "output_type": "display_data"
    },
    {
     "data": {
      "application/vnd.jupyter.widget-view+json": {
       "model_id": "8ae3491dfc944016a8a54bb82c7668c8",
       "version_major": 2,
       "version_minor": 0
      },
      "text/plain": [
       "키워드 진행도:   0%|          | 0/7 [00:00<?, ?it/s]"
      ]
     },
     "metadata": {},
     "output_type": "display_data"
    },
    {
     "data": {
      "application/vnd.jupyter.widget-view+json": {
       "model_id": "cd698f0eee3f466a9ff5cfeb158a8de4",
       "version_major": 2,
       "version_minor": 0
      },
      "text/plain": [
       "키워드 진행도:   0%|          | 0/16 [00:00<?, ?it/s]"
      ]
     },
     "metadata": {},
     "output_type": "display_data"
    },
    {
     "data": {
      "application/vnd.jupyter.widget-view+json": {
       "model_id": "c43c8790394a46bea795fd21adcf127f",
       "version_major": 2,
       "version_minor": 0
      },
      "text/plain": [
       "키워드 진행도:   0%|          | 0/27 [00:00<?, ?it/s]"
      ]
     },
     "metadata": {},
     "output_type": "display_data"
    },
    {
     "data": {
      "application/vnd.jupyter.widget-view+json": {
       "model_id": "a0126f12c3254e86b6b7294edd99b756",
       "version_major": 2,
       "version_minor": 0
      },
      "text/plain": [
       "키워드 진행도:   0%|          | 0/6 [00:00<?, ?it/s]"
      ]
     },
     "metadata": {},
     "output_type": "display_data"
    },
    {
     "data": {
      "application/vnd.jupyter.widget-view+json": {
       "model_id": "76ecb56131b341f1a33cccfcd6ca89ed",
       "version_major": 2,
       "version_minor": 0
      },
      "text/plain": [
       "키워드 진행도: 0it [00:00, ?it/s]"
      ]
     },
     "metadata": {},
     "output_type": "display_data"
    },
    {
     "data": {
      "application/vnd.jupyter.widget-view+json": {
       "model_id": "baaca8b8c32a44aeb39978f566eceed0",
       "version_major": 2,
       "version_minor": 0
      },
      "text/plain": [
       "키워드 진행도:   0%|          | 0/32 [00:00<?, ?it/s]"
      ]
     },
     "metadata": {},
     "output_type": "display_data"
    },
    {
     "data": {
      "application/vnd.jupyter.widget-view+json": {
       "model_id": "a285887f671048bcb73fcc812a0e27bd",
       "version_major": 2,
       "version_minor": 0
      },
      "text/plain": [
       "키워드 진행도:   0%|          | 0/24 [00:00<?, ?it/s]"
      ]
     },
     "metadata": {},
     "output_type": "display_data"
    },
    {
     "data": {
      "application/vnd.jupyter.widget-view+json": {
       "model_id": "9b469f1b22174d9fad99f73cfc648b22",
       "version_major": 2,
       "version_minor": 0
      },
      "text/plain": [
       "키워드 진행도:   0%|          | 0/6 [00:00<?, ?it/s]"
      ]
     },
     "metadata": {},
     "output_type": "display_data"
    },
    {
     "data": {
      "application/vnd.jupyter.widget-view+json": {
       "model_id": "354d59ff1f4e4975aef38d8df350ca9f",
       "version_major": 2,
       "version_minor": 0
      },
      "text/plain": [
       "키워드 진행도:   0%|          | 0/3 [00:00<?, ?it/s]"
      ]
     },
     "metadata": {},
     "output_type": "display_data"
    },
    {
     "data": {
      "application/vnd.jupyter.widget-view+json": {
       "model_id": "1c316acb90d149b58609ba6f05fcf8a4",
       "version_major": 2,
       "version_minor": 0
      },
      "text/plain": [
       "키워드 진행도:   0%|          | 0/2 [00:00<?, ?it/s]"
      ]
     },
     "metadata": {},
     "output_type": "display_data"
    },
    {
     "data": {
      "application/vnd.jupyter.widget-view+json": {
       "model_id": "24f752c236284057865df6517eaccde7",
       "version_major": 2,
       "version_minor": 0
      },
      "text/plain": [
       "키워드 진행도:   0%|          | 0/19 [00:00<?, ?it/s]"
      ]
     },
     "metadata": {},
     "output_type": "display_data"
    },
    {
     "data": {
      "application/vnd.jupyter.widget-view+json": {
       "model_id": "88766734f4ce43a0a64b20ab41352b56",
       "version_major": 2,
       "version_minor": 0
      },
      "text/plain": [
       "키워드 진행도:   0%|          | 0/32 [00:00<?, ?it/s]"
      ]
     },
     "metadata": {},
     "output_type": "display_data"
    },
    {
     "data": {
      "application/vnd.jupyter.widget-view+json": {
       "model_id": "c81e9398c01949c2a141fbe9c22a88ab",
       "version_major": 2,
       "version_minor": 0
      },
      "text/plain": [
       "키워드 진행도:   0%|          | 0/29 [00:00<?, ?it/s]"
      ]
     },
     "metadata": {},
     "output_type": "display_data"
    },
    {
     "data": {
      "application/vnd.jupyter.widget-view+json": {
       "model_id": "1dd41395c9bd457f966f7d2648b3db9e",
       "version_major": 2,
       "version_minor": 0
      },
      "text/plain": [
       "키워드 진행도:   0%|          | 0/25 [00:00<?, ?it/s]"
      ]
     },
     "metadata": {},
     "output_type": "display_data"
    },
    {
     "data": {
      "application/vnd.jupyter.widget-view+json": {
       "model_id": "aecccd0ad9ab417c8bf8833109ab25e2",
       "version_major": 2,
       "version_minor": 0
      },
      "text/plain": [
       "키워드 진행도:   0%|          | 0/17 [00:00<?, ?it/s]"
      ]
     },
     "metadata": {},
     "output_type": "display_data"
    },
    {
     "data": {
      "application/vnd.jupyter.widget-view+json": {
       "model_id": "62a929f7db124c6b90a84c8e1ff68087",
       "version_major": 2,
       "version_minor": 0
      },
      "text/plain": [
       "키워드 진행도:   0%|          | 0/37 [00:00<?, ?it/s]"
      ]
     },
     "metadata": {},
     "output_type": "display_data"
    },
    {
     "data": {
      "application/vnd.jupyter.widget-view+json": {
       "model_id": "1efc20c8471642f4926732742bd55d54",
       "version_major": 2,
       "version_minor": 0
      },
      "text/plain": [
       "키워드 진행도:   0%|          | 0/7 [00:00<?, ?it/s]"
      ]
     },
     "metadata": {},
     "output_type": "display_data"
    },
    {
     "data": {
      "application/vnd.jupyter.widget-view+json": {
       "model_id": "b885c4b0272d47da8595a9154fac52ed",
       "version_major": 2,
       "version_minor": 0
      },
      "text/plain": [
       "키워드 진행도:   0%|          | 0/106 [00:00<?, ?it/s]"
      ]
     },
     "metadata": {},
     "output_type": "display_data"
    },
    {
     "data": {
      "application/vnd.jupyter.widget-view+json": {
       "model_id": "61821edbcda44189bac8240dee903a0e",
       "version_major": 2,
       "version_minor": 0
      },
      "text/plain": [
       "키워드 진행도:   0%|          | 0/101 [00:00<?, ?it/s]"
      ]
     },
     "metadata": {},
     "output_type": "display_data"
    },
    {
     "data": {
      "application/vnd.jupyter.widget-view+json": {
       "model_id": "bc53813339b241eebe2d29aad4708ecc",
       "version_major": 2,
       "version_minor": 0
      },
      "text/plain": [
       "키워드 진행도:   0%|          | 0/33 [00:00<?, ?it/s]"
      ]
     },
     "metadata": {},
     "output_type": "display_data"
    },
    {
     "data": {
      "application/vnd.jupyter.widget-view+json": {
       "model_id": "3016b24886cd4d579c802ce43e9f392e",
       "version_major": 2,
       "version_minor": 0
      },
      "text/plain": [
       "키워드 진행도:   0%|          | 0/90 [00:00<?, ?it/s]"
      ]
     },
     "metadata": {},
     "output_type": "display_data"
    },
    {
     "data": {
      "application/vnd.jupyter.widget-view+json": {
       "model_id": "17962c49f5b24428bbd9576be99b613a",
       "version_major": 2,
       "version_minor": 0
      },
      "text/plain": [
       "키워드 진행도:   0%|          | 0/10 [00:00<?, ?it/s]"
      ]
     },
     "metadata": {},
     "output_type": "display_data"
    },
    {
     "data": {
      "application/vnd.jupyter.widget-view+json": {
       "model_id": "39b866ac097342ceb72d5036d2aafeee",
       "version_major": 2,
       "version_minor": 0
      },
      "text/plain": [
       "키워드 진행도:   0%|          | 0/27 [00:00<?, ?it/s]"
      ]
     },
     "metadata": {},
     "output_type": "display_data"
    },
    {
     "data": {
      "application/vnd.jupyter.widget-view+json": {
       "model_id": "d308399c73ad4d8db72276c986de25a4",
       "version_major": 2,
       "version_minor": 0
      },
      "text/plain": [
       "키워드 진행도:   0%|          | 0/31 [00:00<?, ?it/s]"
      ]
     },
     "metadata": {},
     "output_type": "display_data"
    },
    {
     "data": {
      "application/vnd.jupyter.widget-view+json": {
       "model_id": "da562e5a7e8e42009537daa4cf88c6fe",
       "version_major": 2,
       "version_minor": 0
      },
      "text/plain": [
       "키워드 진행도:   0%|          | 0/11 [00:00<?, ?it/s]"
      ]
     },
     "metadata": {},
     "output_type": "display_data"
    },
    {
     "data": {
      "application/vnd.jupyter.widget-view+json": {
       "model_id": "bdf10186ce9b4b5bb1a222f277e8d671",
       "version_major": 2,
       "version_minor": 0
      },
      "text/plain": [
       "키워드 진행도:   0%|          | 0/16 [00:00<?, ?it/s]"
      ]
     },
     "metadata": {},
     "output_type": "display_data"
    },
    {
     "data": {
      "application/vnd.jupyter.widget-view+json": {
       "model_id": "b9d664ade59443e5bd6cda05d228b187",
       "version_major": 2,
       "version_minor": 0
      },
      "text/plain": [
       "키워드 진행도:   0%|          | 0/15 [00:00<?, ?it/s]"
      ]
     },
     "metadata": {},
     "output_type": "display_data"
    },
    {
     "data": {
      "application/vnd.jupyter.widget-view+json": {
       "model_id": "517af52a41fa48ab9f9c4eeb650cffb6",
       "version_major": 2,
       "version_minor": 0
      },
      "text/plain": [
       "키워드 진행도:   0%|          | 0/16 [00:00<?, ?it/s]"
      ]
     },
     "metadata": {},
     "output_type": "display_data"
    },
    {
     "data": {
      "application/vnd.jupyter.widget-view+json": {
       "model_id": "693aa72703df47c1970b748e07e01b26",
       "version_major": 2,
       "version_minor": 0
      },
      "text/plain": [
       "키워드 진행도:   0%|          | 0/28 [00:00<?, ?it/s]"
      ]
     },
     "metadata": {},
     "output_type": "display_data"
    },
    {
     "data": {
      "application/vnd.jupyter.widget-view+json": {
       "model_id": "cf697e83d881454da5af2d56b75e313c",
       "version_major": 2,
       "version_minor": 0
      },
      "text/plain": [
       "키워드 진행도:   0%|          | 0/7 [00:00<?, ?it/s]"
      ]
     },
     "metadata": {},
     "output_type": "display_data"
    },
    {
     "data": {
      "application/vnd.jupyter.widget-view+json": {
       "model_id": "f820574cb422453599e5ada1e6b06193",
       "version_major": 2,
       "version_minor": 0
      },
      "text/plain": [
       "키워드 진행도:   0%|          | 0/41 [00:00<?, ?it/s]"
      ]
     },
     "metadata": {},
     "output_type": "display_data"
    },
    {
     "data": {
      "application/vnd.jupyter.widget-view+json": {
       "model_id": "c9185619ac3e480b9ba806df505adecf",
       "version_major": 2,
       "version_minor": 0
      },
      "text/plain": [
       "키워드 진행도:   0%|          | 0/61 [00:00<?, ?it/s]"
      ]
     },
     "metadata": {},
     "output_type": "display_data"
    },
    {
     "data": {
      "application/vnd.jupyter.widget-view+json": {
       "model_id": "bef22cc2a98745f58e94210298bd6679",
       "version_major": 2,
       "version_minor": 0
      },
      "text/plain": [
       "키워드 진행도:   0%|          | 0/17 [00:00<?, ?it/s]"
      ]
     },
     "metadata": {},
     "output_type": "display_data"
    },
    {
     "data": {
      "application/vnd.jupyter.widget-view+json": {
       "model_id": "ea1d52c52a474246ac07c4e1ddfe0fc9",
       "version_major": 2,
       "version_minor": 0
      },
      "text/plain": [
       "키워드 진행도:   0%|          | 0/56 [00:00<?, ?it/s]"
      ]
     },
     "metadata": {},
     "output_type": "display_data"
    },
    {
     "data": {
      "application/vnd.jupyter.widget-view+json": {
       "model_id": "c1967d25411f4376a7e76d50b325577b",
       "version_major": 2,
       "version_minor": 0
      },
      "text/plain": [
       "키워드 진행도:   0%|          | 0/17 [00:00<?, ?it/s]"
      ]
     },
     "metadata": {},
     "output_type": "display_data"
    },
    {
     "data": {
      "application/vnd.jupyter.widget-view+json": {
       "model_id": "b273deae248c4fa3a0b2a8cc3db8bc09",
       "version_major": 2,
       "version_minor": 0
      },
      "text/plain": [
       "키워드 진행도:   0%|          | 0/18 [00:00<?, ?it/s]"
      ]
     },
     "metadata": {},
     "output_type": "display_data"
    },
    {
     "data": {
      "application/vnd.jupyter.widget-view+json": {
       "model_id": "3c801d9065f74293b3e1ae8ccd6026f9",
       "version_major": 2,
       "version_minor": 0
      },
      "text/plain": [
       "키워드 진행도:   0%|          | 0/46 [00:00<?, ?it/s]"
      ]
     },
     "metadata": {},
     "output_type": "display_data"
    },
    {
     "data": {
      "application/vnd.jupyter.widget-view+json": {
       "model_id": "c39c0e3b86df445f915c527781cf8a59",
       "version_major": 2,
       "version_minor": 0
      },
      "text/plain": [
       "키워드 진행도:   0%|          | 0/241 [00:00<?, ?it/s]"
      ]
     },
     "metadata": {},
     "output_type": "display_data"
    },
    {
     "data": {
      "application/vnd.jupyter.widget-view+json": {
       "model_id": "f558eebc649740939613d388e99e9def",
       "version_major": 2,
       "version_minor": 0
      },
      "text/plain": [
       "키워드 진행도:   0%|          | 0/58 [00:00<?, ?it/s]"
      ]
     },
     "metadata": {},
     "output_type": "display_data"
    },
    {
     "data": {
      "application/vnd.jupyter.widget-view+json": {
       "model_id": "6edd391b5c3d4129a6d4bc0dd6569dcc",
       "version_major": 2,
       "version_minor": 0
      },
      "text/plain": [
       "키워드 진행도:   0%|          | 0/32 [00:00<?, ?it/s]"
      ]
     },
     "metadata": {},
     "output_type": "display_data"
    },
    {
     "data": {
      "application/vnd.jupyter.widget-view+json": {
       "model_id": "c89eb4c51cef4946b518393fdda0ae3f",
       "version_major": 2,
       "version_minor": 0
      },
      "text/plain": [
       "키워드 진행도:   0%|          | 0/47 [00:00<?, ?it/s]"
      ]
     },
     "metadata": {},
     "output_type": "display_data"
    },
    {
     "data": {
      "application/vnd.jupyter.widget-view+json": {
       "model_id": "0830a0bce7ca4c9ab85189895d9fb95d",
       "version_major": 2,
       "version_minor": 0
      },
      "text/plain": [
       "키워드 진행도:   0%|          | 0/37 [00:00<?, ?it/s]"
      ]
     },
     "metadata": {},
     "output_type": "display_data"
    },
    {
     "data": {
      "application/vnd.jupyter.widget-view+json": {
       "model_id": "544171364ea442af922da2487ea2b1e5",
       "version_major": 2,
       "version_minor": 0
      },
      "text/plain": [
       "키워드 진행도:   0%|          | 0/72 [00:00<?, ?it/s]"
      ]
     },
     "metadata": {},
     "output_type": "display_data"
    },
    {
     "data": {
      "application/vnd.jupyter.widget-view+json": {
       "model_id": "50f89cac335544bbb44b0e8b108af4d6",
       "version_major": 2,
       "version_minor": 0
      },
      "text/plain": [
       "키워드 진행도:   0%|          | 0/21 [00:00<?, ?it/s]"
      ]
     },
     "metadata": {},
     "output_type": "display_data"
    },
    {
     "data": {
      "application/vnd.jupyter.widget-view+json": {
       "model_id": "daf31afc91094e04ab4f44dae87322bb",
       "version_major": 2,
       "version_minor": 0
      },
      "text/plain": [
       "키워드 진행도:   0%|          | 0/6 [00:00<?, ?it/s]"
      ]
     },
     "metadata": {},
     "output_type": "display_data"
    },
    {
     "data": {
      "application/vnd.jupyter.widget-view+json": {
       "model_id": "731e435fcd17420aaddb324812ab1b7c",
       "version_major": 2,
       "version_minor": 0
      },
      "text/plain": [
       "키워드 진행도:   0%|          | 0/25 [00:00<?, ?it/s]"
      ]
     },
     "metadata": {},
     "output_type": "display_data"
    },
    {
     "data": {
      "application/vnd.jupyter.widget-view+json": {
       "model_id": "a33c57c3188b40c69768802bd26f29da",
       "version_major": 2,
       "version_minor": 0
      },
      "text/plain": [
       "키워드 진행도:   0%|          | 0/122 [00:00<?, ?it/s]"
      ]
     },
     "metadata": {},
     "output_type": "display_data"
    },
    {
     "data": {
      "application/vnd.jupyter.widget-view+json": {
       "model_id": "e0f551721b0b48bcb05d5c24d89a5dec",
       "version_major": 2,
       "version_minor": 0
      },
      "text/plain": [
       "키워드 진행도:   0%|          | 0/39 [00:00<?, ?it/s]"
      ]
     },
     "metadata": {},
     "output_type": "display_data"
    },
    {
     "data": {
      "application/vnd.jupyter.widget-view+json": {
       "model_id": "8c24d9a8c3954a00b79d1b7202212d2c",
       "version_major": 2,
       "version_minor": 0
      },
      "text/plain": [
       "키워드 진행도:   0%|          | 0/20 [00:00<?, ?it/s]"
      ]
     },
     "metadata": {},
     "output_type": "display_data"
    },
    {
     "data": {
      "application/vnd.jupyter.widget-view+json": {
       "model_id": "98e619d451864927a68e6cf737c4c720",
       "version_major": 2,
       "version_minor": 0
      },
      "text/plain": [
       "키워드 진행도:   0%|          | 0/73 [00:00<?, ?it/s]"
      ]
     },
     "metadata": {},
     "output_type": "display_data"
    },
    {
     "data": {
      "application/vnd.jupyter.widget-view+json": {
       "model_id": "98c9677c9f4b41ef907f136a2f7cfa92",
       "version_major": 2,
       "version_minor": 0
      },
      "text/plain": [
       "키워드 진행도:   0%|          | 0/31 [00:00<?, ?it/s]"
      ]
     },
     "metadata": {},
     "output_type": "display_data"
    },
    {
     "data": {
      "application/vnd.jupyter.widget-view+json": {
       "model_id": "8ee76a3caabd48aba9bda81b476034c0",
       "version_major": 2,
       "version_minor": 0
      },
      "text/plain": [
       "키워드 진행도:   0%|          | 0/37 [00:00<?, ?it/s]"
      ]
     },
     "metadata": {},
     "output_type": "display_data"
    },
    {
     "data": {
      "application/vnd.jupyter.widget-view+json": {
       "model_id": "5f6e0595f79d4ae58ab761a0b2a23e1c",
       "version_major": 2,
       "version_minor": 0
      },
      "text/plain": [
       "키워드 진행도:   0%|          | 0/83 [00:00<?, ?it/s]"
      ]
     },
     "metadata": {},
     "output_type": "display_data"
    },
    {
     "data": {
      "application/vnd.jupyter.widget-view+json": {
       "model_id": "6ea0d1bf391c4498a2173b632b0a134f",
       "version_major": 2,
       "version_minor": 0
      },
      "text/plain": [
       "키워드 진행도:   0%|          | 0/28 [00:00<?, ?it/s]"
      ]
     },
     "metadata": {},
     "output_type": "display_data"
    },
    {
     "data": {
      "application/vnd.jupyter.widget-view+json": {
       "model_id": "c68d6ff2e6084d55927edd955be7a636",
       "version_major": 2,
       "version_minor": 0
      },
      "text/plain": [
       "키워드 진행도:   0%|          | 0/24 [00:00<?, ?it/s]"
      ]
     },
     "metadata": {},
     "output_type": "display_data"
    },
    {
     "data": {
      "application/vnd.jupyter.widget-view+json": {
       "model_id": "37c719f1d86a4c56aac95ac568dfc486",
       "version_major": 2,
       "version_minor": 0
      },
      "text/plain": [
       "키워드 진행도:   0%|          | 0/61 [00:00<?, ?it/s]"
      ]
     },
     "metadata": {},
     "output_type": "display_data"
    },
    {
     "data": {
      "application/vnd.jupyter.widget-view+json": {
       "model_id": "3b628d13aceb45ffaada937b6ef9bebe",
       "version_major": 2,
       "version_minor": 0
      },
      "text/plain": [
       "키워드 진행도:   0%|          | 0/51 [00:00<?, ?it/s]"
      ]
     },
     "metadata": {},
     "output_type": "display_data"
    },
    {
     "data": {
      "application/vnd.jupyter.widget-view+json": {
       "model_id": "4cb0f6ac6edd472fbbaef6cbbb37d3b4",
       "version_major": 2,
       "version_minor": 0
      },
      "text/plain": [
       "키워드 진행도:   0%|          | 0/86 [00:00<?, ?it/s]"
      ]
     },
     "metadata": {},
     "output_type": "display_data"
    },
    {
     "data": {
      "application/vnd.jupyter.widget-view+json": {
       "model_id": "5563b6c3feac4621b2c7fd883f0055f7",
       "version_major": 2,
       "version_minor": 0
      },
      "text/plain": [
       "키워드 진행도:   0%|          | 0/155 [00:00<?, ?it/s]"
      ]
     },
     "metadata": {},
     "output_type": "display_data"
    },
    {
     "data": {
      "application/vnd.jupyter.widget-view+json": {
       "model_id": "7cbd9ebe9fd04aef86937604ddd1f836",
       "version_major": 2,
       "version_minor": 0
      },
      "text/plain": [
       "키워드 진행도:   0%|          | 0/69 [00:00<?, ?it/s]"
      ]
     },
     "metadata": {},
     "output_type": "display_data"
    },
    {
     "data": {
      "application/vnd.jupyter.widget-view+json": {
       "model_id": "1c52e3bc2f064bce9f01e69f8f2139a7",
       "version_major": 2,
       "version_minor": 0
      },
      "text/plain": [
       "키워드 진행도:   0%|          | 0/66 [00:00<?, ?it/s]"
      ]
     },
     "metadata": {},
     "output_type": "display_data"
    },
    {
     "data": {
      "application/vnd.jupyter.widget-view+json": {
       "model_id": "39783356375a468fb849d600d19cd3fa",
       "version_major": 2,
       "version_minor": 0
      },
      "text/plain": [
       "키워드 진행도:   0%|          | 0/26 [00:00<?, ?it/s]"
      ]
     },
     "metadata": {},
     "output_type": "display_data"
    },
    {
     "data": {
      "application/vnd.jupyter.widget-view+json": {
       "model_id": "77bcc9c9f6374aaba0e47ef8ccfa6bce",
       "version_major": 2,
       "version_minor": 0
      },
      "text/plain": [
       "키워드 진행도:   0%|          | 0/33 [00:00<?, ?it/s]"
      ]
     },
     "metadata": {},
     "output_type": "display_data"
    },
    {
     "data": {
      "application/vnd.jupyter.widget-view+json": {
       "model_id": "a8d7810a3aef4e31a86595d469ad4ebb",
       "version_major": 2,
       "version_minor": 0
      },
      "text/plain": [
       "키워드 진행도:   0%|          | 0/66 [00:00<?, ?it/s]"
      ]
     },
     "metadata": {},
     "output_type": "display_data"
    },
    {
     "data": {
      "application/vnd.jupyter.widget-view+json": {
       "model_id": "73f4272282594e4ebb73a5d662244fd9",
       "version_major": 2,
       "version_minor": 0
      },
      "text/plain": [
       "키워드 진행도:   0%|          | 0/35 [00:00<?, ?it/s]"
      ]
     },
     "metadata": {},
     "output_type": "display_data"
    },
    {
     "data": {
      "application/vnd.jupyter.widget-view+json": {
       "model_id": "fca2ac12d24f40baadb94425cd60bed5",
       "version_major": 2,
       "version_minor": 0
      },
      "text/plain": [
       "키워드 진행도:   0%|          | 0/67 [00:00<?, ?it/s]"
      ]
     },
     "metadata": {},
     "output_type": "display_data"
    },
    {
     "data": {
      "application/vnd.jupyter.widget-view+json": {
       "model_id": "b76ebff127574a91b55a70bef3100fec",
       "version_major": 2,
       "version_minor": 0
      },
      "text/plain": [
       "키워드 진행도:   0%|          | 0/25 [00:00<?, ?it/s]"
      ]
     },
     "metadata": {},
     "output_type": "display_data"
    },
    {
     "data": {
      "application/vnd.jupyter.widget-view+json": {
       "model_id": "f201918c9a4a4456ae5631c50dc37fb5",
       "version_major": 2,
       "version_minor": 0
      },
      "text/plain": [
       "키워드 진행도:   0%|          | 0/57 [00:00<?, ?it/s]"
      ]
     },
     "metadata": {},
     "output_type": "display_data"
    },
    {
     "data": {
      "application/vnd.jupyter.widget-view+json": {
       "model_id": "cddaa7f1386547279279aa27639790ec",
       "version_major": 2,
       "version_minor": 0
      },
      "text/plain": [
       "키워드 진행도:   0%|          | 0/28 [00:00<?, ?it/s]"
      ]
     },
     "metadata": {},
     "output_type": "display_data"
    },
    {
     "data": {
      "application/vnd.jupyter.widget-view+json": {
       "model_id": "4538e3195f3a432d997b22d1599fe02a",
       "version_major": 2,
       "version_minor": 0
      },
      "text/plain": [
       "키워드 진행도:   0%|          | 0/43 [00:00<?, ?it/s]"
      ]
     },
     "metadata": {},
     "output_type": "display_data"
    },
    {
     "data": {
      "application/vnd.jupyter.widget-view+json": {
       "model_id": "4e5ad08a221b49749b284881ae33dcc1",
       "version_major": 2,
       "version_minor": 0
      },
      "text/plain": [
       "키워드 진행도:   0%|          | 0/15 [00:00<?, ?it/s]"
      ]
     },
     "metadata": {},
     "output_type": "display_data"
    },
    {
     "data": {
      "application/vnd.jupyter.widget-view+json": {
       "model_id": "3d3f81899a86442ba4b3957e01aafe0b",
       "version_major": 2,
       "version_minor": 0
      },
      "text/plain": [
       "키워드 진행도:   0%|          | 0/76 [00:00<?, ?it/s]"
      ]
     },
     "metadata": {},
     "output_type": "display_data"
    },
    {
     "data": {
      "application/vnd.jupyter.widget-view+json": {
       "model_id": "3aa9e318efb340efaefde1c5faaa7cea",
       "version_major": 2,
       "version_minor": 0
      },
      "text/plain": [
       "키워드 진행도:   0%|          | 0/16 [00:00<?, ?it/s]"
      ]
     },
     "metadata": {},
     "output_type": "display_data"
    },
    {
     "data": {
      "application/vnd.jupyter.widget-view+json": {
       "model_id": "81309ff99d5349ea8bdfcf51c672bbb2",
       "version_major": 2,
       "version_minor": 0
      },
      "text/plain": [
       "키워드 진행도:   0%|          | 0/49 [00:00<?, ?it/s]"
      ]
     },
     "metadata": {},
     "output_type": "display_data"
    },
    {
     "data": {
      "application/vnd.jupyter.widget-view+json": {
       "model_id": "ac52d0bd5fb74a919051d992adc1e6e9",
       "version_major": 2,
       "version_minor": 0
      },
      "text/plain": [
       "키워드 진행도:   0%|          | 0/12 [00:00<?, ?it/s]"
      ]
     },
     "metadata": {},
     "output_type": "display_data"
    },
    {
     "data": {
      "application/vnd.jupyter.widget-view+json": {
       "model_id": "5c231bd63e724ecd8f299bd6c5b5765b",
       "version_major": 2,
       "version_minor": 0
      },
      "text/plain": [
       "키워드 진행도:   0%|          | 0/11 [00:00<?, ?it/s]"
      ]
     },
     "metadata": {},
     "output_type": "display_data"
    },
    {
     "data": {
      "application/vnd.jupyter.widget-view+json": {
       "model_id": "0e18a324525c46ddb77356a12b1e6a5a",
       "version_major": 2,
       "version_minor": 0
      },
      "text/plain": [
       "키워드 진행도:   0%|          | 0/1 [00:00<?, ?it/s]"
      ]
     },
     "metadata": {},
     "output_type": "display_data"
    },
    {
     "data": {
      "application/vnd.jupyter.widget-view+json": {
       "model_id": "340ec7183ec44ea2b2ca246617e817c3",
       "version_major": 2,
       "version_minor": 0
      },
      "text/plain": [
       "키워드 진행도:   0%|          | 0/10 [00:00<?, ?it/s]"
      ]
     },
     "metadata": {},
     "output_type": "display_data"
    },
    {
     "data": {
      "application/vnd.jupyter.widget-view+json": {
       "model_id": "2a3b971d57ac464fafcee697047b6bd5",
       "version_major": 2,
       "version_minor": 0
      },
      "text/plain": [
       "키워드 진행도:   0%|          | 0/116 [00:00<?, ?it/s]"
      ]
     },
     "metadata": {},
     "output_type": "display_data"
    },
    {
     "data": {
      "application/vnd.jupyter.widget-view+json": {
       "model_id": "c2ffc7199cdb43c7b0e9e9cf833c6865",
       "version_major": 2,
       "version_minor": 0
      },
      "text/plain": [
       "키워드 진행도:   0%|          | 0/20 [00:00<?, ?it/s]"
      ]
     },
     "metadata": {},
     "output_type": "display_data"
    },
    {
     "data": {
      "application/vnd.jupyter.widget-view+json": {
       "model_id": "6f65e1a0403b4bbab1a321a977961546",
       "version_major": 2,
       "version_minor": 0
      },
      "text/plain": [
       "키워드 진행도:   0%|          | 0/21 [00:00<?, ?it/s]"
      ]
     },
     "metadata": {},
     "output_type": "display_data"
    },
    {
     "data": {
      "application/vnd.jupyter.widget-view+json": {
       "model_id": "1e802d9e9e4443ac941b5e0cc2b29aa0",
       "version_major": 2,
       "version_minor": 0
      },
      "text/plain": [
       "키워드 진행도:   0%|          | 0/8 [00:00<?, ?it/s]"
      ]
     },
     "metadata": {},
     "output_type": "display_data"
    },
    {
     "data": {
      "application/vnd.jupyter.widget-view+json": {
       "model_id": "29242123f8c94f039a15f220b683eb49",
       "version_major": 2,
       "version_minor": 0
      },
      "text/plain": [
       "키워드 진행도:   0%|          | 0/12 [00:00<?, ?it/s]"
      ]
     },
     "metadata": {},
     "output_type": "display_data"
    },
    {
     "data": {
      "application/vnd.jupyter.widget-view+json": {
       "model_id": "256e21ad7a0145cea00716b1b45f306a",
       "version_major": 2,
       "version_minor": 0
      },
      "text/plain": [
       "키워드 진행도:   0%|          | 0/43 [00:00<?, ?it/s]"
      ]
     },
     "metadata": {},
     "output_type": "display_data"
    },
    {
     "data": {
      "application/vnd.jupyter.widget-view+json": {
       "model_id": "b97284164b8543079cc851141dec84c3",
       "version_major": 2,
       "version_minor": 0
      },
      "text/plain": [
       "키워드 진행도:   0%|          | 0/28 [00:00<?, ?it/s]"
      ]
     },
     "metadata": {},
     "output_type": "display_data"
    },
    {
     "data": {
      "application/vnd.jupyter.widget-view+json": {
       "model_id": "3dc012f41b4f47e094cf647b35982ff2",
       "version_major": 2,
       "version_minor": 0
      },
      "text/plain": [
       "키워드 진행도:   0%|          | 0/13 [00:00<?, ?it/s]"
      ]
     },
     "metadata": {},
     "output_type": "display_data"
    },
    {
     "data": {
      "application/vnd.jupyter.widget-view+json": {
       "model_id": "51ab211971b944318d6c04eac61e0410",
       "version_major": 2,
       "version_minor": 0
      },
      "text/plain": [
       "키워드 진행도:   0%|          | 0/36 [00:00<?, ?it/s]"
      ]
     },
     "metadata": {},
     "output_type": "display_data"
    },
    {
     "data": {
      "application/vnd.jupyter.widget-view+json": {
       "model_id": "566668383df643c3885360f0d439849e",
       "version_major": 2,
       "version_minor": 0
      },
      "text/plain": [
       "키워드 진행도:   0%|          | 0/16 [00:00<?, ?it/s]"
      ]
     },
     "metadata": {},
     "output_type": "display_data"
    },
    {
     "data": {
      "application/vnd.jupyter.widget-view+json": {
       "model_id": "2abd32dc79c6468c9f7dcaddef3a57f9",
       "version_major": 2,
       "version_minor": 0
      },
      "text/plain": [
       "키워드 진행도:   0%|          | 0/13 [00:00<?, ?it/s]"
      ]
     },
     "metadata": {},
     "output_type": "display_data"
    },
    {
     "data": {
      "application/vnd.jupyter.widget-view+json": {
       "model_id": "aadbb4fd4dad411caafad207dab4f15b",
       "version_major": 2,
       "version_minor": 0
      },
      "text/plain": [
       "키워드 진행도:   0%|          | 0/25 [00:00<?, ?it/s]"
      ]
     },
     "metadata": {},
     "output_type": "display_data"
    },
    {
     "data": {
      "application/vnd.jupyter.widget-view+json": {
       "model_id": "5a928d2fee394def8402669356a1af48",
       "version_major": 2,
       "version_minor": 0
      },
      "text/plain": [
       "키워드 진행도:   0%|          | 0/9 [00:00<?, ?it/s]"
      ]
     },
     "metadata": {},
     "output_type": "display_data"
    },
    {
     "data": {
      "application/vnd.jupyter.widget-view+json": {
       "model_id": "db690724f1b3416c97cb9fbadcd2b494",
       "version_major": 2,
       "version_minor": 0
      },
      "text/plain": [
       "키워드 진행도:   0%|          | 0/40 [00:00<?, ?it/s]"
      ]
     },
     "metadata": {},
     "output_type": "display_data"
    },
    {
     "data": {
      "application/vnd.jupyter.widget-view+json": {
       "model_id": "eee9110534c54eda80235a2d261742ce",
       "version_major": 2,
       "version_minor": 0
      },
      "text/plain": [
       "키워드 진행도:   0%|          | 0/58 [00:00<?, ?it/s]"
      ]
     },
     "metadata": {},
     "output_type": "display_data"
    },
    {
     "data": {
      "application/vnd.jupyter.widget-view+json": {
       "model_id": "44a7c8f556314684bf91f6508cd50fb5",
       "version_major": 2,
       "version_minor": 0
      },
      "text/plain": [
       "키워드 진행도:   0%|          | 0/60 [00:00<?, ?it/s]"
      ]
     },
     "metadata": {},
     "output_type": "display_data"
    },
    {
     "data": {
      "application/vnd.jupyter.widget-view+json": {
       "model_id": "4df9dcc3f1444b17b98f444b357c28a7",
       "version_major": 2,
       "version_minor": 0
      },
      "text/plain": [
       "키워드 진행도:   0%|          | 0/23 [00:00<?, ?it/s]"
      ]
     },
     "metadata": {},
     "output_type": "display_data"
    },
    {
     "data": {
      "application/vnd.jupyter.widget-view+json": {
       "model_id": "056b61922c4d4a42b1d378ffc6426d37",
       "version_major": 2,
       "version_minor": 0
      },
      "text/plain": [
       "키워드 진행도:   0%|          | 0/199 [00:00<?, ?it/s]"
      ]
     },
     "metadata": {},
     "output_type": "display_data"
    },
    {
     "data": {
      "application/vnd.jupyter.widget-view+json": {
       "model_id": "68bbf003056d4667a9ed338111672174",
       "version_major": 2,
       "version_minor": 0
      },
      "text/plain": [
       "키워드 진행도:   0%|          | 0/6 [00:00<?, ?it/s]"
      ]
     },
     "metadata": {},
     "output_type": "display_data"
    },
    {
     "data": {
      "application/vnd.jupyter.widget-view+json": {
       "model_id": "09e69ae36ed54a5eacdcdd9909dfaa3f",
       "version_major": 2,
       "version_minor": 0
      },
      "text/plain": [
       "키워드 진행도:   0%|          | 0/34 [00:00<?, ?it/s]"
      ]
     },
     "metadata": {},
     "output_type": "display_data"
    },
    {
     "data": {
      "application/vnd.jupyter.widget-view+json": {
       "model_id": "51676782248742f187a74ffd91113cd8",
       "version_major": 2,
       "version_minor": 0
      },
      "text/plain": [
       "키워드 진행도:   0%|          | 0/25 [00:00<?, ?it/s]"
      ]
     },
     "metadata": {},
     "output_type": "display_data"
    },
    {
     "data": {
      "application/vnd.jupyter.widget-view+json": {
       "model_id": "0eb50a9e5e314ff98ad1cbaf2e6b028c",
       "version_major": 2,
       "version_minor": 0
      },
      "text/plain": [
       "키워드 진행도:   0%|          | 0/102 [00:00<?, ?it/s]"
      ]
     },
     "metadata": {},
     "output_type": "display_data"
    },
    {
     "data": {
      "application/vnd.jupyter.widget-view+json": {
       "model_id": "c666eaf554ed4a0480a74def91689aec",
       "version_major": 2,
       "version_minor": 0
      },
      "text/plain": [
       "키워드 진행도:   0%|          | 0/53 [00:00<?, ?it/s]"
      ]
     },
     "metadata": {},
     "output_type": "display_data"
    },
    {
     "data": {
      "application/vnd.jupyter.widget-view+json": {
       "model_id": "daf96e61377a4e70b4447559e46ff3ae",
       "version_major": 2,
       "version_minor": 0
      },
      "text/plain": [
       "키워드 진행도:   0%|          | 0/33 [00:00<?, ?it/s]"
      ]
     },
     "metadata": {},
     "output_type": "display_data"
    },
    {
     "data": {
      "application/vnd.jupyter.widget-view+json": {
       "model_id": "4f44f20b02f744979cab4cc991b211e5",
       "version_major": 2,
       "version_minor": 0
      },
      "text/plain": [
       "키워드 진행도:   0%|          | 0/46 [00:00<?, ?it/s]"
      ]
     },
     "metadata": {},
     "output_type": "display_data"
    },
    {
     "data": {
      "application/vnd.jupyter.widget-view+json": {
       "model_id": "99a849fc28e043c9baea4f7fdb21469a",
       "version_major": 2,
       "version_minor": 0
      },
      "text/plain": [
       "키워드 진행도:   0%|          | 0/8 [00:00<?, ?it/s]"
      ]
     },
     "metadata": {},
     "output_type": "display_data"
    },
    {
     "data": {
      "application/vnd.jupyter.widget-view+json": {
       "model_id": "3b25fb3f6c3c4880b5ae6f8f522353ac",
       "version_major": 2,
       "version_minor": 0
      },
      "text/plain": [
       "키워드 진행도:   0%|          | 0/14 [00:00<?, ?it/s]"
      ]
     },
     "metadata": {},
     "output_type": "display_data"
    },
    {
     "data": {
      "application/vnd.jupyter.widget-view+json": {
       "model_id": "b098fbbe1e1c439b82e77c306207fc24",
       "version_major": 2,
       "version_minor": 0
      },
      "text/plain": [
       "키워드 진행도:   0%|          | 0/9 [00:00<?, ?it/s]"
      ]
     },
     "metadata": {},
     "output_type": "display_data"
    },
    {
     "data": {
      "application/vnd.jupyter.widget-view+json": {
       "model_id": "64984955f95743b79a6ee4f6a8b26bf6",
       "version_major": 2,
       "version_minor": 0
      },
      "text/plain": [
       "키워드 진행도:   0%|          | 0/57 [00:00<?, ?it/s]"
      ]
     },
     "metadata": {},
     "output_type": "display_data"
    },
    {
     "data": {
      "application/vnd.jupyter.widget-view+json": {
       "model_id": "704a0f7a2bf5483786c7a54bcd235308",
       "version_major": 2,
       "version_minor": 0
      },
      "text/plain": [
       "키워드 진행도:   0%|          | 0/134 [00:00<?, ?it/s]"
      ]
     },
     "metadata": {},
     "output_type": "display_data"
    },
    {
     "data": {
      "application/vnd.jupyter.widget-view+json": {
       "model_id": "b8b5fce050e74e4eb90e289c4f68403f",
       "version_major": 2,
       "version_minor": 0
      },
      "text/plain": [
       "키워드 진행도:   0%|          | 0/15 [00:00<?, ?it/s]"
      ]
     },
     "metadata": {},
     "output_type": "display_data"
    },
    {
     "data": {
      "application/vnd.jupyter.widget-view+json": {
       "model_id": "ff9a546b76474dc1bfd786579d24bcbd",
       "version_major": 2,
       "version_minor": 0
      },
      "text/plain": [
       "키워드 진행도:   0%|          | 0/18 [00:00<?, ?it/s]"
      ]
     },
     "metadata": {},
     "output_type": "display_data"
    },
    {
     "data": {
      "application/vnd.jupyter.widget-view+json": {
       "model_id": "d7740d5aff454dfeb76ca9e265d0da9d",
       "version_major": 2,
       "version_minor": 0
      },
      "text/plain": [
       "키워드 진행도:   0%|          | 0/21 [00:00<?, ?it/s]"
      ]
     },
     "metadata": {},
     "output_type": "display_data"
    },
    {
     "data": {
      "application/vnd.jupyter.widget-view+json": {
       "model_id": "ec6a634afeed4f6598f466e97e6904c7",
       "version_major": 2,
       "version_minor": 0
      },
      "text/plain": [
       "키워드 진행도:   0%|          | 0/29 [00:00<?, ?it/s]"
      ]
     },
     "metadata": {},
     "output_type": "display_data"
    },
    {
     "data": {
      "application/vnd.jupyter.widget-view+json": {
       "model_id": "946a843edf63403eb5c0f87a8b916549",
       "version_major": 2,
       "version_minor": 0
      },
      "text/plain": [
       "키워드 진행도:   0%|          | 0/7 [00:00<?, ?it/s]"
      ]
     },
     "metadata": {},
     "output_type": "display_data"
    },
    {
     "data": {
      "application/vnd.jupyter.widget-view+json": {
       "model_id": "e4c96133f7e2400e85faba5a5d06e090",
       "version_major": 2,
       "version_minor": 0
      },
      "text/plain": [
       "키워드 진행도:   0%|          | 0/7 [00:00<?, ?it/s]"
      ]
     },
     "metadata": {},
     "output_type": "display_data"
    },
    {
     "data": {
      "application/vnd.jupyter.widget-view+json": {
       "model_id": "3df3c6acc84f45cf8468653a4d2f12c7",
       "version_major": 2,
       "version_minor": 0
      },
      "text/plain": [
       "키워드 진행도:   0%|          | 0/2 [00:00<?, ?it/s]"
      ]
     },
     "metadata": {},
     "output_type": "display_data"
    },
    {
     "data": {
      "application/vnd.jupyter.widget-view+json": {
       "model_id": "1305fb7c969d48709b9ac0a10b1f439a",
       "version_major": 2,
       "version_minor": 0
      },
      "text/plain": [
       "키워드 진행도:   0%|          | 0/31 [00:00<?, ?it/s]"
      ]
     },
     "metadata": {},
     "output_type": "display_data"
    },
    {
     "data": {
      "application/vnd.jupyter.widget-view+json": {
       "model_id": "a31f288a2f654cb988b5ba0504c0b417",
       "version_major": 2,
       "version_minor": 0
      },
      "text/plain": [
       "키워드 진행도:   0%|          | 0/52 [00:00<?, ?it/s]"
      ]
     },
     "metadata": {},
     "output_type": "display_data"
    },
    {
     "data": {
      "application/vnd.jupyter.widget-view+json": {
       "model_id": "b0ac0aa52f1045d4b2c097c2776f2723",
       "version_major": 2,
       "version_minor": 0
      },
      "text/plain": [
       "키워드 진행도:   0%|          | 0/92 [00:00<?, ?it/s]"
      ]
     },
     "metadata": {},
     "output_type": "display_data"
    },
    {
     "data": {
      "application/vnd.jupyter.widget-view+json": {
       "model_id": "679bb99515264466af4cb62d461798a1",
       "version_major": 2,
       "version_minor": 0
      },
      "text/plain": [
       "키워드 진행도:   0%|          | 0/41 [00:00<?, ?it/s]"
      ]
     },
     "metadata": {},
     "output_type": "display_data"
    },
    {
     "data": {
      "application/vnd.jupyter.widget-view+json": {
       "model_id": "1a9b33c972334ba79f28a62940710bb0",
       "version_major": 2,
       "version_minor": 0
      },
      "text/plain": [
       "키워드 진행도:   0%|          | 0/38 [00:00<?, ?it/s]"
      ]
     },
     "metadata": {},
     "output_type": "display_data"
    },
    {
     "data": {
      "application/vnd.jupyter.widget-view+json": {
       "model_id": "719a9b962cde458b981ac09a43ad3953",
       "version_major": 2,
       "version_minor": 0
      },
      "text/plain": [
       "키워드 진행도:   0%|          | 0/13 [00:00<?, ?it/s]"
      ]
     },
     "metadata": {},
     "output_type": "display_data"
    },
    {
     "data": {
      "application/vnd.jupyter.widget-view+json": {
       "model_id": "204d289265354f1dadbd429d48169816",
       "version_major": 2,
       "version_minor": 0
      },
      "text/plain": [
       "키워드 진행도:   0%|          | 0/13 [00:00<?, ?it/s]"
      ]
     },
     "metadata": {},
     "output_type": "display_data"
    },
    {
     "data": {
      "application/vnd.jupyter.widget-view+json": {
       "model_id": "685d7da3d1d84c299a4fb2da7d12e9e5",
       "version_major": 2,
       "version_minor": 0
      },
      "text/plain": [
       "키워드 진행도:   0%|          | 0/27 [00:00<?, ?it/s]"
      ]
     },
     "metadata": {},
     "output_type": "display_data"
    },
    {
     "data": {
      "application/vnd.jupyter.widget-view+json": {
       "model_id": "b0f5d6553a3b439a998dcd78665d5366",
       "version_major": 2,
       "version_minor": 0
      },
      "text/plain": [
       "키워드 진행도:   0%|          | 0/100 [00:00<?, ?it/s]"
      ]
     },
     "metadata": {},
     "output_type": "display_data"
    },
    {
     "data": {
      "application/vnd.jupyter.widget-view+json": {
       "model_id": "d3328e8ccedd4dbdbdfb1363e5ae5918",
       "version_major": 2,
       "version_minor": 0
      },
      "text/plain": [
       "키워드 진행도:   0%|          | 0/42 [00:00<?, ?it/s]"
      ]
     },
     "metadata": {},
     "output_type": "display_data"
    },
    {
     "data": {
      "application/vnd.jupyter.widget-view+json": {
       "model_id": "0cbf21f7bcd2449897d4d2327327efd6",
       "version_major": 2,
       "version_minor": 0
      },
      "text/plain": [
       "키워드 진행도:   0%|          | 0/1 [00:00<?, ?it/s]"
      ]
     },
     "metadata": {},
     "output_type": "display_data"
    },
    {
     "name": "stderr",
     "output_type": "stream",
     "text": [
      "IOPub message rate exceeded.\n",
      "The notebook server will temporarily stop sending output\n",
      "to the client in order to avoid crashing it.\n",
      "To change this limit, set the config variable\n",
      "`--NotebookApp.iopub_msg_rate_limit`.\n",
      "\n",
      "Current values:\n",
      "NotebookApp.iopub_msg_rate_limit=1000.0 (msgs/sec)\n",
      "NotebookApp.rate_limit_window=3.0 (secs)\n",
      "\n"
     ]
    },
    {
     "name": "stdout",
     "output_type": "stream",
     "text": [
      "error 발생, 10초 대기 --> 키워드 :  중식도\n",
      "error 발생, 10초 대기 --> 키워드 :  참치기름빼기\n",
      "error 발생, 10초 대기 --> 키워드 :  세무사기출문제\n",
      "error 발생, 10초 대기 --> 키워드 :  jnl-354k\n",
      "error 발생, 10초 대기 --> 키워드 :  오발플레이트\n",
      "error 발생, 10초 대기 --> 키워드 :  명상종\n",
      "error 발생, 10초 대기 --> 키워드 :  디자인나이프\n",
      "error 발생, 10초 대기 --> 키워드 :  체칼\n",
      "error 발생, 10초 대기 --> 키워드 :  이국주깨갈이\n"
     ]
    }
   ],
   "source": [
    "import json\n",
    "import csv\n",
    "import urllib.request\n",
    "from tqdm import notebook\n",
    "from joblib import Parallel, delayed\n",
    "from config import *\n",
    "from infsell import *\n",
    "\n",
    "\n",
    "\n",
    "def extract_keywords(category,client_auth):\n",
    "    \n",
    "    category_id = category[0]\n",
    "    category_name = category[1]\n",
    "    \n",
    "    url_data = \"https://api.itemscout.io/api/category/{0}/data\".format(category_id)\n",
    "    url_brands = \"https://api.itemscout.io/api/category/{0}/brands\".format(category_id)\n",
    "    response_data = requests.post(url_data, json=PAYLOAD)\n",
    "    response_brands = requests.get(url_brands)\n",
    "    data = response_data.json()['data']['data']\n",
    "    brands = response_brands.json()['data']\n",
    "    brands = remove_a_word(brands)\n",
    "    \n",
    "    keywords,dict_clicks = get_keywords(data)\n",
    "    keywords_nb = remove_brands(keywords,brands)\n",
    "    \n",
    "    for keyword in notebook.tqdm(keywords_nb, desc = \"키워드 진행도\"):\n",
    "\n",
    "        encText = urllib.parse.quote(keyword)\n",
    "        url_excluding_oversea = \"https://openapi.naver.com/v1/search/shop.json?display=80&exclude=cbshop&query=\" + encText\n",
    "        url_items = \"https://openapi.naver.com/v1/search/shop.json?display=80&query=\" + encText # JSON 결과\n",
    "\n",
    "        try:\n",
    "            items_excluding_oversea = get_items(url_excluding_oversea,client_auth)\n",
    "            items = get_items(url_items,client_auth)\n",
    "            dict_excluding_oversea = {}\n",
    "\n",
    "            for item in items_excluding_oversea:\n",
    "                dict_excluding_oversea[item['productId']]=1\n",
    "\n",
    "            cnt = 0 \n",
    "            for item in items :\n",
    "                if item['productId'] not in dict_excluding_oversea:\n",
    "                    cnt+=1\n",
    "\n",
    "            info_keyword={}\n",
    "            info_keyword['카테고리'] = category_name\n",
    "            info_keyword['키워드'] = keyword\n",
    "            info_keyword['검색수'] = dict_clicks[keyword]\n",
    "            info_keyword['해외배송개수'] = cnt\n",
    "\n",
    "            final_keywords.append(info_keyword)\n",
    "\n",
    "        except:\n",
    "            print('error 발생, 10초 대기 --> 키워드 : ', keyword)\n",
    "            pass\n",
    "\n",
    "#멀티코어 개수\n",
    "num_core = 12\n",
    "\n",
    "cnt_keyword=0\n",
    "path_auth='auth_api.txt'\n",
    "client_auth = get_auth_api(path_auth)\n",
    "final_keywords = []\n",
    "\n",
    "with Parallel(n_jobs=num_core, require='sharedmem') as parallel:\n",
    "    parallel(delayed(extract_keywords)(category,client_auth)for category in notebook.tqdm(leaf_category))\n",
    "    "
   ]
  },
  {
   "cell_type": "code",
   "execution_count": 14,
   "id": "ad8f981f",
   "metadata": {},
   "outputs": [
    {
     "name": "stdout",
     "output_type": "stream",
     "text": [
      "84282\n"
     ]
    }
   ],
   "source": [
    "print(len(final_keywords))"
   ]
  },
  {
   "cell_type": "code",
   "execution_count": 15,
   "id": "45ca397c",
   "metadata": {
    "scrolled": true
   },
   "outputs": [
    {
     "name": "stdout",
     "output_type": "stream",
     "text": [
      "엑셀 변환 완료\n"
     ]
    }
   ],
   "source": [
    "from infsell import convert_dict_to_excel\n",
    "import openpyxl\n",
    "\n",
    "name_file = '2023_06_10_top500_키워드'\n",
    "\n",
    "convert_dict_to_excel(name_file, final_keywords)"
   ]
  }
 ],
 "metadata": {
  "kernelspec": {
   "display_name": "Python 3 (ipykernel)",
   "language": "python",
   "name": "python3"
  },
  "language_info": {
   "codemirror_mode": {
    "name": "ipython",
    "version": 3
   },
   "file_extension": ".py",
   "mimetype": "text/x-python",
   "name": "python",
   "nbconvert_exporter": "python",
   "pygments_lexer": "ipython3",
   "version": "3.8.5"
  }
 },
 "nbformat": 4,
 "nbformat_minor": 5
}
