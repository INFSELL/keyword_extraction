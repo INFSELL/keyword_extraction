{
 "cells": [
  {
   "cell_type": "code",
   "execution_count": 1,
   "id": "73132983",
   "metadata": {},
   "outputs": [
    {
     "name": "stdout",
     "output_type": "stream",
     "text": [
      "480\n"
     ]
    }
   ],
   "source": [
    "import requests\n",
    "from copy import copy\n",
    "\n",
    "\n",
    "def dfs(category_id):\n",
    "    url = \"https://api.itemscout.io/api/category/{0}/subcategories\".format(category_id)\n",
    "    response = requests.get(url = url)\n",
    "    \n",
    "    for d in response.json()['data']:\n",
    "\n",
    "        d_id = d['id']\n",
    "        d_name = d['name']\n",
    "        d_is_leaf = d['is_leaf']\n",
    "        \n",
    "        if(d_is_leaf):\n",
    "            leaf_id = copy(d_id)\n",
    "            leaf_name = copy(d_name)\n",
    "            leaf_category.append([leaf_id,leaf_name])\n",
    "            \n",
    "        else:\n",
    "            dfs(d_id)\n",
    "    \n",
    "paths = []\n",
    "leaf_category = []\n",
    "starting_category = [1,2,3,4,5,8,9] #출산/육아(6) , 식품 제외(7)\n",
    "\n",
    "\n",
    "dfs(8)\n",
    "\n",
    "print(len(leaf_category))\n",
    "#1 : 패션의류 --> 68개 \n",
    "#2 : 패션잡화 --> 264개\n",
    "#3 : 화장품/미용 --> 157개\n",
    "#4 : 디지털/가전 --> 681개\n",
    "#5 : 가구/인테리어 --> 354개\n",
    "#6 : 출산/육아 (X)\n",
    "#7 : 식품 (X)\n",
    "#8 : 스포츠/레저 --> 카테고리 : 480개, 키워드 : 154207개 --> 필터 적용 : 20000개\n",
    "#9 : 생활/건강 --> 카테고리 : 1227개, 키워드 : 465817개 --> 필터 적용 : 61751개\n",
    "\n",
    "#app 1개당 기본 api 12500개 \n",
    "#계정 1개당 app 10개, api 125000개\n",
    "\n",
    "#계정 2개면 충분!"
   ]
  },
  {
   "cell_type": "code",
   "execution_count": 2,
   "id": "fe8aea98",
   "metadata": {
    "scrolled": true
   },
   "outputs": [
    {
     "data": {
      "application/vnd.jupyter.widget-view+json": {
       "model_id": "3e6469d3815a446fa8213ea21fe4d047",
       "version_major": 2,
       "version_minor": 0
      },
      "text/plain": [
       "  0%|          | 0/480 [00:00<?, ?it/s]"
      ]
     },
     "metadata": {},
     "output_type": "display_data"
    },
    {
     "data": {
      "application/vnd.jupyter.widget-view+json": {
       "model_id": "f76c3fb6cbfa436995412afba0a4dc4f",
       "version_major": 2,
       "version_minor": 0
      },
      "text/plain": [
       "키워드 진행도:   0%|          | 0/71 [00:00<?, ?it/s]"
      ]
     },
     "metadata": {},
     "output_type": "display_data"
    },
    {
     "data": {
      "application/vnd.jupyter.widget-view+json": {
       "model_id": "82f7f70e790c4464a0a99fc078c1102a",
       "version_major": 2,
       "version_minor": 0
      },
      "text/plain": [
       "키워드 진행도:   0%|          | 0/45 [00:00<?, ?it/s]"
      ]
     },
     "metadata": {},
     "output_type": "display_data"
    },
    {
     "data": {
      "application/vnd.jupyter.widget-view+json": {
       "model_id": "a9e9abc14a84465c906c0f582590f6ca",
       "version_major": 2,
       "version_minor": 0
      },
      "text/plain": [
       "키워드 진행도:   0%|          | 0/59 [00:00<?, ?it/s]"
      ]
     },
     "metadata": {},
     "output_type": "display_data"
    },
    {
     "data": {
      "application/vnd.jupyter.widget-view+json": {
       "model_id": "c16f73ac9c13436fbd28f76e40b40f3d",
       "version_major": 2,
       "version_minor": 0
      },
      "text/plain": [
       "키워드 진행도:   0%|          | 0/84 [00:00<?, ?it/s]"
      ]
     },
     "metadata": {},
     "output_type": "display_data"
    },
    {
     "data": {
      "application/vnd.jupyter.widget-view+json": {
       "model_id": "82379c763a444809871296ac959d18d0",
       "version_major": 2,
       "version_minor": 0
      },
      "text/plain": [
       "키워드 진행도:   0%|          | 0/70 [00:00<?, ?it/s]"
      ]
     },
     "metadata": {},
     "output_type": "display_data"
    },
    {
     "data": {
      "application/vnd.jupyter.widget-view+json": {
       "model_id": "3d07527c0dcd4c9db0f1ffc0f407b1c8",
       "version_major": 2,
       "version_minor": 0
      },
      "text/plain": [
       "키워드 진행도:   0%|          | 0/60 [00:00<?, ?it/s]"
      ]
     },
     "metadata": {},
     "output_type": "display_data"
    },
    {
     "data": {
      "application/vnd.jupyter.widget-view+json": {
       "model_id": "82dce65d766b4bb59ac31f3e54f1b13e",
       "version_major": 2,
       "version_minor": 0
      },
      "text/plain": [
       "키워드 진행도:   0%|          | 0/38 [00:00<?, ?it/s]"
      ]
     },
     "metadata": {},
     "output_type": "display_data"
    },
    {
     "data": {
      "application/vnd.jupyter.widget-view+json": {
       "model_id": "f63ac3dbfba641cc8ee70b54ce8cdcfc",
       "version_major": 2,
       "version_minor": 0
      },
      "text/plain": [
       "키워드 진행도:   0%|          | 0/138 [00:00<?, ?it/s]"
      ]
     },
     "metadata": {},
     "output_type": "display_data"
    },
    {
     "data": {
      "application/vnd.jupyter.widget-view+json": {
       "model_id": "eda02e38e5494950a70399d5f3e0791a",
       "version_major": 2,
       "version_minor": 0
      },
      "text/plain": [
       "키워드 진행도:   0%|          | 0/124 [00:00<?, ?it/s]"
      ]
     },
     "metadata": {},
     "output_type": "display_data"
    },
    {
     "data": {
      "application/vnd.jupyter.widget-view+json": {
       "model_id": "122610fc9dfe4b488e87f53677cbc984",
       "version_major": 2,
       "version_minor": 0
      },
      "text/plain": [
       "키워드 진행도:   0%|          | 0/104 [00:00<?, ?it/s]"
      ]
     },
     "metadata": {},
     "output_type": "display_data"
    },
    {
     "data": {
      "application/vnd.jupyter.widget-view+json": {
       "model_id": "cfbbf4f284214d508296432eed4853cd",
       "version_major": 2,
       "version_minor": 0
      },
      "text/plain": [
       "키워드 진행도:   0%|          | 0/76 [00:00<?, ?it/s]"
      ]
     },
     "metadata": {},
     "output_type": "display_data"
    },
    {
     "data": {
      "application/vnd.jupyter.widget-view+json": {
       "model_id": "baf38c4c1ece4f9d82270be320376d2c",
       "version_major": 2,
       "version_minor": 0
      },
      "text/plain": [
       "키워드 진행도:   0%|          | 0/63 [00:00<?, ?it/s]"
      ]
     },
     "metadata": {},
     "output_type": "display_data"
    },
    {
     "data": {
      "application/vnd.jupyter.widget-view+json": {
       "model_id": "f9b2f80a7083438e87ee2d6c95086145",
       "version_major": 2,
       "version_minor": 0
      },
      "text/plain": [
       "키워드 진행도:   0%|          | 0/26 [00:00<?, ?it/s]"
      ]
     },
     "metadata": {},
     "output_type": "display_data"
    },
    {
     "data": {
      "application/vnd.jupyter.widget-view+json": {
       "model_id": "9c0e78ff3e494fb1936600c706b9b9c9",
       "version_major": 2,
       "version_minor": 0
      },
      "text/plain": [
       "키워드 진행도:   0%|          | 0/29 [00:00<?, ?it/s]"
      ]
     },
     "metadata": {},
     "output_type": "display_data"
    },
    {
     "data": {
      "application/vnd.jupyter.widget-view+json": {
       "model_id": "692c198f971f4f5c908e10ca3a8c9531",
       "version_major": 2,
       "version_minor": 0
      },
      "text/plain": [
       "키워드 진행도:   0%|          | 0/10 [00:00<?, ?it/s]"
      ]
     },
     "metadata": {},
     "output_type": "display_data"
    },
    {
     "data": {
      "application/vnd.jupyter.widget-view+json": {
       "model_id": "42e339db0e974ef0a84ad91200e092cc",
       "version_major": 2,
       "version_minor": 0
      },
      "text/plain": [
       "키워드 진행도:   0%|          | 0/20 [00:00<?, ?it/s]"
      ]
     },
     "metadata": {},
     "output_type": "display_data"
    },
    {
     "data": {
      "application/vnd.jupyter.widget-view+json": {
       "model_id": "9e9d8709779d45038578b8136417d105",
       "version_major": 2,
       "version_minor": 0
      },
      "text/plain": [
       "키워드 진행도:   0%|          | 0/15 [00:00<?, ?it/s]"
      ]
     },
     "metadata": {},
     "output_type": "display_data"
    },
    {
     "data": {
      "application/vnd.jupyter.widget-view+json": {
       "model_id": "09e1c4246cb44783a97981e749d9a90b",
       "version_major": 2,
       "version_minor": 0
      },
      "text/plain": [
       "키워드 진행도:   0%|          | 0/22 [00:00<?, ?it/s]"
      ]
     },
     "metadata": {},
     "output_type": "display_data"
    },
    {
     "data": {
      "application/vnd.jupyter.widget-view+json": {
       "model_id": "030b851f7b1f482b9eb2ee7bc4f822f7",
       "version_major": 2,
       "version_minor": 0
      },
      "text/plain": [
       "키워드 진행도:   0%|          | 0/2 [00:00<?, ?it/s]"
      ]
     },
     "metadata": {},
     "output_type": "display_data"
    },
    {
     "data": {
      "application/vnd.jupyter.widget-view+json": {
       "model_id": "46bdb10b3ca54f6bb42cd326891f9344",
       "version_major": 2,
       "version_minor": 0
      },
      "text/plain": [
       "키워드 진행도:   0%|          | 0/33 [00:00<?, ?it/s]"
      ]
     },
     "metadata": {},
     "output_type": "display_data"
    },
    {
     "data": {
      "application/vnd.jupyter.widget-view+json": {
       "model_id": "4a03b2f6221e4d108d94a6dcc18d845e",
       "version_major": 2,
       "version_minor": 0
      },
      "text/plain": [
       "키워드 진행도:   0%|          | 0/24 [00:00<?, ?it/s]"
      ]
     },
     "metadata": {},
     "output_type": "display_data"
    },
    {
     "data": {
      "application/vnd.jupyter.widget-view+json": {
       "model_id": "f74494d020c34998b48ce79bba8d0aa0",
       "version_major": 2,
       "version_minor": 0
      },
      "text/plain": [
       "키워드 진행도:   0%|          | 0/13 [00:00<?, ?it/s]"
      ]
     },
     "metadata": {},
     "output_type": "display_data"
    },
    {
     "data": {
      "application/vnd.jupyter.widget-view+json": {
       "model_id": "1a9a0de1e19a4f0b9d5f7329124300cc",
       "version_major": 2,
       "version_minor": 0
      },
      "text/plain": [
       "키워드 진행도:   0%|          | 0/10 [00:00<?, ?it/s]"
      ]
     },
     "metadata": {},
     "output_type": "display_data"
    },
    {
     "data": {
      "application/vnd.jupyter.widget-view+json": {
       "model_id": "3e696e43269d415cbfe10dfcd2b7bf64",
       "version_major": 2,
       "version_minor": 0
      },
      "text/plain": [
       "키워드 진행도:   0%|          | 0/143 [00:00<?, ?it/s]"
      ]
     },
     "metadata": {},
     "output_type": "display_data"
    },
    {
     "data": {
      "application/vnd.jupyter.widget-view+json": {
       "model_id": "b6cec98aad8d4b1ab07ba47f6917c837",
       "version_major": 2,
       "version_minor": 0
      },
      "text/plain": [
       "키워드 진행도:   0%|          | 0/149 [00:00<?, ?it/s]"
      ]
     },
     "metadata": {},
     "output_type": "display_data"
    },
    {
     "data": {
      "application/vnd.jupyter.widget-view+json": {
       "model_id": "3a31343ec19f43cdbc9c6956796f6e2d",
       "version_major": 2,
       "version_minor": 0
      },
      "text/plain": [
       "키워드 진행도:   0%|          | 0/64 [00:00<?, ?it/s]"
      ]
     },
     "metadata": {},
     "output_type": "display_data"
    },
    {
     "data": {
      "application/vnd.jupyter.widget-view+json": {
       "model_id": "3590062b5d534c758251d733bf942391",
       "version_major": 2,
       "version_minor": 0
      },
      "text/plain": [
       "키워드 진행도:   0%|          | 0/137 [00:00<?, ?it/s]"
      ]
     },
     "metadata": {},
     "output_type": "display_data"
    },
    {
     "data": {
      "application/vnd.jupyter.widget-view+json": {
       "model_id": "73277e80e46c4e16abeedecd95aeef0e",
       "version_major": 2,
       "version_minor": 0
      },
      "text/plain": [
       "키워드 진행도:   0%|          | 0/96 [00:00<?, ?it/s]"
      ]
     },
     "metadata": {},
     "output_type": "display_data"
    },
    {
     "data": {
      "application/vnd.jupyter.widget-view+json": {
       "model_id": "ef358a1687bf4012a1ddc47b5a067f79",
       "version_major": 2,
       "version_minor": 0
      },
      "text/plain": [
       "키워드 진행도:   0%|          | 0/232 [00:00<?, ?it/s]"
      ]
     },
     "metadata": {},
     "output_type": "display_data"
    },
    {
     "data": {
      "application/vnd.jupyter.widget-view+json": {
       "model_id": "dbcc451c511d447ba6366f31cd57cb37",
       "version_major": 2,
       "version_minor": 0
      },
      "text/plain": [
       "키워드 진행도:   0%|          | 0/158 [00:00<?, ?it/s]"
      ]
     },
     "metadata": {},
     "output_type": "display_data"
    },
    {
     "data": {
      "application/vnd.jupyter.widget-view+json": {
       "model_id": "324a9702d0ae4b57aa8aabe574e33326",
       "version_major": 2,
       "version_minor": 0
      },
      "text/plain": [
       "키워드 진행도:   0%|          | 0/108 [00:00<?, ?it/s]"
      ]
     },
     "metadata": {},
     "output_type": "display_data"
    },
    {
     "data": {
      "application/vnd.jupyter.widget-view+json": {
       "model_id": "cf9c8c2adbd24c12832a8aef0266ffae",
       "version_major": 2,
       "version_minor": 0
      },
      "text/plain": [
       "키워드 진행도:   0%|          | 0/112 [00:00<?, ?it/s]"
      ]
     },
     "metadata": {},
     "output_type": "display_data"
    },
    {
     "data": {
      "application/vnd.jupyter.widget-view+json": {
       "model_id": "f4a9a67ab7054e9393a73d8902208404",
       "version_major": 2,
       "version_minor": 0
      },
      "text/plain": [
       "키워드 진행도:   0%|          | 0/150 [00:00<?, ?it/s]"
      ]
     },
     "metadata": {},
     "output_type": "display_data"
    },
    {
     "data": {
      "application/vnd.jupyter.widget-view+json": {
       "model_id": "6da7a57f6b794556b3ce5ce3ee6fc733",
       "version_major": 2,
       "version_minor": 0
      },
      "text/plain": [
       "키워드 진행도:   0%|          | 0/145 [00:00<?, ?it/s]"
      ]
     },
     "metadata": {},
     "output_type": "display_data"
    },
    {
     "data": {
      "application/vnd.jupyter.widget-view+json": {
       "model_id": "844a678a408a432b9e3b65684b0eec7c",
       "version_major": 2,
       "version_minor": 0
      },
      "text/plain": [
       "키워드 진행도:   0%|          | 0/80 [00:00<?, ?it/s]"
      ]
     },
     "metadata": {},
     "output_type": "display_data"
    },
    {
     "data": {
      "application/vnd.jupyter.widget-view+json": {
       "model_id": "fe8b553936df40fda30c0151a3fb3ee4",
       "version_major": 2,
       "version_minor": 0
      },
      "text/plain": [
       "키워드 진행도:   0%|          | 0/101 [00:00<?, ?it/s]"
      ]
     },
     "metadata": {},
     "output_type": "display_data"
    },
    {
     "data": {
      "application/vnd.jupyter.widget-view+json": {
       "model_id": "f7060c64be794838a92bcd864ed1fafe",
       "version_major": 2,
       "version_minor": 0
      },
      "text/plain": [
       "키워드 진행도:   0%|          | 0/37 [00:00<?, ?it/s]"
      ]
     },
     "metadata": {},
     "output_type": "display_data"
    },
    {
     "data": {
      "application/vnd.jupyter.widget-view+json": {
       "model_id": "0118676e8a6a4c94a7d1dc38b7856d6d",
       "version_major": 2,
       "version_minor": 0
      },
      "text/plain": [
       "키워드 진행도:   0%|          | 0/37 [00:00<?, ?it/s]"
      ]
     },
     "metadata": {},
     "output_type": "display_data"
    },
    {
     "data": {
      "application/vnd.jupyter.widget-view+json": {
       "model_id": "adbde433988d4885b0f1ac95cc5ab693",
       "version_major": 2,
       "version_minor": 0
      },
      "text/plain": [
       "키워드 진행도:   0%|          | 0/58 [00:00<?, ?it/s]"
      ]
     },
     "metadata": {},
     "output_type": "display_data"
    },
    {
     "data": {
      "application/vnd.jupyter.widget-view+json": {
       "model_id": "fed2fc0483e94df78d5380334a64f9c5",
       "version_major": 2,
       "version_minor": 0
      },
      "text/plain": [
       "키워드 진행도:   0%|          | 0/71 [00:00<?, ?it/s]"
      ]
     },
     "metadata": {},
     "output_type": "display_data"
    },
    {
     "data": {
      "application/vnd.jupyter.widget-view+json": {
       "model_id": "d2f8dde708374f98b13963234cfb5a96",
       "version_major": 2,
       "version_minor": 0
      },
      "text/plain": [
       "키워드 진행도:   0%|          | 0/65 [00:00<?, ?it/s]"
      ]
     },
     "metadata": {},
     "output_type": "display_data"
    },
    {
     "data": {
      "application/vnd.jupyter.widget-view+json": {
       "model_id": "40f635e184664e9ab04c4870e1f3cd7f",
       "version_major": 2,
       "version_minor": 0
      },
      "text/plain": [
       "키워드 진행도:   0%|          | 0/260 [00:00<?, ?it/s]"
      ]
     },
     "metadata": {},
     "output_type": "display_data"
    },
    {
     "data": {
      "application/vnd.jupyter.widget-view+json": {
       "model_id": "6cdb88a298b54bf0b9f438d4005bfc6a",
       "version_major": 2,
       "version_minor": 0
      },
      "text/plain": [
       "키워드 진행도:   0%|          | 0/24 [00:00<?, ?it/s]"
      ]
     },
     "metadata": {},
     "output_type": "display_data"
    },
    {
     "data": {
      "application/vnd.jupyter.widget-view+json": {
       "model_id": "dd8fbe2455984e1e807936094261baea",
       "version_major": 2,
       "version_minor": 0
      },
      "text/plain": [
       "키워드 진행도:   0%|          | 0/90 [00:00<?, ?it/s]"
      ]
     },
     "metadata": {},
     "output_type": "display_data"
    },
    {
     "data": {
      "application/vnd.jupyter.widget-view+json": {
       "model_id": "48da7616bab840b285fcfa819bb05651",
       "version_major": 2,
       "version_minor": 0
      },
      "text/plain": [
       "키워드 진행도:   0%|          | 0/35 [00:00<?, ?it/s]"
      ]
     },
     "metadata": {},
     "output_type": "display_data"
    },
    {
     "ename": "HTTPError",
     "evalue": "HTTP Error 429: Too Many Requests",
     "output_type": "error",
     "traceback": [
      "\u001b[1;31m---------------------------------------------------------------------------\u001b[0m",
      "\u001b[1;31mHTTPError\u001b[0m                                 Traceback (most recent call last)",
      "Cell \u001b[1;32mIn[2], line 64\u001b[0m\n\u001b[0;32m     61\u001b[0m final_keywords \u001b[38;5;241m=\u001b[39m []\n\u001b[0;32m     63\u001b[0m \u001b[38;5;28;01mwith\u001b[39;00m Parallel(n_jobs\u001b[38;5;241m=\u001b[39mnum_core, require\u001b[38;5;241m=\u001b[39m\u001b[38;5;124m'\u001b[39m\u001b[38;5;124msharedmem\u001b[39m\u001b[38;5;124m'\u001b[39m) \u001b[38;5;28;01mas\u001b[39;00m parallel:\n\u001b[1;32m---> 64\u001b[0m     \u001b[43mparallel\u001b[49m\u001b[43m(\u001b[49m\u001b[43mdelayed\u001b[49m\u001b[43m(\u001b[49m\u001b[43mextract_keywords\u001b[49m\u001b[43m)\u001b[49m\u001b[43m(\u001b[49m\u001b[43mcategory\u001b[49m\u001b[43m,\u001b[49m\u001b[43mclient_auth\u001b[49m\u001b[43m)\u001b[49m\u001b[38;5;28;43;01mfor\u001b[39;49;00m\u001b[43m \u001b[49m\u001b[43mcategory\u001b[49m\u001b[43m \u001b[49m\u001b[38;5;129;43;01min\u001b[39;49;00m\u001b[43m \u001b[49m\u001b[43mnotebook\u001b[49m\u001b[38;5;241;43m.\u001b[39;49m\u001b[43mtqdm\u001b[49m\u001b[43m(\u001b[49m\u001b[43mleaf_category\u001b[49m\u001b[43m)\u001b[49m\u001b[43m)\u001b[49m\n\u001b[0;32m     66\u001b[0m \u001b[38;5;28mprint\u001b[39m(final_keywords)\n",
      "File \u001b[1;32mc:\\users\\ahoho\\pycharmprojects\\keyword\\venv\\lib\\site-packages\\joblib\\parallel.py:1098\u001b[0m, in \u001b[0;36mParallel.__call__\u001b[1;34m(self, iterable)\u001b[0m\n\u001b[0;32m   1095\u001b[0m     \u001b[38;5;28mself\u001b[39m\u001b[38;5;241m.\u001b[39m_iterating \u001b[38;5;241m=\u001b[39m \u001b[38;5;28;01mFalse\u001b[39;00m\n\u001b[0;32m   1097\u001b[0m \u001b[38;5;28;01mwith\u001b[39;00m \u001b[38;5;28mself\u001b[39m\u001b[38;5;241m.\u001b[39m_backend\u001b[38;5;241m.\u001b[39mretrieval_context():\n\u001b[1;32m-> 1098\u001b[0m     \u001b[38;5;28;43mself\u001b[39;49m\u001b[38;5;241;43m.\u001b[39;49m\u001b[43mretrieve\u001b[49m\u001b[43m(\u001b[49m\u001b[43m)\u001b[49m\n\u001b[0;32m   1099\u001b[0m \u001b[38;5;66;03m# Make sure that we get a last message telling us we are done\u001b[39;00m\n\u001b[0;32m   1100\u001b[0m elapsed_time \u001b[38;5;241m=\u001b[39m time\u001b[38;5;241m.\u001b[39mtime() \u001b[38;5;241m-\u001b[39m \u001b[38;5;28mself\u001b[39m\u001b[38;5;241m.\u001b[39m_start_time\n",
      "File \u001b[1;32mc:\\users\\ahoho\\pycharmprojects\\keyword\\venv\\lib\\site-packages\\joblib\\parallel.py:975\u001b[0m, in \u001b[0;36mParallel.retrieve\u001b[1;34m(self)\u001b[0m\n\u001b[0;32m    973\u001b[0m \u001b[38;5;28;01mtry\u001b[39;00m:\n\u001b[0;32m    974\u001b[0m     \u001b[38;5;28;01mif\u001b[39;00m \u001b[38;5;28mgetattr\u001b[39m(\u001b[38;5;28mself\u001b[39m\u001b[38;5;241m.\u001b[39m_backend, \u001b[38;5;124m'\u001b[39m\u001b[38;5;124msupports_timeout\u001b[39m\u001b[38;5;124m'\u001b[39m, \u001b[38;5;28;01mFalse\u001b[39;00m):\n\u001b[1;32m--> 975\u001b[0m         \u001b[38;5;28mself\u001b[39m\u001b[38;5;241m.\u001b[39m_output\u001b[38;5;241m.\u001b[39mextend(\u001b[43mjob\u001b[49m\u001b[38;5;241;43m.\u001b[39;49m\u001b[43mget\u001b[49m\u001b[43m(\u001b[49m\u001b[43mtimeout\u001b[49m\u001b[38;5;241;43m=\u001b[39;49m\u001b[38;5;28;43mself\u001b[39;49m\u001b[38;5;241;43m.\u001b[39;49m\u001b[43mtimeout\u001b[49m\u001b[43m)\u001b[49m)\n\u001b[0;32m    976\u001b[0m     \u001b[38;5;28;01melse\u001b[39;00m:\n\u001b[0;32m    977\u001b[0m         \u001b[38;5;28mself\u001b[39m\u001b[38;5;241m.\u001b[39m_output\u001b[38;5;241m.\u001b[39mextend(job\u001b[38;5;241m.\u001b[39mget())\n",
      "File \u001b[1;32mC:\\Python38\\lib\\multiprocessing\\pool.py:771\u001b[0m, in \u001b[0;36mApplyResult.get\u001b[1;34m(self, timeout)\u001b[0m\n\u001b[0;32m    769\u001b[0m     \u001b[38;5;28;01mreturn\u001b[39;00m \u001b[38;5;28mself\u001b[39m\u001b[38;5;241m.\u001b[39m_value\n\u001b[0;32m    770\u001b[0m \u001b[38;5;28;01melse\u001b[39;00m:\n\u001b[1;32m--> 771\u001b[0m     \u001b[38;5;28;01mraise\u001b[39;00m \u001b[38;5;28mself\u001b[39m\u001b[38;5;241m.\u001b[39m_value\n",
      "File \u001b[1;32mC:\\Python38\\lib\\multiprocessing\\pool.py:125\u001b[0m, in \u001b[0;36mworker\u001b[1;34m(inqueue, outqueue, initializer, initargs, maxtasks, wrap_exception)\u001b[0m\n\u001b[0;32m    123\u001b[0m job, i, func, args, kwds \u001b[38;5;241m=\u001b[39m task\n\u001b[0;32m    124\u001b[0m \u001b[38;5;28;01mtry\u001b[39;00m:\n\u001b[1;32m--> 125\u001b[0m     result \u001b[38;5;241m=\u001b[39m (\u001b[38;5;28;01mTrue\u001b[39;00m, \u001b[43mfunc\u001b[49m\u001b[43m(\u001b[49m\u001b[38;5;241;43m*\u001b[39;49m\u001b[43margs\u001b[49m\u001b[43m,\u001b[49m\u001b[43m \u001b[49m\u001b[38;5;241;43m*\u001b[39;49m\u001b[38;5;241;43m*\u001b[39;49m\u001b[43mkwds\u001b[49m\u001b[43m)\u001b[49m)\n\u001b[0;32m    126\u001b[0m \u001b[38;5;28;01mexcept\u001b[39;00m \u001b[38;5;167;01mException\u001b[39;00m \u001b[38;5;28;01mas\u001b[39;00m e:\n\u001b[0;32m    127\u001b[0m     \u001b[38;5;28;01mif\u001b[39;00m wrap_exception \u001b[38;5;129;01mand\u001b[39;00m func \u001b[38;5;129;01mis\u001b[39;00m \u001b[38;5;129;01mnot\u001b[39;00m _helper_reraises_exception:\n",
      "File \u001b[1;32mc:\\users\\ahoho\\pycharmprojects\\keyword\\venv\\lib\\site-packages\\joblib\\_parallel_backends.py:620\u001b[0m, in \u001b[0;36mSafeFunction.__call__\u001b[1;34m(self, *args, **kwargs)\u001b[0m\n\u001b[0;32m    618\u001b[0m \u001b[38;5;28;01mdef\u001b[39;00m \u001b[38;5;21m__call__\u001b[39m(\u001b[38;5;28mself\u001b[39m, \u001b[38;5;241m*\u001b[39margs, \u001b[38;5;241m*\u001b[39m\u001b[38;5;241m*\u001b[39mkwargs):\n\u001b[0;32m    619\u001b[0m     \u001b[38;5;28;01mtry\u001b[39;00m:\n\u001b[1;32m--> 620\u001b[0m         \u001b[38;5;28;01mreturn\u001b[39;00m \u001b[38;5;28;43mself\u001b[39;49m\u001b[38;5;241;43m.\u001b[39;49m\u001b[43mfunc\u001b[49m\u001b[43m(\u001b[49m\u001b[38;5;241;43m*\u001b[39;49m\u001b[43margs\u001b[49m\u001b[43m,\u001b[49m\u001b[43m \u001b[49m\u001b[38;5;241;43m*\u001b[39;49m\u001b[38;5;241;43m*\u001b[39;49m\u001b[43mkwargs\u001b[49m\u001b[43m)\u001b[49m\n\u001b[0;32m    621\u001b[0m     \u001b[38;5;28;01mexcept\u001b[39;00m \u001b[38;5;167;01mKeyboardInterrupt\u001b[39;00m \u001b[38;5;28;01mas\u001b[39;00m e:\n\u001b[0;32m    622\u001b[0m         \u001b[38;5;66;03m# We capture the KeyboardInterrupt and reraise it as\u001b[39;00m\n\u001b[0;32m    623\u001b[0m         \u001b[38;5;66;03m# something different, as multiprocessing does not\u001b[39;00m\n\u001b[0;32m    624\u001b[0m         \u001b[38;5;66;03m# interrupt processing for a KeyboardInterrupt\u001b[39;00m\n\u001b[0;32m    625\u001b[0m         \u001b[38;5;28;01mraise\u001b[39;00m WorkerInterrupt() \u001b[38;5;28;01mfrom\u001b[39;00m \u001b[38;5;21;01me\u001b[39;00m\n",
      "File \u001b[1;32mc:\\users\\ahoho\\pycharmprojects\\keyword\\venv\\lib\\site-packages\\joblib\\parallel.py:288\u001b[0m, in \u001b[0;36mBatchedCalls.__call__\u001b[1;34m(self)\u001b[0m\n\u001b[0;32m    284\u001b[0m \u001b[38;5;28;01mdef\u001b[39;00m \u001b[38;5;21m__call__\u001b[39m(\u001b[38;5;28mself\u001b[39m):\n\u001b[0;32m    285\u001b[0m     \u001b[38;5;66;03m# Set the default nested backend to self._backend but do not set the\u001b[39;00m\n\u001b[0;32m    286\u001b[0m     \u001b[38;5;66;03m# change the default number of processes to -1\u001b[39;00m\n\u001b[0;32m    287\u001b[0m     \u001b[38;5;28;01mwith\u001b[39;00m parallel_backend(\u001b[38;5;28mself\u001b[39m\u001b[38;5;241m.\u001b[39m_backend, n_jobs\u001b[38;5;241m=\u001b[39m\u001b[38;5;28mself\u001b[39m\u001b[38;5;241m.\u001b[39m_n_jobs):\n\u001b[1;32m--> 288\u001b[0m         \u001b[38;5;28;01mreturn\u001b[39;00m [func(\u001b[38;5;241m*\u001b[39margs, \u001b[38;5;241m*\u001b[39m\u001b[38;5;241m*\u001b[39mkwargs)\n\u001b[0;32m    289\u001b[0m                 \u001b[38;5;28;01mfor\u001b[39;00m func, args, kwargs \u001b[38;5;129;01min\u001b[39;00m \u001b[38;5;28mself\u001b[39m\u001b[38;5;241m.\u001b[39mitems]\n",
      "File \u001b[1;32mc:\\users\\ahoho\\pycharmprojects\\keyword\\venv\\lib\\site-packages\\joblib\\parallel.py:288\u001b[0m, in \u001b[0;36m<listcomp>\u001b[1;34m(.0)\u001b[0m\n\u001b[0;32m    284\u001b[0m \u001b[38;5;28;01mdef\u001b[39;00m \u001b[38;5;21m__call__\u001b[39m(\u001b[38;5;28mself\u001b[39m):\n\u001b[0;32m    285\u001b[0m     \u001b[38;5;66;03m# Set the default nested backend to self._backend but do not set the\u001b[39;00m\n\u001b[0;32m    286\u001b[0m     \u001b[38;5;66;03m# change the default number of processes to -1\u001b[39;00m\n\u001b[0;32m    287\u001b[0m     \u001b[38;5;28;01mwith\u001b[39;00m parallel_backend(\u001b[38;5;28mself\u001b[39m\u001b[38;5;241m.\u001b[39m_backend, n_jobs\u001b[38;5;241m=\u001b[39m\u001b[38;5;28mself\u001b[39m\u001b[38;5;241m.\u001b[39m_n_jobs):\n\u001b[1;32m--> 288\u001b[0m         \u001b[38;5;28;01mreturn\u001b[39;00m [\u001b[43mfunc\u001b[49m\u001b[43m(\u001b[49m\u001b[38;5;241;43m*\u001b[39;49m\u001b[43margs\u001b[49m\u001b[43m,\u001b[49m\u001b[43m \u001b[49m\u001b[38;5;241;43m*\u001b[39;49m\u001b[38;5;241;43m*\u001b[39;49m\u001b[43mkwargs\u001b[49m\u001b[43m)\u001b[49m\n\u001b[0;32m    289\u001b[0m                 \u001b[38;5;28;01mfor\u001b[39;00m func, args, kwargs \u001b[38;5;129;01min\u001b[39;00m \u001b[38;5;28mself\u001b[39m\u001b[38;5;241m.\u001b[39mitems]\n",
      "Cell \u001b[1;32mIn[2], line 33\u001b[0m, in \u001b[0;36mextract_keywords\u001b[1;34m(category, client_auth)\u001b[0m\n\u001b[0;32m     30\u001b[0m url_excluding_oversea \u001b[38;5;241m=\u001b[39m \u001b[38;5;124m\"\u001b[39m\u001b[38;5;124mhttps://openapi.naver.com/v1/search/shop.json?display=80&exclude=cbshop&query=\u001b[39m\u001b[38;5;124m\"\u001b[39m \u001b[38;5;241m+\u001b[39m encText\n\u001b[0;32m     31\u001b[0m url_items \u001b[38;5;241m=\u001b[39m \u001b[38;5;124m\"\u001b[39m\u001b[38;5;124mhttps://openapi.naver.com/v1/search/shop.json?display=80&query=\u001b[39m\u001b[38;5;124m\"\u001b[39m \u001b[38;5;241m+\u001b[39m encText \u001b[38;5;66;03m# JSON 결과\u001b[39;00m\n\u001b[1;32m---> 33\u001b[0m items_excluding_oversea \u001b[38;5;241m=\u001b[39m \u001b[43mget_items\u001b[49m\u001b[43m(\u001b[49m\u001b[43murl_excluding_oversea\u001b[49m\u001b[43m,\u001b[49m\u001b[43mclient_auth\u001b[49m\u001b[43m)\u001b[49m\n\u001b[0;32m     34\u001b[0m items \u001b[38;5;241m=\u001b[39m get_items(url_items,client_auth)\n\u001b[0;32m     36\u001b[0m dict_excluding_oversea \u001b[38;5;241m=\u001b[39m {}\n",
      "File \u001b[1;32m~\\PycharmProjects\\keyword\\infsell.py:72\u001b[0m, in \u001b[0;36mget_items\u001b[1;34m(url, client_auth)\u001b[0m\n\u001b[0;32m     70\u001b[0m request\u001b[38;5;241m.\u001b[39madd_header(\u001b[38;5;124m\"\u001b[39m\u001b[38;5;124mX-Naver-Client-Id\u001b[39m\u001b[38;5;124m\"\u001b[39m, client_auth[num_app][\u001b[38;5;241m0\u001b[39m])\n\u001b[0;32m     71\u001b[0m request\u001b[38;5;241m.\u001b[39madd_header(\u001b[38;5;124m\"\u001b[39m\u001b[38;5;124mX-Naver-Client-Secret\u001b[39m\u001b[38;5;124m\"\u001b[39m, client_auth[num_app][\u001b[38;5;241m1\u001b[39m])\n\u001b[1;32m---> 72\u001b[0m response \u001b[38;5;241m=\u001b[39m \u001b[43murllib\u001b[49m\u001b[38;5;241;43m.\u001b[39;49m\u001b[43mrequest\u001b[49m\u001b[38;5;241;43m.\u001b[39;49m\u001b[43murlopen\u001b[49m\u001b[43m(\u001b[49m\u001b[43mrequest\u001b[49m\u001b[43m)\u001b[49m\n\u001b[0;32m     73\u001b[0m rescode \u001b[38;5;241m=\u001b[39m response\u001b[38;5;241m.\u001b[39mgetcode()\n\u001b[0;32m     75\u001b[0m \u001b[38;5;28;01mif\u001b[39;00m rescode \u001b[38;5;241m==\u001b[39m \u001b[38;5;241m429\u001b[39m:\n",
      "File \u001b[1;32mC:\\Python38\\lib\\urllib\\request.py:222\u001b[0m, in \u001b[0;36murlopen\u001b[1;34m(url, data, timeout, cafile, capath, cadefault, context)\u001b[0m\n\u001b[0;32m    220\u001b[0m \u001b[38;5;28;01melse\u001b[39;00m:\n\u001b[0;32m    221\u001b[0m     opener \u001b[38;5;241m=\u001b[39m _opener\n\u001b[1;32m--> 222\u001b[0m \u001b[38;5;28;01mreturn\u001b[39;00m \u001b[43mopener\u001b[49m\u001b[38;5;241;43m.\u001b[39;49m\u001b[43mopen\u001b[49m\u001b[43m(\u001b[49m\u001b[43murl\u001b[49m\u001b[43m,\u001b[49m\u001b[43m \u001b[49m\u001b[43mdata\u001b[49m\u001b[43m,\u001b[49m\u001b[43m \u001b[49m\u001b[43mtimeout\u001b[49m\u001b[43m)\u001b[49m\n",
      "File \u001b[1;32mC:\\Python38\\lib\\urllib\\request.py:531\u001b[0m, in \u001b[0;36mOpenerDirector.open\u001b[1;34m(self, fullurl, data, timeout)\u001b[0m\n\u001b[0;32m    529\u001b[0m \u001b[38;5;28;01mfor\u001b[39;00m processor \u001b[38;5;129;01min\u001b[39;00m \u001b[38;5;28mself\u001b[39m\u001b[38;5;241m.\u001b[39mprocess_response\u001b[38;5;241m.\u001b[39mget(protocol, []):\n\u001b[0;32m    530\u001b[0m     meth \u001b[38;5;241m=\u001b[39m \u001b[38;5;28mgetattr\u001b[39m(processor, meth_name)\n\u001b[1;32m--> 531\u001b[0m     response \u001b[38;5;241m=\u001b[39m \u001b[43mmeth\u001b[49m\u001b[43m(\u001b[49m\u001b[43mreq\u001b[49m\u001b[43m,\u001b[49m\u001b[43m \u001b[49m\u001b[43mresponse\u001b[49m\u001b[43m)\u001b[49m\n\u001b[0;32m    533\u001b[0m \u001b[38;5;28;01mreturn\u001b[39;00m response\n",
      "File \u001b[1;32mC:\\Python38\\lib\\urllib\\request.py:640\u001b[0m, in \u001b[0;36mHTTPErrorProcessor.http_response\u001b[1;34m(self, request, response)\u001b[0m\n\u001b[0;32m    637\u001b[0m \u001b[38;5;66;03m# According to RFC 2616, \"2xx\" code indicates that the client's\u001b[39;00m\n\u001b[0;32m    638\u001b[0m \u001b[38;5;66;03m# request was successfully received, understood, and accepted.\u001b[39;00m\n\u001b[0;32m    639\u001b[0m \u001b[38;5;28;01mif\u001b[39;00m \u001b[38;5;129;01mnot\u001b[39;00m (\u001b[38;5;241m200\u001b[39m \u001b[38;5;241m<\u001b[39m\u001b[38;5;241m=\u001b[39m code \u001b[38;5;241m<\u001b[39m \u001b[38;5;241m300\u001b[39m):\n\u001b[1;32m--> 640\u001b[0m     response \u001b[38;5;241m=\u001b[39m \u001b[38;5;28;43mself\u001b[39;49m\u001b[38;5;241;43m.\u001b[39;49m\u001b[43mparent\u001b[49m\u001b[38;5;241;43m.\u001b[39;49m\u001b[43merror\u001b[49m\u001b[43m(\u001b[49m\n\u001b[0;32m    641\u001b[0m \u001b[43m        \u001b[49m\u001b[38;5;124;43m'\u001b[39;49m\u001b[38;5;124;43mhttp\u001b[39;49m\u001b[38;5;124;43m'\u001b[39;49m\u001b[43m,\u001b[49m\u001b[43m \u001b[49m\u001b[43mrequest\u001b[49m\u001b[43m,\u001b[49m\u001b[43m \u001b[49m\u001b[43mresponse\u001b[49m\u001b[43m,\u001b[49m\u001b[43m \u001b[49m\u001b[43mcode\u001b[49m\u001b[43m,\u001b[49m\u001b[43m \u001b[49m\u001b[43mmsg\u001b[49m\u001b[43m,\u001b[49m\u001b[43m \u001b[49m\u001b[43mhdrs\u001b[49m\u001b[43m)\u001b[49m\n\u001b[0;32m    643\u001b[0m \u001b[38;5;28;01mreturn\u001b[39;00m response\n",
      "File \u001b[1;32mC:\\Python38\\lib\\urllib\\request.py:569\u001b[0m, in \u001b[0;36mOpenerDirector.error\u001b[1;34m(self, proto, *args)\u001b[0m\n\u001b[0;32m    567\u001b[0m \u001b[38;5;28;01mif\u001b[39;00m http_err:\n\u001b[0;32m    568\u001b[0m     args \u001b[38;5;241m=\u001b[39m (\u001b[38;5;28mdict\u001b[39m, \u001b[38;5;124m'\u001b[39m\u001b[38;5;124mdefault\u001b[39m\u001b[38;5;124m'\u001b[39m, \u001b[38;5;124m'\u001b[39m\u001b[38;5;124mhttp_error_default\u001b[39m\u001b[38;5;124m'\u001b[39m) \u001b[38;5;241m+\u001b[39m orig_args\n\u001b[1;32m--> 569\u001b[0m     \u001b[38;5;28;01mreturn\u001b[39;00m \u001b[38;5;28;43mself\u001b[39;49m\u001b[38;5;241;43m.\u001b[39;49m\u001b[43m_call_chain\u001b[49m\u001b[43m(\u001b[49m\u001b[38;5;241;43m*\u001b[39;49m\u001b[43margs\u001b[49m\u001b[43m)\u001b[49m\n",
      "File \u001b[1;32mC:\\Python38\\lib\\urllib\\request.py:502\u001b[0m, in \u001b[0;36mOpenerDirector._call_chain\u001b[1;34m(self, chain, kind, meth_name, *args)\u001b[0m\n\u001b[0;32m    500\u001b[0m \u001b[38;5;28;01mfor\u001b[39;00m handler \u001b[38;5;129;01min\u001b[39;00m handlers:\n\u001b[0;32m    501\u001b[0m     func \u001b[38;5;241m=\u001b[39m \u001b[38;5;28mgetattr\u001b[39m(handler, meth_name)\n\u001b[1;32m--> 502\u001b[0m     result \u001b[38;5;241m=\u001b[39m \u001b[43mfunc\u001b[49m\u001b[43m(\u001b[49m\u001b[38;5;241;43m*\u001b[39;49m\u001b[43margs\u001b[49m\u001b[43m)\u001b[49m\n\u001b[0;32m    503\u001b[0m     \u001b[38;5;28;01mif\u001b[39;00m result \u001b[38;5;129;01mis\u001b[39;00m \u001b[38;5;129;01mnot\u001b[39;00m \u001b[38;5;28;01mNone\u001b[39;00m:\n\u001b[0;32m    504\u001b[0m         \u001b[38;5;28;01mreturn\u001b[39;00m result\n",
      "File \u001b[1;32mC:\\Python38\\lib\\urllib\\request.py:649\u001b[0m, in \u001b[0;36mHTTPDefaultErrorHandler.http_error_default\u001b[1;34m(self, req, fp, code, msg, hdrs)\u001b[0m\n\u001b[0;32m    648\u001b[0m \u001b[38;5;28;01mdef\u001b[39;00m \u001b[38;5;21mhttp_error_default\u001b[39m(\u001b[38;5;28mself\u001b[39m, req, fp, code, msg, hdrs):\n\u001b[1;32m--> 649\u001b[0m     \u001b[38;5;28;01mraise\u001b[39;00m HTTPError(req\u001b[38;5;241m.\u001b[39mfull_url, code, msg, hdrs, fp)\n",
      "\u001b[1;31mHTTPError\u001b[0m: HTTP Error 429: Too Many Requests"
     ]
    }
   ],
   "source": [
    "import json\n",
    "import csv\n",
    "import urllib.request\n",
    "from tqdm import notebook\n",
    "from joblib import Parallel, delayed\n",
    "from config import *\n",
    "from infsell import *\n",
    "\n",
    "\n",
    "\n",
    "def extract_keywords(category,client_auth):\n",
    "    \n",
    "    category_id = category[0]\n",
    "    category_name = category[1]\n",
    "    \n",
    "    url_data = \"https://api.itemscout.io/api/category/{0}/data\".format(category_id)\n",
    "    url_brands = \"https://api.itemscout.io/api/category/{0}/brands\".format(category_id)\n",
    "    response_data = requests.post(url_data, json=PAYLOAD)\n",
    "    response_brands = requests.get(url_brands)\n",
    "    data = response_data.json()['data']['data']\n",
    "    brands = response_brands.json()['data']\n",
    "    brands = remove_a_word(brands)\n",
    "    \n",
    "    keywords,dict_clicks = get_keywords(data)\n",
    "    keywords_nb = remove_brands(keywords,brands)\n",
    "    \n",
    "    for keyword in notebook.tqdm(keywords_nb, desc = \"키워드 진행도\"):\n",
    "\n",
    "        encText = urllib.parse.quote(keyword)\n",
    "        url_excluding_oversea = \"https://openapi.naver.com/v1/search/shop.json?display=80&exclude=cbshop&query=\" + encText\n",
    "        url_items = \"https://openapi.naver.com/v1/search/shop.json?display=80&query=\" + encText # JSON 결과\n",
    "\n",
    "        items_excluding_oversea = get_items(url_excluding_oversea,client_auth)\n",
    "        items = get_items(url_items,client_auth)\n",
    "\n",
    "        dict_excluding_oversea = {}\n",
    "\n",
    "        for item in items_excluding_oversea:\n",
    "            dict_excluding_oversea[item['productId']]=1\n",
    "        \n",
    "        cnt = 0 \n",
    "        for item in items :\n",
    "            if item['productId'] not in dict_excluding_oversea:\n",
    "                cnt+=1\n",
    "    \n",
    "        info_keyword={}\n",
    "        info_keyword['카테고리'] = category_name\n",
    "        info_keyword['키워드'] = keyword\n",
    "        info_keyword['검색수'] = dict_clicks[keyword]\n",
    "        info_keyword['해외배송개수'] = cnt\n",
    "        \n",
    "        final_keywords.append(info_keyword)\n",
    "        \n",
    "\n",
    "#멀티코어 개수\n",
    "num_core = 12\n",
    "\n",
    "cnt_keyword=0\n",
    "path_auth='auth_api.txt'\n",
    "client_auth = get_auth_api(path_auth)\n",
    "final_keywords = []\n",
    "\n",
    "with Parallel(n_jobs=num_core, require='sharedmem') as parallel:\n",
    "    parallel(delayed(extract_keywords)(category,client_auth)for category in notebook.tqdm(leaf_category))\n",
    "    \n",
    "print(final_keywords)"
   ]
  },
  {
   "cell_type": "code",
   "execution_count": 3,
   "id": "45ca397c",
   "metadata": {
    "scrolled": true
   },
   "outputs": [
    {
     "name": "stdout",
     "output_type": "stream",
     "text": [
      "엑셀 변환 완료\n"
     ]
    }
   ],
   "source": [
    "from infsell import convert_dict_to_excel\n",
    "import openpyxl\n",
    "\n",
    "name_file = '2023_06_08_top500_키워드'\n",
    "\n",
    "convert_dict_to_excel(name_file, final_keywords)"
   ]
  }
 ],
 "metadata": {
  "kernelspec": {
   "display_name": "Python 3 (ipykernel)",
   "language": "python",
   "name": "python3"
  },
  "language_info": {
   "codemirror_mode": {
    "name": "ipython",
    "version": 3
   },
   "file_extension": ".py",
   "mimetype": "text/x-python",
   "name": "python",
   "nbconvert_exporter": "python",
   "pygments_lexer": "ipython3",
   "version": "3.8.5"
  }
 },
 "nbformat": 4,
 "nbformat_minor": 5
}
