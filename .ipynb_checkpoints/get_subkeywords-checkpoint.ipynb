{
 "cells": [
  {
   "cell_type": "code",
   "execution_count": 1,
   "id": "fa5eaf5f",
   "metadata": {
    "scrolled": false
   },
   "outputs": [],
   "source": [
    "import requests\n",
    "import json\n",
    "from config import *\n",
    "from infsell import *\n",
    "\n",
    "with open(\"data_keywords.json\", \"r\", encoding='utf-8') as j:\n",
    "    data_keywords = json.load(j)\n",
    "list_data_keywords = list(data_keywords.keys())\n",
    "database_string = ' '.join(s for s in list_data_keywords)"
   ]
  },
  {
   "cell_type": "code",
   "execution_count": 15,
   "id": "e2a7336e",
   "metadata": {
    "scrolled": true
   },
   "outputs": [
    {
     "name": "stdout",
     "output_type": "stream",
     "text": [
      "톱신페스트 나무 상처 도포제 도포 상처치료제 식물 나무도포제 보호제 500g 패스트 상처보호제 코팅 락발삼 \n",
      " 분제,가지치기,300g,진정,나무상처,수목,크림,정원,접목,분재 \n",
      " ['나무', '상처', '도포제', '보호제', '치료제', '수목', '식물', '연고', '접목', '락발삼', '분재', '치료', '나무상처보호제', '200g', '상처보호제', '영양제', '코팅제', '코팅', '소나무', '상처치료제', '과수원', '치유', '크림', '트리가드', '나무상처', '전정', '화초', '진정', '경농', '나무도포제', '트리코트', '300g', '1kg', '가지치기', '전지', '소독', '500g', '모종', '도포', '패스트', '분제', '정원']\n"
     ]
    }
   ],
   "source": [
    "#cnt_recommand:서브키워드 추천 개수, 태그:10개로 고정\n",
    "keyword = '톱신페스트'\n",
    "cnt_recommand = 10\n",
    "recommand_title, recommand_tags, words = recommand_keywords_tags(keyword, database_string,cnt_recommand)\n",
    "\n",
    "print(recommand_title)\n",
    "print(recommand_tags,'\\n',words)"
   ]
  }
 ],
 "metadata": {
  "celltoolbar": "Raw Cell Format",
  "kernelspec": {
   "display_name": "Python 3 (ipykernel)",
   "language": "python",
   "name": "python3"
  },
  "language_info": {
   "codemirror_mode": {
    "name": "ipython",
    "version": 3
   },
   "file_extension": ".py",
   "mimetype": "text/x-python",
   "name": "python",
   "nbconvert_exporter": "python",
   "pygments_lexer": "ipython3",
   "version": "3.8.5"
  }
 },
 "nbformat": 4,
 "nbformat_minor": 5
}
