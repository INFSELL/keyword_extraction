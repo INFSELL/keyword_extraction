{
 "cells": [
  {
   "cell_type": "code",
   "execution_count": 1,
   "id": "73132983",
   "metadata": {},
   "outputs": [
    {
     "name": "stdout",
     "output_type": "stream",
     "text": [
      "68\n"
     ]
    }
   ],
   "source": [
    "import requests\n",
    "from copy import copy\n",
    "\n",
    "\n",
    "def dfs(category_id):\n",
    "    url = \"https://api.itemscout.io/api/category/{0}/subcategories\".format(category_id)\n",
    "    response = requests.get(url = url)\n",
    "    \n",
    "    for d in response.json()['data']:\n",
    "\n",
    "        d_id = d['id']\n",
    "        d_name = d['name']\n",
    "        d_is_leaf = d['is_leaf']\n",
    "        \n",
    "        if(d_is_leaf):\n",
    "            leaf_id = copy(d_id)\n",
    "            leaf_name = copy(d_name)\n",
    "            leaf_category.append([leaf_id,leaf_name])\n",
    "            \n",
    "        else:\n",
    "            dfs(d_id)\n",
    "    \n",
    "paths = []\n",
    "leaf_category = []\n",
    "starting_category = [1,2,3,4,5,8,9] #출산/육아(6) , 식품 제외(7)\n",
    "\n",
    "\n",
    "dfs(1)\n",
    "\n",
    "print(len(leaf_category))\n",
    "#1 : 패션의류 --> 68개 \n",
    "#2 : 패션잡화 --> 264개\n",
    "#3 : 화장품/미용 --> 157개\n",
    "#4 : 디지털/가전 --> 681개\n",
    "#5 : 가구/인테리어 --> 354개\n",
    "#6 : 출산/육아 (X)\n",
    "#7 : 식품 (X)\n",
    "#8 : 스포츠/레저 --> 카테고리 : 480개, 키워드 : 154207개 --> 필터 적용 : 20000개\n",
    "#9 : 생활/건강 --> 카테고리 : 1227개, 키워드 : 465817개 --> 필터 적용 : 61751개\n",
    "\n",
    "#app 1개당 기본 api 12500개 \n",
    "#계정 1개당 app 10개, api 125000개\n",
    "\n",
    "#계정 2개면 충분!"
   ]
  },
  {
   "cell_type": "code",
   "execution_count": 2,
   "id": "fe8aea98",
   "metadata": {
    "scrolled": true
   },
   "outputs": [
    {
     "data": {
      "application/vnd.jupyter.widget-view+json": {
       "model_id": "53caa8d1e27a4ccd987a0dad75c837d2",
       "version_major": 2,
       "version_minor": 0
      },
      "text/plain": [
       "  0%|          | 0/12 [00:00<?, ?it/s]"
      ]
     },
     "metadata": {},
     "output_type": "display_data"
    },
    {
     "data": {
      "application/vnd.jupyter.widget-view+json": {
       "model_id": "76e0e711bb6b486dac3d7311f0184a1a",
       "version_major": 2,
       "version_minor": 0
      },
      "text/plain": [
       "키워드 진행도:   0%|          | 0/5 [00:00<?, ?it/s]"
      ]
     },
     "metadata": {},
     "output_type": "display_data"
    },
    {
     "data": {
      "application/vnd.jupyter.widget-view+json": {
       "model_id": "bfdc72b41fba44a79418b77395c1fbf2",
       "version_major": 2,
       "version_minor": 0
      },
      "text/plain": [
       "키워드 진행도:   0%|          | 0/5 [00:00<?, ?it/s]"
      ]
     },
     "metadata": {},
     "output_type": "display_data"
    },
    {
     "data": {
      "application/vnd.jupyter.widget-view+json": {
       "model_id": "934034e7b6614e7f87854319d86adfc7",
       "version_major": 2,
       "version_minor": 0
      },
      "text/plain": [
       "키워드 진행도:   0%|          | 0/5 [00:00<?, ?it/s]"
      ]
     },
     "metadata": {},
     "output_type": "display_data"
    },
    {
     "data": {
      "application/vnd.jupyter.widget-view+json": {
       "model_id": "029dcd35e3774ab2be3c91703801b1e8",
       "version_major": 2,
       "version_minor": 0
      },
      "text/plain": [
       "키워드 진행도:   0%|          | 0/5 [00:00<?, ?it/s]"
      ]
     },
     "metadata": {},
     "output_type": "display_data"
    },
    {
     "data": {
      "application/vnd.jupyter.widget-view+json": {
       "model_id": "4cbadae77e0f483e83bb5d1d241d3ea6",
       "version_major": 2,
       "version_minor": 0
      },
      "text/plain": [
       "키워드 진행도:   0%|          | 0/5 [00:00<?, ?it/s]"
      ]
     },
     "metadata": {},
     "output_type": "display_data"
    },
    {
     "data": {
      "application/vnd.jupyter.widget-view+json": {
       "model_id": "26ea7396f1b043c783cd2f226aacd52c",
       "version_major": 2,
       "version_minor": 0
      },
      "text/plain": [
       "키워드 진행도:   0%|          | 0/5 [00:00<?, ?it/s]"
      ]
     },
     "metadata": {},
     "output_type": "display_data"
    },
    {
     "data": {
      "application/vnd.jupyter.widget-view+json": {
       "model_id": "d8157d1152ef422aae5a3e33ab85e444",
       "version_major": 2,
       "version_minor": 0
      },
      "text/plain": [
       "키워드 진행도:   0%|          | 0/5 [00:00<?, ?it/s]"
      ]
     },
     "metadata": {},
     "output_type": "display_data"
    },
    {
     "data": {
      "application/vnd.jupyter.widget-view+json": {
       "model_id": "11408c7c93c84454b84f63afbd66fcb5",
       "version_major": 2,
       "version_minor": 0
      },
      "text/plain": [
       "키워드 진행도:   0%|          | 0/5 [00:00<?, ?it/s]"
      ]
     },
     "metadata": {},
     "output_type": "display_data"
    },
    {
     "data": {
      "application/vnd.jupyter.widget-view+json": {
       "model_id": "f78a0156cbab40c3911eb95186f828c3",
       "version_major": 2,
       "version_minor": 0
      },
      "text/plain": [
       "키워드 진행도:   0%|          | 0/5 [00:00<?, ?it/s]"
      ]
     },
     "metadata": {},
     "output_type": "display_data"
    },
    {
     "data": {
      "application/vnd.jupyter.widget-view+json": {
       "model_id": "2b3d6f1129574dfe85ce1b52b0243f99",
       "version_major": 2,
       "version_minor": 0
      },
      "text/plain": [
       "키워드 진행도:   0%|          | 0/5 [00:00<?, ?it/s]"
      ]
     },
     "metadata": {},
     "output_type": "display_data"
    },
    {
     "data": {
      "application/vnd.jupyter.widget-view+json": {
       "model_id": "de39cc3fa92e4e50849016afd9800efe",
       "version_major": 2,
       "version_minor": 0
      },
      "text/plain": [
       "키워드 진행도:   0%|          | 0/5 [00:00<?, ?it/s]"
      ]
     },
     "metadata": {},
     "output_type": "display_data"
    },
    {
     "data": {
      "application/vnd.jupyter.widget-view+json": {
       "model_id": "13b82bc7fd964549ae24c305cbf85225",
       "version_major": 2,
       "version_minor": 0
      },
      "text/plain": [
       "키워드 진행도:   0%|          | 0/5 [00:00<?, ?it/s]"
      ]
     },
     "metadata": {},
     "output_type": "display_data"
    },
    {
     "name": "stdout",
     "output_type": "stream",
     "text": [
      "[{'카테고리': '니트/스웨터', '키워드': '루즈핏니트', '검색수': 1490, '해외배송개수': 1}, {'카테고리': '바지', '키워드': '린넨팬츠', '검색수': 8870, '해외배송개수': 0}, {'카테고리': '블라우스/셔츠', '키워드': '도트블라우스', '검색수': 3500, '해외배송개수': 5}, {'카테고리': '원피스', '키워드': '체크원피스', '검색수': 9170, '해외배송개수': 0}, {'카테고리': '티셔츠', '키워드': '여성맨투맨', '검색수': 3270, '해외배송개수': 2}, {'카테고리': '바지', '키워드': '여성린넨바지', '검색수': 6650, '해외배송개수': 1}, {'카테고리': '점프슈트', '키워드': '멜빵반바지', '검색수': 4590, '해외배송개수': 11}, {'카테고리': '코디세트', '키워드': '니트투피스', '검색수': 1760, '해외배송개수': 0}, {'카테고리': '니트/스웨터', '키워드': '브이넥니트', '검색수': 5270, '해외배송개수': 0}, {'카테고리': '레깅스', '키워드': '템플레깅스', '검색수': 3210, '해외배송개수': 1}, {'카테고리': '청바지', '키워드': '여자청반바지', '검색수': 3720, '해외배송개수': 1}, {'카테고리': '스커트', '키워드': '니트스커트', '검색수': 1730, '해외배송개수': 0}, {'카테고리': '코트', '키워드': '럭키슈에뜨코트', '검색수': 2650, '해외배송개수': 2}, {'카테고리': '블라우스/셔츠', '키워드': '브이넥블라우스', '검색수': 5470, '해외배송개수': 0}, {'카테고리': '카디건', '키워드': '롱가디건', '검색수': 6710, '해외배송개수': 1}, {'카테고리': '원피스', '키워드': '후드원피스', '검색수': 3860, '해외배송개수': 1}, {'카테고리': '바지', '키워드': '여름치마바지', '검색수': 2360, '해외배송개수': 12}, {'카테고리': '티셔츠', '키워드': '여자맨투맨', '검색수': 2080, '해외배송개수': 1}, {'카테고리': '점프슈트', '키워드': '데님멜빵바지', '검색수': 1350, '해외배송개수': 5}, {'카테고리': '코디세트', '키워드': '나시가디건세트', '검색수': 7090, '해외배송개수': 0}, {'카테고리': '청바지', '키워드': '마더진', '검색수': 2250, '해외배송개수': 65}, {'카테고리': '레깅스', '키워드': '4부레깅스', '검색수': 2380, '해외배송개수': 3}, {'카테고리': '코트', '키워드': '무스탕', '검색수': 6330, '해외배송개수': 2}, {'카테고리': '니트/스웨터', '키워드': '여성니트', '검색수': 4880, '해외배송개수': 13}, {'카테고리': '카디건', '키워드': '여성롱가디건', '검색수': 2390, '해외배송개수': 6}, {'카테고리': '스커트', '키워드': '레이스스커트', '검색수': 4390, '해외배송개수': 2}, {'카테고리': '블라우스/셔츠', '키워드': '플라워블라우스', '검색수': 4380, '해외배송개수': 1}, {'카테고리': '원피스', '키워드': '도트원피스', '검색수': 7900, '해외배송개수': 7}, {'카테고리': '티셔츠', '키워드': '레터링티셔츠', '검색수': 5780, '해외배송개수': 0}, {'카테고리': '바지', '키워드': '여성린넨반바지', '검색수': 2790, '해외배송개수': 7}, {'카테고리': '청바지', '키워드': '스키니', '검색수': 3970, '해외배송개수': 0}, {'카테고리': '코디세트', '키워드': '린넨나시', '검색수': 7110, '해외배송개수': 2}, {'카테고리': '카디건', '키워드': '나시가디건세트', '검색수': 7090, '해외배송개수': 0}, {'카테고리': '점프슈트', '키워드': '데님오버롤', '검색수': 2490, '해외배송개수': 12}, {'카테고리': '레깅스', '키워드': '치마레깅스', '검색수': 4550, '해외배송개수': 0}, {'카테고리': '니트/스웨터', '키워드': '여성니트티', '검색수': 4010, '해외배송개수': 3}, {'카테고리': '스커트', '키워드': '머메이드스커트', '검색수': 9220, '해외배송개수': 0}, {'카테고리': '코트', '키워드': '여성코트', '검색수': 800, '해외배송개수': 13}, {'카테고리': '블라우스/셔츠', '키워드': '랩블라우스', '검색수': 7140, '해외배송개수': 0}, {'카테고리': '원피스', '키워드': '롱셔츠원피스', '검색수': 6040, '해외배송개수': 9}, {'카테고리': '티셔츠', '키워드': '루즈핏티셔츠', '검색수': 7140, '해외배송개수': 0}, {'카테고리': '청바지', '키워드': '청와이드팬츠', '검색수': 1460, '해외배송개수': 0}, {'카테고리': '바지', '키워드': '인견바지', '검색수': 7530, '해외배송개수': 0}, {'카테고리': '카디건', '키워드': '여름로브가디건', '검색수': 1770, '해외배송개수': 13}, {'카테고리': '코디세트', '키워드': '니트세트', '검색수': 1160, '해외배송개수': 0}, {'카테고리': '니트/스웨터', '키워드': '홀가먼트니트', '검색수': 3590, '해외배송개수': 0}, {'카테고리': '스커트', '키워드': '린넨스커트', '검색수': 9820, '해외배송개수': 1}, {'카테고리': '코트', '키워드': '여성트렌치코트', '검색수': 660, '해외배송개수': 32}, {'카테고리': '원피스', '키워드': '린넨롱원피스', '검색수': 8480, '해외배송개수': 0}, {'카테고리': '레깅스', '키워드': '7부레깅스', '검색수': 4140, '해외배송개수': 4}, {'카테고리': '블라우스/셔츠', '키워드': '어깨트임블라우스', '검색수': 970, '해외배송개수': 39}, {'카테고리': '점프슈트', '키워드': '빅사이즈멜빵바지', '검색수': 1300, '해외배송개수': 37}, {'카테고리': '청바지', '키워드': '5부청바지', '검색수': 1620, '해외배송개수': 13}, {'카테고리': '티셔츠', '키워드': '여자나시티', '검색수': 2580, '해외배송개수': 0}, {'카테고리': '카디건', '키워드': '톰보이가디건', '검색수': 1350, '해외배송개수': 0}, {'카테고리': '스커트', '키워드': '린넨롱스커트', '검색수': 3400, '해외배송개수': 1}, {'카테고리': '코디세트', '키워드': '세트', '검색수': 8070, '해외배송개수': 0}, {'카테고리': '코트', '키워드': '체크코트', '검색수': 550, '해외배송개수': 1}, {'카테고리': '레깅스', '키워드': '여름치마레깅스', '검색수': 1780, '해외배송개수': 3}, {'카테고리': '점프슈트', '키워드': '여성바디슈트', '검색수': 720, '해외배송개수': 56}]\n"
     ]
    }
   ],
   "source": [
    "import json\n",
    "import csv\n",
    "import urllib.request\n",
    "from tqdm import notebook\n",
    "from joblib import Parallel, delayed\n",
    "from config import *\n",
    "from infsell import *\n",
    "\n",
    "\n",
    "\n",
    "def extract_keywords(category,client_auth):\n",
    "    \n",
    "    category_id = category[0]\n",
    "    category_name = category[1]\n",
    "    \n",
    "    url_data = \"https://api.itemscout.io/api/category/{0}/data\".format(category_id)\n",
    "    url_brands = \"https://api.itemscout.io/api/category/{0}/brands\".format(category_id)\n",
    "    response_data = requests.post(url_data, json=PAYLOAD)\n",
    "    response_brands = requests.get(url_brands)\n",
    "    data = response_data.json()['data']['data']\n",
    "    brands = response_brands.json()['data']\n",
    "    brands = remove_a_word(brands)\n",
    "    \n",
    "    keywords,dict_clicks = get_keywords(data)\n",
    "    keywords_nb = remove_brands(keywords,brands)\n",
    "    \n",
    "    for keyword in notebook.tqdm(keywords_nb[:5], desc = \"키워드 진행도\"):\n",
    "\n",
    "        encText = urllib.parse.quote(keyword)\n",
    "        url_excluding_oversea = \"https://openapi.naver.com/v1/search/shop.json?display=80&exclude=cbshop&query=\" + encText\n",
    "        url_items = \"https://openapi.naver.com/v1/search/shop.json?display=80&query=\" + encText # JSON 결과\n",
    "\n",
    "        items_excluding_oversea = get_items(url_excluding_oversea,client_auth)\n",
    "        items = get_items(url_items,client_auth)\n",
    "\n",
    "        dict_excluding_oversea = {}\n",
    "\n",
    "        for item in items_excluding_oversea:\n",
    "            dict_excluding_oversea[item['productId']]=1\n",
    "        \n",
    "        cnt = 0 \n",
    "        for item in items :\n",
    "            if item['productId'] not in dict_excluding_oversea:\n",
    "                cnt+=1\n",
    "    \n",
    "        info_keyword={}\n",
    "        info_keyword['카테고리'] = category_name\n",
    "        info_keyword['키워드'] = keyword\n",
    "        info_keyword['검색수'] = dict_clicks[keyword]\n",
    "        info_keyword['해외배송개수'] = cnt\n",
    "        \n",
    "        final_keywords.append(info_keyword)\n",
    "        \n",
    "\n",
    "#멀티코어 개수\n",
    "num_core = 12\n",
    "\n",
    "cnt_keyword=0\n",
    "path_auth='auth_api.txt'\n",
    "client_auth = get_auth_api(path_auth)\n",
    "final_keywords = []\n",
    "\n",
    "with Parallel(n_jobs=num_core, require='sharedmem') as parallel:\n",
    "    parallel(delayed(extract_keywords)(category,client_auth)for category in notebook.tqdm(leaf_category[:12]))\n",
    "    \n",
    "print(final_keywords)"
   ]
  },
  {
   "cell_type": "code",
   "execution_count": 3,
   "id": "45ca397c",
   "metadata": {
    "scrolled": true
   },
   "outputs": [
    {
     "name": "stdout",
     "output_type": "stream",
     "text": [
      "엑셀 변환 완료\n"
     ]
    }
   ],
   "source": [
    "from infsell import convert_dict_to_excel\n",
    "import openpyxl\n",
    "\n",
    "name_file = '2023_06_08_top500_키워드'\n",
    "\n",
    "convert_dict_to_excel(name_file, final_keywords)"
   ]
  }
 ],
 "metadata": {
  "kernelspec": {
   "display_name": "Python 3 (ipykernel)",
   "language": "python",
   "name": "python3"
  },
  "language_info": {
   "codemirror_mode": {
    "name": "ipython",
    "version": 3
   },
   "file_extension": ".py",
   "mimetype": "text/x-python",
   "name": "python",
   "nbconvert_exporter": "python",
   "pygments_lexer": "ipython3",
   "version": "3.8.5"
  }
 },
 "nbformat": 4,
 "nbformat_minor": 5
}
