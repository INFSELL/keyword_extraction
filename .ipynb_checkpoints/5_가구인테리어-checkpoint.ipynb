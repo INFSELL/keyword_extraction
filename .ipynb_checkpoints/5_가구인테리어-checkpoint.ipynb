{
 "cells": [
  {
   "cell_type": "code",
   "execution_count": 1,
   "id": "73132983",
   "metadata": {},
   "outputs": [
    {
     "name": "stdout",
     "output_type": "stream",
     "text": [
      "264\n"
     ]
    }
   ],
   "source": [
    "import requests\n",
    "from copy import copy\n",
    "\n",
    "\n",
    "def dfs(category_id):\n",
    "    url = \"https://api.itemscout.io/api/category/{0}/subcategories\".format(category_id)\n",
    "    response = requests.get(url = url)\n",
    "    \n",
    "    for d in response.json()['data']:\n",
    "\n",
    "        d_id = d['id']\n",
    "        d_name = d['name']\n",
    "        d_is_leaf = d['is_leaf']\n",
    "        \n",
    "        if(d_is_leaf):\n",
    "            leaf_id = copy(d_id)\n",
    "            leaf_name = copy(d_name)\n",
    "            leaf_category.append([leaf_id,leaf_name])\n",
    "            \n",
    "        else:\n",
    "            dfs(d_id)\n",
    "    \n",
    "paths = []\n",
    "leaf_category = []\n",
    "starting_category = [1,2,3,4,5,8,9] #출산/육아(6) , 식품 제외(7)\n",
    "\n",
    "\n",
    "dfs(4)\n",
    "\n",
    "print(len(leaf_category))\n",
    "#1 : 패션의류 --> 68개 \n",
    "#2 : 패션잡화 --> 264개\n",
    "#3 : 화장품/미용 --> 157개\n",
    "#4 : 디지털/가전 --> 681개\n",
    "#5 : 가구/인테리어 --> 354개\n",
    "#6 : 출산/육아 (X)\n",
    "#7 : 식품 (X)\n",
    "#8 : 스포츠/레저 --> 카테고리 : 480개, 키워드 : 154207개 --> 필터 적용 : 20000개\n",
    "#9 : 생활/건강 --> 카테고리 : 1227개, 키워드 : 465817개 --> 필터 적용 : 61751개\n",
    "\n",
    "#app 1개당 기본 api 12500개 \n",
    "#계정 1개당 app 10개, api 125000개\n",
    "\n",
    "#계정 2개면 충분!"
   ]
  },
  {
   "cell_type": "code",
   "execution_count": 2,
   "id": "fe8aea98",
   "metadata": {
    "scrolled": true
   },
   "outputs": [
    {
     "data": {
      "application/vnd.jupyter.widget-view+json": {
       "model_id": "ccda100cd536477badde927e91aaf713",
       "version_major": 2,
       "version_minor": 0
      },
      "text/plain": [
       "  0%|          | 0/12 [00:00<?, ?it/s]"
      ]
     },
     "metadata": {},
     "output_type": "display_data"
    },
    {
     "data": {
      "application/vnd.jupyter.widget-view+json": {
       "model_id": "ea47df5d96644882995b28959d89d681",
       "version_major": 2,
       "version_minor": 0
      },
      "text/plain": [
       "키워드 진행도:   0%|          | 0/5 [00:00<?, ?it/s]"
      ]
     },
     "metadata": {},
     "output_type": "display_data"
    },
    {
     "data": {
      "application/vnd.jupyter.widget-view+json": {
       "model_id": "5286b8cc5a794dc29f500928e2f8be01",
       "version_major": 2,
       "version_minor": 0
      },
      "text/plain": [
       "키워드 진행도:   0%|          | 0/5 [00:00<?, ?it/s]"
      ]
     },
     "metadata": {},
     "output_type": "display_data"
    },
    {
     "data": {
      "application/vnd.jupyter.widget-view+json": {
       "model_id": "3661211ee2df46f18d37761c543c3e1d",
       "version_major": 2,
       "version_minor": 0
      },
      "text/plain": [
       "키워드 진행도:   0%|          | 0/5 [00:00<?, ?it/s]"
      ]
     },
     "metadata": {},
     "output_type": "display_data"
    },
    {
     "data": {
      "application/vnd.jupyter.widget-view+json": {
       "model_id": "39b81255dab5460da997d98b6d30c361",
       "version_major": 2,
       "version_minor": 0
      },
      "text/plain": [
       "키워드 진행도:   0%|          | 0/5 [00:00<?, ?it/s]"
      ]
     },
     "metadata": {},
     "output_type": "display_data"
    },
    {
     "data": {
      "application/vnd.jupyter.widget-view+json": {
       "model_id": "31661a76e5cf455e8b9026482b682168",
       "version_major": 2,
       "version_minor": 0
      },
      "text/plain": [
       "키워드 진행도:   0%|          | 0/5 [00:00<?, ?it/s]"
      ]
     },
     "metadata": {},
     "output_type": "display_data"
    },
    {
     "data": {
      "application/vnd.jupyter.widget-view+json": {
       "model_id": "6e2b731d1c9d4f0d8277948c5e405194",
       "version_major": 2,
       "version_minor": 0
      },
      "text/plain": [
       "키워드 진행도:   0%|          | 0/5 [00:00<?, ?it/s]"
      ]
     },
     "metadata": {},
     "output_type": "display_data"
    },
    {
     "data": {
      "application/vnd.jupyter.widget-view+json": {
       "model_id": "f4b1447beb754579944510739cb8d501",
       "version_major": 2,
       "version_minor": 0
      },
      "text/plain": [
       "키워드 진행도:   0%|          | 0/5 [00:00<?, ?it/s]"
      ]
     },
     "metadata": {},
     "output_type": "display_data"
    },
    {
     "data": {
      "application/vnd.jupyter.widget-view+json": {
       "model_id": "1c88c138509244d78e39ea30ae2ca0aa",
       "version_major": 2,
       "version_minor": 0
      },
      "text/plain": [
       "키워드 진행도:   0%|          | 0/5 [00:00<?, ?it/s]"
      ]
     },
     "metadata": {},
     "output_type": "display_data"
    },
    {
     "data": {
      "application/vnd.jupyter.widget-view+json": {
       "model_id": "cd62344c209b45edae8000eb06a0ee91",
       "version_major": 2,
       "version_minor": 0
      },
      "text/plain": [
       "키워드 진행도:   0%|          | 0/5 [00:00<?, ?it/s]"
      ]
     },
     "metadata": {},
     "output_type": "display_data"
    },
    {
     "data": {
      "application/vnd.jupyter.widget-view+json": {
       "model_id": "a8a42632931c4209869ad347f8fd5ee7",
       "version_major": 2,
       "version_minor": 0
      },
      "text/plain": [
       "키워드 진행도:   0%|          | 0/5 [00:00<?, ?it/s]"
      ]
     },
     "metadata": {},
     "output_type": "display_data"
    },
    {
     "data": {
      "application/vnd.jupyter.widget-view+json": {
       "model_id": "b28d3870c7c646e5b93f4ab95dc535c8",
       "version_major": 2,
       "version_minor": 0
      },
      "text/plain": [
       "키워드 진행도:   0%|          | 0/5 [00:00<?, ?it/s]"
      ]
     },
     "metadata": {},
     "output_type": "display_data"
    },
    {
     "data": {
      "application/vnd.jupyter.widget-view+json": {
       "model_id": "b55416a3c3c24b08ba9524d7c3a031a1",
       "version_major": 2,
       "version_minor": 0
      },
      "text/plain": [
       "키워드 진행도:   0%|          | 0/5 [00:00<?, ?it/s]"
      ]
     },
     "metadata": {},
     "output_type": "display_data"
    },
    {
     "name": "stdout",
     "output_type": "stream",
     "text": [
      "[{'카테고리': '발가락양말', '키워드': '남자발가락양말', '검색수': 2520, '해외배송개수': 0}, {'카테고리': '발가락양말', '키워드': '여성발가락양말', '검색수': 3490, '해외배송개수': 1}, {'카테고리': '발목양말', '키워드': '에어로빅양말', '검색수': 1180, '해외배송개수': 5}, {'카테고리': '레그워머', '키워드': '다리토시', '검색수': 5050, '해외배송개수': 1}, {'카테고리': '니삭스', '키워드': '필라테스니삭스', '검색수': 540, '해외배송개수': 0}, {'카테고리': '발가락양말', '키워드': '마라톤양말', '검색수': 2190, '해외배송개수': 5}, {'카테고리': '스포츠양말', '키워드': '에어로빅양말', '검색수': 1180, '해외배송개수': 0}, {'카테고리': '중목/장목양말', '키워드': '에어로빅양말', '검색수': 1180, '해외배송개수': 0}, {'카테고리': '스포츠양말', '키워드': '에어로빅양말', '검색수': 1180, '해외배송개수': 0}, {'카테고리': '수면양말', '키워드': '물주머니', '검색수': 2940, '해외배송개수': 1}, {'카테고리': '덧신', '키워드': '남자덧신', '검색수': 2720, '해외배송개수': 0}, {'카테고리': '발목양말', '키워드': '검정양말', '검색수': 1460, '해외배송개수': 0}, {'카테고리': '발가락양말', '키워드': '여자발가락양말', '검색수': 1620, '해외배송개수': 1}, {'카테고리': '중목/장목양말', '키워드': '검정양말', '검색수': 1460, '해외배송개수': 0}, {'카테고리': '레그워머', '키워드': '발토시', '검색수': 6900, '해외배송개수': 0}, {'카테고리': '니삭스', '키워드': '발토시', '검색수': 6900, '해외배송개수': 0}, {'카테고리': '발목양말', '키워드': '골지양말', '검색수': 2120, '해외배송개수': 1}, {'카테고리': '중목/장목양말', '키워드': '검정양말', '검색수': 1460, '해외배송개수': 0}, {'카테고리': '발목양말', '키워드': '골지양말', '검색수': 2120, '해외배송개수': 0}, {'카테고리': '스포츠양말', '키워드': '배드민턴양말', '검색수': 2410, '해외배송개수': 3}, {'카테고리': '스포츠양말', '키워드': '배드민턴양말', '검색수': 2410, '해외배송개수': 3}, {'카테고리': '덧신', '키워드': '남자덧신양말', '검색수': 2600, '해외배송개수': 0}, {'카테고리': '발가락양말', '키워드': '남성양말', '검색수': 9160, '해외배송개수': 0}, {'카테고리': '수면양말', '키워드': '고양이양말', '검색수': 990, '해외배송개수': 32}, {'카테고리': '발가락양말', '키워드': '타비양말', '검색수': 8290, '해외배송개수': 7}, {'카테고리': '중목/장목양말', '키워드': '꼼데가르송양말', '검색수': 1100, '해외배송개수': 55}, {'카테고리': '레그워머', '키워드': '발목토시', '검색수': 1020, '해외배송개수': 1}, {'카테고리': '중목/장목양말', '키워드': '고양이양말', '검색수': 990, '해외배송개수': 0}, {'카테고리': '발목양말', '키워드': '글리터양말', '검색수': 710, '해외배송개수': 2}, {'카테고리': '스포츠양말', '키워드': '마라톤양말', '검색수': 2190, '해외배송개수': 0}, {'카테고리': '스포츠양말', '키워드': '마라톤양말', '검색수': 2190, '해외배송개수': 0}, {'카테고리': '니삭스', '키워드': '골프니삭스', '검색수': 4820, '해외배송개수': 7}, {'카테고리': '발목양말', '키워드': '남성양말', '검색수': 9160, '해외배송개수': 0}, {'카테고리': '발가락양말', '키워드': '남자덧신', '검색수': 2720, '해외배송개수': 0}, {'카테고리': '중목/장목양말', '키워드': '남성양말', '검색수': 9160, '해외배송개수': 0}, {'카테고리': '덧신', '키워드': '남자페이크삭스', '검색수': 5750, '해외배송개수': 0}, {'카테고리': '수면양말', '키워드': '남자페이크삭스', '검색수': 5750, '해외배송개수': 0}, {'카테고리': '중목/장목양말', '키워드': '골지양말', '검색수': 2120, '해외배송개수': 0}, {'카테고리': '발가락양말', '키워드': '무좀양말', '검색수': 2360, '해외배송개수': 0}, {'카테고리': '니삭스', '키워드': '골지양말', '검색수': 2120, '해외배송개수': 0}, {'카테고리': '레그워머', '키워드': '레그워머', '검색수': 7390, '해외배송개수': 0}, {'카테고리': '발목양말', '키워드': '긴양말', '검색수': 5180, '해외배송개수': 1}, {'카테고리': '스포츠양말', '키워드': '긴양말', '검색수': 5180, '해외배송개수': 1}, {'카테고리': '발가락양말', '키워드': '남자발가락양말', '검색수': 2520, '해외배송개수': 0}, {'카테고리': '발목양말', '키워드': '남성양말세트', '검색수': 620, '해외배송개수': 4}, {'카테고리': '스포츠양말', '키워드': '남성스포츠양말', '검색수': 1430, '해외배송개수': 1}, {'카테고리': '니삭스', '키워드': '긴양말', '검색수': 5180, '해외배송개수': 1}, {'카테고리': '중목/장목양말', '키워드': '남성양말세트', '검색수': 620, '해외배송개수': 4}, {'카테고리': '발목양말', '키워드': '남성양말', '검색수': 9160, '해외배송개수': 0}, {'카테고리': '덧신', '키워드': '덧버선', '검색수': 4040, '해외배송개수': 0}, {'카테고리': '수면양말', '키워드': '두꺼운페이크삭스', '검색수': 1330, '해외배송개수': 0}, {'카테고리': '발가락양말', '키워드': '남자페이크삭스', '검색수': 5750, '해외배송개수': 0}, {'카테고리': '레그워머', '키워드': '반스타킹', '검색수': 5840, '해외배송개수': 0}, {'카테고리': '중목/장목양말', '키워드': '교복양말', '검색수': 880, '해외배송개수': 1}, {'카테고리': '스포츠양말', '키워드': '남성양말', '검색수': 9160, '해외배송개수': 0}, {'카테고리': '스포츠양말', '키워드': '남성스포츠양말', '검색수': 1430, '해외배송개수': 0}, {'카테고리': '수면양말', '키워드': '레그워머', '검색수': 7390, '해외배송개수': 0}, {'카테고리': '중목/장목양말', '키워드': '남성정장양말', '검색수': 950, '해외배송개수': 0}, {'카테고리': '덧신', '키워드': '두꺼운페이크삭스', '검색수': 1330, '해외배송개수': 0}, {'카테고리': '발목양말', '키워드': '남자단목양말', '검색수': 1990, '해외배송개수': 0}]\n"
     ]
    }
   ],
   "source": [
    "import json\n",
    "import csv\n",
    "import urllib.request\n",
    "from tqdm import notebook\n",
    "from joblib import Parallel, delayed\n",
    "from config import *\n",
    "from infsell import *\n",
    "\n",
    "\n",
    "\n",
    "def extract_keywords(category,client_auth):\n",
    "    \n",
    "    category_id = category[0]\n",
    "    category_name = category[1]\n",
    "    \n",
    "    url_data = \"https://api.itemscout.io/api/category/{0}/data\".format(category_id)\n",
    "    url_brands = \"https://api.itemscout.io/api/category/{0}/brands\".format(category_id)\n",
    "    response_data = requests.post(url_data, json=PAYLOAD)\n",
    "    response_brands = requests.get(url_brands)\n",
    "    data = response_data.json()['data']['data']\n",
    "    brands = response_brands.json()['data']\n",
    "    brands = remove_a_word(brands)\n",
    "    \n",
    "    keywords,dict_clicks = get_keywords(data)\n",
    "    keywords_nb = remove_brands(keywords,brands)\n",
    "    \n",
    "    for keyword in notebook.tqdm(keywords_nb[:5], desc = \"키워드 진행도\"):\n",
    "\n",
    "        encText = urllib.parse.quote(keyword)\n",
    "        url_excluding_oversea = \"https://openapi.naver.com/v1/search/shop.json?display=80&exclude=cbshop&query=\" + encText\n",
    "        url_items = \"https://openapi.naver.com/v1/search/shop.json?display=80&query=\" + encText # JSON 결과\n",
    "\n",
    "        items_excluding_oversea = get_items(url_excluding_oversea,client_auth)\n",
    "        items = get_items(url_items,client_auth)\n",
    "\n",
    "        dict_excluding_oversea = {}\n",
    "\n",
    "        for item in items_excluding_oversea:\n",
    "            dict_excluding_oversea[item['productId']]=1\n",
    "        \n",
    "        cnt = 0 \n",
    "        for item in items :\n",
    "            if item['productId'] not in dict_excluding_oversea:\n",
    "                cnt+=1\n",
    "    \n",
    "        info_keyword={}\n",
    "        info_keyword['카테고리'] = category_name\n",
    "        info_keyword['키워드'] = keyword\n",
    "        info_keyword['검색수'] = dict_clicks[keyword]\n",
    "        info_keyword['해외배송개수'] = cnt\n",
    "        \n",
    "        final_keywords.append(info_keyword)\n",
    "        \n",
    "\n",
    "#멀티코어 개수\n",
    "num_core = 12\n",
    "\n",
    "cnt_keyword=0\n",
    "path_auth='auth_api.txt'\n",
    "client_auth = get_auth_api(path_auth)\n",
    "final_keywords = []\n",
    "\n",
    "with Parallel(n_jobs=num_core, require='sharedmem') as parallel:\n",
    "    parallel(delayed(extract_keywords)(category,client_auth)for category in notebook.tqdm(leaf_category[:12]))\n",
    "    \n",
    "print(final_keywords)"
   ]
  },
  {
   "cell_type": "code",
   "execution_count": 3,
   "id": "45ca397c",
   "metadata": {
    "scrolled": true
   },
   "outputs": [
    {
     "name": "stdout",
     "output_type": "stream",
     "text": [
      "엑셀 변환 완료\n"
     ]
    }
   ],
   "source": [
    "from infsell import convert_dict_to_excel\n",
    "import openpyxl\n",
    "\n",
    "name_file = '2023_06_08_top500_키워드'\n",
    "\n",
    "convert_dict_to_excel(name_file, final_keywords)"
   ]
  }
 ],
 "metadata": {
  "kernelspec": {
   "display_name": "Python 3 (ipykernel)",
   "language": "python",
   "name": "python3"
  },
  "language_info": {
   "codemirror_mode": {
    "name": "ipython",
    "version": 3
   },
   "file_extension": ".py",
   "mimetype": "text/x-python",
   "name": "python",
   "nbconvert_exporter": "python",
   "pygments_lexer": "ipython3",
   "version": "3.8.5"
  }
 },
 "nbformat": 4,
 "nbformat_minor": 5
}
