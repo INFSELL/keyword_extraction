{
 "cells": [
  {
   "cell_type": "code",
   "execution_count": 1,
   "id": "73132983",
   "metadata": {},
   "outputs": [
    {
     "name": "stdout",
     "output_type": "stream",
     "text": [
      "681\n"
     ]
    }
   ],
   "source": [
    "import requests\n",
    "from copy import copy\n",
    "\n",
    "\n",
    "def dfs(category_id):\n",
    "    url = \"https://api.itemscout.io/api/category/{0}/subcategories\".format(category_id)\n",
    "    response = requests.get(url = url)\n",
    "    \n",
    "    for d in response.json()['data']:\n",
    "\n",
    "        d_id = d['id']\n",
    "        d_name = d['name']\n",
    "        d_is_leaf = d['is_leaf']\n",
    "        \n",
    "        if(d_is_leaf):\n",
    "            leaf_id = copy(d_id)\n",
    "            leaf_name = copy(d_name)\n",
    "            leaf_category.append([leaf_id,leaf_name])\n",
    "            \n",
    "        else:\n",
    "            dfs(d_id)\n",
    "    \n",
    "paths = []\n",
    "leaf_category = []\n",
    "starting_category = [1,2,3,4,5,8,9] #출산/육아(6) , 식품 제외(7)\n",
    "\n",
    "\n",
    "dfs(4)\n",
    "\n",
    "print(len(leaf_category))\n",
    "#1 : 패션의류 --> 68개 \n",
    "#2 : 패션잡화 --> 264개\n",
    "#3 : 화장품/미용 --> 157개\n",
    "#4 : 디지털/가전 --> 681개\n",
    "#5 : 가구/인테리어 --> 354개\n",
    "#6 : 출산/육아 (X)\n",
    "#7 : 식품 (X)\n",
    "#8 : 스포츠/레저 --> 카테고리 : 480개, 키워드 : 154207개 --> 필터 적용 : 20000개\n",
    "#9 : 생활/건강 --> 카테고리 : 1227개, 키워드 : 465817개 --> 필터 적용 : 61751개\n",
    "\n",
    "#app 1개당 기본 api 12500개 \n",
    "#계정 1개당 app 10개, api 125000개\n",
    "\n",
    "#계정 2개면 충분!"
   ]
  },
  {
   "cell_type": "code",
   "execution_count": 2,
   "id": "fe8aea98",
   "metadata": {
    "scrolled": true
   },
   "outputs": [
    {
     "data": {
      "application/vnd.jupyter.widget-view+json": {
       "model_id": "296e8b29987f47e2b1a65f2fb936f68c",
       "version_major": 2,
       "version_minor": 0
      },
      "text/plain": [
       "  0%|          | 0/681 [00:00<?, ?it/s]"
      ]
     },
     "metadata": {},
     "output_type": "display_data"
    },
    {
     "data": {
      "application/vnd.jupyter.widget-view+json": {
       "model_id": "45041748b8a640bdbc7c2c09079b5a3c",
       "version_major": 2,
       "version_minor": 0
      },
      "text/plain": [
       "키워드 진행도:   0%|          | 0/10 [00:00<?, ?it/s]"
      ]
     },
     "metadata": {},
     "output_type": "display_data"
    },
    {
     "data": {
      "application/vnd.jupyter.widget-view+json": {
       "model_id": "95e8e44282e54518bfa90056430361f1",
       "version_major": 2,
       "version_minor": 0
      },
      "text/plain": [
       "키워드 진행도:   0%|          | 0/4 [00:00<?, ?it/s]"
      ]
     },
     "metadata": {},
     "output_type": "display_data"
    },
    {
     "data": {
      "application/vnd.jupyter.widget-view+json": {
       "model_id": "89c16a10e52849bcbb5b68aaa92b8519",
       "version_major": 2,
       "version_minor": 0
      },
      "text/plain": [
       "키워드 진행도:   0%|          | 0/16 [00:00<?, ?it/s]"
      ]
     },
     "metadata": {},
     "output_type": "display_data"
    },
    {
     "data": {
      "application/vnd.jupyter.widget-view+json": {
       "model_id": "d9439052028e405e99f20af4be9ffbc3",
       "version_major": 2,
       "version_minor": 0
      },
      "text/plain": [
       "키워드 진행도:   0%|          | 0/19 [00:00<?, ?it/s]"
      ]
     },
     "metadata": {},
     "output_type": "display_data"
    },
    {
     "data": {
      "application/vnd.jupyter.widget-view+json": {
       "model_id": "8b7304560e0741eea4f382eaeaef8b40",
       "version_major": 2,
       "version_minor": 0
      },
      "text/plain": [
       "키워드 진행도:   0%|          | 0/22 [00:00<?, ?it/s]"
      ]
     },
     "metadata": {},
     "output_type": "display_data"
    },
    {
     "data": {
      "application/vnd.jupyter.widget-view+json": {
       "model_id": "0a2fae116ed64d72a0a271378e8064e5",
       "version_major": 2,
       "version_minor": 0
      },
      "text/plain": [
       "키워드 진행도:   0%|          | 0/97 [00:00<?, ?it/s]"
      ]
     },
     "metadata": {},
     "output_type": "display_data"
    },
    {
     "data": {
      "application/vnd.jupyter.widget-view+json": {
       "model_id": "c5b97a7f3a2f43e1a9f4bc69c36e659e",
       "version_major": 2,
       "version_minor": 0
      },
      "text/plain": [
       "키워드 진행도:   0%|          | 0/12 [00:00<?, ?it/s]"
      ]
     },
     "metadata": {},
     "output_type": "display_data"
    },
    {
     "data": {
      "application/vnd.jupyter.widget-view+json": {
       "model_id": "8e06294c9cab4c6da906fb9d03b494ac",
       "version_major": 2,
       "version_minor": 0
      },
      "text/plain": [
       "키워드 진행도:   0%|          | 0/135 [00:00<?, ?it/s]"
      ]
     },
     "metadata": {},
     "output_type": "display_data"
    },
    {
     "data": {
      "application/vnd.jupyter.widget-view+json": {
       "model_id": "793bf82fd815416b84ca2eb78f723cd8",
       "version_major": 2,
       "version_minor": 0
      },
      "text/plain": [
       "키워드 진행도:   0%|          | 0/28 [00:00<?, ?it/s]"
      ]
     },
     "metadata": {},
     "output_type": "display_data"
    },
    {
     "data": {
      "application/vnd.jupyter.widget-view+json": {
       "model_id": "11be6ccc9fef44c9aba989ea4c8b5708",
       "version_major": 2,
       "version_minor": 0
      },
      "text/plain": [
       "키워드 진행도:   0%|          | 0/62 [00:00<?, ?it/s]"
      ]
     },
     "metadata": {},
     "output_type": "display_data"
    },
    {
     "data": {
      "application/vnd.jupyter.widget-view+json": {
       "model_id": "a65a2effb0794877805dc252a0bb8a83",
       "version_major": 2,
       "version_minor": 0
      },
      "text/plain": [
       "키워드 진행도:   0%|          | 0/7 [00:00<?, ?it/s]"
      ]
     },
     "metadata": {},
     "output_type": "display_data"
    },
    {
     "data": {
      "application/vnd.jupyter.widget-view+json": {
       "model_id": "b53d5e3c90824cdeb131000708b88b3c",
       "version_major": 2,
       "version_minor": 0
      },
      "text/plain": [
       "키워드 진행도:   0%|          | 0/74 [00:00<?, ?it/s]"
      ]
     },
     "metadata": {},
     "output_type": "display_data"
    },
    {
     "data": {
      "application/vnd.jupyter.widget-view+json": {
       "model_id": "46d05f5619e045fb974b43083fe6b91d",
       "version_major": 2,
       "version_minor": 0
      },
      "text/plain": [
       "키워드 진행도:   0%|          | 0/19 [00:00<?, ?it/s]"
      ]
     },
     "metadata": {},
     "output_type": "display_data"
    },
    {
     "data": {
      "application/vnd.jupyter.widget-view+json": {
       "model_id": "462c4be1fe024bbb9f9c6d995c7b3983",
       "version_major": 2,
       "version_minor": 0
      },
      "text/plain": [
       "키워드 진행도:   0%|          | 0/83 [00:00<?, ?it/s]"
      ]
     },
     "metadata": {},
     "output_type": "display_data"
    },
    {
     "data": {
      "application/vnd.jupyter.widget-view+json": {
       "model_id": "546299772ace42c7918a05be0ef845ae",
       "version_major": 2,
       "version_minor": 0
      },
      "text/plain": [
       "키워드 진행도:   0%|          | 0/117 [00:00<?, ?it/s]"
      ]
     },
     "metadata": {},
     "output_type": "display_data"
    },
    {
     "data": {
      "application/vnd.jupyter.widget-view+json": {
       "model_id": "06726a2d9e45466089bd47d058b2b9bd",
       "version_major": 2,
       "version_minor": 0
      },
      "text/plain": [
       "키워드 진행도:   0%|          | 0/88 [00:00<?, ?it/s]"
      ]
     },
     "metadata": {},
     "output_type": "display_data"
    },
    {
     "data": {
      "application/vnd.jupyter.widget-view+json": {
       "model_id": "52b661f0ca804b2bbde7dc03878039bb",
       "version_major": 2,
       "version_minor": 0
      },
      "text/plain": [
       "키워드 진행도:   0%|          | 0/244 [00:00<?, ?it/s]"
      ]
     },
     "metadata": {},
     "output_type": "display_data"
    },
    {
     "data": {
      "application/vnd.jupyter.widget-view+json": {
       "model_id": "3f8b84f2977b41d39012f4dceb7cd538",
       "version_major": 2,
       "version_minor": 0
      },
      "text/plain": [
       "키워드 진행도:   0%|          | 0/209 [00:00<?, ?it/s]"
      ]
     },
     "metadata": {},
     "output_type": "display_data"
    },
    {
     "data": {
      "application/vnd.jupyter.widget-view+json": {
       "model_id": "75b0407a7c4a4072b04e50707c90afb4",
       "version_major": 2,
       "version_minor": 0
      },
      "text/plain": [
       "키워드 진행도:   0%|          | 0/89 [00:00<?, ?it/s]"
      ]
     },
     "metadata": {},
     "output_type": "display_data"
    },
    {
     "data": {
      "application/vnd.jupyter.widget-view+json": {
       "model_id": "dcf889346bbf44a992302c7ff5d4ae72",
       "version_major": 2,
       "version_minor": 0
      },
      "text/plain": [
       "키워드 진행도:   0%|          | 0/13 [00:00<?, ?it/s]"
      ]
     },
     "metadata": {},
     "output_type": "display_data"
    },
    {
     "data": {
      "application/vnd.jupyter.widget-view+json": {
       "model_id": "bfa4ad2aa2f14b8b942173bfc9a8d68a",
       "version_major": 2,
       "version_minor": 0
      },
      "text/plain": [
       "키워드 진행도:   0%|          | 0/123 [00:00<?, ?it/s]"
      ]
     },
     "metadata": {},
     "output_type": "display_data"
    },
    {
     "data": {
      "application/vnd.jupyter.widget-view+json": {
       "model_id": "35ad0004ab7c479481894128ea307ded",
       "version_major": 2,
       "version_minor": 0
      },
      "text/plain": [
       "키워드 진행도:   0%|          | 0/57 [00:00<?, ?it/s]"
      ]
     },
     "metadata": {},
     "output_type": "display_data"
    },
    {
     "data": {
      "application/vnd.jupyter.widget-view+json": {
       "model_id": "d4b4b6c295cf4ec89bd1dcb5aec969f2",
       "version_major": 2,
       "version_minor": 0
      },
      "text/plain": [
       "키워드 진행도:   0%|          | 0/10 [00:00<?, ?it/s]"
      ]
     },
     "metadata": {},
     "output_type": "display_data"
    },
    {
     "data": {
      "application/vnd.jupyter.widget-view+json": {
       "model_id": "d4e53017145849089659bbc3ef3dc5a4",
       "version_major": 2,
       "version_minor": 0
      },
      "text/plain": [
       "키워드 진행도:   0%|          | 0/13 [00:00<?, ?it/s]"
      ]
     },
     "metadata": {},
     "output_type": "display_data"
    },
    {
     "data": {
      "application/vnd.jupyter.widget-view+json": {
       "model_id": "3a573d26e72745429c762dfd5bfa81cf",
       "version_major": 2,
       "version_minor": 0
      },
      "text/plain": [
       "키워드 진행도:   0%|          | 0/10 [00:00<?, ?it/s]"
      ]
     },
     "metadata": {},
     "output_type": "display_data"
    },
    {
     "data": {
      "application/vnd.jupyter.widget-view+json": {
       "model_id": "dda9bd1b1d614fce907b4b365ce26823",
       "version_major": 2,
       "version_minor": 0
      },
      "text/plain": [
       "키워드 진행도:   0%|          | 0/4 [00:00<?, ?it/s]"
      ]
     },
     "metadata": {},
     "output_type": "display_data"
    },
    {
     "data": {
      "application/vnd.jupyter.widget-view+json": {
       "model_id": "ad189fb4d00f4296a633bd34fe4d4ab1",
       "version_major": 2,
       "version_minor": 0
      },
      "text/plain": [
       "키워드 진행도:   0%|          | 0/2 [00:00<?, ?it/s]"
      ]
     },
     "metadata": {},
     "output_type": "display_data"
    },
    {
     "data": {
      "application/vnd.jupyter.widget-view+json": {
       "model_id": "3b3bb02a8bac4667b7c53b31f1c4660a",
       "version_major": 2,
       "version_minor": 0
      },
      "text/plain": [
       "키워드 진행도:   0%|          | 0/37 [00:00<?, ?it/s]"
      ]
     },
     "metadata": {},
     "output_type": "display_data"
    },
    {
     "data": {
      "application/vnd.jupyter.widget-view+json": {
       "model_id": "7481481485e34637a524152573941ad7",
       "version_major": 2,
       "version_minor": 0
      },
      "text/plain": [
       "키워드 진행도:   0%|          | 0/27 [00:00<?, ?it/s]"
      ]
     },
     "metadata": {},
     "output_type": "display_data"
    },
    {
     "data": {
      "application/vnd.jupyter.widget-view+json": {
       "model_id": "e886bca49d46477e831d60913e70ecc6",
       "version_major": 2,
       "version_minor": 0
      },
      "text/plain": [
       "키워드 진행도:   0%|          | 0/83 [00:00<?, ?it/s]"
      ]
     },
     "metadata": {},
     "output_type": "display_data"
    },
    {
     "data": {
      "application/vnd.jupyter.widget-view+json": {
       "model_id": "6fa724cd2a624216bc64813ecfe156e6",
       "version_major": 2,
       "version_minor": 0
      },
      "text/plain": [
       "키워드 진행도:   0%|          | 0/32 [00:00<?, ?it/s]"
      ]
     },
     "metadata": {},
     "output_type": "display_data"
    },
    {
     "data": {
      "application/vnd.jupyter.widget-view+json": {
       "model_id": "3b673491ddd44e718c0d3573f3816452",
       "version_major": 2,
       "version_minor": 0
      },
      "text/plain": [
       "키워드 진행도:   0%|          | 0/23 [00:00<?, ?it/s]"
      ]
     },
     "metadata": {},
     "output_type": "display_data"
    },
    {
     "data": {
      "application/vnd.jupyter.widget-view+json": {
       "model_id": "ea0ecf8057334fa68468e1af917ea19b",
       "version_major": 2,
       "version_minor": 0
      },
      "text/plain": [
       "키워드 진행도:   0%|          | 0/26 [00:00<?, ?it/s]"
      ]
     },
     "metadata": {},
     "output_type": "display_data"
    },
    {
     "data": {
      "application/vnd.jupyter.widget-view+json": {
       "model_id": "c9fccfeced914be08c7e3f2fe4d1fafe",
       "version_major": 2,
       "version_minor": 0
      },
      "text/plain": [
       "키워드 진행도:   0%|          | 0/21 [00:00<?, ?it/s]"
      ]
     },
     "metadata": {},
     "output_type": "display_data"
    },
    {
     "data": {
      "application/vnd.jupyter.widget-view+json": {
       "model_id": "2bb718f6ab5a406fb1dcc8a17d9e45ab",
       "version_major": 2,
       "version_minor": 0
      },
      "text/plain": [
       "키워드 진행도:   0%|          | 0/32 [00:00<?, ?it/s]"
      ]
     },
     "metadata": {},
     "output_type": "display_data"
    },
    {
     "data": {
      "application/vnd.jupyter.widget-view+json": {
       "model_id": "6098434f181849eabc07a3e5856ca9dd",
       "version_major": 2,
       "version_minor": 0
      },
      "text/plain": [
       "키워드 진행도:   0%|          | 0/50 [00:00<?, ?it/s]"
      ]
     },
     "metadata": {},
     "output_type": "display_data"
    },
    {
     "data": {
      "application/vnd.jupyter.widget-view+json": {
       "model_id": "9c4fb4754bc74985859a0dbf09991f70",
       "version_major": 2,
       "version_minor": 0
      },
      "text/plain": [
       "키워드 진행도:   0%|          | 0/168 [00:00<?, ?it/s]"
      ]
     },
     "metadata": {},
     "output_type": "display_data"
    },
    {
     "data": {
      "application/vnd.jupyter.widget-view+json": {
       "model_id": "7f0936cf2c9f42b3b80cced9fc617965",
       "version_major": 2,
       "version_minor": 0
      },
      "text/plain": [
       "키워드 진행도:   0%|          | 0/11 [00:00<?, ?it/s]"
      ]
     },
     "metadata": {},
     "output_type": "display_data"
    },
    {
     "data": {
      "application/vnd.jupyter.widget-view+json": {
       "model_id": "5b48c9a6f2364b34902429e63b67584c",
       "version_major": 2,
       "version_minor": 0
      },
      "text/plain": [
       "키워드 진행도:   0%|          | 0/10 [00:00<?, ?it/s]"
      ]
     },
     "metadata": {},
     "output_type": "display_data"
    },
    {
     "data": {
      "application/vnd.jupyter.widget-view+json": {
       "model_id": "93ee852a850e49d7ace59089e8c3d8a7",
       "version_major": 2,
       "version_minor": 0
      },
      "text/plain": [
       "키워드 진행도:   0%|          | 0/58 [00:00<?, ?it/s]"
      ]
     },
     "metadata": {},
     "output_type": "display_data"
    },
    {
     "data": {
      "application/vnd.jupyter.widget-view+json": {
       "model_id": "3e4f2bd1c2804c95a667f861257c5ab7",
       "version_major": 2,
       "version_minor": 0
      },
      "text/plain": [
       "키워드 진행도:   0%|          | 0/45 [00:00<?, ?it/s]"
      ]
     },
     "metadata": {},
     "output_type": "display_data"
    },
    {
     "data": {
      "application/vnd.jupyter.widget-view+json": {
       "model_id": "6eff365e3f8d434ea6cdee4d3f49c507",
       "version_major": 2,
       "version_minor": 0
      },
      "text/plain": [
       "키워드 진행도:   0%|          | 0/10 [00:00<?, ?it/s]"
      ]
     },
     "metadata": {},
     "output_type": "display_data"
    },
    {
     "data": {
      "application/vnd.jupyter.widget-view+json": {
       "model_id": "3c95dc4f18a94405a26d34ea32f3ff29",
       "version_major": 2,
       "version_minor": 0
      },
      "text/plain": [
       "키워드 진행도:   0%|          | 0/22 [00:00<?, ?it/s]"
      ]
     },
     "metadata": {},
     "output_type": "display_data"
    },
    {
     "data": {
      "application/vnd.jupyter.widget-view+json": {
       "model_id": "1f3697ea7d0b48649ae8a4c08765e11e",
       "version_major": 2,
       "version_minor": 0
      },
      "text/plain": [
       "키워드 진행도:   0%|          | 0/5 [00:00<?, ?it/s]"
      ]
     },
     "metadata": {},
     "output_type": "display_data"
    },
    {
     "data": {
      "application/vnd.jupyter.widget-view+json": {
       "model_id": "a62c8d836f5e45e5b1edd7b10f1c8626",
       "version_major": 2,
       "version_minor": 0
      },
      "text/plain": [
       "키워드 진행도:   0%|          | 0/8 [00:00<?, ?it/s]"
      ]
     },
     "metadata": {},
     "output_type": "display_data"
    },
    {
     "data": {
      "application/vnd.jupyter.widget-view+json": {
       "model_id": "76a7dc1ef8954df385a5b31ee58b01de",
       "version_major": 2,
       "version_minor": 0
      },
      "text/plain": [
       "키워드 진행도:   0%|          | 0/5 [00:00<?, ?it/s]"
      ]
     },
     "metadata": {},
     "output_type": "display_data"
    },
    {
     "data": {
      "application/vnd.jupyter.widget-view+json": {
       "model_id": "d29aef514f5f43fda8bfc017790328f6",
       "version_major": 2,
       "version_minor": 0
      },
      "text/plain": [
       "키워드 진행도:   0%|          | 0/19 [00:00<?, ?it/s]"
      ]
     },
     "metadata": {},
     "output_type": "display_data"
    },
    {
     "data": {
      "application/vnd.jupyter.widget-view+json": {
       "model_id": "01a0508d704a4a3a97037f977d282d2f",
       "version_major": 2,
       "version_minor": 0
      },
      "text/plain": [
       "키워드 진행도:   0%|          | 0/12 [00:00<?, ?it/s]"
      ]
     },
     "metadata": {},
     "output_type": "display_data"
    },
    {
     "data": {
      "application/vnd.jupyter.widget-view+json": {
       "model_id": "a673ef45315445f28e5980c547903ae4",
       "version_major": 2,
       "version_minor": 0
      },
      "text/plain": [
       "키워드 진행도:   0%|          | 0/8 [00:00<?, ?it/s]"
      ]
     },
     "metadata": {},
     "output_type": "display_data"
    },
    {
     "data": {
      "application/vnd.jupyter.widget-view+json": {
       "model_id": "e908c40f2a3446aab96b8105970bf7c8",
       "version_major": 2,
       "version_minor": 0
      },
      "text/plain": [
       "키워드 진행도:   0%|          | 0/58 [00:00<?, ?it/s]"
      ]
     },
     "metadata": {},
     "output_type": "display_data"
    },
    {
     "data": {
      "application/vnd.jupyter.widget-view+json": {
       "model_id": "2d85243ade3d45ff99366e9b87e2e45c",
       "version_major": 2,
       "version_minor": 0
      },
      "text/plain": [
       "키워드 진행도:   0%|          | 0/27 [00:00<?, ?it/s]"
      ]
     },
     "metadata": {},
     "output_type": "display_data"
    },
    {
     "data": {
      "application/vnd.jupyter.widget-view+json": {
       "model_id": "cee8ada3e03b469386b56bc46e7923bd",
       "version_major": 2,
       "version_minor": 0
      },
      "text/plain": [
       "키워드 진행도:   0%|          | 0/70 [00:00<?, ?it/s]"
      ]
     },
     "metadata": {},
     "output_type": "display_data"
    },
    {
     "data": {
      "application/vnd.jupyter.widget-view+json": {
       "model_id": "181c6f6478a5418f88f35a1e854daa62",
       "version_major": 2,
       "version_minor": 0
      },
      "text/plain": [
       "키워드 진행도:   0%|          | 0/26 [00:00<?, ?it/s]"
      ]
     },
     "metadata": {},
     "output_type": "display_data"
    },
    {
     "data": {
      "application/vnd.jupyter.widget-view+json": {
       "model_id": "c4745960a636417181998f57a2c7bd3c",
       "version_major": 2,
       "version_minor": 0
      },
      "text/plain": [
       "키워드 진행도:   0%|          | 0/23 [00:00<?, ?it/s]"
      ]
     },
     "metadata": {},
     "output_type": "display_data"
    },
    {
     "data": {
      "application/vnd.jupyter.widget-view+json": {
       "model_id": "8fe2b59c3d2a46d2b689aea0bc3f2c52",
       "version_major": 2,
       "version_minor": 0
      },
      "text/plain": [
       "키워드 진행도:   0%|          | 0/17 [00:00<?, ?it/s]"
      ]
     },
     "metadata": {},
     "output_type": "display_data"
    },
    {
     "data": {
      "application/vnd.jupyter.widget-view+json": {
       "model_id": "278a67f1013e4dd5874a4c5c0a59deae",
       "version_major": 2,
       "version_minor": 0
      },
      "text/plain": [
       "키워드 진행도:   0%|          | 0/42 [00:00<?, ?it/s]"
      ]
     },
     "metadata": {},
     "output_type": "display_data"
    },
    {
     "data": {
      "application/vnd.jupyter.widget-view+json": {
       "model_id": "fa0a53ba014345ff837af22e31955069",
       "version_major": 2,
       "version_minor": 0
      },
      "text/plain": [
       "키워드 진행도:   0%|          | 0/48 [00:00<?, ?it/s]"
      ]
     },
     "metadata": {},
     "output_type": "display_data"
    },
    {
     "data": {
      "application/vnd.jupyter.widget-view+json": {
       "model_id": "baed194397b146b389fca262c223afef",
       "version_major": 2,
       "version_minor": 0
      },
      "text/plain": [
       "키워드 진행도:   0%|          | 0/168 [00:00<?, ?it/s]"
      ]
     },
     "metadata": {},
     "output_type": "display_data"
    },
    {
     "data": {
      "application/vnd.jupyter.widget-view+json": {
       "model_id": "da2a7497a2c94bca8d7e7cfedbf7b863",
       "version_major": 2,
       "version_minor": 0
      },
      "text/plain": [
       "키워드 진행도:   0%|          | 0/96 [00:00<?, ?it/s]"
      ]
     },
     "metadata": {},
     "output_type": "display_data"
    },
    {
     "data": {
      "application/vnd.jupyter.widget-view+json": {
       "model_id": "400d1713947d4874b6817579a37006b6",
       "version_major": 2,
       "version_minor": 0
      },
      "text/plain": [
       "키워드 진행도:   0%|          | 0/10 [00:00<?, ?it/s]"
      ]
     },
     "metadata": {},
     "output_type": "display_data"
    },
    {
     "data": {
      "application/vnd.jupyter.widget-view+json": {
       "model_id": "67dc996969534a3db14bf2d0e3c96522",
       "version_major": 2,
       "version_minor": 0
      },
      "text/plain": [
       "키워드 진행도:   0%|          | 0/11 [00:00<?, ?it/s]"
      ]
     },
     "metadata": {},
     "output_type": "display_data"
    },
    {
     "data": {
      "application/vnd.jupyter.widget-view+json": {
       "model_id": "85e469762de248b193873b2358e182d5",
       "version_major": 2,
       "version_minor": 0
      },
      "text/plain": [
       "키워드 진행도:   0%|          | 0/13 [00:00<?, ?it/s]"
      ]
     },
     "metadata": {},
     "output_type": "display_data"
    },
    {
     "data": {
      "application/vnd.jupyter.widget-view+json": {
       "model_id": "7ce414a5106043f48f780f86f760632c",
       "version_major": 2,
       "version_minor": 0
      },
      "text/plain": [
       "키워드 진행도:   0%|          | 0/166 [00:00<?, ?it/s]"
      ]
     },
     "metadata": {},
     "output_type": "display_data"
    },
    {
     "data": {
      "application/vnd.jupyter.widget-view+json": {
       "model_id": "9186ad3e3b2b4b81ba445be807b7994a",
       "version_major": 2,
       "version_minor": 0
      },
      "text/plain": [
       "키워드 진행도:   0%|          | 0/266 [00:00<?, ?it/s]"
      ]
     },
     "metadata": {},
     "output_type": "display_data"
    },
    {
     "data": {
      "application/vnd.jupyter.widget-view+json": {
       "model_id": "084fcf86c483485e805b7615001aaa55",
       "version_major": 2,
       "version_minor": 0
      },
      "text/plain": [
       "키워드 진행도:   0%|          | 0/23 [00:00<?, ?it/s]"
      ]
     },
     "metadata": {},
     "output_type": "display_data"
    },
    {
     "data": {
      "application/vnd.jupyter.widget-view+json": {
       "model_id": "1b2f1a218d8848b8ac43638c0de9bf41",
       "version_major": 2,
       "version_minor": 0
      },
      "text/plain": [
       "키워드 진행도:   0%|          | 0/59 [00:00<?, ?it/s]"
      ]
     },
     "metadata": {},
     "output_type": "display_data"
    },
    {
     "data": {
      "application/vnd.jupyter.widget-view+json": {
       "model_id": "5837f77c48044c0eb441b8168f98438c",
       "version_major": 2,
       "version_minor": 0
      },
      "text/plain": [
       "키워드 진행도:   0%|          | 0/14 [00:00<?, ?it/s]"
      ]
     },
     "metadata": {},
     "output_type": "display_data"
    },
    {
     "data": {
      "application/vnd.jupyter.widget-view+json": {
       "model_id": "680fa40fd7764f22ad8015a99963af68",
       "version_major": 2,
       "version_minor": 0
      },
      "text/plain": [
       "키워드 진행도:   0%|          | 0/107 [00:00<?, ?it/s]"
      ]
     },
     "metadata": {},
     "output_type": "display_data"
    },
    {
     "data": {
      "application/vnd.jupyter.widget-view+json": {
       "model_id": "a9c1f1f97e064dfeadc3f5f644778bf0",
       "version_major": 2,
       "version_minor": 0
      },
      "text/plain": [
       "키워드 진행도:   0%|          | 0/30 [00:00<?, ?it/s]"
      ]
     },
     "metadata": {},
     "output_type": "display_data"
    },
    {
     "data": {
      "application/vnd.jupyter.widget-view+json": {
       "model_id": "538f3f50b5a64136ab2a7c729b7e9674",
       "version_major": 2,
       "version_minor": 0
      },
      "text/plain": [
       "키워드 진행도:   0%|          | 0/51 [00:00<?, ?it/s]"
      ]
     },
     "metadata": {},
     "output_type": "display_data"
    },
    {
     "data": {
      "application/vnd.jupyter.widget-view+json": {
       "model_id": "b5c44eb561e349a6b8c9d7a91430cdb6",
       "version_major": 2,
       "version_minor": 0
      },
      "text/plain": [
       "키워드 진행도:   0%|          | 0/52 [00:00<?, ?it/s]"
      ]
     },
     "metadata": {},
     "output_type": "display_data"
    },
    {
     "data": {
      "application/vnd.jupyter.widget-view+json": {
       "model_id": "0b1d30a0c8814d36a6ed55673dc5ff9f",
       "version_major": 2,
       "version_minor": 0
      },
      "text/plain": [
       "키워드 진행도:   0%|          | 0/91 [00:00<?, ?it/s]"
      ]
     },
     "metadata": {},
     "output_type": "display_data"
    },
    {
     "data": {
      "application/vnd.jupyter.widget-view+json": {
       "model_id": "102aa95a7aa748d4a7e0638f36d5bdd7",
       "version_major": 2,
       "version_minor": 0
      },
      "text/plain": [
       "키워드 진행도:   0%|          | 0/59 [00:00<?, ?it/s]"
      ]
     },
     "metadata": {},
     "output_type": "display_data"
    },
    {
     "data": {
      "application/vnd.jupyter.widget-view+json": {
       "model_id": "5ea1c7b99d75495f9780b1551c75f7e4",
       "version_major": 2,
       "version_minor": 0
      },
      "text/plain": [
       "키워드 진행도:   0%|          | 0/7 [00:00<?, ?it/s]"
      ]
     },
     "metadata": {},
     "output_type": "display_data"
    },
    {
     "data": {
      "application/vnd.jupyter.widget-view+json": {
       "model_id": "8f8947b80a994bc6943dbacba431a28e",
       "version_major": 2,
       "version_minor": 0
      },
      "text/plain": [
       "키워드 진행도:   0%|          | 0/100 [00:00<?, ?it/s]"
      ]
     },
     "metadata": {},
     "output_type": "display_data"
    },
    {
     "data": {
      "application/vnd.jupyter.widget-view+json": {
       "model_id": "bcff4fea05874b03a7d4937242a8f4db",
       "version_major": 2,
       "version_minor": 0
      },
      "text/plain": [
       "키워드 진행도:   0%|          | 0/8 [00:00<?, ?it/s]"
      ]
     },
     "metadata": {},
     "output_type": "display_data"
    },
    {
     "data": {
      "application/vnd.jupyter.widget-view+json": {
       "model_id": "9a866cf117214be5af2fd8da177b2e77",
       "version_major": 2,
       "version_minor": 0
      },
      "text/plain": [
       "키워드 진행도:   0%|          | 0/16 [00:00<?, ?it/s]"
      ]
     },
     "metadata": {},
     "output_type": "display_data"
    },
    {
     "data": {
      "application/vnd.jupyter.widget-view+json": {
       "model_id": "7108789f1ffe4e5cafa329cb68f4b823",
       "version_major": 2,
       "version_minor": 0
      },
      "text/plain": [
       "키워드 진행도:   0%|          | 0/18 [00:00<?, ?it/s]"
      ]
     },
     "metadata": {},
     "output_type": "display_data"
    },
    {
     "data": {
      "application/vnd.jupyter.widget-view+json": {
       "model_id": "05cd3f37742746b98f12ae0020409dda",
       "version_major": 2,
       "version_minor": 0
      },
      "text/plain": [
       "키워드 진행도:   0%|          | 0/28 [00:00<?, ?it/s]"
      ]
     },
     "metadata": {},
     "output_type": "display_data"
    },
    {
     "data": {
      "application/vnd.jupyter.widget-view+json": {
       "model_id": "749e3ab80c4f42559ba1f88633e9a592",
       "version_major": 2,
       "version_minor": 0
      },
      "text/plain": [
       "키워드 진행도:   0%|          | 0/4 [00:00<?, ?it/s]"
      ]
     },
     "metadata": {},
     "output_type": "display_data"
    },
    {
     "data": {
      "application/vnd.jupyter.widget-view+json": {
       "model_id": "a0457c1fe4c44203b92ad576ab07e990",
       "version_major": 2,
       "version_minor": 0
      },
      "text/plain": [
       "키워드 진행도:   0%|          | 0/43 [00:00<?, ?it/s]"
      ]
     },
     "metadata": {},
     "output_type": "display_data"
    },
    {
     "data": {
      "application/vnd.jupyter.widget-view+json": {
       "model_id": "8ccd5a7a4e984acfb1b420c23cdb66cd",
       "version_major": 2,
       "version_minor": 0
      },
      "text/plain": [
       "키워드 진행도:   0%|          | 0/54 [00:00<?, ?it/s]"
      ]
     },
     "metadata": {},
     "output_type": "display_data"
    },
    {
     "data": {
      "application/vnd.jupyter.widget-view+json": {
       "model_id": "26fb7d33bb604fae8a76ce52632e8c16",
       "version_major": 2,
       "version_minor": 0
      },
      "text/plain": [
       "키워드 진행도:   0%|          | 0/17 [00:00<?, ?it/s]"
      ]
     },
     "metadata": {},
     "output_type": "display_data"
    },
    {
     "data": {
      "application/vnd.jupyter.widget-view+json": {
       "model_id": "90dd944676af47e3bdade2b2d3eae11d",
       "version_major": 2,
       "version_minor": 0
      },
      "text/plain": [
       "키워드 진행도:   0%|          | 0/21 [00:00<?, ?it/s]"
      ]
     },
     "metadata": {},
     "output_type": "display_data"
    },
    {
     "data": {
      "application/vnd.jupyter.widget-view+json": {
       "model_id": "e5c2d19126bb43968ce6436581e43eaf",
       "version_major": 2,
       "version_minor": 0
      },
      "text/plain": [
       "키워드 진행도:   0%|          | 0/3 [00:00<?, ?it/s]"
      ]
     },
     "metadata": {},
     "output_type": "display_data"
    },
    {
     "data": {
      "application/vnd.jupyter.widget-view+json": {
       "model_id": "1ba3990435294cfb8d84637aceb667cf",
       "version_major": 2,
       "version_minor": 0
      },
      "text/plain": [
       "키워드 진행도:   0%|          | 0/22 [00:00<?, ?it/s]"
      ]
     },
     "metadata": {},
     "output_type": "display_data"
    },
    {
     "data": {
      "application/vnd.jupyter.widget-view+json": {
       "model_id": "7cc25573fa5d4e1dbba59ad0845a45a0",
       "version_major": 2,
       "version_minor": 0
      },
      "text/plain": [
       "키워드 진행도:   0%|          | 0/28 [00:00<?, ?it/s]"
      ]
     },
     "metadata": {},
     "output_type": "display_data"
    },
    {
     "data": {
      "application/vnd.jupyter.widget-view+json": {
       "model_id": "d37475f331cf4ffab7eec8687725f3fe",
       "version_major": 2,
       "version_minor": 0
      },
      "text/plain": [
       "키워드 진행도:   0%|          | 0/11 [00:00<?, ?it/s]"
      ]
     },
     "metadata": {},
     "output_type": "display_data"
    },
    {
     "data": {
      "application/vnd.jupyter.widget-view+json": {
       "model_id": "881866fe65d94ffe94145674cacbcaed",
       "version_major": 2,
       "version_minor": 0
      },
      "text/plain": [
       "키워드 진행도:   0%|          | 0/19 [00:00<?, ?it/s]"
      ]
     },
     "metadata": {},
     "output_type": "display_data"
    },
    {
     "data": {
      "application/vnd.jupyter.widget-view+json": {
       "model_id": "ef7001842e4f4fb69a0460d7c5b1caa2",
       "version_major": 2,
       "version_minor": 0
      },
      "text/plain": [
       "키워드 진행도:   0%|          | 0/1 [00:00<?, ?it/s]"
      ]
     },
     "metadata": {},
     "output_type": "display_data"
    },
    {
     "data": {
      "application/vnd.jupyter.widget-view+json": {
       "model_id": "baae25d262184ffaa3f061a9f695e822",
       "version_major": 2,
       "version_minor": 0
      },
      "text/plain": [
       "키워드 진행도:   0%|          | 0/14 [00:00<?, ?it/s]"
      ]
     },
     "metadata": {},
     "output_type": "display_data"
    },
    {
     "data": {
      "application/vnd.jupyter.widget-view+json": {
       "model_id": "9fd5eb30fffd4fa5924e58fcd0681460",
       "version_major": 2,
       "version_minor": 0
      },
      "text/plain": [
       "키워드 진행도:   0%|          | 0/44 [00:00<?, ?it/s]"
      ]
     },
     "metadata": {},
     "output_type": "display_data"
    },
    {
     "data": {
      "application/vnd.jupyter.widget-view+json": {
       "model_id": "2562caadd1ac4eb7b3bfe74475f246f1",
       "version_major": 2,
       "version_minor": 0
      },
      "text/plain": [
       "키워드 진행도:   0%|          | 0/4 [00:00<?, ?it/s]"
      ]
     },
     "metadata": {},
     "output_type": "display_data"
    },
    {
     "data": {
      "application/vnd.jupyter.widget-view+json": {
       "model_id": "0b4b7daac4444ca38ce2bf17249d7cfa",
       "version_major": 2,
       "version_minor": 0
      },
      "text/plain": [
       "키워드 진행도: 0it [00:00, ?it/s]"
      ]
     },
     "metadata": {},
     "output_type": "display_data"
    },
    {
     "data": {
      "application/vnd.jupyter.widget-view+json": {
       "model_id": "a3047b6d0bcf4913af794967aa024acf",
       "version_major": 2,
       "version_minor": 0
      },
      "text/plain": [
       "키워드 진행도:   0%|          | 0/4 [00:00<?, ?it/s]"
      ]
     },
     "metadata": {},
     "output_type": "display_data"
    },
    {
     "data": {
      "application/vnd.jupyter.widget-view+json": {
       "model_id": "2e9e09039dfc42418a19e8ad99a0481c",
       "version_major": 2,
       "version_minor": 0
      },
      "text/plain": [
       "키워드 진행도:   0%|          | 0/71 [00:00<?, ?it/s]"
      ]
     },
     "metadata": {},
     "output_type": "display_data"
    },
    {
     "data": {
      "application/vnd.jupyter.widget-view+json": {
       "model_id": "7cb62af957c64a10af8fb9357f3bd6d7",
       "version_major": 2,
       "version_minor": 0
      },
      "text/plain": [
       "키워드 진행도:   0%|          | 0/28 [00:00<?, ?it/s]"
      ]
     },
     "metadata": {},
     "output_type": "display_data"
    },
    {
     "data": {
      "application/vnd.jupyter.widget-view+json": {
       "model_id": "81fc1fae7d9e46279365ee94d164c250",
       "version_major": 2,
       "version_minor": 0
      },
      "text/plain": [
       "키워드 진행도:   0%|          | 0/15 [00:00<?, ?it/s]"
      ]
     },
     "metadata": {},
     "output_type": "display_data"
    },
    {
     "data": {
      "application/vnd.jupyter.widget-view+json": {
       "model_id": "e24df0e6715246e3a6fcbeca89a2b10d",
       "version_major": 2,
       "version_minor": 0
      },
      "text/plain": [
       "키워드 진행도:   0%|          | 0/3 [00:00<?, ?it/s]"
      ]
     },
     "metadata": {},
     "output_type": "display_data"
    },
    {
     "data": {
      "application/vnd.jupyter.widget-view+json": {
       "model_id": "c18a79ba6c1a41e2b70b0eb8462b1cca",
       "version_major": 2,
       "version_minor": 0
      },
      "text/plain": [
       "키워드 진행도:   0%|          | 0/8 [00:00<?, ?it/s]"
      ]
     },
     "metadata": {},
     "output_type": "display_data"
    },
    {
     "data": {
      "application/vnd.jupyter.widget-view+json": {
       "model_id": "e4251e78cfb44b36b4f2e6e077393cca",
       "version_major": 2,
       "version_minor": 0
      },
      "text/plain": [
       "키워드 진행도:   0%|          | 0/10 [00:00<?, ?it/s]"
      ]
     },
     "metadata": {},
     "output_type": "display_data"
    },
    {
     "data": {
      "application/vnd.jupyter.widget-view+json": {
       "model_id": "3ce937fd075d470189b97b8cf91e665b",
       "version_major": 2,
       "version_minor": 0
      },
      "text/plain": [
       "키워드 진행도: 0it [00:00, ?it/s]"
      ]
     },
     "metadata": {},
     "output_type": "display_data"
    },
    {
     "data": {
      "application/vnd.jupyter.widget-view+json": {
       "model_id": "80de0d7956ce428d8568d9a83b5fb9fa",
       "version_major": 2,
       "version_minor": 0
      },
      "text/plain": [
       "키워드 진행도:   0%|          | 0/5 [00:00<?, ?it/s]"
      ]
     },
     "metadata": {},
     "output_type": "display_data"
    },
    {
     "data": {
      "application/vnd.jupyter.widget-view+json": {
       "model_id": "20819a5e9b3b490eb39726e682f9c2ca",
       "version_major": 2,
       "version_minor": 0
      },
      "text/plain": [
       "키워드 진행도:   0%|          | 0/25 [00:00<?, ?it/s]"
      ]
     },
     "metadata": {},
     "output_type": "display_data"
    },
    {
     "data": {
      "application/vnd.jupyter.widget-view+json": {
       "model_id": "7aba82686f3141dea88e330b12479649",
       "version_major": 2,
       "version_minor": 0
      },
      "text/plain": [
       "키워드 진행도:   0%|          | 0/24 [00:00<?, ?it/s]"
      ]
     },
     "metadata": {},
     "output_type": "display_data"
    },
    {
     "data": {
      "application/vnd.jupyter.widget-view+json": {
       "model_id": "67e8a528e575466f877d866441a226ba",
       "version_major": 2,
       "version_minor": 0
      },
      "text/plain": [
       "키워드 진행도:   0%|          | 0/4 [00:00<?, ?it/s]"
      ]
     },
     "metadata": {},
     "output_type": "display_data"
    },
    {
     "data": {
      "application/vnd.jupyter.widget-view+json": {
       "model_id": "b651c9598c864bd89d60cc5798239cc8",
       "version_major": 2,
       "version_minor": 0
      },
      "text/plain": [
       "키워드 진행도:   0%|          | 0/6 [00:00<?, ?it/s]"
      ]
     },
     "metadata": {},
     "output_type": "display_data"
    },
    {
     "data": {
      "application/vnd.jupyter.widget-view+json": {
       "model_id": "243da93199e64bbcaf8a77e1f0ebd8cd",
       "version_major": 2,
       "version_minor": 0
      },
      "text/plain": [
       "키워드 진행도: 0it [00:00, ?it/s]"
      ]
     },
     "metadata": {},
     "output_type": "display_data"
    },
    {
     "data": {
      "application/vnd.jupyter.widget-view+json": {
       "model_id": "2b46c8e4e45d495ea7d970bc7df327ee",
       "version_major": 2,
       "version_minor": 0
      },
      "text/plain": [
       "키워드 진행도: 0it [00:00, ?it/s]"
      ]
     },
     "metadata": {},
     "output_type": "display_data"
    },
    {
     "data": {
      "application/vnd.jupyter.widget-view+json": {
       "model_id": "3be28aa5f04744fe8f0e9009cdeae4e5",
       "version_major": 2,
       "version_minor": 0
      },
      "text/plain": [
       "키워드 진행도:   0%|          | 0/6 [00:00<?, ?it/s]"
      ]
     },
     "metadata": {},
     "output_type": "display_data"
    },
    {
     "data": {
      "application/vnd.jupyter.widget-view+json": {
       "model_id": "8032b09a9388414d9a15c1fa179e2ed0",
       "version_major": 2,
       "version_minor": 0
      },
      "text/plain": [
       "키워드 진행도:   0%|          | 0/19 [00:00<?, ?it/s]"
      ]
     },
     "metadata": {},
     "output_type": "display_data"
    },
    {
     "data": {
      "application/vnd.jupyter.widget-view+json": {
       "model_id": "7146972670114b15899194cd43125da8",
       "version_major": 2,
       "version_minor": 0
      },
      "text/plain": [
       "키워드 진행도:   0%|          | 0/20 [00:00<?, ?it/s]"
      ]
     },
     "metadata": {},
     "output_type": "display_data"
    },
    {
     "data": {
      "application/vnd.jupyter.widget-view+json": {
       "model_id": "bdfe10d603f941b3b82f93a86bbe9bbd",
       "version_major": 2,
       "version_minor": 0
      },
      "text/plain": [
       "키워드 진행도:   0%|          | 0/21 [00:00<?, ?it/s]"
      ]
     },
     "metadata": {},
     "output_type": "display_data"
    },
    {
     "data": {
      "application/vnd.jupyter.widget-view+json": {
       "model_id": "88e23964090640078a9ec1d16d5ef7c2",
       "version_major": 2,
       "version_minor": 0
      },
      "text/plain": [
       "키워드 진행도:   0%|          | 0/29 [00:00<?, ?it/s]"
      ]
     },
     "metadata": {},
     "output_type": "display_data"
    },
    {
     "data": {
      "application/vnd.jupyter.widget-view+json": {
       "model_id": "3cffa42e28934c1abd1b109a1467b368",
       "version_major": 2,
       "version_minor": 0
      },
      "text/plain": [
       "키워드 진행도:   0%|          | 0/84 [00:00<?, ?it/s]"
      ]
     },
     "metadata": {},
     "output_type": "display_data"
    },
    {
     "data": {
      "application/vnd.jupyter.widget-view+json": {
       "model_id": "fe5b610161b349faaf9c0daaaccae843",
       "version_major": 2,
       "version_minor": 0
      },
      "text/plain": [
       "키워드 진행도:   0%|          | 0/3 [00:00<?, ?it/s]"
      ]
     },
     "metadata": {},
     "output_type": "display_data"
    },
    {
     "data": {
      "application/vnd.jupyter.widget-view+json": {
       "model_id": "7b88071ae02840fbb63e36c887e3f386",
       "version_major": 2,
       "version_minor": 0
      },
      "text/plain": [
       "키워드 진행도:   0%|          | 0/7 [00:00<?, ?it/s]"
      ]
     },
     "metadata": {},
     "output_type": "display_data"
    },
    {
     "data": {
      "application/vnd.jupyter.widget-view+json": {
       "model_id": "f3e07824001342f484a8db30ed9a55c0",
       "version_major": 2,
       "version_minor": 0
      },
      "text/plain": [
       "키워드 진행도:   0%|          | 0/2 [00:00<?, ?it/s]"
      ]
     },
     "metadata": {},
     "output_type": "display_data"
    },
    {
     "data": {
      "application/vnd.jupyter.widget-view+json": {
       "model_id": "28f69a95872442ff940231f9ba9116d1",
       "version_major": 2,
       "version_minor": 0
      },
      "text/plain": [
       "키워드 진행도:   0%|          | 0/3 [00:00<?, ?it/s]"
      ]
     },
     "metadata": {},
     "output_type": "display_data"
    },
    {
     "data": {
      "application/vnd.jupyter.widget-view+json": {
       "model_id": "dac43f012fce450f960d2b604c7c29f9",
       "version_major": 2,
       "version_minor": 0
      },
      "text/plain": [
       "키워드 진행도:   0%|          | 0/12 [00:00<?, ?it/s]"
      ]
     },
     "metadata": {},
     "output_type": "display_data"
    },
    {
     "data": {
      "application/vnd.jupyter.widget-view+json": {
       "model_id": "29b72a3b77124b8798a8ffa76f91084e",
       "version_major": 2,
       "version_minor": 0
      },
      "text/plain": [
       "키워드 진행도:   0%|          | 0/19 [00:00<?, ?it/s]"
      ]
     },
     "metadata": {},
     "output_type": "display_data"
    },
    {
     "data": {
      "application/vnd.jupyter.widget-view+json": {
       "model_id": "0029962ef401488eb91c4e61d682f341",
       "version_major": 2,
       "version_minor": 0
      },
      "text/plain": [
       "키워드 진행도:   0%|          | 0/11 [00:00<?, ?it/s]"
      ]
     },
     "metadata": {},
     "output_type": "display_data"
    },
    {
     "data": {
      "application/vnd.jupyter.widget-view+json": {
       "model_id": "bff0e81a29134f5d837e1e7b390cd484",
       "version_major": 2,
       "version_minor": 0
      },
      "text/plain": [
       "키워드 진행도:   0%|          | 0/3 [00:00<?, ?it/s]"
      ]
     },
     "metadata": {},
     "output_type": "display_data"
    },
    {
     "data": {
      "application/vnd.jupyter.widget-view+json": {
       "model_id": "622829bd6194483f8c51e088951d7017",
       "version_major": 2,
       "version_minor": 0
      },
      "text/plain": [
       "키워드 진행도:   0%|          | 0/1 [00:00<?, ?it/s]"
      ]
     },
     "metadata": {},
     "output_type": "display_data"
    },
    {
     "data": {
      "application/vnd.jupyter.widget-view+json": {
       "model_id": "78fb4d4e4c65496bbb7e0a3a44ea2ac5",
       "version_major": 2,
       "version_minor": 0
      },
      "text/plain": [
       "키워드 진행도:   0%|          | 0/12 [00:00<?, ?it/s]"
      ]
     },
     "metadata": {},
     "output_type": "display_data"
    },
    {
     "data": {
      "application/vnd.jupyter.widget-view+json": {
       "model_id": "2bd0de8f2b864edfa9a924fe2edcec15",
       "version_major": 2,
       "version_minor": 0
      },
      "text/plain": [
       "키워드 진행도:   0%|          | 0/4 [00:00<?, ?it/s]"
      ]
     },
     "metadata": {},
     "output_type": "display_data"
    },
    {
     "data": {
      "application/vnd.jupyter.widget-view+json": {
       "model_id": "f179ace36d064205b37a3a2693ecd93c",
       "version_major": 2,
       "version_minor": 0
      },
      "text/plain": [
       "키워드 진행도:   0%|          | 0/1 [00:00<?, ?it/s]"
      ]
     },
     "metadata": {},
     "output_type": "display_data"
    },
    {
     "data": {
      "application/vnd.jupyter.widget-view+json": {
       "model_id": "a555f596dc1f476489cd4856a32ad07e",
       "version_major": 2,
       "version_minor": 0
      },
      "text/plain": [
       "키워드 진행도:   0%|          | 0/15 [00:00<?, ?it/s]"
      ]
     },
     "metadata": {},
     "output_type": "display_data"
    },
    {
     "data": {
      "application/vnd.jupyter.widget-view+json": {
       "model_id": "2060fecb3bf34524a062d7d8e590e971",
       "version_major": 2,
       "version_minor": 0
      },
      "text/plain": [
       "키워드 진행도:   0%|          | 0/71 [00:00<?, ?it/s]"
      ]
     },
     "metadata": {},
     "output_type": "display_data"
    },
    {
     "data": {
      "application/vnd.jupyter.widget-view+json": {
       "model_id": "70309a8faba644ffbbfa727282b18e3b",
       "version_major": 2,
       "version_minor": 0
      },
      "text/plain": [
       "키워드 진행도:   0%|          | 0/42 [00:00<?, ?it/s]"
      ]
     },
     "metadata": {},
     "output_type": "display_data"
    },
    {
     "data": {
      "application/vnd.jupyter.widget-view+json": {
       "model_id": "332cf5732cda40ad9e5fb9c514b36e70",
       "version_major": 2,
       "version_minor": 0
      },
      "text/plain": [
       "키워드 진행도:   0%|          | 0/26 [00:00<?, ?it/s]"
      ]
     },
     "metadata": {},
     "output_type": "display_data"
    },
    {
     "data": {
      "application/vnd.jupyter.widget-view+json": {
       "model_id": "08c26a23523243dfb2443cedd5f483f2",
       "version_major": 2,
       "version_minor": 0
      },
      "text/plain": [
       "키워드 진행도:   0%|          | 0/33 [00:00<?, ?it/s]"
      ]
     },
     "metadata": {},
     "output_type": "display_data"
    },
    {
     "data": {
      "application/vnd.jupyter.widget-view+json": {
       "model_id": "2e3d79367c694f93ab3a51e9ab85b214",
       "version_major": 2,
       "version_minor": 0
      },
      "text/plain": [
       "키워드 진행도:   0%|          | 0/68 [00:00<?, ?it/s]"
      ]
     },
     "metadata": {},
     "output_type": "display_data"
    },
    {
     "data": {
      "application/vnd.jupyter.widget-view+json": {
       "model_id": "9b67a9a61e19413f82af0fc6f13a5a4c",
       "version_major": 2,
       "version_minor": 0
      },
      "text/plain": [
       "키워드 진행도:   0%|          | 0/113 [00:00<?, ?it/s]"
      ]
     },
     "metadata": {},
     "output_type": "display_data"
    },
    {
     "data": {
      "application/vnd.jupyter.widget-view+json": {
       "model_id": "96a7304ea99e43888e7e53e8246d9a7d",
       "version_major": 2,
       "version_minor": 0
      },
      "text/plain": [
       "키워드 진행도:   0%|          | 0/28 [00:00<?, ?it/s]"
      ]
     },
     "metadata": {},
     "output_type": "display_data"
    },
    {
     "data": {
      "application/vnd.jupyter.widget-view+json": {
       "model_id": "2cbb4043b5b94ea19f856947cf868d9e",
       "version_major": 2,
       "version_minor": 0
      },
      "text/plain": [
       "키워드 진행도:   0%|          | 0/13 [00:00<?, ?it/s]"
      ]
     },
     "metadata": {},
     "output_type": "display_data"
    },
    {
     "data": {
      "application/vnd.jupyter.widget-view+json": {
       "model_id": "d3a93ce3e364493ba53976551aa8ad0a",
       "version_major": 2,
       "version_minor": 0
      },
      "text/plain": [
       "키워드 진행도:   0%|          | 0/56 [00:00<?, ?it/s]"
      ]
     },
     "metadata": {},
     "output_type": "display_data"
    },
    {
     "data": {
      "application/vnd.jupyter.widget-view+json": {
       "model_id": "b3f708e56b2a4204868781faf1e62e32",
       "version_major": 2,
       "version_minor": 0
      },
      "text/plain": [
       "키워드 진행도:   0%|          | 0/30 [00:00<?, ?it/s]"
      ]
     },
     "metadata": {},
     "output_type": "display_data"
    },
    {
     "data": {
      "application/vnd.jupyter.widget-view+json": {
       "model_id": "6f535012080a4dbc8f3776e17e321159",
       "version_major": 2,
       "version_minor": 0
      },
      "text/plain": [
       "키워드 진행도:   0%|          | 0/62 [00:00<?, ?it/s]"
      ]
     },
     "metadata": {},
     "output_type": "display_data"
    },
    {
     "data": {
      "application/vnd.jupyter.widget-view+json": {
       "model_id": "4ff925a728914447a44dd8b73aa2d8c8",
       "version_major": 2,
       "version_minor": 0
      },
      "text/plain": [
       "키워드 진행도:   0%|          | 0/159 [00:00<?, ?it/s]"
      ]
     },
     "metadata": {},
     "output_type": "display_data"
    },
    {
     "data": {
      "application/vnd.jupyter.widget-view+json": {
       "model_id": "1973655514a44dc7a20693137e711716",
       "version_major": 2,
       "version_minor": 0
      },
      "text/plain": [
       "키워드 진행도:   0%|          | 0/24 [00:00<?, ?it/s]"
      ]
     },
     "metadata": {},
     "output_type": "display_data"
    },
    {
     "data": {
      "application/vnd.jupyter.widget-view+json": {
       "model_id": "7ed7be07d8de4c5aa7a34a98b1eb2917",
       "version_major": 2,
       "version_minor": 0
      },
      "text/plain": [
       "키워드 진행도:   0%|          | 0/16 [00:00<?, ?it/s]"
      ]
     },
     "metadata": {},
     "output_type": "display_data"
    },
    {
     "data": {
      "application/vnd.jupyter.widget-view+json": {
       "model_id": "449a95e5c5c44298a79edee1c8491c43",
       "version_major": 2,
       "version_minor": 0
      },
      "text/plain": [
       "키워드 진행도:   0%|          | 0/64 [00:00<?, ?it/s]"
      ]
     },
     "metadata": {},
     "output_type": "display_data"
    },
    {
     "data": {
      "application/vnd.jupyter.widget-view+json": {
       "model_id": "c9e10edc5e1145869acf438ee9d2d12e",
       "version_major": 2,
       "version_minor": 0
      },
      "text/plain": [
       "키워드 진행도:   0%|          | 0/59 [00:00<?, ?it/s]"
      ]
     },
     "metadata": {},
     "output_type": "display_data"
    },
    {
     "data": {
      "application/vnd.jupyter.widget-view+json": {
       "model_id": "1eed453140f142deb6dea66dbe22cd53",
       "version_major": 2,
       "version_minor": 0
      },
      "text/plain": [
       "키워드 진행도:   0%|          | 0/4 [00:00<?, ?it/s]"
      ]
     },
     "metadata": {},
     "output_type": "display_data"
    },
    {
     "data": {
      "application/vnd.jupyter.widget-view+json": {
       "model_id": "4dd6f14a7d3d47ae9963faeae97c1c98",
       "version_major": 2,
       "version_minor": 0
      },
      "text/plain": [
       "키워드 진행도:   0%|          | 0/25 [00:00<?, ?it/s]"
      ]
     },
     "metadata": {},
     "output_type": "display_data"
    },
    {
     "data": {
      "application/vnd.jupyter.widget-view+json": {
       "model_id": "d537e3819d034de3b47fb7b5e588fd52",
       "version_major": 2,
       "version_minor": 0
      },
      "text/plain": [
       "키워드 진행도:   0%|          | 0/4 [00:00<?, ?it/s]"
      ]
     },
     "metadata": {},
     "output_type": "display_data"
    },
    {
     "data": {
      "application/vnd.jupyter.widget-view+json": {
       "model_id": "158f247280014ef0bef542707e98f9b6",
       "version_major": 2,
       "version_minor": 0
      },
      "text/plain": [
       "키워드 진행도:   0%|          | 0/4 [00:00<?, ?it/s]"
      ]
     },
     "metadata": {},
     "output_type": "display_data"
    },
    {
     "data": {
      "application/vnd.jupyter.widget-view+json": {
       "model_id": "11bf4bda4cb4440eb3b3929c78f79751",
       "version_major": 2,
       "version_minor": 0
      },
      "text/plain": [
       "키워드 진행도:   0%|          | 0/6 [00:00<?, ?it/s]"
      ]
     },
     "metadata": {},
     "output_type": "display_data"
    },
    {
     "data": {
      "application/vnd.jupyter.widget-view+json": {
       "model_id": "369f5d7211b040f699505e99e3607b22",
       "version_major": 2,
       "version_minor": 0
      },
      "text/plain": [
       "키워드 진행도:   0%|          | 0/5 [00:00<?, ?it/s]"
      ]
     },
     "metadata": {},
     "output_type": "display_data"
    },
    {
     "data": {
      "application/vnd.jupyter.widget-view+json": {
       "model_id": "361752aeb4c4467cb750554364c06f25",
       "version_major": 2,
       "version_minor": 0
      },
      "text/plain": [
       "키워드 진행도:   0%|          | 0/6 [00:00<?, ?it/s]"
      ]
     },
     "metadata": {},
     "output_type": "display_data"
    },
    {
     "data": {
      "application/vnd.jupyter.widget-view+json": {
       "model_id": "ae87b310c5524663a305e2cda7290e31",
       "version_major": 2,
       "version_minor": 0
      },
      "text/plain": [
       "키워드 진행도:   0%|          | 0/2 [00:00<?, ?it/s]"
      ]
     },
     "metadata": {},
     "output_type": "display_data"
    },
    {
     "data": {
      "application/vnd.jupyter.widget-view+json": {
       "model_id": "c40a2b87e834444897073771035ad4ea",
       "version_major": 2,
       "version_minor": 0
      },
      "text/plain": [
       "키워드 진행도:   0%|          | 0/18 [00:00<?, ?it/s]"
      ]
     },
     "metadata": {},
     "output_type": "display_data"
    },
    {
     "data": {
      "application/vnd.jupyter.widget-view+json": {
       "model_id": "783e5be24b464a1394e8c90e483d4a7b",
       "version_major": 2,
       "version_minor": 0
      },
      "text/plain": [
       "키워드 진행도:   0%|          | 0/17 [00:00<?, ?it/s]"
      ]
     },
     "metadata": {},
     "output_type": "display_data"
    },
    {
     "data": {
      "application/vnd.jupyter.widget-view+json": {
       "model_id": "356613a7d9ce4194aafba3d3aba2dffe",
       "version_major": 2,
       "version_minor": 0
      },
      "text/plain": [
       "키워드 진행도:   0%|          | 0/52 [00:00<?, ?it/s]"
      ]
     },
     "metadata": {},
     "output_type": "display_data"
    },
    {
     "data": {
      "application/vnd.jupyter.widget-view+json": {
       "model_id": "d8eea0f123e245fda3ffdaa8fe3a3648",
       "version_major": 2,
       "version_minor": 0
      },
      "text/plain": [
       "키워드 진행도:   0%|          | 0/4 [00:00<?, ?it/s]"
      ]
     },
     "metadata": {},
     "output_type": "display_data"
    },
    {
     "data": {
      "application/vnd.jupyter.widget-view+json": {
       "model_id": "0d9c76b12a58411f806f3017a4375a95",
       "version_major": 2,
       "version_minor": 0
      },
      "text/plain": [
       "키워드 진행도:   0%|          | 0/50 [00:00<?, ?it/s]"
      ]
     },
     "metadata": {},
     "output_type": "display_data"
    },
    {
     "data": {
      "application/vnd.jupyter.widget-view+json": {
       "model_id": "043455a4d3594bfb871d81da0568f52c",
       "version_major": 2,
       "version_minor": 0
      },
      "text/plain": [
       "키워드 진행도:   0%|          | 0/12 [00:00<?, ?it/s]"
      ]
     },
     "metadata": {},
     "output_type": "display_data"
    },
    {
     "data": {
      "application/vnd.jupyter.widget-view+json": {
       "model_id": "8823a77706e241cda29f8a1c3aaf6b5f",
       "version_major": 2,
       "version_minor": 0
      },
      "text/plain": [
       "키워드 진행도:   0%|          | 0/42 [00:00<?, ?it/s]"
      ]
     },
     "metadata": {},
     "output_type": "display_data"
    },
    {
     "data": {
      "application/vnd.jupyter.widget-view+json": {
       "model_id": "c1871ea8c1e54ab6843ce8bcedb97881",
       "version_major": 2,
       "version_minor": 0
      },
      "text/plain": [
       "키워드 진행도:   0%|          | 0/8 [00:00<?, ?it/s]"
      ]
     },
     "metadata": {},
     "output_type": "display_data"
    },
    {
     "data": {
      "application/vnd.jupyter.widget-view+json": {
       "model_id": "c7fbb3fcd99445e1a78cf56bde25a8af",
       "version_major": 2,
       "version_minor": 0
      },
      "text/plain": [
       "키워드 진행도:   0%|          | 0/34 [00:00<?, ?it/s]"
      ]
     },
     "metadata": {},
     "output_type": "display_data"
    },
    {
     "data": {
      "application/vnd.jupyter.widget-view+json": {
       "model_id": "ac7255434fec4b96b80e1d3528daadf7",
       "version_major": 2,
       "version_minor": 0
      },
      "text/plain": [
       "키워드 진행도:   0%|          | 0/91 [00:00<?, ?it/s]"
      ]
     },
     "metadata": {},
     "output_type": "display_data"
    },
    {
     "data": {
      "application/vnd.jupyter.widget-view+json": {
       "model_id": "457fc1b7c55747da8d049971e59880c7",
       "version_major": 2,
       "version_minor": 0
      },
      "text/plain": [
       "키워드 진행도:   0%|          | 0/26 [00:00<?, ?it/s]"
      ]
     },
     "metadata": {},
     "output_type": "display_data"
    },
    {
     "data": {
      "application/vnd.jupyter.widget-view+json": {
       "model_id": "4f9ec5c4d94c43df85f3fb3c75082c2c",
       "version_major": 2,
       "version_minor": 0
      },
      "text/plain": [
       "키워드 진행도:   0%|          | 0/33 [00:00<?, ?it/s]"
      ]
     },
     "metadata": {},
     "output_type": "display_data"
    },
    {
     "data": {
      "application/vnd.jupyter.widget-view+json": {
       "model_id": "5cc3cc4b19f14ce994445bd9108def92",
       "version_major": 2,
       "version_minor": 0
      },
      "text/plain": [
       "키워드 진행도:   0%|          | 0/1 [00:00<?, ?it/s]"
      ]
     },
     "metadata": {},
     "output_type": "display_data"
    },
    {
     "data": {
      "application/vnd.jupyter.widget-view+json": {
       "model_id": "f1d6d60595dd4c748b45ef8d31ca395c",
       "version_major": 2,
       "version_minor": 0
      },
      "text/plain": [
       "키워드 진행도:   0%|          | 0/3 [00:00<?, ?it/s]"
      ]
     },
     "metadata": {},
     "output_type": "display_data"
    },
    {
     "data": {
      "application/vnd.jupyter.widget-view+json": {
       "model_id": "c57deca0156346b09fe59088dcd012bc",
       "version_major": 2,
       "version_minor": 0
      },
      "text/plain": [
       "키워드 진행도:   0%|          | 0/4 [00:00<?, ?it/s]"
      ]
     },
     "metadata": {},
     "output_type": "display_data"
    },
    {
     "data": {
      "application/vnd.jupyter.widget-view+json": {
       "model_id": "397d311af8d849d8b2049282cd9dcff8",
       "version_major": 2,
       "version_minor": 0
      },
      "text/plain": [
       "키워드 진행도: 0it [00:00, ?it/s]"
      ]
     },
     "metadata": {},
     "output_type": "display_data"
    },
    {
     "data": {
      "application/vnd.jupyter.widget-view+json": {
       "model_id": "4c399f59f6bc4cefb2e046598923f7ae",
       "version_major": 2,
       "version_minor": 0
      },
      "text/plain": [
       "키워드 진행도:   0%|          | 0/2 [00:00<?, ?it/s]"
      ]
     },
     "metadata": {},
     "output_type": "display_data"
    },
    {
     "data": {
      "application/vnd.jupyter.widget-view+json": {
       "model_id": "56657ac0cd0547afb01b384dbddecb38",
       "version_major": 2,
       "version_minor": 0
      },
      "text/plain": [
       "키워드 진행도:   0%|          | 0/9 [00:00<?, ?it/s]"
      ]
     },
     "metadata": {},
     "output_type": "display_data"
    },
    {
     "data": {
      "application/vnd.jupyter.widget-view+json": {
       "model_id": "9770a89bccd645fd83721d030fd7daff",
       "version_major": 2,
       "version_minor": 0
      },
      "text/plain": [
       "키워드 진행도:   0%|          | 0/38 [00:00<?, ?it/s]"
      ]
     },
     "metadata": {},
     "output_type": "display_data"
    },
    {
     "data": {
      "application/vnd.jupyter.widget-view+json": {
       "model_id": "c457ce6ae0f6476cacd5dc9ec9844a6e",
       "version_major": 2,
       "version_minor": 0
      },
      "text/plain": [
       "키워드 진행도:   0%|          | 0/4 [00:00<?, ?it/s]"
      ]
     },
     "metadata": {},
     "output_type": "display_data"
    },
    {
     "data": {
      "application/vnd.jupyter.widget-view+json": {
       "model_id": "84cea69ee0424cf58cb24e1c78378ff7",
       "version_major": 2,
       "version_minor": 0
      },
      "text/plain": [
       "키워드 진행도:   0%|          | 0/8 [00:00<?, ?it/s]"
      ]
     },
     "metadata": {},
     "output_type": "display_data"
    },
    {
     "data": {
      "application/vnd.jupyter.widget-view+json": {
       "model_id": "0f40aa56e21f4e77bc1b432cfa95c408",
       "version_major": 2,
       "version_minor": 0
      },
      "text/plain": [
       "키워드 진행도:   0%|          | 0/8 [00:00<?, ?it/s]"
      ]
     },
     "metadata": {},
     "output_type": "display_data"
    },
    {
     "data": {
      "application/vnd.jupyter.widget-view+json": {
       "model_id": "c7f0d8644b094b61a53df8bdef9f452f",
       "version_major": 2,
       "version_minor": 0
      },
      "text/plain": [
       "키워드 진행도:   0%|          | 0/18 [00:00<?, ?it/s]"
      ]
     },
     "metadata": {},
     "output_type": "display_data"
    },
    {
     "data": {
      "application/vnd.jupyter.widget-view+json": {
       "model_id": "623c2f4af4c646de8df9f06d745ad1d2",
       "version_major": 2,
       "version_minor": 0
      },
      "text/plain": [
       "키워드 진행도:   0%|          | 0/17 [00:00<?, ?it/s]"
      ]
     },
     "metadata": {},
     "output_type": "display_data"
    },
    {
     "data": {
      "application/vnd.jupyter.widget-view+json": {
       "model_id": "67a77264331e46128120b365393fb8d9",
       "version_major": 2,
       "version_minor": 0
      },
      "text/plain": [
       "키워드 진행도:   0%|          | 0/20 [00:00<?, ?it/s]"
      ]
     },
     "metadata": {},
     "output_type": "display_data"
    },
    {
     "data": {
      "application/vnd.jupyter.widget-view+json": {
       "model_id": "48dc9d5cffe64d58955242d5f2656a7e",
       "version_major": 2,
       "version_minor": 0
      },
      "text/plain": [
       "키워드 진행도:   0%|          | 0/16 [00:00<?, ?it/s]"
      ]
     },
     "metadata": {},
     "output_type": "display_data"
    },
    {
     "data": {
      "application/vnd.jupyter.widget-view+json": {
       "model_id": "1acb61c7e2074503981291005648f428",
       "version_major": 2,
       "version_minor": 0
      },
      "text/plain": [
       "키워드 진행도:   0%|          | 0/11 [00:00<?, ?it/s]"
      ]
     },
     "metadata": {},
     "output_type": "display_data"
    },
    {
     "data": {
      "application/vnd.jupyter.widget-view+json": {
       "model_id": "3ccb800ea77d469ebad653f7f233ee26",
       "version_major": 2,
       "version_minor": 0
      },
      "text/plain": [
       "키워드 진행도:   0%|          | 0/4 [00:00<?, ?it/s]"
      ]
     },
     "metadata": {},
     "output_type": "display_data"
    },
    {
     "data": {
      "application/vnd.jupyter.widget-view+json": {
       "model_id": "7eb7fc0851f14874aa5588faabc3dd42",
       "version_major": 2,
       "version_minor": 0
      },
      "text/plain": [
       "키워드 진행도:   0%|          | 0/1 [00:00<?, ?it/s]"
      ]
     },
     "metadata": {},
     "output_type": "display_data"
    },
    {
     "data": {
      "application/vnd.jupyter.widget-view+json": {
       "model_id": "5b654686ebe74827a0baec01562a487b",
       "version_major": 2,
       "version_minor": 0
      },
      "text/plain": [
       "키워드 진행도:   0%|          | 0/11 [00:00<?, ?it/s]"
      ]
     },
     "metadata": {},
     "output_type": "display_data"
    },
    {
     "data": {
      "application/vnd.jupyter.widget-view+json": {
       "model_id": "79ac83c1d48848dc988dafafd53b1891",
       "version_major": 2,
       "version_minor": 0
      },
      "text/plain": [
       "키워드 진행도:   0%|          | 0/7 [00:00<?, ?it/s]"
      ]
     },
     "metadata": {},
     "output_type": "display_data"
    },
    {
     "data": {
      "application/vnd.jupyter.widget-view+json": {
       "model_id": "3f99e7a134964f69b3846787de7fe530",
       "version_major": 2,
       "version_minor": 0
      },
      "text/plain": [
       "키워드 진행도:   0%|          | 0/1 [00:00<?, ?it/s]"
      ]
     },
     "metadata": {},
     "output_type": "display_data"
    },
    {
     "data": {
      "application/vnd.jupyter.widget-view+json": {
       "model_id": "9aa230e4f6944c45ba2beede4747c524",
       "version_major": 2,
       "version_minor": 0
      },
      "text/plain": [
       "키워드 진행도:   0%|          | 0/52 [00:00<?, ?it/s]"
      ]
     },
     "metadata": {},
     "output_type": "display_data"
    },
    {
     "data": {
      "application/vnd.jupyter.widget-view+json": {
       "model_id": "defa5745b1844944974efe16f4076cb6",
       "version_major": 2,
       "version_minor": 0
      },
      "text/plain": [
       "키워드 진행도:   0%|          | 0/250 [00:00<?, ?it/s]"
      ]
     },
     "metadata": {},
     "output_type": "display_data"
    },
    {
     "data": {
      "application/vnd.jupyter.widget-view+json": {
       "model_id": "868be7617588431e87c47e031dc546e1",
       "version_major": 2,
       "version_minor": 0
      },
      "text/plain": [
       "키워드 진행도:   0%|          | 0/57 [00:00<?, ?it/s]"
      ]
     },
     "metadata": {},
     "output_type": "display_data"
    },
    {
     "data": {
      "application/vnd.jupyter.widget-view+json": {
       "model_id": "a1169e5bf9ed437a8f9f3afb78b273f7",
       "version_major": 2,
       "version_minor": 0
      },
      "text/plain": [
       "키워드 진행도:   0%|          | 0/25 [00:00<?, ?it/s]"
      ]
     },
     "metadata": {},
     "output_type": "display_data"
    },
    {
     "data": {
      "application/vnd.jupyter.widget-view+json": {
       "model_id": "eecb7b37f7924a17b0e3306d410c169e",
       "version_major": 2,
       "version_minor": 0
      },
      "text/plain": [
       "키워드 진행도:   0%|          | 0/62 [00:00<?, ?it/s]"
      ]
     },
     "metadata": {},
     "output_type": "display_data"
    },
    {
     "data": {
      "application/vnd.jupyter.widget-view+json": {
       "model_id": "9f793a3c4be24f12808ef6962b81417b",
       "version_major": 2,
       "version_minor": 0
      },
      "text/plain": [
       "키워드 진행도:   0%|          | 0/118 [00:00<?, ?it/s]"
      ]
     },
     "metadata": {},
     "output_type": "display_data"
    },
    {
     "data": {
      "application/vnd.jupyter.widget-view+json": {
       "model_id": "9fc3bffa0e624c589b75a0ea5aa74b3f",
       "version_major": 2,
       "version_minor": 0
      },
      "text/plain": [
       "키워드 진행도:   0%|          | 0/62 [00:00<?, ?it/s]"
      ]
     },
     "metadata": {},
     "output_type": "display_data"
    },
    {
     "data": {
      "application/vnd.jupyter.widget-view+json": {
       "model_id": "c3527bc89eb14a788c4a068f3028ee86",
       "version_major": 2,
       "version_minor": 0
      },
      "text/plain": [
       "키워드 진행도:   0%|          | 0/23 [00:00<?, ?it/s]"
      ]
     },
     "metadata": {},
     "output_type": "display_data"
    },
    {
     "data": {
      "application/vnd.jupyter.widget-view+json": {
       "model_id": "640a9c5492c84c8a9bb0e599ad212efa",
       "version_major": 2,
       "version_minor": 0
      },
      "text/plain": [
       "키워드 진행도:   0%|          | 0/16 [00:00<?, ?it/s]"
      ]
     },
     "metadata": {},
     "output_type": "display_data"
    },
    {
     "data": {
      "application/vnd.jupyter.widget-view+json": {
       "model_id": "d33fc6fcd2ec4848b20c2a79d6025ddb",
       "version_major": 2,
       "version_minor": 0
      },
      "text/plain": [
       "키워드 진행도:   0%|          | 0/11 [00:00<?, ?it/s]"
      ]
     },
     "metadata": {},
     "output_type": "display_data"
    },
    {
     "data": {
      "application/vnd.jupyter.widget-view+json": {
       "model_id": "b3673cdd0c864c47a6ff2ee5799dea23",
       "version_major": 2,
       "version_minor": 0
      },
      "text/plain": [
       "키워드 진행도:   0%|          | 0/1 [00:00<?, ?it/s]"
      ]
     },
     "metadata": {},
     "output_type": "display_data"
    },
    {
     "data": {
      "application/vnd.jupyter.widget-view+json": {
       "model_id": "111d21e210d343328df75a7ec372b695",
       "version_major": 2,
       "version_minor": 0
      },
      "text/plain": [
       "키워드 진행도:   0%|          | 0/9 [00:00<?, ?it/s]"
      ]
     },
     "metadata": {},
     "output_type": "display_data"
    },
    {
     "data": {
      "application/vnd.jupyter.widget-view+json": {
       "model_id": "ccfa5a8bc73a49c08cdf3f28bbb7650b",
       "version_major": 2,
       "version_minor": 0
      },
      "text/plain": [
       "키워드 진행도:   0%|          | 0/19 [00:00<?, ?it/s]"
      ]
     },
     "metadata": {},
     "output_type": "display_data"
    },
    {
     "data": {
      "application/vnd.jupyter.widget-view+json": {
       "model_id": "1b8971e954a444699fcb29f950eafef6",
       "version_major": 2,
       "version_minor": 0
      },
      "text/plain": [
       "키워드 진행도:   0%|          | 0/2 [00:00<?, ?it/s]"
      ]
     },
     "metadata": {},
     "output_type": "display_data"
    },
    {
     "data": {
      "application/vnd.jupyter.widget-view+json": {
       "model_id": "4662d01d4d544131ad15e2b1a1652c88",
       "version_major": 2,
       "version_minor": 0
      },
      "text/plain": [
       "키워드 진행도:   0%|          | 0/53 [00:00<?, ?it/s]"
      ]
     },
     "metadata": {},
     "output_type": "display_data"
    },
    {
     "data": {
      "application/vnd.jupyter.widget-view+json": {
       "model_id": "9bb58e5f1c454b14912fc07144736b6c",
       "version_major": 2,
       "version_minor": 0
      },
      "text/plain": [
       "키워드 진행도:   0%|          | 0/6 [00:00<?, ?it/s]"
      ]
     },
     "metadata": {},
     "output_type": "display_data"
    },
    {
     "data": {
      "application/vnd.jupyter.widget-view+json": {
       "model_id": "59200e15e60f4dcab9f58035bb91de72",
       "version_major": 2,
       "version_minor": 0
      },
      "text/plain": [
       "키워드 진행도:   0%|          | 0/43 [00:00<?, ?it/s]"
      ]
     },
     "metadata": {},
     "output_type": "display_data"
    },
    {
     "data": {
      "application/vnd.jupyter.widget-view+json": {
       "model_id": "628994cae3d8414bb3848fb59f406250",
       "version_major": 2,
       "version_minor": 0
      },
      "text/plain": [
       "키워드 진행도: 0it [00:00, ?it/s]"
      ]
     },
     "metadata": {},
     "output_type": "display_data"
    },
    {
     "data": {
      "application/vnd.jupyter.widget-view+json": {
       "model_id": "d9c03a580a904cc2ada2b705254c4e83",
       "version_major": 2,
       "version_minor": 0
      },
      "text/plain": [
       "키워드 진행도:   0%|          | 0/8 [00:00<?, ?it/s]"
      ]
     },
     "metadata": {},
     "output_type": "display_data"
    },
    {
     "data": {
      "application/vnd.jupyter.widget-view+json": {
       "model_id": "e35505330e824ed790cecb4cbc28f67d",
       "version_major": 2,
       "version_minor": 0
      },
      "text/plain": [
       "키워드 진행도:   0%|          | 0/5 [00:00<?, ?it/s]"
      ]
     },
     "metadata": {},
     "output_type": "display_data"
    },
    {
     "data": {
      "application/vnd.jupyter.widget-view+json": {
       "model_id": "4bee80f3251a4cbb9076dc5f9e1dabfa",
       "version_major": 2,
       "version_minor": 0
      },
      "text/plain": [
       "키워드 진행도:   0%|          | 0/7 [00:00<?, ?it/s]"
      ]
     },
     "metadata": {},
     "output_type": "display_data"
    },
    {
     "data": {
      "application/vnd.jupyter.widget-view+json": {
       "model_id": "45d7ce88ac0b4e22828090f99d3f98e2",
       "version_major": 2,
       "version_minor": 0
      },
      "text/plain": [
       "키워드 진행도:   0%|          | 0/51 [00:00<?, ?it/s]"
      ]
     },
     "metadata": {},
     "output_type": "display_data"
    },
    {
     "data": {
      "application/vnd.jupyter.widget-view+json": {
       "model_id": "02b420e16bb64df289c8cc60fa1fdc9e",
       "version_major": 2,
       "version_minor": 0
      },
      "text/plain": [
       "키워드 진행도:   0%|          | 0/17 [00:00<?, ?it/s]"
      ]
     },
     "metadata": {},
     "output_type": "display_data"
    },
    {
     "data": {
      "application/vnd.jupyter.widget-view+json": {
       "model_id": "c67296b0a30c479c8a9ffbe3642e3536",
       "version_major": 2,
       "version_minor": 0
      },
      "text/plain": [
       "키워드 진행도:   0%|          | 0/4 [00:00<?, ?it/s]"
      ]
     },
     "metadata": {},
     "output_type": "display_data"
    },
    {
     "data": {
      "application/vnd.jupyter.widget-view+json": {
       "model_id": "3b5973f66fc343839808a9f1aaf88235",
       "version_major": 2,
       "version_minor": 0
      },
      "text/plain": [
       "키워드 진행도:   0%|          | 0/5 [00:00<?, ?it/s]"
      ]
     },
     "metadata": {},
     "output_type": "display_data"
    },
    {
     "data": {
      "application/vnd.jupyter.widget-view+json": {
       "model_id": "53d35948ce7b4d8fbb248f28f3afec98",
       "version_major": 2,
       "version_minor": 0
      },
      "text/plain": [
       "키워드 진행도:   0%|          | 0/18 [00:00<?, ?it/s]"
      ]
     },
     "metadata": {},
     "output_type": "display_data"
    },
    {
     "data": {
      "application/vnd.jupyter.widget-view+json": {
       "model_id": "9e4bcc212ad047adba0b15f11b7d0c79",
       "version_major": 2,
       "version_minor": 0
      },
      "text/plain": [
       "키워드 진행도:   0%|          | 0/82 [00:00<?, ?it/s]"
      ]
     },
     "metadata": {},
     "output_type": "display_data"
    },
    {
     "data": {
      "application/vnd.jupyter.widget-view+json": {
       "model_id": "3df7bc8128754c9da7ed883feb04f23d",
       "version_major": 2,
       "version_minor": 0
      },
      "text/plain": [
       "키워드 진행도:   0%|          | 0/96 [00:00<?, ?it/s]"
      ]
     },
     "metadata": {},
     "output_type": "display_data"
    },
    {
     "data": {
      "application/vnd.jupyter.widget-view+json": {
       "model_id": "bf21892d82ff4e65ac7c97851c4d6bc6",
       "version_major": 2,
       "version_minor": 0
      },
      "text/plain": [
       "키워드 진행도:   0%|          | 0/32 [00:00<?, ?it/s]"
      ]
     },
     "metadata": {},
     "output_type": "display_data"
    },
    {
     "data": {
      "application/vnd.jupyter.widget-view+json": {
       "model_id": "b5a1699132454c15a8c532c6497369f1",
       "version_major": 2,
       "version_minor": 0
      },
      "text/plain": [
       "키워드 진행도:   0%|          | 0/2 [00:00<?, ?it/s]"
      ]
     },
     "metadata": {},
     "output_type": "display_data"
    },
    {
     "data": {
      "application/vnd.jupyter.widget-view+json": {
       "model_id": "8cbe0a9919204689ba00d909e0b4e3f8",
       "version_major": 2,
       "version_minor": 0
      },
      "text/plain": [
       "키워드 진행도:   0%|          | 0/155 [00:00<?, ?it/s]"
      ]
     },
     "metadata": {},
     "output_type": "display_data"
    },
    {
     "data": {
      "application/vnd.jupyter.widget-view+json": {
       "model_id": "9facbfb73bb84fe8afcb991a929c4b26",
       "version_major": 2,
       "version_minor": 0
      },
      "text/plain": [
       "키워드 진행도:   0%|          | 0/124 [00:00<?, ?it/s]"
      ]
     },
     "metadata": {},
     "output_type": "display_data"
    },
    {
     "data": {
      "application/vnd.jupyter.widget-view+json": {
       "model_id": "8668fd9745f44eae9679bf68d4e78324",
       "version_major": 2,
       "version_minor": 0
      },
      "text/plain": [
       "키워드 진행도:   0%|          | 0/216 [00:00<?, ?it/s]"
      ]
     },
     "metadata": {},
     "output_type": "display_data"
    },
    {
     "data": {
      "application/vnd.jupyter.widget-view+json": {
       "model_id": "064bb48857d648eb9646d56f59ebe949",
       "version_major": 2,
       "version_minor": 0
      },
      "text/plain": [
       "키워드 진행도:   0%|          | 0/151 [00:00<?, ?it/s]"
      ]
     },
     "metadata": {},
     "output_type": "display_data"
    },
    {
     "data": {
      "application/vnd.jupyter.widget-view+json": {
       "model_id": "52c2727e4d7242d084ad661da61e0e89",
       "version_major": 2,
       "version_minor": 0
      },
      "text/plain": [
       "키워드 진행도:   0%|          | 0/318 [00:00<?, ?it/s]"
      ]
     },
     "metadata": {},
     "output_type": "display_data"
    },
    {
     "data": {
      "application/vnd.jupyter.widget-view+json": {
       "model_id": "d4c3d34a01f046c1aea070de3b2406c5",
       "version_major": 2,
       "version_minor": 0
      },
      "text/plain": [
       "키워드 진행도:   0%|          | 0/156 [00:00<?, ?it/s]"
      ]
     },
     "metadata": {},
     "output_type": "display_data"
    },
    {
     "data": {
      "application/vnd.jupyter.widget-view+json": {
       "model_id": "232013a34975474bb22f6d7fac912110",
       "version_major": 2,
       "version_minor": 0
      },
      "text/plain": [
       "키워드 진행도:   0%|          | 0/49 [00:00<?, ?it/s]"
      ]
     },
     "metadata": {},
     "output_type": "display_data"
    },
    {
     "data": {
      "application/vnd.jupyter.widget-view+json": {
       "model_id": "ea725e27bd32497cafc64e07b5eb9391",
       "version_major": 2,
       "version_minor": 0
      },
      "text/plain": [
       "키워드 진행도:   0%|          | 0/107 [00:00<?, ?it/s]"
      ]
     },
     "metadata": {},
     "output_type": "display_data"
    },
    {
     "data": {
      "application/vnd.jupyter.widget-view+json": {
       "model_id": "4879233f87d34103a75704528252cb03",
       "version_major": 2,
       "version_minor": 0
      },
      "text/plain": [
       "키워드 진행도:   0%|          | 0/138 [00:00<?, ?it/s]"
      ]
     },
     "metadata": {},
     "output_type": "display_data"
    },
    {
     "data": {
      "application/vnd.jupyter.widget-view+json": {
       "model_id": "2bb237e0ac9b494385ae0c6587a09c49",
       "version_major": 2,
       "version_minor": 0
      },
      "text/plain": [
       "키워드 진행도:   0%|          | 0/66 [00:00<?, ?it/s]"
      ]
     },
     "metadata": {},
     "output_type": "display_data"
    },
    {
     "data": {
      "application/vnd.jupyter.widget-view+json": {
       "model_id": "52f5ac333ec5463798f94506927de904",
       "version_major": 2,
       "version_minor": 0
      },
      "text/plain": [
       "키워드 진행도:   0%|          | 0/19 [00:00<?, ?it/s]"
      ]
     },
     "metadata": {},
     "output_type": "display_data"
    },
    {
     "data": {
      "application/vnd.jupyter.widget-view+json": {
       "model_id": "a1ada8efbc4d413aa46fac5faab18e8b",
       "version_major": 2,
       "version_minor": 0
      },
      "text/plain": [
       "키워드 진행도:   0%|          | 0/117 [00:00<?, ?it/s]"
      ]
     },
     "metadata": {},
     "output_type": "display_data"
    },
    {
     "data": {
      "application/vnd.jupyter.widget-view+json": {
       "model_id": "e025d2cf7bb546009f4d28ff8abf498b",
       "version_major": 2,
       "version_minor": 0
      },
      "text/plain": [
       "키워드 진행도:   0%|          | 0/96 [00:00<?, ?it/s]"
      ]
     },
     "metadata": {},
     "output_type": "display_data"
    },
    {
     "data": {
      "application/vnd.jupyter.widget-view+json": {
       "model_id": "58cc36b51bb446a891df58acfa1843e6",
       "version_major": 2,
       "version_minor": 0
      },
      "text/plain": [
       "키워드 진행도:   0%|          | 0/17 [00:00<?, ?it/s]"
      ]
     },
     "metadata": {},
     "output_type": "display_data"
    },
    {
     "data": {
      "application/vnd.jupyter.widget-view+json": {
       "model_id": "d4f966e59d2b46698a0ac653fcffe303",
       "version_major": 2,
       "version_minor": 0
      },
      "text/plain": [
       "키워드 진행도:   0%|          | 0/4 [00:00<?, ?it/s]"
      ]
     },
     "metadata": {},
     "output_type": "display_data"
    },
    {
     "data": {
      "application/vnd.jupyter.widget-view+json": {
       "model_id": "5461fdf5028244b1a15098cd6885eb55",
       "version_major": 2,
       "version_minor": 0
      },
      "text/plain": [
       "키워드 진행도: 0it [00:00, ?it/s]"
      ]
     },
     "metadata": {},
     "output_type": "display_data"
    },
    {
     "data": {
      "application/vnd.jupyter.widget-view+json": {
       "model_id": "ac953f66a6354b99a5f9f7208452898f",
       "version_major": 2,
       "version_minor": 0
      },
      "text/plain": [
       "키워드 진행도:   0%|          | 0/123 [00:00<?, ?it/s]"
      ]
     },
     "metadata": {},
     "output_type": "display_data"
    },
    {
     "data": {
      "application/vnd.jupyter.widget-view+json": {
       "model_id": "4406ed5221a84581a3b504d7fef8558a",
       "version_major": 2,
       "version_minor": 0
      },
      "text/plain": [
       "키워드 진행도:   0%|          | 0/10 [00:00<?, ?it/s]"
      ]
     },
     "metadata": {},
     "output_type": "display_data"
    },
    {
     "data": {
      "application/vnd.jupyter.widget-view+json": {
       "model_id": "251c5cd3a1e0461599355c41591a19f1",
       "version_major": 2,
       "version_minor": 0
      },
      "text/plain": [
       "키워드 진행도:   0%|          | 0/125 [00:00<?, ?it/s]"
      ]
     },
     "metadata": {},
     "output_type": "display_data"
    },
    {
     "data": {
      "application/vnd.jupyter.widget-view+json": {
       "model_id": "b91b44b5f0c6416cb0bcc6b451430f56",
       "version_major": 2,
       "version_minor": 0
      },
      "text/plain": [
       "키워드 진행도:   0%|          | 0/68 [00:00<?, ?it/s]"
      ]
     },
     "metadata": {},
     "output_type": "display_data"
    },
    {
     "data": {
      "application/vnd.jupyter.widget-view+json": {
       "model_id": "bb3035f3d4d145558627f7831109b51a",
       "version_major": 2,
       "version_minor": 0
      },
      "text/plain": [
       "키워드 진행도:   0%|          | 0/52 [00:00<?, ?it/s]"
      ]
     },
     "metadata": {},
     "output_type": "display_data"
    },
    {
     "data": {
      "application/vnd.jupyter.widget-view+json": {
       "model_id": "514f7661a15a4fb6be288794b39a2ec0",
       "version_major": 2,
       "version_minor": 0
      },
      "text/plain": [
       "키워드 진행도:   0%|          | 0/83 [00:00<?, ?it/s]"
      ]
     },
     "metadata": {},
     "output_type": "display_data"
    },
    {
     "data": {
      "application/vnd.jupyter.widget-view+json": {
       "model_id": "40174149f6ed4fc29404869cca0c422a",
       "version_major": 2,
       "version_minor": 0
      },
      "text/plain": [
       "키워드 진행도:   0%|          | 0/69 [00:00<?, ?it/s]"
      ]
     },
     "metadata": {},
     "output_type": "display_data"
    },
    {
     "data": {
      "application/vnd.jupyter.widget-view+json": {
       "model_id": "06ca1aae10bf460f83211c05f94743c1",
       "version_major": 2,
       "version_minor": 0
      },
      "text/plain": [
       "키워드 진행도:   0%|          | 0/181 [00:00<?, ?it/s]"
      ]
     },
     "metadata": {},
     "output_type": "display_data"
    },
    {
     "data": {
      "application/vnd.jupyter.widget-view+json": {
       "model_id": "a8b19fc87ba640209725bb07c6f90a74",
       "version_major": 2,
       "version_minor": 0
      },
      "text/plain": [
       "키워드 진행도:   0%|          | 0/17 [00:00<?, ?it/s]"
      ]
     },
     "metadata": {},
     "output_type": "display_data"
    },
    {
     "data": {
      "application/vnd.jupyter.widget-view+json": {
       "model_id": "d3a9ee4301bf454793ba7221c94d72c5",
       "version_major": 2,
       "version_minor": 0
      },
      "text/plain": [
       "키워드 진행도:   0%|          | 0/101 [00:00<?, ?it/s]"
      ]
     },
     "metadata": {},
     "output_type": "display_data"
    },
    {
     "data": {
      "application/vnd.jupyter.widget-view+json": {
       "model_id": "f8a0598ff30b4f17bbd97bcda05c4fbf",
       "version_major": 2,
       "version_minor": 0
      },
      "text/plain": [
       "키워드 진행도:   0%|          | 0/16 [00:00<?, ?it/s]"
      ]
     },
     "metadata": {},
     "output_type": "display_data"
    },
    {
     "data": {
      "application/vnd.jupyter.widget-view+json": {
       "model_id": "0d6a76facd5d4fafa6ca2d49fbc2b5f1",
       "version_major": 2,
       "version_minor": 0
      },
      "text/plain": [
       "키워드 진행도:   0%|          | 0/9 [00:00<?, ?it/s]"
      ]
     },
     "metadata": {},
     "output_type": "display_data"
    },
    {
     "data": {
      "application/vnd.jupyter.widget-view+json": {
       "model_id": "87630931bf3d415c8c57ef70d35b901e",
       "version_major": 2,
       "version_minor": 0
      },
      "text/plain": [
       "키워드 진행도:   0%|          | 0/10 [00:00<?, ?it/s]"
      ]
     },
     "metadata": {},
     "output_type": "display_data"
    },
    {
     "data": {
      "application/vnd.jupyter.widget-view+json": {
       "model_id": "916eb6a3210e43978f78f27dbf3025c7",
       "version_major": 2,
       "version_minor": 0
      },
      "text/plain": [
       "키워드 진행도:   0%|          | 0/10 [00:00<?, ?it/s]"
      ]
     },
     "metadata": {},
     "output_type": "display_data"
    },
    {
     "data": {
      "application/vnd.jupyter.widget-view+json": {
       "model_id": "81fdb06719524986b52f40819caea2f6",
       "version_major": 2,
       "version_minor": 0
      },
      "text/plain": [
       "키워드 진행도:   0%|          | 0/23 [00:00<?, ?it/s]"
      ]
     },
     "metadata": {},
     "output_type": "display_data"
    },
    {
     "data": {
      "application/vnd.jupyter.widget-view+json": {
       "model_id": "ac923890838f4bc1b1e55b968858109e",
       "version_major": 2,
       "version_minor": 0
      },
      "text/plain": [
       "키워드 진행도:   0%|          | 0/167 [00:00<?, ?it/s]"
      ]
     },
     "metadata": {},
     "output_type": "display_data"
    },
    {
     "data": {
      "application/vnd.jupyter.widget-view+json": {
       "model_id": "e7219791127d43e6803043b7b04a89e6",
       "version_major": 2,
       "version_minor": 0
      },
      "text/plain": [
       "키워드 진행도:   0%|          | 0/26 [00:00<?, ?it/s]"
      ]
     },
     "metadata": {},
     "output_type": "display_data"
    },
    {
     "data": {
      "application/vnd.jupyter.widget-view+json": {
       "model_id": "be7af32b9282488392f1813b636d4baa",
       "version_major": 2,
       "version_minor": 0
      },
      "text/plain": [
       "키워드 진행도:   0%|          | 0/176 [00:00<?, ?it/s]"
      ]
     },
     "metadata": {},
     "output_type": "display_data"
    },
    {
     "data": {
      "application/vnd.jupyter.widget-view+json": {
       "model_id": "25a4d9d5c3d041c1a1ba5115867da808",
       "version_major": 2,
       "version_minor": 0
      },
      "text/plain": [
       "키워드 진행도:   0%|          | 0/37 [00:00<?, ?it/s]"
      ]
     },
     "metadata": {},
     "output_type": "display_data"
    },
    {
     "data": {
      "application/vnd.jupyter.widget-view+json": {
       "model_id": "e0704ab361ed426facbd81ab91aadaf4",
       "version_major": 2,
       "version_minor": 0
      },
      "text/plain": [
       "키워드 진행도:   0%|          | 0/34 [00:00<?, ?it/s]"
      ]
     },
     "metadata": {},
     "output_type": "display_data"
    },
    {
     "data": {
      "application/vnd.jupyter.widget-view+json": {
       "model_id": "ff9d916a5b8947adb0374ac484cf71fc",
       "version_major": 2,
       "version_minor": 0
      },
      "text/plain": [
       "키워드 진행도:   0%|          | 0/75 [00:00<?, ?it/s]"
      ]
     },
     "metadata": {},
     "output_type": "display_data"
    },
    {
     "data": {
      "application/vnd.jupyter.widget-view+json": {
       "model_id": "a069737a376d471e9b68deeddcae9374",
       "version_major": 2,
       "version_minor": 0
      },
      "text/plain": [
       "키워드 진행도:   0%|          | 0/59 [00:00<?, ?it/s]"
      ]
     },
     "metadata": {},
     "output_type": "display_data"
    },
    {
     "data": {
      "application/vnd.jupyter.widget-view+json": {
       "model_id": "6c34c301e89f42b4ab7eaaae1b91d39d",
       "version_major": 2,
       "version_minor": 0
      },
      "text/plain": [
       "키워드 진행도:   0%|          | 0/116 [00:00<?, ?it/s]"
      ]
     },
     "metadata": {},
     "output_type": "display_data"
    },
    {
     "data": {
      "application/vnd.jupyter.widget-view+json": {
       "model_id": "fa97896ffffc4b2c94ea6043e0c2af85",
       "version_major": 2,
       "version_minor": 0
      },
      "text/plain": [
       "키워드 진행도:   0%|          | 0/50 [00:00<?, ?it/s]"
      ]
     },
     "metadata": {},
     "output_type": "display_data"
    },
    {
     "data": {
      "application/vnd.jupyter.widget-view+json": {
       "model_id": "6d1cef61b77a46d18207604d517e4772",
       "version_major": 2,
       "version_minor": 0
      },
      "text/plain": [
       "키워드 진행도:   0%|          | 0/82 [00:00<?, ?it/s]"
      ]
     },
     "metadata": {},
     "output_type": "display_data"
    },
    {
     "data": {
      "application/vnd.jupyter.widget-view+json": {
       "model_id": "7330c3d81951459190fca5d0422ee3eb",
       "version_major": 2,
       "version_minor": 0
      },
      "text/plain": [
       "키워드 진행도:   0%|          | 0/32 [00:00<?, ?it/s]"
      ]
     },
     "metadata": {},
     "output_type": "display_data"
    },
    {
     "data": {
      "application/vnd.jupyter.widget-view+json": {
       "model_id": "d7f4b97b826541b78b9d7cbd99ef0294",
       "version_major": 2,
       "version_minor": 0
      },
      "text/plain": [
       "키워드 진행도:   0%|          | 0/13 [00:00<?, ?it/s]"
      ]
     },
     "metadata": {},
     "output_type": "display_data"
    },
    {
     "data": {
      "application/vnd.jupyter.widget-view+json": {
       "model_id": "4bfaf356e5d2405cac741faeb4319c97",
       "version_major": 2,
       "version_minor": 0
      },
      "text/plain": [
       "키워드 진행도:   0%|          | 0/22 [00:00<?, ?it/s]"
      ]
     },
     "metadata": {},
     "output_type": "display_data"
    },
    {
     "data": {
      "application/vnd.jupyter.widget-view+json": {
       "model_id": "0631a3a3a59846b5aa323d88bbffc94c",
       "version_major": 2,
       "version_minor": 0
      },
      "text/plain": [
       "키워드 진행도:   0%|          | 0/4 [00:00<?, ?it/s]"
      ]
     },
     "metadata": {},
     "output_type": "display_data"
    },
    {
     "data": {
      "application/vnd.jupyter.widget-view+json": {
       "model_id": "c4e22e91db3848a1bb3c6c1d4808e15d",
       "version_major": 2,
       "version_minor": 0
      },
      "text/plain": [
       "키워드 진행도:   0%|          | 0/3 [00:00<?, ?it/s]"
      ]
     },
     "metadata": {},
     "output_type": "display_data"
    },
    {
     "data": {
      "application/vnd.jupyter.widget-view+json": {
       "model_id": "cf326c1c083a4304b0f930ab1b8b23a6",
       "version_major": 2,
       "version_minor": 0
      },
      "text/plain": [
       "키워드 진행도:   0%|          | 0/1 [00:00<?, ?it/s]"
      ]
     },
     "metadata": {},
     "output_type": "display_data"
    },
    {
     "data": {
      "application/vnd.jupyter.widget-view+json": {
       "model_id": "2cd33d4a29c14146942edf3af22c8b61",
       "version_major": 2,
       "version_minor": 0
      },
      "text/plain": [
       "키워드 진행도:   0%|          | 0/17 [00:00<?, ?it/s]"
      ]
     },
     "metadata": {},
     "output_type": "display_data"
    },
    {
     "data": {
      "application/vnd.jupyter.widget-view+json": {
       "model_id": "cb2f04804ade4207956837c10e97326b",
       "version_major": 2,
       "version_minor": 0
      },
      "text/plain": [
       "키워드 진행도: 0it [00:00, ?it/s]"
      ]
     },
     "metadata": {},
     "output_type": "display_data"
    },
    {
     "data": {
      "application/vnd.jupyter.widget-view+json": {
       "model_id": "b52b44ccf4ab42ad96f8c7444ef1e3de",
       "version_major": 2,
       "version_minor": 0
      },
      "text/plain": [
       "키워드 진행도:   0%|          | 0/2 [00:00<?, ?it/s]"
      ]
     },
     "metadata": {},
     "output_type": "display_data"
    },
    {
     "data": {
      "application/vnd.jupyter.widget-view+json": {
       "model_id": "4e7b6879ee154315a299c6da38035a8f",
       "version_major": 2,
       "version_minor": 0
      },
      "text/plain": [
       "키워드 진행도:   0%|          | 0/1 [00:00<?, ?it/s]"
      ]
     },
     "metadata": {},
     "output_type": "display_data"
    },
    {
     "data": {
      "application/vnd.jupyter.widget-view+json": {
       "model_id": "98ed5af92e30463fa9bd43eff8147955",
       "version_major": 2,
       "version_minor": 0
      },
      "text/plain": [
       "키워드 진행도:   0%|          | 0/9 [00:00<?, ?it/s]"
      ]
     },
     "metadata": {},
     "output_type": "display_data"
    },
    {
     "data": {
      "application/vnd.jupyter.widget-view+json": {
       "model_id": "0405a4921b7b445db826447fe32ca6f3",
       "version_major": 2,
       "version_minor": 0
      },
      "text/plain": [
       "키워드 진행도:   0%|          | 0/5 [00:00<?, ?it/s]"
      ]
     },
     "metadata": {},
     "output_type": "display_data"
    },
    {
     "data": {
      "application/vnd.jupyter.widget-view+json": {
       "model_id": "92c3d914402c40c4993e7e96ea8e56d5",
       "version_major": 2,
       "version_minor": 0
      },
      "text/plain": [
       "키워드 진행도:   0%|          | 0/33 [00:00<?, ?it/s]"
      ]
     },
     "metadata": {},
     "output_type": "display_data"
    },
    {
     "data": {
      "application/vnd.jupyter.widget-view+json": {
       "model_id": "cf1a39f7d94e4ad0880cba430fe89881",
       "version_major": 2,
       "version_minor": 0
      },
      "text/plain": [
       "키워드 진행도:   0%|          | 0/5 [00:00<?, ?it/s]"
      ]
     },
     "metadata": {},
     "output_type": "display_data"
    },
    {
     "data": {
      "application/vnd.jupyter.widget-view+json": {
       "model_id": "dd1c5a8a96d8497994b1bc8098b6d27a",
       "version_major": 2,
       "version_minor": 0
      },
      "text/plain": [
       "키워드 진행도:   0%|          | 0/14 [00:00<?, ?it/s]"
      ]
     },
     "metadata": {},
     "output_type": "display_data"
    },
    {
     "data": {
      "application/vnd.jupyter.widget-view+json": {
       "model_id": "a44bea394d754aefbd197aaba60473af",
       "version_major": 2,
       "version_minor": 0
      },
      "text/plain": [
       "키워드 진행도:   0%|          | 0/22 [00:00<?, ?it/s]"
      ]
     },
     "metadata": {},
     "output_type": "display_data"
    },
    {
     "data": {
      "application/vnd.jupyter.widget-view+json": {
       "model_id": "531e28bf87514c5b857c5d082f900a58",
       "version_major": 2,
       "version_minor": 0
      },
      "text/plain": [
       "키워드 진행도:   0%|          | 0/22 [00:00<?, ?it/s]"
      ]
     },
     "metadata": {},
     "output_type": "display_data"
    },
    {
     "data": {
      "application/vnd.jupyter.widget-view+json": {
       "model_id": "1af13e1ebca845ceb08350412136d903",
       "version_major": 2,
       "version_minor": 0
      },
      "text/plain": [
       "키워드 진행도:   0%|          | 0/21 [00:00<?, ?it/s]"
      ]
     },
     "metadata": {},
     "output_type": "display_data"
    },
    {
     "data": {
      "application/vnd.jupyter.widget-view+json": {
       "model_id": "6ec67825095544509185a853b6733987",
       "version_major": 2,
       "version_minor": 0
      },
      "text/plain": [
       "키워드 진행도:   0%|          | 0/44 [00:00<?, ?it/s]"
      ]
     },
     "metadata": {},
     "output_type": "display_data"
    },
    {
     "data": {
      "application/vnd.jupyter.widget-view+json": {
       "model_id": "09d12e6dabb04555b6d0dc12cab4a2c1",
       "version_major": 2,
       "version_minor": 0
      },
      "text/plain": [
       "키워드 진행도:   0%|          | 0/24 [00:00<?, ?it/s]"
      ]
     },
     "metadata": {},
     "output_type": "display_data"
    },
    {
     "data": {
      "application/vnd.jupyter.widget-view+json": {
       "model_id": "1dca96e3bcbb428db1ebefe898cfbbdf",
       "version_major": 2,
       "version_minor": 0
      },
      "text/plain": [
       "키워드 진행도:   0%|          | 0/57 [00:00<?, ?it/s]"
      ]
     },
     "metadata": {},
     "output_type": "display_data"
    },
    {
     "data": {
      "application/vnd.jupyter.widget-view+json": {
       "model_id": "01ed0ec356174784b3d0791b626ce363",
       "version_major": 2,
       "version_minor": 0
      },
      "text/plain": [
       "키워드 진행도:   0%|          | 0/23 [00:00<?, ?it/s]"
      ]
     },
     "metadata": {},
     "output_type": "display_data"
    },
    {
     "data": {
      "application/vnd.jupyter.widget-view+json": {
       "model_id": "4247d9841e154f7ab635187d7c58057a",
       "version_major": 2,
       "version_minor": 0
      },
      "text/plain": [
       "키워드 진행도:   0%|          | 0/8 [00:00<?, ?it/s]"
      ]
     },
     "metadata": {},
     "output_type": "display_data"
    },
    {
     "data": {
      "application/vnd.jupyter.widget-view+json": {
       "model_id": "ad2e9b5eb11e48c99ec17e4b0a395289",
       "version_major": 2,
       "version_minor": 0
      },
      "text/plain": [
       "키워드 진행도:   0%|          | 0/2 [00:00<?, ?it/s]"
      ]
     },
     "metadata": {},
     "output_type": "display_data"
    },
    {
     "data": {
      "application/vnd.jupyter.widget-view+json": {
       "model_id": "1ee0fb1268dd4a6db2b43903e86a8805",
       "version_major": 2,
       "version_minor": 0
      },
      "text/plain": [
       "키워드 진행도:   0%|          | 0/6 [00:00<?, ?it/s]"
      ]
     },
     "metadata": {},
     "output_type": "display_data"
    },
    {
     "data": {
      "application/vnd.jupyter.widget-view+json": {
       "model_id": "fd81879b05814305984dc5223d0ad94b",
       "version_major": 2,
       "version_minor": 0
      },
      "text/plain": [
       "키워드 진행도:   0%|          | 0/13 [00:00<?, ?it/s]"
      ]
     },
     "metadata": {},
     "output_type": "display_data"
    },
    {
     "data": {
      "application/vnd.jupyter.widget-view+json": {
       "model_id": "71fcc3b0de784ea583af379915b09ea4",
       "version_major": 2,
       "version_minor": 0
      },
      "text/plain": [
       "키워드 진행도:   0%|          | 0/24 [00:00<?, ?it/s]"
      ]
     },
     "metadata": {},
     "output_type": "display_data"
    },
    {
     "data": {
      "application/vnd.jupyter.widget-view+json": {
       "model_id": "688f176f5faa473a9f8f5c15314e16ce",
       "version_major": 2,
       "version_minor": 0
      },
      "text/plain": [
       "키워드 진행도:   0%|          | 0/13 [00:00<?, ?it/s]"
      ]
     },
     "metadata": {},
     "output_type": "display_data"
    },
    {
     "data": {
      "application/vnd.jupyter.widget-view+json": {
       "model_id": "a2e35e6492844376b93b5ea30dd4f9db",
       "version_major": 2,
       "version_minor": 0
      },
      "text/plain": [
       "키워드 진행도:   0%|          | 0/13 [00:00<?, ?it/s]"
      ]
     },
     "metadata": {},
     "output_type": "display_data"
    },
    {
     "data": {
      "application/vnd.jupyter.widget-view+json": {
       "model_id": "6fd1f956bf1b4cd4a084062021bf698c",
       "version_major": 2,
       "version_minor": 0
      },
      "text/plain": [
       "키워드 진행도:   0%|          | 0/2 [00:00<?, ?it/s]"
      ]
     },
     "metadata": {},
     "output_type": "display_data"
    },
    {
     "data": {
      "application/vnd.jupyter.widget-view+json": {
       "model_id": "acf571ccde124dddab62f05ab2e990bd",
       "version_major": 2,
       "version_minor": 0
      },
      "text/plain": [
       "키워드 진행도:   0%|          | 0/11 [00:00<?, ?it/s]"
      ]
     },
     "metadata": {},
     "output_type": "display_data"
    },
    {
     "data": {
      "application/vnd.jupyter.widget-view+json": {
       "model_id": "62161c6c5ad14b3299c8deac0ac43a13",
       "version_major": 2,
       "version_minor": 0
      },
      "text/plain": [
       "키워드 진행도:   0%|          | 0/8 [00:00<?, ?it/s]"
      ]
     },
     "metadata": {},
     "output_type": "display_data"
    },
    {
     "data": {
      "application/vnd.jupyter.widget-view+json": {
       "model_id": "e4144054b5c64cc79bb07126315b7309",
       "version_major": 2,
       "version_minor": 0
      },
      "text/plain": [
       "키워드 진행도:   0%|          | 0/5 [00:00<?, ?it/s]"
      ]
     },
     "metadata": {},
     "output_type": "display_data"
    },
    {
     "data": {
      "application/vnd.jupyter.widget-view+json": {
       "model_id": "767dbad5b6064d54949007cc0696ddb6",
       "version_major": 2,
       "version_minor": 0
      },
      "text/plain": [
       "키워드 진행도:   0%|          | 0/16 [00:00<?, ?it/s]"
      ]
     },
     "metadata": {},
     "output_type": "display_data"
    },
    {
     "data": {
      "application/vnd.jupyter.widget-view+json": {
       "model_id": "949e1461370b40e5822ccaced66196dc",
       "version_major": 2,
       "version_minor": 0
      },
      "text/plain": [
       "키워드 진행도:   0%|          | 0/10 [00:00<?, ?it/s]"
      ]
     },
     "metadata": {},
     "output_type": "display_data"
    },
    {
     "data": {
      "application/vnd.jupyter.widget-view+json": {
       "model_id": "4e9ebe5704f0424e841213c1b096f15b",
       "version_major": 2,
       "version_minor": 0
      },
      "text/plain": [
       "키워드 진행도:   0%|          | 0/10 [00:00<?, ?it/s]"
      ]
     },
     "metadata": {},
     "output_type": "display_data"
    },
    {
     "data": {
      "application/vnd.jupyter.widget-view+json": {
       "model_id": "3c1c92c8d17d48c6a55a01a71e1cb9c3",
       "version_major": 2,
       "version_minor": 0
      },
      "text/plain": [
       "키워드 진행도:   0%|          | 0/5 [00:00<?, ?it/s]"
      ]
     },
     "metadata": {},
     "output_type": "display_data"
    },
    {
     "data": {
      "application/vnd.jupyter.widget-view+json": {
       "model_id": "5e72196fde1a4b77816727724b2b2515",
       "version_major": 2,
       "version_minor": 0
      },
      "text/plain": [
       "키워드 진행도:   0%|          | 0/4 [00:00<?, ?it/s]"
      ]
     },
     "metadata": {},
     "output_type": "display_data"
    },
    {
     "data": {
      "application/vnd.jupyter.widget-view+json": {
       "model_id": "c640ad0280414e678055a10b019d11ed",
       "version_major": 2,
       "version_minor": 0
      },
      "text/plain": [
       "키워드 진행도:   0%|          | 0/48 [00:00<?, ?it/s]"
      ]
     },
     "metadata": {},
     "output_type": "display_data"
    },
    {
     "data": {
      "application/vnd.jupyter.widget-view+json": {
       "model_id": "abe120a6187d473f8b958b08192e1984",
       "version_major": 2,
       "version_minor": 0
      },
      "text/plain": [
       "키워드 진행도:   0%|          | 0/4 [00:00<?, ?it/s]"
      ]
     },
     "metadata": {},
     "output_type": "display_data"
    },
    {
     "data": {
      "application/vnd.jupyter.widget-view+json": {
       "model_id": "9a8c2cabc48a4057bfc4f2591725ac1e",
       "version_major": 2,
       "version_minor": 0
      },
      "text/plain": [
       "키워드 진행도:   0%|          | 0/3 [00:00<?, ?it/s]"
      ]
     },
     "metadata": {},
     "output_type": "display_data"
    },
    {
     "data": {
      "application/vnd.jupyter.widget-view+json": {
       "model_id": "f8c4d2d319094cfd9d2cffdd7ebd0478",
       "version_major": 2,
       "version_minor": 0
      },
      "text/plain": [
       "키워드 진행도:   0%|          | 0/9 [00:00<?, ?it/s]"
      ]
     },
     "metadata": {},
     "output_type": "display_data"
    },
    {
     "data": {
      "application/vnd.jupyter.widget-view+json": {
       "model_id": "2981d18fd09f4c34abddc6780a636eed",
       "version_major": 2,
       "version_minor": 0
      },
      "text/plain": [
       "키워드 진행도:   0%|          | 0/5 [00:00<?, ?it/s]"
      ]
     },
     "metadata": {},
     "output_type": "display_data"
    },
    {
     "data": {
      "application/vnd.jupyter.widget-view+json": {
       "model_id": "6635e5985be1469fb4aa00c531843f93",
       "version_major": 2,
       "version_minor": 0
      },
      "text/plain": [
       "키워드 진행도:   0%|          | 0/14 [00:00<?, ?it/s]"
      ]
     },
     "metadata": {},
     "output_type": "display_data"
    },
    {
     "data": {
      "application/vnd.jupyter.widget-view+json": {
       "model_id": "cf970b786d8346aeadb0db49ed9ccbb7",
       "version_major": 2,
       "version_minor": 0
      },
      "text/plain": [
       "키워드 진행도:   0%|          | 0/23 [00:00<?, ?it/s]"
      ]
     },
     "metadata": {},
     "output_type": "display_data"
    },
    {
     "data": {
      "application/vnd.jupyter.widget-view+json": {
       "model_id": "4cd9edf2dfa24133880f12e62e682ae7",
       "version_major": 2,
       "version_minor": 0
      },
      "text/plain": [
       "키워드 진행도:   0%|          | 0/7 [00:00<?, ?it/s]"
      ]
     },
     "metadata": {},
     "output_type": "display_data"
    },
    {
     "data": {
      "application/vnd.jupyter.widget-view+json": {
       "model_id": "f5032ad07e074649b29b43f6e68e716f",
       "version_major": 2,
       "version_minor": 0
      },
      "text/plain": [
       "키워드 진행도:   0%|          | 0/96 [00:00<?, ?it/s]"
      ]
     },
     "metadata": {},
     "output_type": "display_data"
    },
    {
     "data": {
      "application/vnd.jupyter.widget-view+json": {
       "model_id": "987bf8a12f52486d81bfc85c31ffb25d",
       "version_major": 2,
       "version_minor": 0
      },
      "text/plain": [
       "키워드 진행도:   0%|          | 0/3 [00:00<?, ?it/s]"
      ]
     },
     "metadata": {},
     "output_type": "display_data"
    },
    {
     "data": {
      "application/vnd.jupyter.widget-view+json": {
       "model_id": "2da545e61cfd4d6d86763fd1c7c47d89",
       "version_major": 2,
       "version_minor": 0
      },
      "text/plain": [
       "키워드 진행도: 0it [00:00, ?it/s]"
      ]
     },
     "metadata": {},
     "output_type": "display_data"
    },
    {
     "data": {
      "application/vnd.jupyter.widget-view+json": {
       "model_id": "5f05e594254e468d8bf50602f0218b15",
       "version_major": 2,
       "version_minor": 0
      },
      "text/plain": [
       "키워드 진행도:   0%|          | 0/6 [00:00<?, ?it/s]"
      ]
     },
     "metadata": {},
     "output_type": "display_data"
    },
    {
     "data": {
      "application/vnd.jupyter.widget-view+json": {
       "model_id": "ff14596abd0449aeaa2c98a62e91fce7",
       "version_major": 2,
       "version_minor": 0
      },
      "text/plain": [
       "키워드 진행도:   0%|          | 0/3 [00:00<?, ?it/s]"
      ]
     },
     "metadata": {},
     "output_type": "display_data"
    },
    {
     "data": {
      "application/vnd.jupyter.widget-view+json": {
       "model_id": "2530e049fb0e4a93a6f4765d6b03b43b",
       "version_major": 2,
       "version_minor": 0
      },
      "text/plain": [
       "키워드 진행도: 0it [00:00, ?it/s]"
      ]
     },
     "metadata": {},
     "output_type": "display_data"
    },
    {
     "data": {
      "application/vnd.jupyter.widget-view+json": {
       "model_id": "b00aa45ae4ae48e1a90ee01ac41e927d",
       "version_major": 2,
       "version_minor": 0
      },
      "text/plain": [
       "키워드 진행도:   0%|          | 0/16 [00:00<?, ?it/s]"
      ]
     },
     "metadata": {},
     "output_type": "display_data"
    },
    {
     "data": {
      "application/vnd.jupyter.widget-view+json": {
       "model_id": "f15537017d804e51a7e060dc9bdf4ba8",
       "version_major": 2,
       "version_minor": 0
      },
      "text/plain": [
       "키워드 진행도:   0%|          | 0/18 [00:00<?, ?it/s]"
      ]
     },
     "metadata": {},
     "output_type": "display_data"
    },
    {
     "data": {
      "application/vnd.jupyter.widget-view+json": {
       "model_id": "c09f3142822440898570fef3df3c7784",
       "version_major": 2,
       "version_minor": 0
      },
      "text/plain": [
       "키워드 진행도:   0%|          | 0/5 [00:00<?, ?it/s]"
      ]
     },
     "metadata": {},
     "output_type": "display_data"
    },
    {
     "data": {
      "application/vnd.jupyter.widget-view+json": {
       "model_id": "358fcf7b525d42d99916d82e116caf84",
       "version_major": 2,
       "version_minor": 0
      },
      "text/plain": [
       "키워드 진행도:   0%|          | 0/4 [00:00<?, ?it/s]"
      ]
     },
     "metadata": {},
     "output_type": "display_data"
    },
    {
     "data": {
      "application/vnd.jupyter.widget-view+json": {
       "model_id": "3c8f638166e4460d9ef4360367e14017",
       "version_major": 2,
       "version_minor": 0
      },
      "text/plain": [
       "키워드 진행도:   0%|          | 0/1 [00:00<?, ?it/s]"
      ]
     },
     "metadata": {},
     "output_type": "display_data"
    },
    {
     "data": {
      "application/vnd.jupyter.widget-view+json": {
       "model_id": "1234d858d7094311b21208c73e28221b",
       "version_major": 2,
       "version_minor": 0
      },
      "text/plain": [
       "키워드 진행도:   0%|          | 0/5 [00:00<?, ?it/s]"
      ]
     },
     "metadata": {},
     "output_type": "display_data"
    },
    {
     "data": {
      "application/vnd.jupyter.widget-view+json": {
       "model_id": "967e4eb926d9472eb550a181c622de2f",
       "version_major": 2,
       "version_minor": 0
      },
      "text/plain": [
       "키워드 진행도:   0%|          | 0/33 [00:00<?, ?it/s]"
      ]
     },
     "metadata": {},
     "output_type": "display_data"
    },
    {
     "data": {
      "application/vnd.jupyter.widget-view+json": {
       "model_id": "6aed8608f8504cfdb85070d9f6f9e4e3",
       "version_major": 2,
       "version_minor": 0
      },
      "text/plain": [
       "키워드 진행도:   0%|          | 0/8 [00:00<?, ?it/s]"
      ]
     },
     "metadata": {},
     "output_type": "display_data"
    },
    {
     "data": {
      "application/vnd.jupyter.widget-view+json": {
       "model_id": "3891094aa7b741e6b4d7412718f73789",
       "version_major": 2,
       "version_minor": 0
      },
      "text/plain": [
       "키워드 진행도:   0%|          | 0/7 [00:00<?, ?it/s]"
      ]
     },
     "metadata": {},
     "output_type": "display_data"
    },
    {
     "data": {
      "application/vnd.jupyter.widget-view+json": {
       "model_id": "6663e93b12e44570b559f2980fbc57af",
       "version_major": 2,
       "version_minor": 0
      },
      "text/plain": [
       "키워드 진행도:   0%|          | 0/11 [00:00<?, ?it/s]"
      ]
     },
     "metadata": {},
     "output_type": "display_data"
    },
    {
     "data": {
      "application/vnd.jupyter.widget-view+json": {
       "model_id": "ffb2832aac034d42817d26ba91f87002",
       "version_major": 2,
       "version_minor": 0
      },
      "text/plain": [
       "키워드 진행도:   0%|          | 0/3 [00:00<?, ?it/s]"
      ]
     },
     "metadata": {},
     "output_type": "display_data"
    },
    {
     "data": {
      "application/vnd.jupyter.widget-view+json": {
       "model_id": "ff5131843e164ef2a5efe9364a9b2a21",
       "version_major": 2,
       "version_minor": 0
      },
      "text/plain": [
       "키워드 진행도:   0%|          | 0/2 [00:00<?, ?it/s]"
      ]
     },
     "metadata": {},
     "output_type": "display_data"
    },
    {
     "data": {
      "application/vnd.jupyter.widget-view+json": {
       "model_id": "9adbc71065fd469099984ad57f27d31e",
       "version_major": 2,
       "version_minor": 0
      },
      "text/plain": [
       "키워드 진행도:   0%|          | 0/2 [00:00<?, ?it/s]"
      ]
     },
     "metadata": {},
     "output_type": "display_data"
    },
    {
     "data": {
      "application/vnd.jupyter.widget-view+json": {
       "model_id": "64772ca88ce140c78ad79050148c05df",
       "version_major": 2,
       "version_minor": 0
      },
      "text/plain": [
       "키워드 진행도:   0%|          | 0/21 [00:00<?, ?it/s]"
      ]
     },
     "metadata": {},
     "output_type": "display_data"
    },
    {
     "data": {
      "application/vnd.jupyter.widget-view+json": {
       "model_id": "aee7ea163a4f47bc9b988676d213bc0e",
       "version_major": 2,
       "version_minor": 0
      },
      "text/plain": [
       "키워드 진행도: 0it [00:00, ?it/s]"
      ]
     },
     "metadata": {},
     "output_type": "display_data"
    },
    {
     "data": {
      "application/vnd.jupyter.widget-view+json": {
       "model_id": "6e62aecf866d4beba3f2d644ba4e2c4c",
       "version_major": 2,
       "version_minor": 0
      },
      "text/plain": [
       "키워드 진행도:   0%|          | 0/13 [00:00<?, ?it/s]"
      ]
     },
     "metadata": {},
     "output_type": "display_data"
    },
    {
     "data": {
      "application/vnd.jupyter.widget-view+json": {
       "model_id": "57160a19ac28412282a35a0b7cf80c80",
       "version_major": 2,
       "version_minor": 0
      },
      "text/plain": [
       "키워드 진행도:   0%|          | 0/1 [00:00<?, ?it/s]"
      ]
     },
     "metadata": {},
     "output_type": "display_data"
    },
    {
     "data": {
      "application/vnd.jupyter.widget-view+json": {
       "model_id": "f907c82084d64ecb8eb5f4f73ce72be9",
       "version_major": 2,
       "version_minor": 0
      },
      "text/plain": [
       "키워드 진행도:   0%|          | 0/1 [00:00<?, ?it/s]"
      ]
     },
     "metadata": {},
     "output_type": "display_data"
    },
    {
     "data": {
      "application/vnd.jupyter.widget-view+json": {
       "model_id": "83ce8b12556046c8a246d56452e2cf59",
       "version_major": 2,
       "version_minor": 0
      },
      "text/plain": [
       "키워드 진행도:   0%|          | 0/4 [00:00<?, ?it/s]"
      ]
     },
     "metadata": {},
     "output_type": "display_data"
    },
    {
     "data": {
      "application/vnd.jupyter.widget-view+json": {
       "model_id": "95fad078d3534002a275ddeb32d31c71",
       "version_major": 2,
       "version_minor": 0
      },
      "text/plain": [
       "키워드 진행도: 0it [00:00, ?it/s]"
      ]
     },
     "metadata": {},
     "output_type": "display_data"
    },
    {
     "data": {
      "application/vnd.jupyter.widget-view+json": {
       "model_id": "da0d8be575384d3da8cc1301cd70c60f",
       "version_major": 2,
       "version_minor": 0
      },
      "text/plain": [
       "키워드 진행도:   0%|          | 0/3 [00:00<?, ?it/s]"
      ]
     },
     "metadata": {},
     "output_type": "display_data"
    },
    {
     "data": {
      "application/vnd.jupyter.widget-view+json": {
       "model_id": "6ecbc3660d8745f7b6f9f8c310bdd710",
       "version_major": 2,
       "version_minor": 0
      },
      "text/plain": [
       "키워드 진행도:   0%|          | 0/4 [00:00<?, ?it/s]"
      ]
     },
     "metadata": {},
     "output_type": "display_data"
    },
    {
     "data": {
      "application/vnd.jupyter.widget-view+json": {
       "model_id": "ffbaa1ea83334e588112bae0707f94c6",
       "version_major": 2,
       "version_minor": 0
      },
      "text/plain": [
       "키워드 진행도:   0%|          | 0/2 [00:00<?, ?it/s]"
      ]
     },
     "metadata": {},
     "output_type": "display_data"
    },
    {
     "data": {
      "application/vnd.jupyter.widget-view+json": {
       "model_id": "dff1a6263c114a23b1b6c53a830fa19b",
       "version_major": 2,
       "version_minor": 0
      },
      "text/plain": [
       "키워드 진행도:   0%|          | 0/3 [00:00<?, ?it/s]"
      ]
     },
     "metadata": {},
     "output_type": "display_data"
    },
    {
     "data": {
      "application/vnd.jupyter.widget-view+json": {
       "model_id": "9f61c32fb0094675a6b2af2032006006",
       "version_major": 2,
       "version_minor": 0
      },
      "text/plain": [
       "키워드 진행도:   0%|          | 0/13 [00:00<?, ?it/s]"
      ]
     },
     "metadata": {},
     "output_type": "display_data"
    },
    {
     "data": {
      "application/vnd.jupyter.widget-view+json": {
       "model_id": "949761b8b9614555855b091fb4af6b28",
       "version_major": 2,
       "version_minor": 0
      },
      "text/plain": [
       "키워드 진행도:   0%|          | 0/16 [00:00<?, ?it/s]"
      ]
     },
     "metadata": {},
     "output_type": "display_data"
    },
    {
     "data": {
      "application/vnd.jupyter.widget-view+json": {
       "model_id": "90ccbf6b0f234130ad499553db0d2b38",
       "version_major": 2,
       "version_minor": 0
      },
      "text/plain": [
       "키워드 진행도:   0%|          | 0/56 [00:00<?, ?it/s]"
      ]
     },
     "metadata": {},
     "output_type": "display_data"
    },
    {
     "data": {
      "application/vnd.jupyter.widget-view+json": {
       "model_id": "a78c60117efe4ba284ca1ea070d59b67",
       "version_major": 2,
       "version_minor": 0
      },
      "text/plain": [
       "키워드 진행도:   0%|          | 0/36 [00:00<?, ?it/s]"
      ]
     },
     "metadata": {},
     "output_type": "display_data"
    },
    {
     "data": {
      "application/vnd.jupyter.widget-view+json": {
       "model_id": "f64368b81ca74667a1f5e432b6d4b2fa",
       "version_major": 2,
       "version_minor": 0
      },
      "text/plain": [
       "키워드 진행도:   0%|          | 0/27 [00:00<?, ?it/s]"
      ]
     },
     "metadata": {},
     "output_type": "display_data"
    },
    {
     "data": {
      "application/vnd.jupyter.widget-view+json": {
       "model_id": "dd6f725f4ef445ab8e7116f0e48da4f2",
       "version_major": 2,
       "version_minor": 0
      },
      "text/plain": [
       "키워드 진행도:   0%|          | 0/17 [00:00<?, ?it/s]"
      ]
     },
     "metadata": {},
     "output_type": "display_data"
    },
    {
     "data": {
      "application/vnd.jupyter.widget-view+json": {
       "model_id": "b0b192db27c640fcbaa46964ca8e42d7",
       "version_major": 2,
       "version_minor": 0
      },
      "text/plain": [
       "키워드 진행도:   0%|          | 0/32 [00:00<?, ?it/s]"
      ]
     },
     "metadata": {},
     "output_type": "display_data"
    },
    {
     "data": {
      "application/vnd.jupyter.widget-view+json": {
       "model_id": "ddd13fd827a64d8cbbf1f4a190e24a6d",
       "version_major": 2,
       "version_minor": 0
      },
      "text/plain": [
       "키워드 진행도:   0%|          | 0/15 [00:00<?, ?it/s]"
      ]
     },
     "metadata": {},
     "output_type": "display_data"
    },
    {
     "data": {
      "application/vnd.jupyter.widget-view+json": {
       "model_id": "e3baa541ce09426e8b2b2813f05da6a8",
       "version_major": 2,
       "version_minor": 0
      },
      "text/plain": [
       "키워드 진행도:   0%|          | 0/283 [00:00<?, ?it/s]"
      ]
     },
     "metadata": {},
     "output_type": "display_data"
    },
    {
     "data": {
      "application/vnd.jupyter.widget-view+json": {
       "model_id": "41b2274217284933a9779fb8b0c736a7",
       "version_major": 2,
       "version_minor": 0
      },
      "text/plain": [
       "키워드 진행도:   0%|          | 0/103 [00:00<?, ?it/s]"
      ]
     },
     "metadata": {},
     "output_type": "display_data"
    },
    {
     "data": {
      "application/vnd.jupyter.widget-view+json": {
       "model_id": "1c15d5bc23394a70a8917227ad3dcfa2",
       "version_major": 2,
       "version_minor": 0
      },
      "text/plain": [
       "키워드 진행도:   0%|          | 0/75 [00:00<?, ?it/s]"
      ]
     },
     "metadata": {},
     "output_type": "display_data"
    },
    {
     "data": {
      "application/vnd.jupyter.widget-view+json": {
       "model_id": "ac9e0f502a5748e3a77ce273ee546429",
       "version_major": 2,
       "version_minor": 0
      },
      "text/plain": [
       "키워드 진행도:   0%|          | 0/5 [00:00<?, ?it/s]"
      ]
     },
     "metadata": {},
     "output_type": "display_data"
    },
    {
     "data": {
      "application/vnd.jupyter.widget-view+json": {
       "model_id": "0bf84b4b36654c6d9b73d76d101ed11d",
       "version_major": 2,
       "version_minor": 0
      },
      "text/plain": [
       "키워드 진행도:   0%|          | 0/18 [00:00<?, ?it/s]"
      ]
     },
     "metadata": {},
     "output_type": "display_data"
    },
    {
     "data": {
      "application/vnd.jupyter.widget-view+json": {
       "model_id": "06ca94b7183c45bb949ba425c50fa882",
       "version_major": 2,
       "version_minor": 0
      },
      "text/plain": [
       "키워드 진행도:   0%|          | 0/98 [00:00<?, ?it/s]"
      ]
     },
     "metadata": {},
     "output_type": "display_data"
    },
    {
     "data": {
      "application/vnd.jupyter.widget-view+json": {
       "model_id": "548ecd7e78ab4c15893b0ddbb05a6322",
       "version_major": 2,
       "version_minor": 0
      },
      "text/plain": [
       "키워드 진행도:   0%|          | 0/11 [00:00<?, ?it/s]"
      ]
     },
     "metadata": {},
     "output_type": "display_data"
    },
    {
     "data": {
      "application/vnd.jupyter.widget-view+json": {
       "model_id": "de32280e4a104c64bf3be2e964c946a1",
       "version_major": 2,
       "version_minor": 0
      },
      "text/plain": [
       "키워드 진행도:   0%|          | 0/19 [00:00<?, ?it/s]"
      ]
     },
     "metadata": {},
     "output_type": "display_data"
    },
    {
     "data": {
      "application/vnd.jupyter.widget-view+json": {
       "model_id": "5055b25b984a4d78b99ba06c36a49e29",
       "version_major": 2,
       "version_minor": 0
      },
      "text/plain": [
       "키워드 진행도:   0%|          | 0/11 [00:00<?, ?it/s]"
      ]
     },
     "metadata": {},
     "output_type": "display_data"
    },
    {
     "data": {
      "application/vnd.jupyter.widget-view+json": {
       "model_id": "4e0d1ce9577a4bad9bfa8e0d16d7ac9c",
       "version_major": 2,
       "version_minor": 0
      },
      "text/plain": [
       "키워드 진행도:   0%|          | 0/36 [00:00<?, ?it/s]"
      ]
     },
     "metadata": {},
     "output_type": "display_data"
    },
    {
     "data": {
      "application/vnd.jupyter.widget-view+json": {
       "model_id": "3acee4a40a4c4e48a1369329d8eaadf0",
       "version_major": 2,
       "version_minor": 0
      },
      "text/plain": [
       "키워드 진행도:   0%|          | 0/56 [00:00<?, ?it/s]"
      ]
     },
     "metadata": {},
     "output_type": "display_data"
    },
    {
     "data": {
      "application/vnd.jupyter.widget-view+json": {
       "model_id": "77381a512f5347e7b497558a5b8d19ff",
       "version_major": 2,
       "version_minor": 0
      },
      "text/plain": [
       "키워드 진행도:   0%|          | 0/60 [00:00<?, ?it/s]"
      ]
     },
     "metadata": {},
     "output_type": "display_data"
    },
    {
     "data": {
      "application/vnd.jupyter.widget-view+json": {
       "model_id": "3b41f30ea1794ec8911a2771231ea321",
       "version_major": 2,
       "version_minor": 0
      },
      "text/plain": [
       "키워드 진행도:   0%|          | 0/11 [00:00<?, ?it/s]"
      ]
     },
     "metadata": {},
     "output_type": "display_data"
    },
    {
     "data": {
      "application/vnd.jupyter.widget-view+json": {
       "model_id": "44b31f3c9dbb46bfb80d3dc8bf8de39e",
       "version_major": 2,
       "version_minor": 0
      },
      "text/plain": [
       "키워드 진행도:   0%|          | 0/104 [00:00<?, ?it/s]"
      ]
     },
     "metadata": {},
     "output_type": "display_data"
    },
    {
     "data": {
      "application/vnd.jupyter.widget-view+json": {
       "model_id": "0bcbec62024648d99edc7f71a0398210",
       "version_major": 2,
       "version_minor": 0
      },
      "text/plain": [
       "키워드 진행도:   0%|          | 0/21 [00:00<?, ?it/s]"
      ]
     },
     "metadata": {},
     "output_type": "display_data"
    },
    {
     "data": {
      "application/vnd.jupyter.widget-view+json": {
       "model_id": "efcb46cbffe24a7f9ecd410140849b6d",
       "version_major": 2,
       "version_minor": 0
      },
      "text/plain": [
       "키워드 진행도:   0%|          | 0/61 [00:00<?, ?it/s]"
      ]
     },
     "metadata": {},
     "output_type": "display_data"
    },
    {
     "data": {
      "application/vnd.jupyter.widget-view+json": {
       "model_id": "155966b6598545b2b72fd8fe32e9ac8f",
       "version_major": 2,
       "version_minor": 0
      },
      "text/plain": [
       "키워드 진행도:   0%|          | 0/3 [00:00<?, ?it/s]"
      ]
     },
     "metadata": {},
     "output_type": "display_data"
    },
    {
     "data": {
      "application/vnd.jupyter.widget-view+json": {
       "model_id": "bca3ba506d7f47169bfab8090624e230",
       "version_major": 2,
       "version_minor": 0
      },
      "text/plain": [
       "키워드 진행도:   0%|          | 0/7 [00:00<?, ?it/s]"
      ]
     },
     "metadata": {},
     "output_type": "display_data"
    },
    {
     "data": {
      "application/vnd.jupyter.widget-view+json": {
       "model_id": "0918b77e28ce46d9a2449bbfde4d5f4e",
       "version_major": 2,
       "version_minor": 0
      },
      "text/plain": [
       "키워드 진행도:   0%|          | 0/61 [00:00<?, ?it/s]"
      ]
     },
     "metadata": {},
     "output_type": "display_data"
    },
    {
     "data": {
      "application/vnd.jupyter.widget-view+json": {
       "model_id": "e9ec02ef78e94e3aa97fce1c05795a0d",
       "version_major": 2,
       "version_minor": 0
      },
      "text/plain": [
       "키워드 진행도:   0%|          | 0/88 [00:00<?, ?it/s]"
      ]
     },
     "metadata": {},
     "output_type": "display_data"
    },
    {
     "data": {
      "application/vnd.jupyter.widget-view+json": {
       "model_id": "3c11d05d556c4af988e5cdd09c9c3904",
       "version_major": 2,
       "version_minor": 0
      },
      "text/plain": [
       "키워드 진행도:   0%|          | 0/35 [00:00<?, ?it/s]"
      ]
     },
     "metadata": {},
     "output_type": "display_data"
    },
    {
     "data": {
      "application/vnd.jupyter.widget-view+json": {
       "model_id": "be258e938f9a4389b5e7ba71c15f4f66",
       "version_major": 2,
       "version_minor": 0
      },
      "text/plain": [
       "키워드 진행도:   0%|          | 0/24 [00:00<?, ?it/s]"
      ]
     },
     "metadata": {},
     "output_type": "display_data"
    },
    {
     "data": {
      "application/vnd.jupyter.widget-view+json": {
       "model_id": "dee22dfef763409284744f669d70e08c",
       "version_major": 2,
       "version_minor": 0
      },
      "text/plain": [
       "키워드 진행도:   0%|          | 0/34 [00:00<?, ?it/s]"
      ]
     },
     "metadata": {},
     "output_type": "display_data"
    },
    {
     "data": {
      "application/vnd.jupyter.widget-view+json": {
       "model_id": "3dd79d93c7674ca592853ceabe990b81",
       "version_major": 2,
       "version_minor": 0
      },
      "text/plain": [
       "키워드 진행도: 0it [00:00, ?it/s]"
      ]
     },
     "metadata": {},
     "output_type": "display_data"
    },
    {
     "data": {
      "application/vnd.jupyter.widget-view+json": {
       "model_id": "a7fe5e007f744f68b45a4d61dc9634e1",
       "version_major": 2,
       "version_minor": 0
      },
      "text/plain": [
       "키워드 진행도:   0%|          | 0/17 [00:00<?, ?it/s]"
      ]
     },
     "metadata": {},
     "output_type": "display_data"
    },
    {
     "data": {
      "application/vnd.jupyter.widget-view+json": {
       "model_id": "8446df96c1414064bc30fa2e5454681b",
       "version_major": 2,
       "version_minor": 0
      },
      "text/plain": [
       "키워드 진행도:   0%|          | 0/57 [00:00<?, ?it/s]"
      ]
     },
     "metadata": {},
     "output_type": "display_data"
    },
    {
     "data": {
      "application/vnd.jupyter.widget-view+json": {
       "model_id": "d23ef1e221cf40d6b600ff833c2a2b42",
       "version_major": 2,
       "version_minor": 0
      },
      "text/plain": [
       "키워드 진행도:   0%|          | 0/11 [00:00<?, ?it/s]"
      ]
     },
     "metadata": {},
     "output_type": "display_data"
    },
    {
     "data": {
      "application/vnd.jupyter.widget-view+json": {
       "model_id": "75ec984d5b1b4436b7ded5fa3df7cb2b",
       "version_major": 2,
       "version_minor": 0
      },
      "text/plain": [
       "키워드 진행도:   0%|          | 0/14 [00:00<?, ?it/s]"
      ]
     },
     "metadata": {},
     "output_type": "display_data"
    },
    {
     "data": {
      "application/vnd.jupyter.widget-view+json": {
       "model_id": "aedb918875be4f9280d106bb5f81e4e5",
       "version_major": 2,
       "version_minor": 0
      },
      "text/plain": [
       "키워드 진행도:   0%|          | 0/4 [00:00<?, ?it/s]"
      ]
     },
     "metadata": {},
     "output_type": "display_data"
    },
    {
     "data": {
      "application/vnd.jupyter.widget-view+json": {
       "model_id": "7959f32b3b0346d3a5b64a8b22742351",
       "version_major": 2,
       "version_minor": 0
      },
      "text/plain": [
       "키워드 진행도:   0%|          | 0/4 [00:00<?, ?it/s]"
      ]
     },
     "metadata": {},
     "output_type": "display_data"
    },
    {
     "data": {
      "application/vnd.jupyter.widget-view+json": {
       "model_id": "d7d64e37927f4962986d708a9380b73a",
       "version_major": 2,
       "version_minor": 0
      },
      "text/plain": [
       "키워드 진행도:   0%|          | 0/5 [00:00<?, ?it/s]"
      ]
     },
     "metadata": {},
     "output_type": "display_data"
    },
    {
     "data": {
      "application/vnd.jupyter.widget-view+json": {
       "model_id": "33797339e6024a0c80742cc4d2636091",
       "version_major": 2,
       "version_minor": 0
      },
      "text/plain": [
       "키워드 진행도:   0%|          | 0/16 [00:00<?, ?it/s]"
      ]
     },
     "metadata": {},
     "output_type": "display_data"
    },
    {
     "data": {
      "application/vnd.jupyter.widget-view+json": {
       "model_id": "d0c5bdcc46ac4d7bb87a2360b1292aed",
       "version_major": 2,
       "version_minor": 0
      },
      "text/plain": [
       "키워드 진행도:   0%|          | 0/30 [00:00<?, ?it/s]"
      ]
     },
     "metadata": {},
     "output_type": "display_data"
    },
    {
     "data": {
      "application/vnd.jupyter.widget-view+json": {
       "model_id": "97e2c50310cc4d748ac6b58ab422624c",
       "version_major": 2,
       "version_minor": 0
      },
      "text/plain": [
       "키워드 진행도:   0%|          | 0/10 [00:00<?, ?it/s]"
      ]
     },
     "metadata": {},
     "output_type": "display_data"
    },
    {
     "data": {
      "application/vnd.jupyter.widget-view+json": {
       "model_id": "b42eff5435de4e9e8ada7b1ea80458e5",
       "version_major": 2,
       "version_minor": 0
      },
      "text/plain": [
       "키워드 진행도:   0%|          | 0/82 [00:00<?, ?it/s]"
      ]
     },
     "metadata": {},
     "output_type": "display_data"
    },
    {
     "data": {
      "application/vnd.jupyter.widget-view+json": {
       "model_id": "59cf4e3a7c3f4ee5809262a44784438c",
       "version_major": 2,
       "version_minor": 0
      },
      "text/plain": [
       "키워드 진행도:   0%|          | 0/23 [00:00<?, ?it/s]"
      ]
     },
     "metadata": {},
     "output_type": "display_data"
    },
    {
     "data": {
      "application/vnd.jupyter.widget-view+json": {
       "model_id": "b6a9f4f7deca49518293ed9fa54f80a6",
       "version_major": 2,
       "version_minor": 0
      },
      "text/plain": [
       "키워드 진행도:   0%|          | 0/8 [00:00<?, ?it/s]"
      ]
     },
     "metadata": {},
     "output_type": "display_data"
    },
    {
     "data": {
      "application/vnd.jupyter.widget-view+json": {
       "model_id": "1a461c1520c345a6b085204c55cdedba",
       "version_major": 2,
       "version_minor": 0
      },
      "text/plain": [
       "키워드 진행도:   0%|          | 0/20 [00:00<?, ?it/s]"
      ]
     },
     "metadata": {},
     "output_type": "display_data"
    },
    {
     "data": {
      "application/vnd.jupyter.widget-view+json": {
       "model_id": "434cea1363994dde9735fd36e0f51d9e",
       "version_major": 2,
       "version_minor": 0
      },
      "text/plain": [
       "키워드 진행도:   0%|          | 0/18 [00:00<?, ?it/s]"
      ]
     },
     "metadata": {},
     "output_type": "display_data"
    },
    {
     "data": {
      "application/vnd.jupyter.widget-view+json": {
       "model_id": "dfa42c76df4a44f0a5d55121dd2654d8",
       "version_major": 2,
       "version_minor": 0
      },
      "text/plain": [
       "키워드 진행도:   0%|          | 0/27 [00:00<?, ?it/s]"
      ]
     },
     "metadata": {},
     "output_type": "display_data"
    },
    {
     "data": {
      "application/vnd.jupyter.widget-view+json": {
       "model_id": "322104487a18442fad34b535a3cc3ca1",
       "version_major": 2,
       "version_minor": 0
      },
      "text/plain": [
       "키워드 진행도:   0%|          | 0/119 [00:00<?, ?it/s]"
      ]
     },
     "metadata": {},
     "output_type": "display_data"
    },
    {
     "data": {
      "application/vnd.jupyter.widget-view+json": {
       "model_id": "1ac221a97bcd42cab043d99269debebe",
       "version_major": 2,
       "version_minor": 0
      },
      "text/plain": [
       "키워드 진행도:   0%|          | 0/32 [00:00<?, ?it/s]"
      ]
     },
     "metadata": {},
     "output_type": "display_data"
    },
    {
     "data": {
      "application/vnd.jupyter.widget-view+json": {
       "model_id": "e4a5f123d7854ae6848a0beb8d08e69b",
       "version_major": 2,
       "version_minor": 0
      },
      "text/plain": [
       "키워드 진행도:   0%|          | 0/24 [00:00<?, ?it/s]"
      ]
     },
     "metadata": {},
     "output_type": "display_data"
    },
    {
     "data": {
      "application/vnd.jupyter.widget-view+json": {
       "model_id": "caed798b03bf4fdd900945324b84b73c",
       "version_major": 2,
       "version_minor": 0
      },
      "text/plain": [
       "키워드 진행도:   0%|          | 0/15 [00:00<?, ?it/s]"
      ]
     },
     "metadata": {},
     "output_type": "display_data"
    },
    {
     "data": {
      "application/vnd.jupyter.widget-view+json": {
       "model_id": "e33d49dd6be24e8ea3815f034f17e161",
       "version_major": 2,
       "version_minor": 0
      },
      "text/plain": [
       "키워드 진행도:   0%|          | 0/216 [00:00<?, ?it/s]"
      ]
     },
     "metadata": {},
     "output_type": "display_data"
    },
    {
     "data": {
      "application/vnd.jupyter.widget-view+json": {
       "model_id": "08ed1eb2b9b24331845db5f68f5eb6af",
       "version_major": 2,
       "version_minor": 0
      },
      "text/plain": [
       "키워드 진행도:   0%|          | 0/27 [00:00<?, ?it/s]"
      ]
     },
     "metadata": {},
     "output_type": "display_data"
    },
    {
     "data": {
      "application/vnd.jupyter.widget-view+json": {
       "model_id": "3b17e987738f4342b0dbf723c25aba16",
       "version_major": 2,
       "version_minor": 0
      },
      "text/plain": [
       "키워드 진행도:   0%|          | 0/16 [00:00<?, ?it/s]"
      ]
     },
     "metadata": {},
     "output_type": "display_data"
    },
    {
     "data": {
      "application/vnd.jupyter.widget-view+json": {
       "model_id": "8f7afba9ce6b45b1be5e3670f5da3d5b",
       "version_major": 2,
       "version_minor": 0
      },
      "text/plain": [
       "키워드 진행도:   0%|          | 0/6 [00:00<?, ?it/s]"
      ]
     },
     "metadata": {},
     "output_type": "display_data"
    },
    {
     "data": {
      "application/vnd.jupyter.widget-view+json": {
       "model_id": "837d43eaa4484f43af6e5c45e249bc74",
       "version_major": 2,
       "version_minor": 0
      },
      "text/plain": [
       "키워드 진행도:   0%|          | 0/85 [00:00<?, ?it/s]"
      ]
     },
     "metadata": {},
     "output_type": "display_data"
    },
    {
     "data": {
      "application/vnd.jupyter.widget-view+json": {
       "model_id": "006a925f57ba4834ab930445509ed9ed",
       "version_major": 2,
       "version_minor": 0
      },
      "text/plain": [
       "키워드 진행도:   0%|          | 0/65 [00:00<?, ?it/s]"
      ]
     },
     "metadata": {},
     "output_type": "display_data"
    },
    {
     "data": {
      "application/vnd.jupyter.widget-view+json": {
       "model_id": "c881aaf0396c45d3bf49be1613284955",
       "version_major": 2,
       "version_minor": 0
      },
      "text/plain": [
       "키워드 진행도:   0%|          | 0/30 [00:00<?, ?it/s]"
      ]
     },
     "metadata": {},
     "output_type": "display_data"
    },
    {
     "data": {
      "application/vnd.jupyter.widget-view+json": {
       "model_id": "ee5a8018507b45f4b1ab471e0bb4ee1c",
       "version_major": 2,
       "version_minor": 0
      },
      "text/plain": [
       "키워드 진행도:   0%|          | 0/51 [00:00<?, ?it/s]"
      ]
     },
     "metadata": {},
     "output_type": "display_data"
    },
    {
     "data": {
      "application/vnd.jupyter.widget-view+json": {
       "model_id": "2d7bf9314b8945839b3892399b2f2649",
       "version_major": 2,
       "version_minor": 0
      },
      "text/plain": [
       "키워드 진행도:   0%|          | 0/6 [00:00<?, ?it/s]"
      ]
     },
     "metadata": {},
     "output_type": "display_data"
    },
    {
     "data": {
      "application/vnd.jupyter.widget-view+json": {
       "model_id": "0d3b99f6172a4ae8bc75a9a15610b273",
       "version_major": 2,
       "version_minor": 0
      },
      "text/plain": [
       "키워드 진행도:   0%|          | 0/19 [00:00<?, ?it/s]"
      ]
     },
     "metadata": {},
     "output_type": "display_data"
    },
    {
     "data": {
      "application/vnd.jupyter.widget-view+json": {
       "model_id": "61e94698e2204900828406e9c781a5a5",
       "version_major": 2,
       "version_minor": 0
      },
      "text/plain": [
       "키워드 진행도:   0%|          | 0/17 [00:00<?, ?it/s]"
      ]
     },
     "metadata": {},
     "output_type": "display_data"
    },
    {
     "data": {
      "application/vnd.jupyter.widget-view+json": {
       "model_id": "111a7e187c5144d6baaef5c2cd521363",
       "version_major": 2,
       "version_minor": 0
      },
      "text/plain": [
       "키워드 진행도:   0%|          | 0/2 [00:00<?, ?it/s]"
      ]
     },
     "metadata": {},
     "output_type": "display_data"
    },
    {
     "data": {
      "application/vnd.jupyter.widget-view+json": {
       "model_id": "355c589a5e26434fac3a4b4c43592f46",
       "version_major": 2,
       "version_minor": 0
      },
      "text/plain": [
       "키워드 진행도:   0%|          | 0/15 [00:00<?, ?it/s]"
      ]
     },
     "metadata": {},
     "output_type": "display_data"
    },
    {
     "data": {
      "application/vnd.jupyter.widget-view+json": {
       "model_id": "11c5cd46ec6a442ca872d53c44b75658",
       "version_major": 2,
       "version_minor": 0
      },
      "text/plain": [
       "키워드 진행도:   0%|          | 0/11 [00:00<?, ?it/s]"
      ]
     },
     "metadata": {},
     "output_type": "display_data"
    },
    {
     "data": {
      "application/vnd.jupyter.widget-view+json": {
       "model_id": "b3250193f1a94731b79cd1da664528de",
       "version_major": 2,
       "version_minor": 0
      },
      "text/plain": [
       "키워드 진행도:   0%|          | 0/219 [00:00<?, ?it/s]"
      ]
     },
     "metadata": {},
     "output_type": "display_data"
    },
    {
     "data": {
      "application/vnd.jupyter.widget-view+json": {
       "model_id": "d866e26512534decbb67028bb608016a",
       "version_major": 2,
       "version_minor": 0
      },
      "text/plain": [
       "키워드 진행도:   0%|          | 0/32 [00:00<?, ?it/s]"
      ]
     },
     "metadata": {},
     "output_type": "display_data"
    },
    {
     "data": {
      "application/vnd.jupyter.widget-view+json": {
       "model_id": "eb65d73a5fcf4f58b214734a9de5d1e1",
       "version_major": 2,
       "version_minor": 0
      },
      "text/plain": [
       "키워드 진행도:   0%|          | 0/154 [00:00<?, ?it/s]"
      ]
     },
     "metadata": {},
     "output_type": "display_data"
    },
    {
     "data": {
      "application/vnd.jupyter.widget-view+json": {
       "model_id": "df8250dadf554be992b2f946ff0d1fe7",
       "version_major": 2,
       "version_minor": 0
      },
      "text/plain": [
       "키워드 진행도:   0%|          | 0/39 [00:00<?, ?it/s]"
      ]
     },
     "metadata": {},
     "output_type": "display_data"
    },
    {
     "data": {
      "application/vnd.jupyter.widget-view+json": {
       "model_id": "cb3051d6c0024aa39456856e67f827a7",
       "version_major": 2,
       "version_minor": 0
      },
      "text/plain": [
       "키워드 진행도:   0%|          | 0/20 [00:00<?, ?it/s]"
      ]
     },
     "metadata": {},
     "output_type": "display_data"
    },
    {
     "data": {
      "application/vnd.jupyter.widget-view+json": {
       "model_id": "96629ffd8aa4413aa98774e30ed63041",
       "version_major": 2,
       "version_minor": 0
      },
      "text/plain": [
       "키워드 진행도:   0%|          | 0/9 [00:00<?, ?it/s]"
      ]
     },
     "metadata": {},
     "output_type": "display_data"
    },
    {
     "data": {
      "application/vnd.jupyter.widget-view+json": {
       "model_id": "b1ed9ab871664218a4fa20227c60c67b",
       "version_major": 2,
       "version_minor": 0
      },
      "text/plain": [
       "키워드 진행도:   0%|          | 0/21 [00:00<?, ?it/s]"
      ]
     },
     "metadata": {},
     "output_type": "display_data"
    },
    {
     "data": {
      "application/vnd.jupyter.widget-view+json": {
       "model_id": "8c33d089ffc8495dbad881b2f351f968",
       "version_major": 2,
       "version_minor": 0
      },
      "text/plain": [
       "키워드 진행도:   0%|          | 0/14 [00:00<?, ?it/s]"
      ]
     },
     "metadata": {},
     "output_type": "display_data"
    },
    {
     "data": {
      "application/vnd.jupyter.widget-view+json": {
       "model_id": "325551e81ebd4e3190f3e5ae0d6464f6",
       "version_major": 2,
       "version_minor": 0
      },
      "text/plain": [
       "키워드 진행도:   0%|          | 0/14 [00:00<?, ?it/s]"
      ]
     },
     "metadata": {},
     "output_type": "display_data"
    },
    {
     "data": {
      "application/vnd.jupyter.widget-view+json": {
       "model_id": "00a0da756a2c429fb8055abd23ac154d",
       "version_major": 2,
       "version_minor": 0
      },
      "text/plain": [
       "키워드 진행도:   0%|          | 0/4 [00:00<?, ?it/s]"
      ]
     },
     "metadata": {},
     "output_type": "display_data"
    },
    {
     "data": {
      "application/vnd.jupyter.widget-view+json": {
       "model_id": "4d8bc928a1e3400fa577921a1993741e",
       "version_major": 2,
       "version_minor": 0
      },
      "text/plain": [
       "키워드 진행도:   0%|          | 0/76 [00:00<?, ?it/s]"
      ]
     },
     "metadata": {},
     "output_type": "display_data"
    },
    {
     "data": {
      "application/vnd.jupyter.widget-view+json": {
       "model_id": "f29cc74898264c489ef0ab351249826e",
       "version_major": 2,
       "version_minor": 0
      },
      "text/plain": [
       "키워드 진행도:   0%|          | 0/8 [00:00<?, ?it/s]"
      ]
     },
     "metadata": {},
     "output_type": "display_data"
    },
    {
     "data": {
      "application/vnd.jupyter.widget-view+json": {
       "model_id": "1b974c5a26d04383a7ab36edd8befc3f",
       "version_major": 2,
       "version_minor": 0
      },
      "text/plain": [
       "키워드 진행도:   0%|          | 0/41 [00:00<?, ?it/s]"
      ]
     },
     "metadata": {},
     "output_type": "display_data"
    },
    {
     "data": {
      "application/vnd.jupyter.widget-view+json": {
       "model_id": "749feb670fc84bb8bab0c9c458f44658",
       "version_major": 2,
       "version_minor": 0
      },
      "text/plain": [
       "키워드 진행도:   0%|          | 0/33 [00:00<?, ?it/s]"
      ]
     },
     "metadata": {},
     "output_type": "display_data"
    },
    {
     "data": {
      "application/vnd.jupyter.widget-view+json": {
       "model_id": "eac359cba2384635bfb6cfe1630d9770",
       "version_major": 2,
       "version_minor": 0
      },
      "text/plain": [
       "키워드 진행도:   0%|          | 0/12 [00:00<?, ?it/s]"
      ]
     },
     "metadata": {},
     "output_type": "display_data"
    },
    {
     "data": {
      "application/vnd.jupyter.widget-view+json": {
       "model_id": "85a9d4a219274022b2d625df611c4249",
       "version_major": 2,
       "version_minor": 0
      },
      "text/plain": [
       "키워드 진행도:   0%|          | 0/52 [00:00<?, ?it/s]"
      ]
     },
     "metadata": {},
     "output_type": "display_data"
    },
    {
     "data": {
      "application/vnd.jupyter.widget-view+json": {
       "model_id": "ccc2938e1797490488866309cb4741ee",
       "version_major": 2,
       "version_minor": 0
      },
      "text/plain": [
       "키워드 진행도:   0%|          | 0/32 [00:00<?, ?it/s]"
      ]
     },
     "metadata": {},
     "output_type": "display_data"
    },
    {
     "data": {
      "application/vnd.jupyter.widget-view+json": {
       "model_id": "c120bd22cb2849c09ef51dc6289dc982",
       "version_major": 2,
       "version_minor": 0
      },
      "text/plain": [
       "키워드 진행도:   0%|          | 0/23 [00:00<?, ?it/s]"
      ]
     },
     "metadata": {},
     "output_type": "display_data"
    },
    {
     "data": {
      "application/vnd.jupyter.widget-view+json": {
       "model_id": "4abdf2737d38467abf582e67b7729316",
       "version_major": 2,
       "version_minor": 0
      },
      "text/plain": [
       "키워드 진행도:   0%|          | 0/10 [00:00<?, ?it/s]"
      ]
     },
     "metadata": {},
     "output_type": "display_data"
    },
    {
     "data": {
      "application/vnd.jupyter.widget-view+json": {
       "model_id": "dca84a3026e7459387cff527f5940e45",
       "version_major": 2,
       "version_minor": 0
      },
      "text/plain": [
       "키워드 진행도:   0%|          | 0/32 [00:00<?, ?it/s]"
      ]
     },
     "metadata": {},
     "output_type": "display_data"
    },
    {
     "data": {
      "application/vnd.jupyter.widget-view+json": {
       "model_id": "0cc572bac8de47d0a9dbab32a4b9f88d",
       "version_major": 2,
       "version_minor": 0
      },
      "text/plain": [
       "키워드 진행도:   0%|          | 0/38 [00:00<?, ?it/s]"
      ]
     },
     "metadata": {},
     "output_type": "display_data"
    },
    {
     "data": {
      "application/vnd.jupyter.widget-view+json": {
       "model_id": "9ba83b01384a4e64bd657132e85d5974",
       "version_major": 2,
       "version_minor": 0
      },
      "text/plain": [
       "키워드 진행도:   0%|          | 0/8 [00:00<?, ?it/s]"
      ]
     },
     "metadata": {},
     "output_type": "display_data"
    },
    {
     "data": {
      "application/vnd.jupyter.widget-view+json": {
       "model_id": "2a806e14536a4ef2a99efc4ee856642d",
       "version_major": 2,
       "version_minor": 0
      },
      "text/plain": [
       "키워드 진행도:   0%|          | 0/114 [00:00<?, ?it/s]"
      ]
     },
     "metadata": {},
     "output_type": "display_data"
    },
    {
     "data": {
      "application/vnd.jupyter.widget-view+json": {
       "model_id": "23807055254e46b78134d3cb48be7684",
       "version_major": 2,
       "version_minor": 0
      },
      "text/plain": [
       "키워드 진행도:   0%|          | 0/65 [00:00<?, ?it/s]"
      ]
     },
     "metadata": {},
     "output_type": "display_data"
    },
    {
     "data": {
      "application/vnd.jupyter.widget-view+json": {
       "model_id": "7c346cf788554fb5828106e4c75ab73d",
       "version_major": 2,
       "version_minor": 0
      },
      "text/plain": [
       "키워드 진행도:   0%|          | 0/79 [00:00<?, ?it/s]"
      ]
     },
     "metadata": {},
     "output_type": "display_data"
    },
    {
     "data": {
      "application/vnd.jupyter.widget-view+json": {
       "model_id": "d27691594f5c4976a06a5b88d834edf2",
       "version_major": 2,
       "version_minor": 0
      },
      "text/plain": [
       "키워드 진행도:   0%|          | 0/227 [00:00<?, ?it/s]"
      ]
     },
     "metadata": {},
     "output_type": "display_data"
    },
    {
     "data": {
      "application/vnd.jupyter.widget-view+json": {
       "model_id": "8ddf62f8594a48bcb1e5392a01d1df2e",
       "version_major": 2,
       "version_minor": 0
      },
      "text/plain": [
       "키워드 진행도:   0%|          | 0/49 [00:00<?, ?it/s]"
      ]
     },
     "metadata": {},
     "output_type": "display_data"
    },
    {
     "data": {
      "application/vnd.jupyter.widget-view+json": {
       "model_id": "c71f2d511f884be78f53aaa78963d183",
       "version_major": 2,
       "version_minor": 0
      },
      "text/plain": [
       "키워드 진행도:   0%|          | 0/42 [00:00<?, ?it/s]"
      ]
     },
     "metadata": {},
     "output_type": "display_data"
    },
    {
     "data": {
      "application/vnd.jupyter.widget-view+json": {
       "model_id": "6377f3df91b5487c8b369cce080b18f3",
       "version_major": 2,
       "version_minor": 0
      },
      "text/plain": [
       "키워드 진행도:   0%|          | 0/136 [00:00<?, ?it/s]"
      ]
     },
     "metadata": {},
     "output_type": "display_data"
    },
    {
     "data": {
      "application/vnd.jupyter.widget-view+json": {
       "model_id": "445f5eea8860447ab99e0ea9817c605c",
       "version_major": 2,
       "version_minor": 0
      },
      "text/plain": [
       "키워드 진행도:   0%|          | 0/25 [00:00<?, ?it/s]"
      ]
     },
     "metadata": {},
     "output_type": "display_data"
    },
    {
     "data": {
      "application/vnd.jupyter.widget-view+json": {
       "model_id": "709bc7c59af9482f892cbd3f0571b159",
       "version_major": 2,
       "version_minor": 0
      },
      "text/plain": [
       "키워드 진행도:   0%|          | 0/11 [00:00<?, ?it/s]"
      ]
     },
     "metadata": {},
     "output_type": "display_data"
    },
    {
     "data": {
      "application/vnd.jupyter.widget-view+json": {
       "model_id": "b1bacc6d62864e80aac90cecca00b206",
       "version_major": 2,
       "version_minor": 0
      },
      "text/plain": [
       "키워드 진행도:   0%|          | 0/50 [00:00<?, ?it/s]"
      ]
     },
     "metadata": {},
     "output_type": "display_data"
    },
    {
     "data": {
      "application/vnd.jupyter.widget-view+json": {
       "model_id": "6536b6ff980a4996b26d79909ad05359",
       "version_major": 2,
       "version_minor": 0
      },
      "text/plain": [
       "키워드 진행도:   0%|          | 0/181 [00:00<?, ?it/s]"
      ]
     },
     "metadata": {},
     "output_type": "display_data"
    },
    {
     "data": {
      "application/vnd.jupyter.widget-view+json": {
       "model_id": "998b085b322a468ca0ad3d4a693050b8",
       "version_major": 2,
       "version_minor": 0
      },
      "text/plain": [
       "키워드 진행도:   0%|          | 0/32 [00:00<?, ?it/s]"
      ]
     },
     "metadata": {},
     "output_type": "display_data"
    },
    {
     "data": {
      "application/vnd.jupyter.widget-view+json": {
       "model_id": "d81b6346a4364f659d44268082fdf241",
       "version_major": 2,
       "version_minor": 0
      },
      "text/plain": [
       "키워드 진행도:   0%|          | 0/124 [00:00<?, ?it/s]"
      ]
     },
     "metadata": {},
     "output_type": "display_data"
    },
    {
     "data": {
      "application/vnd.jupyter.widget-view+json": {
       "model_id": "d79d867858114759b59ff691536dd0b1",
       "version_major": 2,
       "version_minor": 0
      },
      "text/plain": [
       "키워드 진행도:   0%|          | 0/26 [00:00<?, ?it/s]"
      ]
     },
     "metadata": {},
     "output_type": "display_data"
    },
    {
     "data": {
      "application/vnd.jupyter.widget-view+json": {
       "model_id": "f274d4f1e687459b964d13a9c3232b57",
       "version_major": 2,
       "version_minor": 0
      },
      "text/plain": [
       "키워드 진행도:   0%|          | 0/47 [00:00<?, ?it/s]"
      ]
     },
     "metadata": {},
     "output_type": "display_data"
    },
    {
     "data": {
      "application/vnd.jupyter.widget-view+json": {
       "model_id": "529d9165317e480c9f1e7e83725a5cbc",
       "version_major": 2,
       "version_minor": 0
      },
      "text/plain": [
       "키워드 진행도:   0%|          | 0/38 [00:00<?, ?it/s]"
      ]
     },
     "metadata": {},
     "output_type": "display_data"
    },
    {
     "data": {
      "application/vnd.jupyter.widget-view+json": {
       "model_id": "3db822810df84dae8ec5ec05c5365ccc",
       "version_major": 2,
       "version_minor": 0
      },
      "text/plain": [
       "키워드 진행도:   0%|          | 0/34 [00:00<?, ?it/s]"
      ]
     },
     "metadata": {},
     "output_type": "display_data"
    },
    {
     "data": {
      "application/vnd.jupyter.widget-view+json": {
       "model_id": "2299321a1cd04166915c8f093241c76b",
       "version_major": 2,
       "version_minor": 0
      },
      "text/plain": [
       "키워드 진행도:   0%|          | 0/64 [00:00<?, ?it/s]"
      ]
     },
     "metadata": {},
     "output_type": "display_data"
    },
    {
     "data": {
      "application/vnd.jupyter.widget-view+json": {
       "model_id": "0d3af4f9e6064a3da25aadb1b7f72dba",
       "version_major": 2,
       "version_minor": 0
      },
      "text/plain": [
       "키워드 진행도:   0%|          | 0/54 [00:00<?, ?it/s]"
      ]
     },
     "metadata": {},
     "output_type": "display_data"
    },
    {
     "data": {
      "application/vnd.jupyter.widget-view+json": {
       "model_id": "f332ae5fa6f44ce5b713f7da6a4d8277",
       "version_major": 2,
       "version_minor": 0
      },
      "text/plain": [
       "키워드 진행도:   0%|          | 0/18 [00:00<?, ?it/s]"
      ]
     },
     "metadata": {},
     "output_type": "display_data"
    },
    {
     "data": {
      "application/vnd.jupyter.widget-view+json": {
       "model_id": "2b237dc2cd7d4dd296856939d6b97878",
       "version_major": 2,
       "version_minor": 0
      },
      "text/plain": [
       "키워드 진행도:   0%|          | 0/49 [00:00<?, ?it/s]"
      ]
     },
     "metadata": {},
     "output_type": "display_data"
    },
    {
     "data": {
      "application/vnd.jupyter.widget-view+json": {
       "model_id": "d015528dd6324e9d9978f19d149d7609",
       "version_major": 2,
       "version_minor": 0
      },
      "text/plain": [
       "키워드 진행도:   0%|          | 0/100 [00:00<?, ?it/s]"
      ]
     },
     "metadata": {},
     "output_type": "display_data"
    },
    {
     "data": {
      "application/vnd.jupyter.widget-view+json": {
       "model_id": "aeb3c382f3de4ca688dfcf31c39de324",
       "version_major": 2,
       "version_minor": 0
      },
      "text/plain": [
       "키워드 진행도:   0%|          | 0/19 [00:00<?, ?it/s]"
      ]
     },
     "metadata": {},
     "output_type": "display_data"
    },
    {
     "data": {
      "application/vnd.jupyter.widget-view+json": {
       "model_id": "f24cb59e09f44991a547d5b97b5cd2b1",
       "version_major": 2,
       "version_minor": 0
      },
      "text/plain": [
       "키워드 진행도:   0%|          | 0/23 [00:00<?, ?it/s]"
      ]
     },
     "metadata": {},
     "output_type": "display_data"
    },
    {
     "data": {
      "application/vnd.jupyter.widget-view+json": {
       "model_id": "eb8abf388c324e179d2098cbbf39fb28",
       "version_major": 2,
       "version_minor": 0
      },
      "text/plain": [
       "키워드 진행도:   0%|          | 0/8 [00:00<?, ?it/s]"
      ]
     },
     "metadata": {},
     "output_type": "display_data"
    },
    {
     "data": {
      "application/vnd.jupyter.widget-view+json": {
       "model_id": "87c146d2a17246ea97b29a865955dde5",
       "version_major": 2,
       "version_minor": 0
      },
      "text/plain": [
       "키워드 진행도:   0%|          | 0/38 [00:00<?, ?it/s]"
      ]
     },
     "metadata": {},
     "output_type": "display_data"
    },
    {
     "data": {
      "application/vnd.jupyter.widget-view+json": {
       "model_id": "41c7cbde14fc4deba7fdc78655c3ae6f",
       "version_major": 2,
       "version_minor": 0
      },
      "text/plain": [
       "키워드 진행도:   0%|          | 0/2 [00:00<?, ?it/s]"
      ]
     },
     "metadata": {},
     "output_type": "display_data"
    },
    {
     "data": {
      "application/vnd.jupyter.widget-view+json": {
       "model_id": "74efd21037e54eb8b2705c471c4292b4",
       "version_major": 2,
       "version_minor": 0
      },
      "text/plain": [
       "키워드 진행도: 0it [00:00, ?it/s]"
      ]
     },
     "metadata": {},
     "output_type": "display_data"
    },
    {
     "data": {
      "application/vnd.jupyter.widget-view+json": {
       "model_id": "26e3b5eb30e74faeaded9c54f89ce670",
       "version_major": 2,
       "version_minor": 0
      },
      "text/plain": [
       "키워드 진행도:   0%|          | 0/30 [00:00<?, ?it/s]"
      ]
     },
     "metadata": {},
     "output_type": "display_data"
    },
    {
     "data": {
      "application/vnd.jupyter.widget-view+json": {
       "model_id": "a6c858d346bb411da0ad651b7cb93a5d",
       "version_major": 2,
       "version_minor": 0
      },
      "text/plain": [
       "키워드 진행도: 0it [00:00, ?it/s]"
      ]
     },
     "metadata": {},
     "output_type": "display_data"
    },
    {
     "data": {
      "application/vnd.jupyter.widget-view+json": {
       "model_id": "a94beb7e5f7c4132829c88488eeda9b2",
       "version_major": 2,
       "version_minor": 0
      },
      "text/plain": [
       "키워드 진행도:   0%|          | 0/36 [00:00<?, ?it/s]"
      ]
     },
     "metadata": {},
     "output_type": "display_data"
    },
    {
     "data": {
      "application/vnd.jupyter.widget-view+json": {
       "model_id": "9c13e6d936b042ae9597827a855174c0",
       "version_major": 2,
       "version_minor": 0
      },
      "text/plain": [
       "키워드 진행도:   0%|          | 0/21 [00:00<?, ?it/s]"
      ]
     },
     "metadata": {},
     "output_type": "display_data"
    },
    {
     "data": {
      "application/vnd.jupyter.widget-view+json": {
       "model_id": "c2b644c704824bf5b9fe5f4ae0a938f0",
       "version_major": 2,
       "version_minor": 0
      },
      "text/plain": [
       "키워드 진행도:   0%|          | 0/17 [00:00<?, ?it/s]"
      ]
     },
     "metadata": {},
     "output_type": "display_data"
    },
    {
     "data": {
      "application/vnd.jupyter.widget-view+json": {
       "model_id": "d6db8ab569c2441b98a85e0044f2d3a3",
       "version_major": 2,
       "version_minor": 0
      },
      "text/plain": [
       "키워드 진행도:   0%|          | 0/18 [00:00<?, ?it/s]"
      ]
     },
     "metadata": {},
     "output_type": "display_data"
    },
    {
     "data": {
      "application/vnd.jupyter.widget-view+json": {
       "model_id": "7d016a11dd324d4e97379e21b91e4d91",
       "version_major": 2,
       "version_minor": 0
      },
      "text/plain": [
       "키워드 진행도:   0%|          | 0/10 [00:00<?, ?it/s]"
      ]
     },
     "metadata": {},
     "output_type": "display_data"
    },
    {
     "data": {
      "application/vnd.jupyter.widget-view+json": {
       "model_id": "9b70dccd9d9345a7872dda5ac082910b",
       "version_major": 2,
       "version_minor": 0
      },
      "text/plain": [
       "키워드 진행도:   0%|          | 0/18 [00:00<?, ?it/s]"
      ]
     },
     "metadata": {},
     "output_type": "display_data"
    },
    {
     "data": {
      "application/vnd.jupyter.widget-view+json": {
       "model_id": "9fefdbc749ac4b2f8da390731ef0dee4",
       "version_major": 2,
       "version_minor": 0
      },
      "text/plain": [
       "키워드 진행도:   0%|          | 0/3 [00:00<?, ?it/s]"
      ]
     },
     "metadata": {},
     "output_type": "display_data"
    },
    {
     "data": {
      "application/vnd.jupyter.widget-view+json": {
       "model_id": "e83d8819e0c94ce391b20c3eb4d1b36c",
       "version_major": 2,
       "version_minor": 0
      },
      "text/plain": [
       "키워드 진행도:   0%|          | 0/23 [00:00<?, ?it/s]"
      ]
     },
     "metadata": {},
     "output_type": "display_data"
    },
    {
     "data": {
      "application/vnd.jupyter.widget-view+json": {
       "model_id": "4b9a8d965b6146c3b691e7b9b76ceb90",
       "version_major": 2,
       "version_minor": 0
      },
      "text/plain": [
       "키워드 진행도:   0%|          | 0/23 [00:00<?, ?it/s]"
      ]
     },
     "metadata": {},
     "output_type": "display_data"
    },
    {
     "data": {
      "application/vnd.jupyter.widget-view+json": {
       "model_id": "8a517957a879471692f7a772ca9bd14e",
       "version_major": 2,
       "version_minor": 0
      },
      "text/plain": [
       "키워드 진행도:   0%|          | 0/73 [00:00<?, ?it/s]"
      ]
     },
     "metadata": {},
     "output_type": "display_data"
    },
    {
     "data": {
      "application/vnd.jupyter.widget-view+json": {
       "model_id": "eac3038fd6d2483e80d3887ffaa3b821",
       "version_major": 2,
       "version_minor": 0
      },
      "text/plain": [
       "키워드 진행도:   0%|          | 0/10 [00:00<?, ?it/s]"
      ]
     },
     "metadata": {},
     "output_type": "display_data"
    },
    {
     "data": {
      "application/vnd.jupyter.widget-view+json": {
       "model_id": "4a6377a792e840f6a6849859a6114384",
       "version_major": 2,
       "version_minor": 0
      },
      "text/plain": [
       "키워드 진행도:   0%|          | 0/7 [00:00<?, ?it/s]"
      ]
     },
     "metadata": {},
     "output_type": "display_data"
    },
    {
     "data": {
      "application/vnd.jupyter.widget-view+json": {
       "model_id": "5dbc171988344f4b92ed2fe4aab3b4b4",
       "version_major": 2,
       "version_minor": 0
      },
      "text/plain": [
       "키워드 진행도:   0%|          | 0/20 [00:00<?, ?it/s]"
      ]
     },
     "metadata": {},
     "output_type": "display_data"
    },
    {
     "data": {
      "application/vnd.jupyter.widget-view+json": {
       "model_id": "6e40296c2da647e6a2ef6650a615b27c",
       "version_major": 2,
       "version_minor": 0
      },
      "text/plain": [
       "키워드 진행도:   0%|          | 0/14 [00:00<?, ?it/s]"
      ]
     },
     "metadata": {},
     "output_type": "display_data"
    },
    {
     "data": {
      "application/vnd.jupyter.widget-view+json": {
       "model_id": "22f670f4e0654908922c11726dfb585f",
       "version_major": 2,
       "version_minor": 0
      },
      "text/plain": [
       "키워드 진행도:   0%|          | 0/10 [00:00<?, ?it/s]"
      ]
     },
     "metadata": {},
     "output_type": "display_data"
    },
    {
     "data": {
      "application/vnd.jupyter.widget-view+json": {
       "model_id": "41319fcc59fd4d5ab6f20f41cd965d8e",
       "version_major": 2,
       "version_minor": 0
      },
      "text/plain": [
       "키워드 진행도:   0%|          | 0/9 [00:00<?, ?it/s]"
      ]
     },
     "metadata": {},
     "output_type": "display_data"
    },
    {
     "data": {
      "application/vnd.jupyter.widget-view+json": {
       "model_id": "1e28dba722f54733930a8c6577d3d24d",
       "version_major": 2,
       "version_minor": 0
      },
      "text/plain": [
       "키워드 진행도:   0%|          | 0/123 [00:00<?, ?it/s]"
      ]
     },
     "metadata": {},
     "output_type": "display_data"
    },
    {
     "data": {
      "application/vnd.jupyter.widget-view+json": {
       "model_id": "4fb7165d17dc4e6dad7f8dd998b2bcb9",
       "version_major": 2,
       "version_minor": 0
      },
      "text/plain": [
       "키워드 진행도:   0%|          | 0/12 [00:00<?, ?it/s]"
      ]
     },
     "metadata": {},
     "output_type": "display_data"
    },
    {
     "data": {
      "application/vnd.jupyter.widget-view+json": {
       "model_id": "87969045eae649669369b1546548c845",
       "version_major": 2,
       "version_minor": 0
      },
      "text/plain": [
       "키워드 진행도:   0%|          | 0/42 [00:00<?, ?it/s]"
      ]
     },
     "metadata": {},
     "output_type": "display_data"
    },
    {
     "data": {
      "application/vnd.jupyter.widget-view+json": {
       "model_id": "ec30bae161994116853d9243fd8343ad",
       "version_major": 2,
       "version_minor": 0
      },
      "text/plain": [
       "키워드 진행도:   0%|          | 0/38 [00:00<?, ?it/s]"
      ]
     },
     "metadata": {},
     "output_type": "display_data"
    },
    {
     "data": {
      "application/vnd.jupyter.widget-view+json": {
       "model_id": "0ea794e4dd2e4d7ab961abfc02842b9c",
       "version_major": 2,
       "version_minor": 0
      },
      "text/plain": [
       "키워드 진행도:   0%|          | 0/27 [00:00<?, ?it/s]"
      ]
     },
     "metadata": {},
     "output_type": "display_data"
    },
    {
     "data": {
      "application/vnd.jupyter.widget-view+json": {
       "model_id": "fa8f7fd890df4a0e859f946eec7e2b18",
       "version_major": 2,
       "version_minor": 0
      },
      "text/plain": [
       "키워드 진행도:   0%|          | 0/82 [00:00<?, ?it/s]"
      ]
     },
     "metadata": {},
     "output_type": "display_data"
    },
    {
     "data": {
      "application/vnd.jupyter.widget-view+json": {
       "model_id": "897d3e30597f4961859425a6d1a9d6e5",
       "version_major": 2,
       "version_minor": 0
      },
      "text/plain": [
       "키워드 진행도:   0%|          | 0/10 [00:00<?, ?it/s]"
      ]
     },
     "metadata": {},
     "output_type": "display_data"
    },
    {
     "data": {
      "application/vnd.jupyter.widget-view+json": {
       "model_id": "ee0257f939244a9f86abfd4fea019498",
       "version_major": 2,
       "version_minor": 0
      },
      "text/plain": [
       "키워드 진행도:   0%|          | 0/9 [00:00<?, ?it/s]"
      ]
     },
     "metadata": {},
     "output_type": "display_data"
    },
    {
     "data": {
      "application/vnd.jupyter.widget-view+json": {
       "model_id": "56b92e72594f4b5c994631612d192ccb",
       "version_major": 2,
       "version_minor": 0
      },
      "text/plain": [
       "키워드 진행도:   0%|          | 0/3 [00:00<?, ?it/s]"
      ]
     },
     "metadata": {},
     "output_type": "display_data"
    },
    {
     "data": {
      "application/vnd.jupyter.widget-view+json": {
       "model_id": "ae3430078b0a4af28ef4980524e1155e",
       "version_major": 2,
       "version_minor": 0
      },
      "text/plain": [
       "키워드 진행도:   0%|          | 0/29 [00:00<?, ?it/s]"
      ]
     },
     "metadata": {},
     "output_type": "display_data"
    },
    {
     "data": {
      "application/vnd.jupyter.widget-view+json": {
       "model_id": "67849aa3d2394f0f984cb081fe46bc34",
       "version_major": 2,
       "version_minor": 0
      },
      "text/plain": [
       "키워드 진행도:   0%|          | 0/36 [00:00<?, ?it/s]"
      ]
     },
     "metadata": {},
     "output_type": "display_data"
    },
    {
     "data": {
      "application/vnd.jupyter.widget-view+json": {
       "model_id": "f03dade20bce454c8f8333c7a8c7961a",
       "version_major": 2,
       "version_minor": 0
      },
      "text/plain": [
       "키워드 진행도:   0%|          | 0/92 [00:00<?, ?it/s]"
      ]
     },
     "metadata": {},
     "output_type": "display_data"
    },
    {
     "data": {
      "application/vnd.jupyter.widget-view+json": {
       "model_id": "972794f081754ae6b12d76d2e1fc92e1",
       "version_major": 2,
       "version_minor": 0
      },
      "text/plain": [
       "키워드 진행도:   0%|          | 0/104 [00:00<?, ?it/s]"
      ]
     },
     "metadata": {},
     "output_type": "display_data"
    },
    {
     "data": {
      "application/vnd.jupyter.widget-view+json": {
       "model_id": "fcbe8b04fb674a2389fb36acbbdbb452",
       "version_major": 2,
       "version_minor": 0
      },
      "text/plain": [
       "키워드 진행도:   0%|          | 0/36 [00:00<?, ?it/s]"
      ]
     },
     "metadata": {},
     "output_type": "display_data"
    },
    {
     "data": {
      "application/vnd.jupyter.widget-view+json": {
       "model_id": "a73bd363139f4c918bbc1c1daf640a50",
       "version_major": 2,
       "version_minor": 0
      },
      "text/plain": [
       "키워드 진행도:   0%|          | 0/30 [00:00<?, ?it/s]"
      ]
     },
     "metadata": {},
     "output_type": "display_data"
    },
    {
     "data": {
      "application/vnd.jupyter.widget-view+json": {
       "model_id": "dbda0244cdb24e36b01e76d2cc3ae7ac",
       "version_major": 2,
       "version_minor": 0
      },
      "text/plain": [
       "키워드 진행도:   0%|          | 0/8 [00:00<?, ?it/s]"
      ]
     },
     "metadata": {},
     "output_type": "display_data"
    },
    {
     "data": {
      "application/vnd.jupyter.widget-view+json": {
       "model_id": "4662af7b5dfe4118b08e2243fd1b35da",
       "version_major": 2,
       "version_minor": 0
      },
      "text/plain": [
       "키워드 진행도:   0%|          | 0/24 [00:00<?, ?it/s]"
      ]
     },
     "metadata": {},
     "output_type": "display_data"
    },
    {
     "data": {
      "application/vnd.jupyter.widget-view+json": {
       "model_id": "4d0b277aa65d4736bb5fdb6e857593d2",
       "version_major": 2,
       "version_minor": 0
      },
      "text/plain": [
       "키워드 진행도:   0%|          | 0/28 [00:00<?, ?it/s]"
      ]
     },
     "metadata": {},
     "output_type": "display_data"
    },
    {
     "data": {
      "application/vnd.jupyter.widget-view+json": {
       "model_id": "737c8433d0f14a2eb6e8533abe88e60c",
       "version_major": 2,
       "version_minor": 0
      },
      "text/plain": [
       "키워드 진행도:   0%|          | 0/42 [00:00<?, ?it/s]"
      ]
     },
     "metadata": {},
     "output_type": "display_data"
    },
    {
     "data": {
      "application/vnd.jupyter.widget-view+json": {
       "model_id": "1cade4b348b34126a04eb9696d54abbd",
       "version_major": 2,
       "version_minor": 0
      },
      "text/plain": [
       "키워드 진행도:   0%|          | 0/27 [00:00<?, ?it/s]"
      ]
     },
     "metadata": {},
     "output_type": "display_data"
    },
    {
     "data": {
      "application/vnd.jupyter.widget-view+json": {
       "model_id": "3167edd8b92d40a094608a1ca2fd0147",
       "version_major": 2,
       "version_minor": 0
      },
      "text/plain": [
       "키워드 진행도:   0%|          | 0/231 [00:00<?, ?it/s]"
      ]
     },
     "metadata": {},
     "output_type": "display_data"
    },
    {
     "data": {
      "application/vnd.jupyter.widget-view+json": {
       "model_id": "662339191e1f458384d1f8bcf15c990f",
       "version_major": 2,
       "version_minor": 0
      },
      "text/plain": [
       "키워드 진행도:   0%|          | 0/84 [00:00<?, ?it/s]"
      ]
     },
     "metadata": {},
     "output_type": "display_data"
    },
    {
     "data": {
      "application/vnd.jupyter.widget-view+json": {
       "model_id": "b767e05392694bd79444be7e4047b88d",
       "version_major": 2,
       "version_minor": 0
      },
      "text/plain": [
       "키워드 진행도:   0%|          | 0/37 [00:00<?, ?it/s]"
      ]
     },
     "metadata": {},
     "output_type": "display_data"
    },
    {
     "data": {
      "application/vnd.jupyter.widget-view+json": {
       "model_id": "77205c73bb744450b3ca6ffbe9646556",
       "version_major": 2,
       "version_minor": 0
      },
      "text/plain": [
       "키워드 진행도:   0%|          | 0/53 [00:00<?, ?it/s]"
      ]
     },
     "metadata": {},
     "output_type": "display_data"
    },
    {
     "data": {
      "application/vnd.jupyter.widget-view+json": {
       "model_id": "a76ff1347bf64926aa80e5c86fdb9a7f",
       "version_major": 2,
       "version_minor": 0
      },
      "text/plain": [
       "키워드 진행도:   0%|          | 0/19 [00:00<?, ?it/s]"
      ]
     },
     "metadata": {},
     "output_type": "display_data"
    },
    {
     "data": {
      "application/vnd.jupyter.widget-view+json": {
       "model_id": "fef130f47f6c418ca81c40ff48e3df28",
       "version_major": 2,
       "version_minor": 0
      },
      "text/plain": [
       "키워드 진행도:   0%|          | 0/133 [00:00<?, ?it/s]"
      ]
     },
     "metadata": {},
     "output_type": "display_data"
    },
    {
     "data": {
      "application/vnd.jupyter.widget-view+json": {
       "model_id": "d0c6c96475fd4b908168b3ed46c7f4c8",
       "version_major": 2,
       "version_minor": 0
      },
      "text/plain": [
       "키워드 진행도:   0%|          | 0/23 [00:00<?, ?it/s]"
      ]
     },
     "metadata": {},
     "output_type": "display_data"
    },
    {
     "data": {
      "application/vnd.jupyter.widget-view+json": {
       "model_id": "5b810957593348bc8cd47e3d7f07d52c",
       "version_major": 2,
       "version_minor": 0
      },
      "text/plain": [
       "키워드 진행도:   0%|          | 0/37 [00:00<?, ?it/s]"
      ]
     },
     "metadata": {},
     "output_type": "display_data"
    },
    {
     "data": {
      "application/vnd.jupyter.widget-view+json": {
       "model_id": "d0ca0e8e70ff4c3d99aaea5484d8d49a",
       "version_major": 2,
       "version_minor": 0
      },
      "text/plain": [
       "키워드 진행도:   0%|          | 0/44 [00:00<?, ?it/s]"
      ]
     },
     "metadata": {},
     "output_type": "display_data"
    },
    {
     "data": {
      "application/vnd.jupyter.widget-view+json": {
       "model_id": "93ee790d85094ce2a7c65f8d3279f999",
       "version_major": 2,
       "version_minor": 0
      },
      "text/plain": [
       "키워드 진행도:   0%|          | 0/128 [00:00<?, ?it/s]"
      ]
     },
     "metadata": {},
     "output_type": "display_data"
    },
    {
     "data": {
      "application/vnd.jupyter.widget-view+json": {
       "model_id": "81d302d1d8924f238e74b180811fecd6",
       "version_major": 2,
       "version_minor": 0
      },
      "text/plain": [
       "키워드 진행도:   0%|          | 0/117 [00:00<?, ?it/s]"
      ]
     },
     "metadata": {},
     "output_type": "display_data"
    },
    {
     "data": {
      "application/vnd.jupyter.widget-view+json": {
       "model_id": "d03f80e9a4b64d258f10f3145a786de0",
       "version_major": 2,
       "version_minor": 0
      },
      "text/plain": [
       "키워드 진행도:   0%|          | 0/37 [00:00<?, ?it/s]"
      ]
     },
     "metadata": {},
     "output_type": "display_data"
    },
    {
     "data": {
      "application/vnd.jupyter.widget-view+json": {
       "model_id": "801c3b0ede5b41fe8df62c234d0d5947",
       "version_major": 2,
       "version_minor": 0
      },
      "text/plain": [
       "키워드 진행도:   0%|          | 0/9 [00:00<?, ?it/s]"
      ]
     },
     "metadata": {},
     "output_type": "display_data"
    },
    {
     "data": {
      "application/vnd.jupyter.widget-view+json": {
       "model_id": "1325466889dc47ca9ba88023674a0dfe",
       "version_major": 2,
       "version_minor": 0
      },
      "text/plain": [
       "키워드 진행도:   0%|          | 0/97 [00:00<?, ?it/s]"
      ]
     },
     "metadata": {},
     "output_type": "display_data"
    },
    {
     "data": {
      "application/vnd.jupyter.widget-view+json": {
       "model_id": "8cea9eed5ba94c0b9b96b75e443bc8ed",
       "version_major": 2,
       "version_minor": 0
      },
      "text/plain": [
       "키워드 진행도:   0%|          | 0/79 [00:00<?, ?it/s]"
      ]
     },
     "metadata": {},
     "output_type": "display_data"
    },
    {
     "data": {
      "application/vnd.jupyter.widget-view+json": {
       "model_id": "c4f1ede54fc24caab3d36efadce62c95",
       "version_major": 2,
       "version_minor": 0
      },
      "text/plain": [
       "키워드 진행도:   0%|          | 0/157 [00:00<?, ?it/s]"
      ]
     },
     "metadata": {},
     "output_type": "display_data"
    },
    {
     "data": {
      "application/vnd.jupyter.widget-view+json": {
       "model_id": "ac44efe78a2545278909b30268529484",
       "version_major": 2,
       "version_minor": 0
      },
      "text/plain": [
       "키워드 진행도:   0%|          | 0/49 [00:00<?, ?it/s]"
      ]
     },
     "metadata": {},
     "output_type": "display_data"
    },
    {
     "data": {
      "application/vnd.jupyter.widget-view+json": {
       "model_id": "ca5ced106a3f4cdbbfbf7bc2f64c43fb",
       "version_major": 2,
       "version_minor": 0
      },
      "text/plain": [
       "키워드 진행도:   0%|          | 0/145 [00:00<?, ?it/s]"
      ]
     },
     "metadata": {},
     "output_type": "display_data"
    },
    {
     "data": {
      "application/vnd.jupyter.widget-view+json": {
       "model_id": "81d7b4d8bfe54fcd9ddbe5c5860951a7",
       "version_major": 2,
       "version_minor": 0
      },
      "text/plain": [
       "키워드 진행도:   0%|          | 0/15 [00:00<?, ?it/s]"
      ]
     },
     "metadata": {},
     "output_type": "display_data"
    },
    {
     "data": {
      "application/vnd.jupyter.widget-view+json": {
       "model_id": "69bf16a8b2b94e9592bd489788d549a3",
       "version_major": 2,
       "version_minor": 0
      },
      "text/plain": [
       "키워드 진행도:   0%|          | 0/48 [00:00<?, ?it/s]"
      ]
     },
     "metadata": {},
     "output_type": "display_data"
    },
    {
     "data": {
      "application/vnd.jupyter.widget-view+json": {
       "model_id": "709d27e6658445848c0e9b1d03274f85",
       "version_major": 2,
       "version_minor": 0
      },
      "text/plain": [
       "키워드 진행도:   0%|          | 0/81 [00:00<?, ?it/s]"
      ]
     },
     "metadata": {},
     "output_type": "display_data"
    },
    {
     "data": {
      "application/vnd.jupyter.widget-view+json": {
       "model_id": "e0d4767f0a1443978067743b41098a1c",
       "version_major": 2,
       "version_minor": 0
      },
      "text/plain": [
       "키워드 진행도:   0%|          | 0/41 [00:00<?, ?it/s]"
      ]
     },
     "metadata": {},
     "output_type": "display_data"
    },
    {
     "data": {
      "application/vnd.jupyter.widget-view+json": {
       "model_id": "c8548c27d432493ab8e2bf3d29b717f8",
       "version_major": 2,
       "version_minor": 0
      },
      "text/plain": [
       "키워드 진행도:   0%|          | 0/46 [00:00<?, ?it/s]"
      ]
     },
     "metadata": {},
     "output_type": "display_data"
    },
    {
     "data": {
      "application/vnd.jupyter.widget-view+json": {
       "model_id": "06477e7551a64a92a4a986251317e5fc",
       "version_major": 2,
       "version_minor": 0
      },
      "text/plain": [
       "키워드 진행도:   0%|          | 0/3 [00:00<?, ?it/s]"
      ]
     },
     "metadata": {},
     "output_type": "display_data"
    },
    {
     "data": {
      "application/vnd.jupyter.widget-view+json": {
       "model_id": "9dd4274a88544ce38ac0406bdac07934",
       "version_major": 2,
       "version_minor": 0
      },
      "text/plain": [
       "키워드 진행도:   0%|          | 0/16 [00:00<?, ?it/s]"
      ]
     },
     "metadata": {},
     "output_type": "display_data"
    },
    {
     "data": {
      "application/vnd.jupyter.widget-view+json": {
       "model_id": "6c5f0b2df295466aba30a88c547d487a",
       "version_major": 2,
       "version_minor": 0
      },
      "text/plain": [
       "키워드 진행도:   0%|          | 0/6 [00:00<?, ?it/s]"
      ]
     },
     "metadata": {},
     "output_type": "display_data"
    },
    {
     "data": {
      "application/vnd.jupyter.widget-view+json": {
       "model_id": "d1b482863e394cf5b298a0b562906b80",
       "version_major": 2,
       "version_minor": 0
      },
      "text/plain": [
       "키워드 진행도:   0%|          | 0/40 [00:00<?, ?it/s]"
      ]
     },
     "metadata": {},
     "output_type": "display_data"
    },
    {
     "data": {
      "application/vnd.jupyter.widget-view+json": {
       "model_id": "bda184af10e04d6887ee511fa8dd510b",
       "version_major": 2,
       "version_minor": 0
      },
      "text/plain": [
       "키워드 진행도:   0%|          | 0/5 [00:00<?, ?it/s]"
      ]
     },
     "metadata": {},
     "output_type": "display_data"
    },
    {
     "data": {
      "application/vnd.jupyter.widget-view+json": {
       "model_id": "064ed6d729484ded8ad9e9693f141b6a",
       "version_major": 2,
       "version_minor": 0
      },
      "text/plain": [
       "키워드 진행도:   0%|          | 0/51 [00:00<?, ?it/s]"
      ]
     },
     "metadata": {},
     "output_type": "display_data"
    },
    {
     "data": {
      "application/vnd.jupyter.widget-view+json": {
       "model_id": "e82d5a878e60436592a911e94cd90d69",
       "version_major": 2,
       "version_minor": 0
      },
      "text/plain": [
       "키워드 진행도:   0%|          | 0/10 [00:00<?, ?it/s]"
      ]
     },
     "metadata": {},
     "output_type": "display_data"
    },
    {
     "data": {
      "application/vnd.jupyter.widget-view+json": {
       "model_id": "8a0ac44f876346989d29a6acc7127656",
       "version_major": 2,
       "version_minor": 0
      },
      "text/plain": [
       "키워드 진행도:   0%|          | 0/18 [00:00<?, ?it/s]"
      ]
     },
     "metadata": {},
     "output_type": "display_data"
    },
    {
     "data": {
      "application/vnd.jupyter.widget-view+json": {
       "model_id": "0df88742a6e04e149cee8582296832be",
       "version_major": 2,
       "version_minor": 0
      },
      "text/plain": [
       "키워드 진행도:   0%|          | 0/17 [00:00<?, ?it/s]"
      ]
     },
     "metadata": {},
     "output_type": "display_data"
    },
    {
     "data": {
      "application/vnd.jupyter.widget-view+json": {
       "model_id": "bca06f5ca6f247f09438909a8dc07dfd",
       "version_major": 2,
       "version_minor": 0
      },
      "text/plain": [
       "키워드 진행도:   0%|          | 0/4 [00:00<?, ?it/s]"
      ]
     },
     "metadata": {},
     "output_type": "display_data"
    },
    {
     "data": {
      "application/vnd.jupyter.widget-view+json": {
       "model_id": "d2e6a42175e748238a982cf459469eaa",
       "version_major": 2,
       "version_minor": 0
      },
      "text/plain": [
       "키워드 진행도:   0%|          | 0/28 [00:00<?, ?it/s]"
      ]
     },
     "metadata": {},
     "output_type": "display_data"
    },
    {
     "data": {
      "application/vnd.jupyter.widget-view+json": {
       "model_id": "225a39567c9643f287c69a7f0c7fc3f9",
       "version_major": 2,
       "version_minor": 0
      },
      "text/plain": [
       "키워드 진행도:   0%|          | 0/35 [00:00<?, ?it/s]"
      ]
     },
     "metadata": {},
     "output_type": "display_data"
    },
    {
     "data": {
      "application/vnd.jupyter.widget-view+json": {
       "model_id": "248dedc1f7da4cda80898c0bd913f511",
       "version_major": 2,
       "version_minor": 0
      },
      "text/plain": [
       "키워드 진행도:   0%|          | 0/37 [00:00<?, ?it/s]"
      ]
     },
     "metadata": {},
     "output_type": "display_data"
    },
    {
     "data": {
      "application/vnd.jupyter.widget-view+json": {
       "model_id": "8092c2cacc5f4b3caeb19e5c814f9eef",
       "version_major": 2,
       "version_minor": 0
      },
      "text/plain": [
       "키워드 진행도:   0%|          | 0/29 [00:00<?, ?it/s]"
      ]
     },
     "metadata": {},
     "output_type": "display_data"
    },
    {
     "data": {
      "application/vnd.jupyter.widget-view+json": {
       "model_id": "6fa15df0c76546e488c94108f23b8014",
       "version_major": 2,
       "version_minor": 0
      },
      "text/plain": [
       "키워드 진행도:   0%|          | 0/7 [00:00<?, ?it/s]"
      ]
     },
     "metadata": {},
     "output_type": "display_data"
    },
    {
     "data": {
      "application/vnd.jupyter.widget-view+json": {
       "model_id": "b89655a975eb4ba7aca75d372de7ca58",
       "version_major": 2,
       "version_minor": 0
      },
      "text/plain": [
       "키워드 진행도:   0%|          | 0/27 [00:00<?, ?it/s]"
      ]
     },
     "metadata": {},
     "output_type": "display_data"
    },
    {
     "data": {
      "application/vnd.jupyter.widget-view+json": {
       "model_id": "fe77d58d0584488dbc4e0e0b3957445c",
       "version_major": 2,
       "version_minor": 0
      },
      "text/plain": [
       "키워드 진행도:   0%|          | 0/182 [00:00<?, ?it/s]"
      ]
     },
     "metadata": {},
     "output_type": "display_data"
    },
    {
     "data": {
      "application/vnd.jupyter.widget-view+json": {
       "model_id": "e29a7d97ae0443878a65ed6b51d63e89",
       "version_major": 2,
       "version_minor": 0
      },
      "text/plain": [
       "키워드 진행도:   0%|          | 0/11 [00:00<?, ?it/s]"
      ]
     },
     "metadata": {},
     "output_type": "display_data"
    },
    {
     "data": {
      "application/vnd.jupyter.widget-view+json": {
       "model_id": "a7a6f5651d504f479bb9efcd91ec3a08",
       "version_major": 2,
       "version_minor": 0
      },
      "text/plain": [
       "키워드 진행도:   0%|          | 0/79 [00:00<?, ?it/s]"
      ]
     },
     "metadata": {},
     "output_type": "display_data"
    },
    {
     "data": {
      "application/vnd.jupyter.widget-view+json": {
       "model_id": "903272daeb364fd8b1ad559a99a99f0c",
       "version_major": 2,
       "version_minor": 0
      },
      "text/plain": [
       "키워드 진행도:   0%|          | 0/50 [00:00<?, ?it/s]"
      ]
     },
     "metadata": {},
     "output_type": "display_data"
    },
    {
     "data": {
      "application/vnd.jupyter.widget-view+json": {
       "model_id": "2b3abdf73faf48ce8f8a9580e8471cb0",
       "version_major": 2,
       "version_minor": 0
      },
      "text/plain": [
       "키워드 진행도:   0%|          | 0/18 [00:00<?, ?it/s]"
      ]
     },
     "metadata": {},
     "output_type": "display_data"
    },
    {
     "data": {
      "application/vnd.jupyter.widget-view+json": {
       "model_id": "849c30985f744348a066a40b327565d2",
       "version_major": 2,
       "version_minor": 0
      },
      "text/plain": [
       "키워드 진행도:   0%|          | 0/22 [00:00<?, ?it/s]"
      ]
     },
     "metadata": {},
     "output_type": "display_data"
    },
    {
     "data": {
      "application/vnd.jupyter.widget-view+json": {
       "model_id": "be44f3ee6c67409d800bcfbe75f10ea5",
       "version_major": 2,
       "version_minor": 0
      },
      "text/plain": [
       "키워드 진행도:   0%|          | 0/109 [00:00<?, ?it/s]"
      ]
     },
     "metadata": {},
     "output_type": "display_data"
    },
    {
     "data": {
      "application/vnd.jupyter.widget-view+json": {
       "model_id": "4e7a7f76bcc54b65a86ec9476807d3b7",
       "version_major": 2,
       "version_minor": 0
      },
      "text/plain": [
       "키워드 진행도:   0%|          | 0/11 [00:00<?, ?it/s]"
      ]
     },
     "metadata": {},
     "output_type": "display_data"
    },
    {
     "data": {
      "application/vnd.jupyter.widget-view+json": {
       "model_id": "55aeebc31e9f48cfb3f5dad45b8ee3b5",
       "version_major": 2,
       "version_minor": 0
      },
      "text/plain": [
       "키워드 진행도:   0%|          | 0/13 [00:00<?, ?it/s]"
      ]
     },
     "metadata": {},
     "output_type": "display_data"
    },
    {
     "data": {
      "application/vnd.jupyter.widget-view+json": {
       "model_id": "562ac4adc90049bfb8a9bf032e878600",
       "version_major": 2,
       "version_minor": 0
      },
      "text/plain": [
       "키워드 진행도:   0%|          | 0/16 [00:00<?, ?it/s]"
      ]
     },
     "metadata": {},
     "output_type": "display_data"
    },
    {
     "data": {
      "application/vnd.jupyter.widget-view+json": {
       "model_id": "553b6a11c4a34cb3bc1feadc1bbafd0a",
       "version_major": 2,
       "version_minor": 0
      },
      "text/plain": [
       "키워드 진행도:   0%|          | 0/5 [00:00<?, ?it/s]"
      ]
     },
     "metadata": {},
     "output_type": "display_data"
    },
    {
     "data": {
      "application/vnd.jupyter.widget-view+json": {
       "model_id": "907cfcb1f9814cc3ac839ca1d07dd7df",
       "version_major": 2,
       "version_minor": 0
      },
      "text/plain": [
       "키워드 진행도:   0%|          | 0/47 [00:00<?, ?it/s]"
      ]
     },
     "metadata": {},
     "output_type": "display_data"
    },
    {
     "data": {
      "application/vnd.jupyter.widget-view+json": {
       "model_id": "314e180b6d154ee4b73c5f9f54c1b665",
       "version_major": 2,
       "version_minor": 0
      },
      "text/plain": [
       "키워드 진행도:   0%|          | 0/37 [00:00<?, ?it/s]"
      ]
     },
     "metadata": {},
     "output_type": "display_data"
    },
    {
     "data": {
      "application/vnd.jupyter.widget-view+json": {
       "model_id": "204ba1e856a340abb85fa37e65fba16c",
       "version_major": 2,
       "version_minor": 0
      },
      "text/plain": [
       "키워드 진행도:   0%|          | 0/18 [00:00<?, ?it/s]"
      ]
     },
     "metadata": {},
     "output_type": "display_data"
    },
    {
     "data": {
      "application/vnd.jupyter.widget-view+json": {
       "model_id": "eff28a6672224d77847ce3ce74744628",
       "version_major": 2,
       "version_minor": 0
      },
      "text/plain": [
       "키워드 진행도:   0%|          | 0/20 [00:00<?, ?it/s]"
      ]
     },
     "metadata": {},
     "output_type": "display_data"
    },
    {
     "data": {
      "application/vnd.jupyter.widget-view+json": {
       "model_id": "8a4420fec6ac43ff965e1a8eb79b5439",
       "version_major": 2,
       "version_minor": 0
      },
      "text/plain": [
       "키워드 진행도:   0%|          | 0/35 [00:00<?, ?it/s]"
      ]
     },
     "metadata": {},
     "output_type": "display_data"
    },
    {
     "data": {
      "application/vnd.jupyter.widget-view+json": {
       "model_id": "9de789d3329c432bafa4875d416e2011",
       "version_major": 2,
       "version_minor": 0
      },
      "text/plain": [
       "키워드 진행도:   0%|          | 0/4 [00:00<?, ?it/s]"
      ]
     },
     "metadata": {},
     "output_type": "display_data"
    },
    {
     "data": {
      "application/vnd.jupyter.widget-view+json": {
       "model_id": "b58bcbdf151c4515b99ce35ea5fb1bd1",
       "version_major": 2,
       "version_minor": 0
      },
      "text/plain": [
       "키워드 진행도:   0%|          | 0/42 [00:00<?, ?it/s]"
      ]
     },
     "metadata": {},
     "output_type": "display_data"
    },
    {
     "data": {
      "application/vnd.jupyter.widget-view+json": {
       "model_id": "6e96a638c557472aad26e3f142ed7874",
       "version_major": 2,
       "version_minor": 0
      },
      "text/plain": [
       "키워드 진행도:   0%|          | 0/10 [00:00<?, ?it/s]"
      ]
     },
     "metadata": {},
     "output_type": "display_data"
    },
    {
     "data": {
      "application/vnd.jupyter.widget-view+json": {
       "model_id": "0a90554414a8480e899ceb0be420295d",
       "version_major": 2,
       "version_minor": 0
      },
      "text/plain": [
       "키워드 진행도:   0%|          | 0/6 [00:00<?, ?it/s]"
      ]
     },
     "metadata": {},
     "output_type": "display_data"
    },
    {
     "data": {
      "application/vnd.jupyter.widget-view+json": {
       "model_id": "678d2c987a8d4de0a7c6f263eabbfbb4",
       "version_major": 2,
       "version_minor": 0
      },
      "text/plain": [
       "키워드 진행도:   0%|          | 0/14 [00:00<?, ?it/s]"
      ]
     },
     "metadata": {},
     "output_type": "display_data"
    },
    {
     "data": {
      "application/vnd.jupyter.widget-view+json": {
       "model_id": "8a01435ada934b8c85b376bab6fa0ec6",
       "version_major": 2,
       "version_minor": 0
      },
      "text/plain": [
       "키워드 진행도:   0%|          | 0/9 [00:00<?, ?it/s]"
      ]
     },
     "metadata": {},
     "output_type": "display_data"
    },
    {
     "data": {
      "application/vnd.jupyter.widget-view+json": {
       "model_id": "cd2ed881742246539e0759b36161df74",
       "version_major": 2,
       "version_minor": 0
      },
      "text/plain": [
       "키워드 진행도:   0%|          | 0/84 [00:00<?, ?it/s]"
      ]
     },
     "metadata": {},
     "output_type": "display_data"
    },
    {
     "data": {
      "application/vnd.jupyter.widget-view+json": {
       "model_id": "b4ce8969709448c89ee0240e6ff73fae",
       "version_major": 2,
       "version_minor": 0
      },
      "text/plain": [
       "키워드 진행도:   0%|          | 0/28 [00:00<?, ?it/s]"
      ]
     },
     "metadata": {},
     "output_type": "display_data"
    },
    {
     "data": {
      "application/vnd.jupyter.widget-view+json": {
       "model_id": "a927ed6d837b42688528b3d0c2efee8d",
       "version_major": 2,
       "version_minor": 0
      },
      "text/plain": [
       "키워드 진행도:   0%|          | 0/16 [00:00<?, ?it/s]"
      ]
     },
     "metadata": {},
     "output_type": "display_data"
    },
    {
     "data": {
      "application/vnd.jupyter.widget-view+json": {
       "model_id": "369fda865ba54516bbf0738f1c43abd6",
       "version_major": 2,
       "version_minor": 0
      },
      "text/plain": [
       "키워드 진행도:   0%|          | 0/36 [00:00<?, ?it/s]"
      ]
     },
     "metadata": {},
     "output_type": "display_data"
    },
    {
     "data": {
      "application/vnd.jupyter.widget-view+json": {
       "model_id": "5a61a6cc8b234358aca0b26aff4587ac",
       "version_major": 2,
       "version_minor": 0
      },
      "text/plain": [
       "키워드 진행도:   0%|          | 0/24 [00:00<?, ?it/s]"
      ]
     },
     "metadata": {},
     "output_type": "display_data"
    },
    {
     "data": {
      "application/vnd.jupyter.widget-view+json": {
       "model_id": "992f033783d645e2886549cb969f4e39",
       "version_major": 2,
       "version_minor": 0
      },
      "text/plain": [
       "키워드 진행도:   0%|          | 0/45 [00:00<?, ?it/s]"
      ]
     },
     "metadata": {},
     "output_type": "display_data"
    },
    {
     "data": {
      "application/vnd.jupyter.widget-view+json": {
       "model_id": "ba6dfbc798634bbca1d5dc8942ae9536",
       "version_major": 2,
       "version_minor": 0
      },
      "text/plain": [
       "키워드 진행도:   0%|          | 0/12 [00:00<?, ?it/s]"
      ]
     },
     "metadata": {},
     "output_type": "display_data"
    },
    {
     "data": {
      "application/vnd.jupyter.widget-view+json": {
       "model_id": "d63753e0ffc543deaaa7fbd26df640e8",
       "version_major": 2,
       "version_minor": 0
      },
      "text/plain": [
       "키워드 진행도:   0%|          | 0/147 [00:00<?, ?it/s]"
      ]
     },
     "metadata": {},
     "output_type": "display_data"
    },
    {
     "data": {
      "application/vnd.jupyter.widget-view+json": {
       "model_id": "ee59dd11535549739f043888590fe961",
       "version_major": 2,
       "version_minor": 0
      },
      "text/plain": [
       "키워드 진행도:   0%|          | 0/44 [00:00<?, ?it/s]"
      ]
     },
     "metadata": {},
     "output_type": "display_data"
    },
    {
     "data": {
      "application/vnd.jupyter.widget-view+json": {
       "model_id": "5e0038f5ac5b48f4b4d4f82864e467f8",
       "version_major": 2,
       "version_minor": 0
      },
      "text/plain": [
       "키워드 진행도:   0%|          | 0/17 [00:00<?, ?it/s]"
      ]
     },
     "metadata": {},
     "output_type": "display_data"
    },
    {
     "data": {
      "application/vnd.jupyter.widget-view+json": {
       "model_id": "53b27feb6fb54fba9f017c1a94e30450",
       "version_major": 2,
       "version_minor": 0
      },
      "text/plain": [
       "키워드 진행도:   0%|          | 0/70 [00:00<?, ?it/s]"
      ]
     },
     "metadata": {},
     "output_type": "display_data"
    },
    {
     "data": {
      "application/vnd.jupyter.widget-view+json": {
       "model_id": "298cc57bd03749bd9c8120081a67d12d",
       "version_major": 2,
       "version_minor": 0
      },
      "text/plain": [
       "키워드 진행도:   0%|          | 0/135 [00:00<?, ?it/s]"
      ]
     },
     "metadata": {},
     "output_type": "display_data"
    },
    {
     "data": {
      "application/vnd.jupyter.widget-view+json": {
       "model_id": "fc699cfe3a8c407c9d8bdc42bd667bc6",
       "version_major": 2,
       "version_minor": 0
      },
      "text/plain": [
       "키워드 진행도:   0%|          | 0/31 [00:00<?, ?it/s]"
      ]
     },
     "metadata": {},
     "output_type": "display_data"
    },
    {
     "data": {
      "application/vnd.jupyter.widget-view+json": {
       "model_id": "e10e2f63e16d4d678789b359eb995811",
       "version_major": 2,
       "version_minor": 0
      },
      "text/plain": [
       "키워드 진행도:   0%|          | 0/13 [00:00<?, ?it/s]"
      ]
     },
     "metadata": {},
     "output_type": "display_data"
    },
    {
     "data": {
      "application/vnd.jupyter.widget-view+json": {
       "model_id": "253584bf72444e989a2e076b189dc1c7",
       "version_major": 2,
       "version_minor": 0
      },
      "text/plain": [
       "키워드 진행도:   0%|          | 0/17 [00:00<?, ?it/s]"
      ]
     },
     "metadata": {},
     "output_type": "display_data"
    },
    {
     "data": {
      "application/vnd.jupyter.widget-view+json": {
       "model_id": "d97fe2a05850483f8a5434c6176d345f",
       "version_major": 2,
       "version_minor": 0
      },
      "text/plain": [
       "키워드 진행도:   0%|          | 0/15 [00:00<?, ?it/s]"
      ]
     },
     "metadata": {},
     "output_type": "display_data"
    },
    {
     "data": {
      "application/vnd.jupyter.widget-view+json": {
       "model_id": "b942a295af8f4a8ab064235ad2acf0e5",
       "version_major": 2,
       "version_minor": 0
      },
      "text/plain": [
       "키워드 진행도:   0%|          | 0/96 [00:00<?, ?it/s]"
      ]
     },
     "metadata": {},
     "output_type": "display_data"
    },
    {
     "data": {
      "application/vnd.jupyter.widget-view+json": {
       "model_id": "998405d724634194a12302e8cc87ca54",
       "version_major": 2,
       "version_minor": 0
      },
      "text/plain": [
       "키워드 진행도:   0%|          | 0/35 [00:00<?, ?it/s]"
      ]
     },
     "metadata": {},
     "output_type": "display_data"
    },
    {
     "data": {
      "application/vnd.jupyter.widget-view+json": {
       "model_id": "d3f132b7783d47b7bc084d6ec143605b",
       "version_major": 2,
       "version_minor": 0
      },
      "text/plain": [
       "키워드 진행도:   0%|          | 0/44 [00:00<?, ?it/s]"
      ]
     },
     "metadata": {},
     "output_type": "display_data"
    },
    {
     "data": {
      "application/vnd.jupyter.widget-view+json": {
       "model_id": "a4712be6ed504aababda35e0905e07d0",
       "version_major": 2,
       "version_minor": 0
      },
      "text/plain": [
       "키워드 진행도:   0%|          | 0/31 [00:00<?, ?it/s]"
      ]
     },
     "metadata": {},
     "output_type": "display_data"
    },
    {
     "data": {
      "application/vnd.jupyter.widget-view+json": {
       "model_id": "be5597534e754c7885f6e2af22a45521",
       "version_major": 2,
       "version_minor": 0
      },
      "text/plain": [
       "키워드 진행도:   0%|          | 0/14 [00:00<?, ?it/s]"
      ]
     },
     "metadata": {},
     "output_type": "display_data"
    },
    {
     "data": {
      "application/vnd.jupyter.widget-view+json": {
       "model_id": "24808bcffbc246d2a83190a601c638bc",
       "version_major": 2,
       "version_minor": 0
      },
      "text/plain": [
       "키워드 진행도:   0%|          | 0/44 [00:00<?, ?it/s]"
      ]
     },
     "metadata": {},
     "output_type": "display_data"
    },
    {
     "data": {
      "application/vnd.jupyter.widget-view+json": {
       "model_id": "a1e51a34cb7d49c5a42edaa8ec77e067",
       "version_major": 2,
       "version_minor": 0
      },
      "text/plain": [
       "키워드 진행도:   0%|          | 0/134 [00:00<?, ?it/s]"
      ]
     },
     "metadata": {},
     "output_type": "display_data"
    },
    {
     "data": {
      "application/vnd.jupyter.widget-view+json": {
       "model_id": "ca1a6f9360e94833a5debd120cc33e48",
       "version_major": 2,
       "version_minor": 0
      },
      "text/plain": [
       "키워드 진행도:   0%|          | 0/22 [00:00<?, ?it/s]"
      ]
     },
     "metadata": {},
     "output_type": "display_data"
    },
    {
     "data": {
      "application/vnd.jupyter.widget-view+json": {
       "model_id": "5f889387e55d4198b78ea87d6471f97f",
       "version_major": 2,
       "version_minor": 0
      },
      "text/plain": [
       "키워드 진행도:   0%|          | 0/43 [00:00<?, ?it/s]"
      ]
     },
     "metadata": {},
     "output_type": "display_data"
    },
    {
     "data": {
      "application/vnd.jupyter.widget-view+json": {
       "model_id": "b9fdf2b83d9a4d66a7a0025ccc40f3c3",
       "version_major": 2,
       "version_minor": 0
      },
      "text/plain": [
       "키워드 진행도:   0%|          | 0/69 [00:00<?, ?it/s]"
      ]
     },
     "metadata": {},
     "output_type": "display_data"
    },
    {
     "data": {
      "application/vnd.jupyter.widget-view+json": {
       "model_id": "15aec7591b174464bdafa91fcf82a283",
       "version_major": 2,
       "version_minor": 0
      },
      "text/plain": [
       "키워드 진행도:   0%|          | 0/25 [00:00<?, ?it/s]"
      ]
     },
     "metadata": {},
     "output_type": "display_data"
    },
    {
     "data": {
      "application/vnd.jupyter.widget-view+json": {
       "model_id": "2c645f210c8e4eb493f9cab042df1f0f",
       "version_major": 2,
       "version_minor": 0
      },
      "text/plain": [
       "키워드 진행도:   0%|          | 0/111 [00:00<?, ?it/s]"
      ]
     },
     "metadata": {},
     "output_type": "display_data"
    },
    {
     "data": {
      "application/vnd.jupyter.widget-view+json": {
       "model_id": "d1f5c972df254dff909d78a4ef3e9ca0",
       "version_major": 2,
       "version_minor": 0
      },
      "text/plain": [
       "키워드 진행도:   0%|          | 0/55 [00:00<?, ?it/s]"
      ]
     },
     "metadata": {},
     "output_type": "display_data"
    },
    {
     "data": {
      "application/vnd.jupyter.widget-view+json": {
       "model_id": "08b58ba76e844e8d836c85da730b76d6",
       "version_major": 2,
       "version_minor": 0
      },
      "text/plain": [
       "키워드 진행도:   0%|          | 0/43 [00:00<?, ?it/s]"
      ]
     },
     "metadata": {},
     "output_type": "display_data"
    },
    {
     "data": {
      "application/vnd.jupyter.widget-view+json": {
       "model_id": "9fc7fa74affd49969b84cb2106069b07",
       "version_major": 2,
       "version_minor": 0
      },
      "text/plain": [
       "키워드 진행도:   0%|          | 0/11 [00:00<?, ?it/s]"
      ]
     },
     "metadata": {},
     "output_type": "display_data"
    },
    {
     "data": {
      "application/vnd.jupyter.widget-view+json": {
       "model_id": "faa2f77cf59e4c3dbb0026a41b6d7360",
       "version_major": 2,
       "version_minor": 0
      },
      "text/plain": [
       "키워드 진행도:   0%|          | 0/27 [00:00<?, ?it/s]"
      ]
     },
     "metadata": {},
     "output_type": "display_data"
    },
    {
     "data": {
      "application/vnd.jupyter.widget-view+json": {
       "model_id": "6e619118430546e7a276d1501d30a143",
       "version_major": 2,
       "version_minor": 0
      },
      "text/plain": [
       "키워드 진행도:   0%|          | 0/19 [00:00<?, ?it/s]"
      ]
     },
     "metadata": {},
     "output_type": "display_data"
    },
    {
     "data": {
      "application/vnd.jupyter.widget-view+json": {
       "model_id": "a21df205b45e4ec998804b1f35c77617",
       "version_major": 2,
       "version_minor": 0
      },
      "text/plain": [
       "키워드 진행도:   0%|          | 0/35 [00:00<?, ?it/s]"
      ]
     },
     "metadata": {},
     "output_type": "display_data"
    },
    {
     "data": {
      "application/vnd.jupyter.widget-view+json": {
       "model_id": "9231d2fc18174914a4eefe41ebee0fb0",
       "version_major": 2,
       "version_minor": 0
      },
      "text/plain": [
       "키워드 진행도:   0%|          | 0/39 [00:00<?, ?it/s]"
      ]
     },
     "metadata": {},
     "output_type": "display_data"
    },
    {
     "data": {
      "application/vnd.jupyter.widget-view+json": {
       "model_id": "156c97f85a834cb89619b69ae875f204",
       "version_major": 2,
       "version_minor": 0
      },
      "text/plain": [
       "키워드 진행도:   0%|          | 0/41 [00:00<?, ?it/s]"
      ]
     },
     "metadata": {},
     "output_type": "display_data"
    },
    {
     "data": {
      "application/vnd.jupyter.widget-view+json": {
       "model_id": "7feb58b88b7c4fbb80f3781cf1cfed09",
       "version_major": 2,
       "version_minor": 0
      },
      "text/plain": [
       "키워드 진행도:   0%|          | 0/13 [00:00<?, ?it/s]"
      ]
     },
     "metadata": {},
     "output_type": "display_data"
    },
    {
     "data": {
      "application/vnd.jupyter.widget-view+json": {
       "model_id": "32ca0cd77e674aa6a73657145ec12a43",
       "version_major": 2,
       "version_minor": 0
      },
      "text/plain": [
       "키워드 진행도:   0%|          | 0/28 [00:00<?, ?it/s]"
      ]
     },
     "metadata": {},
     "output_type": "display_data"
    },
    {
     "data": {
      "application/vnd.jupyter.widget-view+json": {
       "model_id": "e03c3981c82e4a8eb624b385e056d997",
       "version_major": 2,
       "version_minor": 0
      },
      "text/plain": [
       "키워드 진행도:   0%|          | 0/33 [00:00<?, ?it/s]"
      ]
     },
     "metadata": {},
     "output_type": "display_data"
    },
    {
     "data": {
      "application/vnd.jupyter.widget-view+json": {
       "model_id": "eb8fa0d51a0d4c1f9e483758d406179a",
       "version_major": 2,
       "version_minor": 0
      },
      "text/plain": [
       "키워드 진행도:   0%|          | 0/24 [00:00<?, ?it/s]"
      ]
     },
     "metadata": {},
     "output_type": "display_data"
    },
    {
     "data": {
      "application/vnd.jupyter.widget-view+json": {
       "model_id": "c3c07c0a1c6b4d9695ba252b8eb24e47",
       "version_major": 2,
       "version_minor": 0
      },
      "text/plain": [
       "키워드 진행도:   0%|          | 0/165 [00:00<?, ?it/s]"
      ]
     },
     "metadata": {},
     "output_type": "display_data"
    },
    {
     "data": {
      "application/vnd.jupyter.widget-view+json": {
       "model_id": "cab0e1a69c69453d9b91f0394288b3d6",
       "version_major": 2,
       "version_minor": 0
      },
      "text/plain": [
       "키워드 진행도:   0%|          | 0/48 [00:00<?, ?it/s]"
      ]
     },
     "metadata": {},
     "output_type": "display_data"
    },
    {
     "data": {
      "application/vnd.jupyter.widget-view+json": {
       "model_id": "b456e3f81833434eaebbd35957eb3b8a",
       "version_major": 2,
       "version_minor": 0
      },
      "text/plain": [
       "키워드 진행도:   0%|          | 0/15 [00:00<?, ?it/s]"
      ]
     },
     "metadata": {},
     "output_type": "display_data"
    },
    {
     "data": {
      "application/vnd.jupyter.widget-view+json": {
       "model_id": "3de7284b2ef949fab0fe8a82a95963e3",
       "version_major": 2,
       "version_minor": 0
      },
      "text/plain": [
       "키워드 진행도:   0%|          | 0/229 [00:00<?, ?it/s]"
      ]
     },
     "metadata": {},
     "output_type": "display_data"
    },
    {
     "data": {
      "application/vnd.jupyter.widget-view+json": {
       "model_id": "4af077f09fe744ef86c36c63e49a4518",
       "version_major": 2,
       "version_minor": 0
      },
      "text/plain": [
       "키워드 진행도:   0%|          | 0/185 [00:00<?, ?it/s]"
      ]
     },
     "metadata": {},
     "output_type": "display_data"
    },
    {
     "ename": "URLError",
     "evalue": "<urlopen error [WinError 10060] 연결된 구성원으로부터 응답이 없어 연결하지 못했거나, 호스트로부터 응답이 없어 연결이 끊어졌습니다>",
     "output_type": "error",
     "traceback": [
      "\u001b[1;31m---------------------------------------------------------------------------\u001b[0m",
      "\u001b[1;31mTimeoutError\u001b[0m                              Traceback (most recent call last)",
      "File \u001b[1;32mC:\\Python38\\lib\\urllib\\request.py:1350\u001b[0m, in \u001b[0;36mAbstractHTTPHandler.do_open\u001b[1;34m(self, http_class, req, **http_conn_args)\u001b[0m\n\u001b[0;32m   1349\u001b[0m \u001b[38;5;28;01mtry\u001b[39;00m:\n\u001b[1;32m-> 1350\u001b[0m     \u001b[43mh\u001b[49m\u001b[38;5;241;43m.\u001b[39;49m\u001b[43mrequest\u001b[49m\u001b[43m(\u001b[49m\u001b[43mreq\u001b[49m\u001b[38;5;241;43m.\u001b[39;49m\u001b[43mget_method\u001b[49m\u001b[43m(\u001b[49m\u001b[43m)\u001b[49m\u001b[43m,\u001b[49m\u001b[43m \u001b[49m\u001b[43mreq\u001b[49m\u001b[38;5;241;43m.\u001b[39;49m\u001b[43mselector\u001b[49m\u001b[43m,\u001b[49m\u001b[43m \u001b[49m\u001b[43mreq\u001b[49m\u001b[38;5;241;43m.\u001b[39;49m\u001b[43mdata\u001b[49m\u001b[43m,\u001b[49m\u001b[43m \u001b[49m\u001b[43mheaders\u001b[49m\u001b[43m,\u001b[49m\n\u001b[0;32m   1351\u001b[0m \u001b[43m              \u001b[49m\u001b[43mencode_chunked\u001b[49m\u001b[38;5;241;43m=\u001b[39;49m\u001b[43mreq\u001b[49m\u001b[38;5;241;43m.\u001b[39;49m\u001b[43mhas_header\u001b[49m\u001b[43m(\u001b[49m\u001b[38;5;124;43m'\u001b[39;49m\u001b[38;5;124;43mTransfer-encoding\u001b[39;49m\u001b[38;5;124;43m'\u001b[39;49m\u001b[43m)\u001b[49m\u001b[43m)\u001b[49m\n\u001b[0;32m   1352\u001b[0m \u001b[38;5;28;01mexcept\u001b[39;00m \u001b[38;5;167;01mOSError\u001b[39;00m \u001b[38;5;28;01mas\u001b[39;00m err: \u001b[38;5;66;03m# timeout error\u001b[39;00m\n",
      "File \u001b[1;32mC:\\Python38\\lib\\http\\client.py:1255\u001b[0m, in \u001b[0;36mHTTPConnection.request\u001b[1;34m(self, method, url, body, headers, encode_chunked)\u001b[0m\n\u001b[0;32m   1254\u001b[0m \u001b[38;5;250m\u001b[39m\u001b[38;5;124;03m\"\"\"Send a complete request to the server.\"\"\"\u001b[39;00m\n\u001b[1;32m-> 1255\u001b[0m \u001b[38;5;28;43mself\u001b[39;49m\u001b[38;5;241;43m.\u001b[39;49m\u001b[43m_send_request\u001b[49m\u001b[43m(\u001b[49m\u001b[43mmethod\u001b[49m\u001b[43m,\u001b[49m\u001b[43m \u001b[49m\u001b[43murl\u001b[49m\u001b[43m,\u001b[49m\u001b[43m \u001b[49m\u001b[43mbody\u001b[49m\u001b[43m,\u001b[49m\u001b[43m \u001b[49m\u001b[43mheaders\u001b[49m\u001b[43m,\u001b[49m\u001b[43m \u001b[49m\u001b[43mencode_chunked\u001b[49m\u001b[43m)\u001b[49m\n",
      "File \u001b[1;32mC:\\Python38\\lib\\http\\client.py:1301\u001b[0m, in \u001b[0;36mHTTPConnection._send_request\u001b[1;34m(self, method, url, body, headers, encode_chunked)\u001b[0m\n\u001b[0;32m   1300\u001b[0m     body \u001b[38;5;241m=\u001b[39m _encode(body, \u001b[38;5;124m'\u001b[39m\u001b[38;5;124mbody\u001b[39m\u001b[38;5;124m'\u001b[39m)\n\u001b[1;32m-> 1301\u001b[0m \u001b[38;5;28;43mself\u001b[39;49m\u001b[38;5;241;43m.\u001b[39;49m\u001b[43mendheaders\u001b[49m\u001b[43m(\u001b[49m\u001b[43mbody\u001b[49m\u001b[43m,\u001b[49m\u001b[43m \u001b[49m\u001b[43mencode_chunked\u001b[49m\u001b[38;5;241;43m=\u001b[39;49m\u001b[43mencode_chunked\u001b[49m\u001b[43m)\u001b[49m\n",
      "File \u001b[1;32mC:\\Python38\\lib\\http\\client.py:1250\u001b[0m, in \u001b[0;36mHTTPConnection.endheaders\u001b[1;34m(self, message_body, encode_chunked)\u001b[0m\n\u001b[0;32m   1249\u001b[0m     \u001b[38;5;28;01mraise\u001b[39;00m CannotSendHeader()\n\u001b[1;32m-> 1250\u001b[0m \u001b[38;5;28;43mself\u001b[39;49m\u001b[38;5;241;43m.\u001b[39;49m\u001b[43m_send_output\u001b[49m\u001b[43m(\u001b[49m\u001b[43mmessage_body\u001b[49m\u001b[43m,\u001b[49m\u001b[43m \u001b[49m\u001b[43mencode_chunked\u001b[49m\u001b[38;5;241;43m=\u001b[39;49m\u001b[43mencode_chunked\u001b[49m\u001b[43m)\u001b[49m\n",
      "File \u001b[1;32mC:\\Python38\\lib\\http\\client.py:1010\u001b[0m, in \u001b[0;36mHTTPConnection._send_output\u001b[1;34m(self, message_body, encode_chunked)\u001b[0m\n\u001b[0;32m   1009\u001b[0m \u001b[38;5;28;01mdel\u001b[39;00m \u001b[38;5;28mself\u001b[39m\u001b[38;5;241m.\u001b[39m_buffer[:]\n\u001b[1;32m-> 1010\u001b[0m \u001b[38;5;28;43mself\u001b[39;49m\u001b[38;5;241;43m.\u001b[39;49m\u001b[43msend\u001b[49m\u001b[43m(\u001b[49m\u001b[43mmsg\u001b[49m\u001b[43m)\u001b[49m\n\u001b[0;32m   1012\u001b[0m \u001b[38;5;28;01mif\u001b[39;00m message_body \u001b[38;5;129;01mis\u001b[39;00m \u001b[38;5;129;01mnot\u001b[39;00m \u001b[38;5;28;01mNone\u001b[39;00m:\n\u001b[0;32m   1013\u001b[0m \n\u001b[0;32m   1014\u001b[0m     \u001b[38;5;66;03m# create a consistent interface to message_body\u001b[39;00m\n",
      "File \u001b[1;32mC:\\Python38\\lib\\http\\client.py:950\u001b[0m, in \u001b[0;36mHTTPConnection.send\u001b[1;34m(self, data)\u001b[0m\n\u001b[0;32m    949\u001b[0m \u001b[38;5;28;01mif\u001b[39;00m \u001b[38;5;28mself\u001b[39m\u001b[38;5;241m.\u001b[39mauto_open:\n\u001b[1;32m--> 950\u001b[0m     \u001b[38;5;28;43mself\u001b[39;49m\u001b[38;5;241;43m.\u001b[39;49m\u001b[43mconnect\u001b[49m\u001b[43m(\u001b[49m\u001b[43m)\u001b[49m\n\u001b[0;32m    951\u001b[0m \u001b[38;5;28;01melse\u001b[39;00m:\n",
      "File \u001b[1;32mC:\\Python38\\lib\\http\\client.py:1417\u001b[0m, in \u001b[0;36mHTTPSConnection.connect\u001b[1;34m(self)\u001b[0m\n\u001b[0;32m   1415\u001b[0m \u001b[38;5;124m\"\u001b[39m\u001b[38;5;124mConnect to a host on a given (SSL) port.\u001b[39m\u001b[38;5;124m\"\u001b[39m\n\u001b[1;32m-> 1417\u001b[0m \u001b[38;5;28;43msuper\u001b[39;49m\u001b[43m(\u001b[49m\u001b[43m)\u001b[49m\u001b[38;5;241;43m.\u001b[39;49m\u001b[43mconnect\u001b[49m\u001b[43m(\u001b[49m\u001b[43m)\u001b[49m\n\u001b[0;32m   1419\u001b[0m \u001b[38;5;28;01mif\u001b[39;00m \u001b[38;5;28mself\u001b[39m\u001b[38;5;241m.\u001b[39m_tunnel_host:\n",
      "File \u001b[1;32mC:\\Python38\\lib\\http\\client.py:921\u001b[0m, in \u001b[0;36mHTTPConnection.connect\u001b[1;34m(self)\u001b[0m\n\u001b[0;32m    920\u001b[0m \u001b[38;5;250m\u001b[39m\u001b[38;5;124;03m\"\"\"Connect to the host and port specified in __init__.\"\"\"\u001b[39;00m\n\u001b[1;32m--> 921\u001b[0m \u001b[38;5;28mself\u001b[39m\u001b[38;5;241m.\u001b[39msock \u001b[38;5;241m=\u001b[39m \u001b[38;5;28;43mself\u001b[39;49m\u001b[38;5;241;43m.\u001b[39;49m\u001b[43m_create_connection\u001b[49m\u001b[43m(\u001b[49m\n\u001b[0;32m    922\u001b[0m \u001b[43m    \u001b[49m\u001b[43m(\u001b[49m\u001b[38;5;28;43mself\u001b[39;49m\u001b[38;5;241;43m.\u001b[39;49m\u001b[43mhost\u001b[49m\u001b[43m,\u001b[49m\u001b[38;5;28;43mself\u001b[39;49m\u001b[38;5;241;43m.\u001b[39;49m\u001b[43mport\u001b[49m\u001b[43m)\u001b[49m\u001b[43m,\u001b[49m\u001b[43m \u001b[49m\u001b[38;5;28;43mself\u001b[39;49m\u001b[38;5;241;43m.\u001b[39;49m\u001b[43mtimeout\u001b[49m\u001b[43m,\u001b[49m\u001b[43m \u001b[49m\u001b[38;5;28;43mself\u001b[39;49m\u001b[38;5;241;43m.\u001b[39;49m\u001b[43msource_address\u001b[49m\u001b[43m)\u001b[49m\n\u001b[0;32m    923\u001b[0m \u001b[38;5;28mself\u001b[39m\u001b[38;5;241m.\u001b[39msock\u001b[38;5;241m.\u001b[39msetsockopt(socket\u001b[38;5;241m.\u001b[39mIPPROTO_TCP, socket\u001b[38;5;241m.\u001b[39mTCP_NODELAY, \u001b[38;5;241m1\u001b[39m)\n",
      "File \u001b[1;32mC:\\Python38\\lib\\socket.py:808\u001b[0m, in \u001b[0;36mcreate_connection\u001b[1;34m(address, timeout, source_address)\u001b[0m\n\u001b[0;32m    807\u001b[0m \u001b[38;5;28;01mtry\u001b[39;00m:\n\u001b[1;32m--> 808\u001b[0m     \u001b[38;5;28;01mraise\u001b[39;00m err\n\u001b[0;32m    809\u001b[0m \u001b[38;5;28;01mfinally\u001b[39;00m:\n\u001b[0;32m    810\u001b[0m     \u001b[38;5;66;03m# Break explicitly a reference cycle\u001b[39;00m\n",
      "File \u001b[1;32mC:\\Python38\\lib\\socket.py:796\u001b[0m, in \u001b[0;36mcreate_connection\u001b[1;34m(address, timeout, source_address)\u001b[0m\n\u001b[0;32m    795\u001b[0m     sock\u001b[38;5;241m.\u001b[39mbind(source_address)\n\u001b[1;32m--> 796\u001b[0m \u001b[43msock\u001b[49m\u001b[38;5;241;43m.\u001b[39;49m\u001b[43mconnect\u001b[49m\u001b[43m(\u001b[49m\u001b[43msa\u001b[49m\u001b[43m)\u001b[49m\n\u001b[0;32m    797\u001b[0m \u001b[38;5;66;03m# Break explicitly a reference cycle\u001b[39;00m\n",
      "\u001b[1;31mTimeoutError\u001b[0m: [WinError 10060] 연결된 구성원으로부터 응답이 없어 연결하지 못했거나, 호스트로부터 응답이 없어 연결이 끊어졌습니다",
      "\nDuring handling of the above exception, another exception occurred:\n",
      "\u001b[1;31mURLError\u001b[0m                                  Traceback (most recent call last)",
      "Cell \u001b[1;32mIn[2], line 64\u001b[0m\n\u001b[0;32m     61\u001b[0m final_keywords \u001b[38;5;241m=\u001b[39m []\n\u001b[0;32m     63\u001b[0m \u001b[38;5;28;01mwith\u001b[39;00m Parallel(n_jobs\u001b[38;5;241m=\u001b[39mnum_core, require\u001b[38;5;241m=\u001b[39m\u001b[38;5;124m'\u001b[39m\u001b[38;5;124msharedmem\u001b[39m\u001b[38;5;124m'\u001b[39m) \u001b[38;5;28;01mas\u001b[39;00m parallel:\n\u001b[1;32m---> 64\u001b[0m     \u001b[43mparallel\u001b[49m\u001b[43m(\u001b[49m\u001b[43mdelayed\u001b[49m\u001b[43m(\u001b[49m\u001b[43mextract_keywords\u001b[49m\u001b[43m)\u001b[49m\u001b[43m(\u001b[49m\u001b[43mcategory\u001b[49m\u001b[43m,\u001b[49m\u001b[43mclient_auth\u001b[49m\u001b[43m)\u001b[49m\u001b[38;5;28;43;01mfor\u001b[39;49;00m\u001b[43m \u001b[49m\u001b[43mcategory\u001b[49m\u001b[43m \u001b[49m\u001b[38;5;129;43;01min\u001b[39;49;00m\u001b[43m \u001b[49m\u001b[43mnotebook\u001b[49m\u001b[38;5;241;43m.\u001b[39;49m\u001b[43mtqdm\u001b[49m\u001b[43m(\u001b[49m\u001b[43mleaf_category\u001b[49m\u001b[43m)\u001b[49m\u001b[43m)\u001b[49m\n\u001b[0;32m     66\u001b[0m \u001b[38;5;28mprint\u001b[39m(final_keywords)\n",
      "File \u001b[1;32mc:\\users\\ahoho\\pycharmprojects\\keyword\\venv\\lib\\site-packages\\joblib\\parallel.py:1098\u001b[0m, in \u001b[0;36mParallel.__call__\u001b[1;34m(self, iterable)\u001b[0m\n\u001b[0;32m   1095\u001b[0m     \u001b[38;5;28mself\u001b[39m\u001b[38;5;241m.\u001b[39m_iterating \u001b[38;5;241m=\u001b[39m \u001b[38;5;28;01mFalse\u001b[39;00m\n\u001b[0;32m   1097\u001b[0m \u001b[38;5;28;01mwith\u001b[39;00m \u001b[38;5;28mself\u001b[39m\u001b[38;5;241m.\u001b[39m_backend\u001b[38;5;241m.\u001b[39mretrieval_context():\n\u001b[1;32m-> 1098\u001b[0m     \u001b[38;5;28;43mself\u001b[39;49m\u001b[38;5;241;43m.\u001b[39;49m\u001b[43mretrieve\u001b[49m\u001b[43m(\u001b[49m\u001b[43m)\u001b[49m\n\u001b[0;32m   1099\u001b[0m \u001b[38;5;66;03m# Make sure that we get a last message telling us we are done\u001b[39;00m\n\u001b[0;32m   1100\u001b[0m elapsed_time \u001b[38;5;241m=\u001b[39m time\u001b[38;5;241m.\u001b[39mtime() \u001b[38;5;241m-\u001b[39m \u001b[38;5;28mself\u001b[39m\u001b[38;5;241m.\u001b[39m_start_time\n",
      "File \u001b[1;32mc:\\users\\ahoho\\pycharmprojects\\keyword\\venv\\lib\\site-packages\\joblib\\parallel.py:975\u001b[0m, in \u001b[0;36mParallel.retrieve\u001b[1;34m(self)\u001b[0m\n\u001b[0;32m    973\u001b[0m \u001b[38;5;28;01mtry\u001b[39;00m:\n\u001b[0;32m    974\u001b[0m     \u001b[38;5;28;01mif\u001b[39;00m \u001b[38;5;28mgetattr\u001b[39m(\u001b[38;5;28mself\u001b[39m\u001b[38;5;241m.\u001b[39m_backend, \u001b[38;5;124m'\u001b[39m\u001b[38;5;124msupports_timeout\u001b[39m\u001b[38;5;124m'\u001b[39m, \u001b[38;5;28;01mFalse\u001b[39;00m):\n\u001b[1;32m--> 975\u001b[0m         \u001b[38;5;28mself\u001b[39m\u001b[38;5;241m.\u001b[39m_output\u001b[38;5;241m.\u001b[39mextend(\u001b[43mjob\u001b[49m\u001b[38;5;241;43m.\u001b[39;49m\u001b[43mget\u001b[49m\u001b[43m(\u001b[49m\u001b[43mtimeout\u001b[49m\u001b[38;5;241;43m=\u001b[39;49m\u001b[38;5;28;43mself\u001b[39;49m\u001b[38;5;241;43m.\u001b[39;49m\u001b[43mtimeout\u001b[49m\u001b[43m)\u001b[49m)\n\u001b[0;32m    976\u001b[0m     \u001b[38;5;28;01melse\u001b[39;00m:\n\u001b[0;32m    977\u001b[0m         \u001b[38;5;28mself\u001b[39m\u001b[38;5;241m.\u001b[39m_output\u001b[38;5;241m.\u001b[39mextend(job\u001b[38;5;241m.\u001b[39mget())\n",
      "File \u001b[1;32mC:\\Python38\\lib\\multiprocessing\\pool.py:771\u001b[0m, in \u001b[0;36mApplyResult.get\u001b[1;34m(self, timeout)\u001b[0m\n\u001b[0;32m    769\u001b[0m     \u001b[38;5;28;01mreturn\u001b[39;00m \u001b[38;5;28mself\u001b[39m\u001b[38;5;241m.\u001b[39m_value\n\u001b[0;32m    770\u001b[0m \u001b[38;5;28;01melse\u001b[39;00m:\n\u001b[1;32m--> 771\u001b[0m     \u001b[38;5;28;01mraise\u001b[39;00m \u001b[38;5;28mself\u001b[39m\u001b[38;5;241m.\u001b[39m_value\n",
      "File \u001b[1;32mC:\\Python38\\lib\\multiprocessing\\pool.py:125\u001b[0m, in \u001b[0;36mworker\u001b[1;34m(inqueue, outqueue, initializer, initargs, maxtasks, wrap_exception)\u001b[0m\n\u001b[0;32m    123\u001b[0m job, i, func, args, kwds \u001b[38;5;241m=\u001b[39m task\n\u001b[0;32m    124\u001b[0m \u001b[38;5;28;01mtry\u001b[39;00m:\n\u001b[1;32m--> 125\u001b[0m     result \u001b[38;5;241m=\u001b[39m (\u001b[38;5;28;01mTrue\u001b[39;00m, \u001b[43mfunc\u001b[49m\u001b[43m(\u001b[49m\u001b[38;5;241;43m*\u001b[39;49m\u001b[43margs\u001b[49m\u001b[43m,\u001b[49m\u001b[43m \u001b[49m\u001b[38;5;241;43m*\u001b[39;49m\u001b[38;5;241;43m*\u001b[39;49m\u001b[43mkwds\u001b[49m\u001b[43m)\u001b[49m)\n\u001b[0;32m    126\u001b[0m \u001b[38;5;28;01mexcept\u001b[39;00m \u001b[38;5;167;01mException\u001b[39;00m \u001b[38;5;28;01mas\u001b[39;00m e:\n\u001b[0;32m    127\u001b[0m     \u001b[38;5;28;01mif\u001b[39;00m wrap_exception \u001b[38;5;129;01mand\u001b[39;00m func \u001b[38;5;129;01mis\u001b[39;00m \u001b[38;5;129;01mnot\u001b[39;00m _helper_reraises_exception:\n",
      "File \u001b[1;32mc:\\users\\ahoho\\pycharmprojects\\keyword\\venv\\lib\\site-packages\\joblib\\_parallel_backends.py:620\u001b[0m, in \u001b[0;36mSafeFunction.__call__\u001b[1;34m(self, *args, **kwargs)\u001b[0m\n\u001b[0;32m    618\u001b[0m \u001b[38;5;28;01mdef\u001b[39;00m \u001b[38;5;21m__call__\u001b[39m(\u001b[38;5;28mself\u001b[39m, \u001b[38;5;241m*\u001b[39margs, \u001b[38;5;241m*\u001b[39m\u001b[38;5;241m*\u001b[39mkwargs):\n\u001b[0;32m    619\u001b[0m     \u001b[38;5;28;01mtry\u001b[39;00m:\n\u001b[1;32m--> 620\u001b[0m         \u001b[38;5;28;01mreturn\u001b[39;00m \u001b[38;5;28;43mself\u001b[39;49m\u001b[38;5;241;43m.\u001b[39;49m\u001b[43mfunc\u001b[49m\u001b[43m(\u001b[49m\u001b[38;5;241;43m*\u001b[39;49m\u001b[43margs\u001b[49m\u001b[43m,\u001b[49m\u001b[43m \u001b[49m\u001b[38;5;241;43m*\u001b[39;49m\u001b[38;5;241;43m*\u001b[39;49m\u001b[43mkwargs\u001b[49m\u001b[43m)\u001b[49m\n\u001b[0;32m    621\u001b[0m     \u001b[38;5;28;01mexcept\u001b[39;00m \u001b[38;5;167;01mKeyboardInterrupt\u001b[39;00m \u001b[38;5;28;01mas\u001b[39;00m e:\n\u001b[0;32m    622\u001b[0m         \u001b[38;5;66;03m# We capture the KeyboardInterrupt and reraise it as\u001b[39;00m\n\u001b[0;32m    623\u001b[0m         \u001b[38;5;66;03m# something different, as multiprocessing does not\u001b[39;00m\n\u001b[0;32m    624\u001b[0m         \u001b[38;5;66;03m# interrupt processing for a KeyboardInterrupt\u001b[39;00m\n\u001b[0;32m    625\u001b[0m         \u001b[38;5;28;01mraise\u001b[39;00m WorkerInterrupt() \u001b[38;5;28;01mfrom\u001b[39;00m \u001b[38;5;21;01me\u001b[39;00m\n",
      "File \u001b[1;32mc:\\users\\ahoho\\pycharmprojects\\keyword\\venv\\lib\\site-packages\\joblib\\parallel.py:288\u001b[0m, in \u001b[0;36mBatchedCalls.__call__\u001b[1;34m(self)\u001b[0m\n\u001b[0;32m    284\u001b[0m \u001b[38;5;28;01mdef\u001b[39;00m \u001b[38;5;21m__call__\u001b[39m(\u001b[38;5;28mself\u001b[39m):\n\u001b[0;32m    285\u001b[0m     \u001b[38;5;66;03m# Set the default nested backend to self._backend but do not set the\u001b[39;00m\n\u001b[0;32m    286\u001b[0m     \u001b[38;5;66;03m# change the default number of processes to -1\u001b[39;00m\n\u001b[0;32m    287\u001b[0m     \u001b[38;5;28;01mwith\u001b[39;00m parallel_backend(\u001b[38;5;28mself\u001b[39m\u001b[38;5;241m.\u001b[39m_backend, n_jobs\u001b[38;5;241m=\u001b[39m\u001b[38;5;28mself\u001b[39m\u001b[38;5;241m.\u001b[39m_n_jobs):\n\u001b[1;32m--> 288\u001b[0m         \u001b[38;5;28;01mreturn\u001b[39;00m [func(\u001b[38;5;241m*\u001b[39margs, \u001b[38;5;241m*\u001b[39m\u001b[38;5;241m*\u001b[39mkwargs)\n\u001b[0;32m    289\u001b[0m                 \u001b[38;5;28;01mfor\u001b[39;00m func, args, kwargs \u001b[38;5;129;01min\u001b[39;00m \u001b[38;5;28mself\u001b[39m\u001b[38;5;241m.\u001b[39mitems]\n",
      "File \u001b[1;32mc:\\users\\ahoho\\pycharmprojects\\keyword\\venv\\lib\\site-packages\\joblib\\parallel.py:288\u001b[0m, in \u001b[0;36m<listcomp>\u001b[1;34m(.0)\u001b[0m\n\u001b[0;32m    284\u001b[0m \u001b[38;5;28;01mdef\u001b[39;00m \u001b[38;5;21m__call__\u001b[39m(\u001b[38;5;28mself\u001b[39m):\n\u001b[0;32m    285\u001b[0m     \u001b[38;5;66;03m# Set the default nested backend to self._backend but do not set the\u001b[39;00m\n\u001b[0;32m    286\u001b[0m     \u001b[38;5;66;03m# change the default number of processes to -1\u001b[39;00m\n\u001b[0;32m    287\u001b[0m     \u001b[38;5;28;01mwith\u001b[39;00m parallel_backend(\u001b[38;5;28mself\u001b[39m\u001b[38;5;241m.\u001b[39m_backend, n_jobs\u001b[38;5;241m=\u001b[39m\u001b[38;5;28mself\u001b[39m\u001b[38;5;241m.\u001b[39m_n_jobs):\n\u001b[1;32m--> 288\u001b[0m         \u001b[38;5;28;01mreturn\u001b[39;00m [\u001b[43mfunc\u001b[49m\u001b[43m(\u001b[49m\u001b[38;5;241;43m*\u001b[39;49m\u001b[43margs\u001b[49m\u001b[43m,\u001b[49m\u001b[43m \u001b[49m\u001b[38;5;241;43m*\u001b[39;49m\u001b[38;5;241;43m*\u001b[39;49m\u001b[43mkwargs\u001b[49m\u001b[43m)\u001b[49m\n\u001b[0;32m    289\u001b[0m                 \u001b[38;5;28;01mfor\u001b[39;00m func, args, kwargs \u001b[38;5;129;01min\u001b[39;00m \u001b[38;5;28mself\u001b[39m\u001b[38;5;241m.\u001b[39mitems]\n",
      "Cell \u001b[1;32mIn[2], line 33\u001b[0m, in \u001b[0;36mextract_keywords\u001b[1;34m(category, client_auth)\u001b[0m\n\u001b[0;32m     30\u001b[0m url_excluding_oversea \u001b[38;5;241m=\u001b[39m \u001b[38;5;124m\"\u001b[39m\u001b[38;5;124mhttps://openapi.naver.com/v1/search/shop.json?display=80&exclude=cbshop&query=\u001b[39m\u001b[38;5;124m\"\u001b[39m \u001b[38;5;241m+\u001b[39m encText\n\u001b[0;32m     31\u001b[0m url_items \u001b[38;5;241m=\u001b[39m \u001b[38;5;124m\"\u001b[39m\u001b[38;5;124mhttps://openapi.naver.com/v1/search/shop.json?display=80&query=\u001b[39m\u001b[38;5;124m\"\u001b[39m \u001b[38;5;241m+\u001b[39m encText \u001b[38;5;66;03m# JSON 결과\u001b[39;00m\n\u001b[1;32m---> 33\u001b[0m items_excluding_oversea \u001b[38;5;241m=\u001b[39m \u001b[43mget_items\u001b[49m\u001b[43m(\u001b[49m\u001b[43murl_excluding_oversea\u001b[49m\u001b[43m,\u001b[49m\u001b[43mclient_auth\u001b[49m\u001b[43m)\u001b[49m\n\u001b[0;32m     34\u001b[0m items \u001b[38;5;241m=\u001b[39m get_items(url_items,client_auth)\n\u001b[0;32m     36\u001b[0m dict_excluding_oversea \u001b[38;5;241m=\u001b[39m {}\n",
      "File \u001b[1;32m~\\PycharmProjects\\keyword\\infsell.py:72\u001b[0m, in \u001b[0;36mget_items\u001b[1;34m(url, client_auth)\u001b[0m\n\u001b[0;32m     70\u001b[0m request\u001b[38;5;241m.\u001b[39madd_header(\u001b[38;5;124m\"\u001b[39m\u001b[38;5;124mX-Naver-Client-Id\u001b[39m\u001b[38;5;124m\"\u001b[39m, client_auth[num_app][\u001b[38;5;241m0\u001b[39m])\n\u001b[0;32m     71\u001b[0m request\u001b[38;5;241m.\u001b[39madd_header(\u001b[38;5;124m\"\u001b[39m\u001b[38;5;124mX-Naver-Client-Secret\u001b[39m\u001b[38;5;124m\"\u001b[39m, client_auth[num_app][\u001b[38;5;241m1\u001b[39m])\n\u001b[1;32m---> 72\u001b[0m response \u001b[38;5;241m=\u001b[39m \u001b[43murllib\u001b[49m\u001b[38;5;241;43m.\u001b[39;49m\u001b[43mrequest\u001b[49m\u001b[38;5;241;43m.\u001b[39;49m\u001b[43murlopen\u001b[49m\u001b[43m(\u001b[49m\u001b[43mrequest\u001b[49m\u001b[43m)\u001b[49m\n\u001b[0;32m     73\u001b[0m rescode \u001b[38;5;241m=\u001b[39m response\u001b[38;5;241m.\u001b[39mgetcode()\n\u001b[0;32m     75\u001b[0m \u001b[38;5;28;01mif\u001b[39;00m rescode \u001b[38;5;241m==\u001b[39m \u001b[38;5;241m429\u001b[39m:\n",
      "File \u001b[1;32mC:\\Python38\\lib\\urllib\\request.py:222\u001b[0m, in \u001b[0;36murlopen\u001b[1;34m(url, data, timeout, cafile, capath, cadefault, context)\u001b[0m\n\u001b[0;32m    220\u001b[0m \u001b[38;5;28;01melse\u001b[39;00m:\n\u001b[0;32m    221\u001b[0m     opener \u001b[38;5;241m=\u001b[39m _opener\n\u001b[1;32m--> 222\u001b[0m \u001b[38;5;28;01mreturn\u001b[39;00m \u001b[43mopener\u001b[49m\u001b[38;5;241;43m.\u001b[39;49m\u001b[43mopen\u001b[49m\u001b[43m(\u001b[49m\u001b[43murl\u001b[49m\u001b[43m,\u001b[49m\u001b[43m \u001b[49m\u001b[43mdata\u001b[49m\u001b[43m,\u001b[49m\u001b[43m \u001b[49m\u001b[43mtimeout\u001b[49m\u001b[43m)\u001b[49m\n",
      "File \u001b[1;32mC:\\Python38\\lib\\urllib\\request.py:525\u001b[0m, in \u001b[0;36mOpenerDirector.open\u001b[1;34m(self, fullurl, data, timeout)\u001b[0m\n\u001b[0;32m    522\u001b[0m     req \u001b[38;5;241m=\u001b[39m meth(req)\n\u001b[0;32m    524\u001b[0m sys\u001b[38;5;241m.\u001b[39maudit(\u001b[38;5;124m'\u001b[39m\u001b[38;5;124murllib.Request\u001b[39m\u001b[38;5;124m'\u001b[39m, req\u001b[38;5;241m.\u001b[39mfull_url, req\u001b[38;5;241m.\u001b[39mdata, req\u001b[38;5;241m.\u001b[39mheaders, req\u001b[38;5;241m.\u001b[39mget_method())\n\u001b[1;32m--> 525\u001b[0m response \u001b[38;5;241m=\u001b[39m \u001b[38;5;28;43mself\u001b[39;49m\u001b[38;5;241;43m.\u001b[39;49m\u001b[43m_open\u001b[49m\u001b[43m(\u001b[49m\u001b[43mreq\u001b[49m\u001b[43m,\u001b[49m\u001b[43m \u001b[49m\u001b[43mdata\u001b[49m\u001b[43m)\u001b[49m\n\u001b[0;32m    527\u001b[0m \u001b[38;5;66;03m# post-process response\u001b[39;00m\n\u001b[0;32m    528\u001b[0m meth_name \u001b[38;5;241m=\u001b[39m protocol\u001b[38;5;241m+\u001b[39m\u001b[38;5;124m\"\u001b[39m\u001b[38;5;124m_response\u001b[39m\u001b[38;5;124m\"\u001b[39m\n",
      "File \u001b[1;32mC:\\Python38\\lib\\urllib\\request.py:542\u001b[0m, in \u001b[0;36mOpenerDirector._open\u001b[1;34m(self, req, data)\u001b[0m\n\u001b[0;32m    539\u001b[0m     \u001b[38;5;28;01mreturn\u001b[39;00m result\n\u001b[0;32m    541\u001b[0m protocol \u001b[38;5;241m=\u001b[39m req\u001b[38;5;241m.\u001b[39mtype\n\u001b[1;32m--> 542\u001b[0m result \u001b[38;5;241m=\u001b[39m \u001b[38;5;28;43mself\u001b[39;49m\u001b[38;5;241;43m.\u001b[39;49m\u001b[43m_call_chain\u001b[49m\u001b[43m(\u001b[49m\u001b[38;5;28;43mself\u001b[39;49m\u001b[38;5;241;43m.\u001b[39;49m\u001b[43mhandle_open\u001b[49m\u001b[43m,\u001b[49m\u001b[43m \u001b[49m\u001b[43mprotocol\u001b[49m\u001b[43m,\u001b[49m\u001b[43m \u001b[49m\u001b[43mprotocol\u001b[49m\u001b[43m \u001b[49m\u001b[38;5;241;43m+\u001b[39;49m\n\u001b[0;32m    543\u001b[0m \u001b[43m                          \u001b[49m\u001b[38;5;124;43m'\u001b[39;49m\u001b[38;5;124;43m_open\u001b[39;49m\u001b[38;5;124;43m'\u001b[39;49m\u001b[43m,\u001b[49m\u001b[43m \u001b[49m\u001b[43mreq\u001b[49m\u001b[43m)\u001b[49m\n\u001b[0;32m    544\u001b[0m \u001b[38;5;28;01mif\u001b[39;00m result:\n\u001b[0;32m    545\u001b[0m     \u001b[38;5;28;01mreturn\u001b[39;00m result\n",
      "File \u001b[1;32mC:\\Python38\\lib\\urllib\\request.py:502\u001b[0m, in \u001b[0;36mOpenerDirector._call_chain\u001b[1;34m(self, chain, kind, meth_name, *args)\u001b[0m\n\u001b[0;32m    500\u001b[0m \u001b[38;5;28;01mfor\u001b[39;00m handler \u001b[38;5;129;01min\u001b[39;00m handlers:\n\u001b[0;32m    501\u001b[0m     func \u001b[38;5;241m=\u001b[39m \u001b[38;5;28mgetattr\u001b[39m(handler, meth_name)\n\u001b[1;32m--> 502\u001b[0m     result \u001b[38;5;241m=\u001b[39m \u001b[43mfunc\u001b[49m\u001b[43m(\u001b[49m\u001b[38;5;241;43m*\u001b[39;49m\u001b[43margs\u001b[49m\u001b[43m)\u001b[49m\n\u001b[0;32m    503\u001b[0m     \u001b[38;5;28;01mif\u001b[39;00m result \u001b[38;5;129;01mis\u001b[39;00m \u001b[38;5;129;01mnot\u001b[39;00m \u001b[38;5;28;01mNone\u001b[39;00m:\n\u001b[0;32m    504\u001b[0m         \u001b[38;5;28;01mreturn\u001b[39;00m result\n",
      "File \u001b[1;32mC:\\Python38\\lib\\urllib\\request.py:1393\u001b[0m, in \u001b[0;36mHTTPSHandler.https_open\u001b[1;34m(self, req)\u001b[0m\n\u001b[0;32m   1392\u001b[0m \u001b[38;5;28;01mdef\u001b[39;00m \u001b[38;5;21mhttps_open\u001b[39m(\u001b[38;5;28mself\u001b[39m, req):\n\u001b[1;32m-> 1393\u001b[0m     \u001b[38;5;28;01mreturn\u001b[39;00m \u001b[38;5;28;43mself\u001b[39;49m\u001b[38;5;241;43m.\u001b[39;49m\u001b[43mdo_open\u001b[49m\u001b[43m(\u001b[49m\u001b[43mhttp\u001b[49m\u001b[38;5;241;43m.\u001b[39;49m\u001b[43mclient\u001b[49m\u001b[38;5;241;43m.\u001b[39;49m\u001b[43mHTTPSConnection\u001b[49m\u001b[43m,\u001b[49m\u001b[43m \u001b[49m\u001b[43mreq\u001b[49m\u001b[43m,\u001b[49m\n\u001b[0;32m   1394\u001b[0m \u001b[43m        \u001b[49m\u001b[43mcontext\u001b[49m\u001b[38;5;241;43m=\u001b[39;49m\u001b[38;5;28;43mself\u001b[39;49m\u001b[38;5;241;43m.\u001b[39;49m\u001b[43m_context\u001b[49m\u001b[43m,\u001b[49m\u001b[43m \u001b[49m\u001b[43mcheck_hostname\u001b[49m\u001b[38;5;241;43m=\u001b[39;49m\u001b[38;5;28;43mself\u001b[39;49m\u001b[38;5;241;43m.\u001b[39;49m\u001b[43m_check_hostname\u001b[49m\u001b[43m)\u001b[49m\n",
      "File \u001b[1;32mC:\\Python38\\lib\\urllib\\request.py:1353\u001b[0m, in \u001b[0;36mAbstractHTTPHandler.do_open\u001b[1;34m(self, http_class, req, **http_conn_args)\u001b[0m\n\u001b[0;32m   1350\u001b[0m         h\u001b[38;5;241m.\u001b[39mrequest(req\u001b[38;5;241m.\u001b[39mget_method(), req\u001b[38;5;241m.\u001b[39mselector, req\u001b[38;5;241m.\u001b[39mdata, headers,\n\u001b[0;32m   1351\u001b[0m                   encode_chunked\u001b[38;5;241m=\u001b[39mreq\u001b[38;5;241m.\u001b[39mhas_header(\u001b[38;5;124m'\u001b[39m\u001b[38;5;124mTransfer-encoding\u001b[39m\u001b[38;5;124m'\u001b[39m))\n\u001b[0;32m   1352\u001b[0m     \u001b[38;5;28;01mexcept\u001b[39;00m \u001b[38;5;167;01mOSError\u001b[39;00m \u001b[38;5;28;01mas\u001b[39;00m err: \u001b[38;5;66;03m# timeout error\u001b[39;00m\n\u001b[1;32m-> 1353\u001b[0m         \u001b[38;5;28;01mraise\u001b[39;00m URLError(err)\n\u001b[0;32m   1354\u001b[0m     r \u001b[38;5;241m=\u001b[39m h\u001b[38;5;241m.\u001b[39mgetresponse()\n\u001b[0;32m   1355\u001b[0m \u001b[38;5;28;01mexcept\u001b[39;00m:\n",
      "\u001b[1;31mURLError\u001b[0m: <urlopen error [WinError 10060] 연결된 구성원으로부터 응답이 없어 연결하지 못했거나, 호스트로부터 응답이 없어 연결이 끊어졌습니다>"
     ]
    }
   ],
   "source": [
    "import json\n",
    "import csv\n",
    "import urllib.request\n",
    "from tqdm import notebook\n",
    "from joblib import Parallel, delayed\n",
    "from config import *\n",
    "from infsell import *\n",
    "\n",
    "\n",
    "\n",
    "def extract_keywords(category,client_auth):\n",
    "    \n",
    "    category_id = category[0]\n",
    "    category_name = category[1]\n",
    "    \n",
    "    url_data = \"https://api.itemscout.io/api/category/{0}/data\".format(category_id)\n",
    "    url_brands = \"https://api.itemscout.io/api/category/{0}/brands\".format(category_id)\n",
    "    response_data = requests.post(url_data, json=PAYLOAD)\n",
    "    response_brands = requests.get(url_brands)\n",
    "    data = response_data.json()['data']['data']\n",
    "    brands = response_brands.json()['data']\n",
    "    brands = remove_a_word(brands)\n",
    "    \n",
    "    keywords,dict_clicks = get_keywords(data)\n",
    "    keywords_nb = remove_brands(keywords,brands)\n",
    "    \n",
    "    for keyword in notebook.tqdm(keywords_nb, desc = \"키워드 진행도\"):\n",
    "\n",
    "        encText = urllib.parse.quote(keyword)\n",
    "        url_excluding_oversea = \"https://openapi.naver.com/v1/search/shop.json?display=80&exclude=cbshop&query=\" + encText\n",
    "        url_items = \"https://openapi.naver.com/v1/search/shop.json?display=80&query=\" + encText # JSON 결과\n",
    "\n",
    "        items_excluding_oversea = get_items(url_excluding_oversea,client_auth)\n",
    "        items = get_items(url_items,client_auth)\n",
    "\n",
    "        dict_excluding_oversea = {}\n",
    "\n",
    "        for item in items_excluding_oversea:\n",
    "            dict_excluding_oversea[item['productId']]=1\n",
    "        \n",
    "        cnt = 0 \n",
    "        for item in items :\n",
    "            if item['productId'] not in dict_excluding_oversea:\n",
    "                cnt+=1\n",
    "    \n",
    "        info_keyword={}\n",
    "        info_keyword['카테고리'] = category_name\n",
    "        info_keyword['키워드'] = keyword\n",
    "        info_keyword['검색수'] = dict_clicks[keyword]\n",
    "        info_keyword['해외배송개수'] = cnt\n",
    "        \n",
    "        final_keywords.append(info_keyword)\n",
    "        \n",
    "\n",
    "#멀티코어 개수\n",
    "num_core = 12\n",
    "\n",
    "cnt_keyword=0\n",
    "path_auth='auth_api.txt'\n",
    "client_auth = get_auth_api(path_auth)\n",
    "final_keywords = []\n",
    "\n",
    "with Parallel(n_jobs=num_core, require='sharedmem') as parallel:\n",
    "    parallel(delayed(extract_keywords)(category,client_auth)for category in notebook.tqdm(leaf_category))\n",
    "    \n",
    "print(final_keywords)"
   ]
  },
  {
   "cell_type": "code",
   "execution_count": 3,
   "id": "45ca397c",
   "metadata": {
    "scrolled": true
   },
   "outputs": [
    {
     "name": "stdout",
     "output_type": "stream",
     "text": [
      "엑셀 변환 완료\n"
     ]
    }
   ],
   "source": [
    "from infsell import convert_dict_to_excel\n",
    "import openpyxl\n",
    "\n",
    "name_file = '2023_06_08_top500_키워드'\n",
    "\n",
    "convert_dict_to_excel(name_file, final_keywords)"
   ]
  }
 ],
 "metadata": {
  "kernelspec": {
   "display_name": "Python 3 (ipykernel)",
   "language": "python",
   "name": "python3"
  },
  "language_info": {
   "codemirror_mode": {
    "name": "ipython",
    "version": 3
   },
   "file_extension": ".py",
   "mimetype": "text/x-python",
   "name": "python",
   "nbconvert_exporter": "python",
   "pygments_lexer": "ipython3",
   "version": "3.8.5"
  }
 },
 "nbformat": 4,
 "nbformat_minor": 5
}
